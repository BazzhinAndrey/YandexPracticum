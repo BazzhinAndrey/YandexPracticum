{
 "cells": [
  {
   "cell_type": "markdown",
   "metadata": {},
   "source": [
    "# Для твоих вопросов или комментариев оставлю такую ячейку, чтобы было удобнее взаимодействовать на проекте"
   ]
  },
  {
   "cell_type": "markdown",
   "metadata": {},
   "source": [
    "# Интернет магазин \"Стримчик\""
   ]
  },
  {
   "cell_type": "markdown",
   "metadata": {},
   "source": [
    "В рамкахках данного исследования, на основе данных интернет-магазина, мы попробуем выявить факторы влияния на успешность игры у покупателей. "
   ]
  },
  {
   "cell_type": "markdown",
   "metadata": {},
   "source": [
    "## Подготовка данных"
   ]
  },
  {
   "cell_type": "code",
   "execution_count": 279,
   "metadata": {},
   "outputs": [],
   "source": [
    "#импорт библиотек\n",
    "import pandas as pd\n",
    "import numpy as np\n",
    "import matplotlib.pyplot as plt\n",
    "from scipy import stats as st"
   ]
  },
  {
   "cell_type": "code",
   "execution_count": 280,
   "metadata": {},
   "outputs": [],
   "source": [
    "data=pd.read_csv('/datasets/games.csv')"
   ]
  },
  {
   "cell_type": "code",
   "execution_count": 281,
   "metadata": {},
   "outputs": [
    {
     "data": {
      "text/html": [
       "<div>\n",
       "<style scoped>\n",
       "    .dataframe tbody tr th:only-of-type {\n",
       "        vertical-align: middle;\n",
       "    }\n",
       "\n",
       "    .dataframe tbody tr th {\n",
       "        vertical-align: top;\n",
       "    }\n",
       "\n",
       "    .dataframe thead th {\n",
       "        text-align: right;\n",
       "    }\n",
       "</style>\n",
       "<table border=\"1\" class=\"dataframe\">\n",
       "  <thead>\n",
       "    <tr style=\"text-align: right;\">\n",
       "      <th></th>\n",
       "      <th>Name</th>\n",
       "      <th>Platform</th>\n",
       "      <th>Year_of_Release</th>\n",
       "      <th>Genre</th>\n",
       "      <th>NA_sales</th>\n",
       "      <th>EU_sales</th>\n",
       "      <th>JP_sales</th>\n",
       "      <th>Other_sales</th>\n",
       "      <th>Critic_Score</th>\n",
       "      <th>User_Score</th>\n",
       "      <th>Rating</th>\n",
       "    </tr>\n",
       "  </thead>\n",
       "  <tbody>\n",
       "    <tr>\n",
       "      <th>0</th>\n",
       "      <td>Wii Sports</td>\n",
       "      <td>Wii</td>\n",
       "      <td>2006.0</td>\n",
       "      <td>Sports</td>\n",
       "      <td>41.36</td>\n",
       "      <td>28.96</td>\n",
       "      <td>3.77</td>\n",
       "      <td>8.45</td>\n",
       "      <td>76.0</td>\n",
       "      <td>8</td>\n",
       "      <td>E</td>\n",
       "    </tr>\n",
       "    <tr>\n",
       "      <th>1</th>\n",
       "      <td>Super Mario Bros.</td>\n",
       "      <td>NES</td>\n",
       "      <td>1985.0</td>\n",
       "      <td>Platform</td>\n",
       "      <td>29.08</td>\n",
       "      <td>3.58</td>\n",
       "      <td>6.81</td>\n",
       "      <td>0.77</td>\n",
       "      <td>NaN</td>\n",
       "      <td>NaN</td>\n",
       "      <td>NaN</td>\n",
       "    </tr>\n",
       "    <tr>\n",
       "      <th>2</th>\n",
       "      <td>Mario Kart Wii</td>\n",
       "      <td>Wii</td>\n",
       "      <td>2008.0</td>\n",
       "      <td>Racing</td>\n",
       "      <td>15.68</td>\n",
       "      <td>12.76</td>\n",
       "      <td>3.79</td>\n",
       "      <td>3.29</td>\n",
       "      <td>82.0</td>\n",
       "      <td>8.3</td>\n",
       "      <td>E</td>\n",
       "    </tr>\n",
       "    <tr>\n",
       "      <th>3</th>\n",
       "      <td>Wii Sports Resort</td>\n",
       "      <td>Wii</td>\n",
       "      <td>2009.0</td>\n",
       "      <td>Sports</td>\n",
       "      <td>15.61</td>\n",
       "      <td>10.93</td>\n",
       "      <td>3.28</td>\n",
       "      <td>2.95</td>\n",
       "      <td>80.0</td>\n",
       "      <td>8</td>\n",
       "      <td>E</td>\n",
       "    </tr>\n",
       "    <tr>\n",
       "      <th>4</th>\n",
       "      <td>Pokemon Red/Pokemon Blue</td>\n",
       "      <td>GB</td>\n",
       "      <td>1996.0</td>\n",
       "      <td>Role-Playing</td>\n",
       "      <td>11.27</td>\n",
       "      <td>8.89</td>\n",
       "      <td>10.22</td>\n",
       "      <td>1.00</td>\n",
       "      <td>NaN</td>\n",
       "      <td>NaN</td>\n",
       "      <td>NaN</td>\n",
       "    </tr>\n",
       "  </tbody>\n",
       "</table>\n",
       "</div>"
      ],
      "text/plain": [
       "                       Name Platform  Year_of_Release         Genre  NA_sales  \\\n",
       "0                Wii Sports      Wii           2006.0        Sports     41.36   \n",
       "1         Super Mario Bros.      NES           1985.0      Platform     29.08   \n",
       "2            Mario Kart Wii      Wii           2008.0        Racing     15.68   \n",
       "3         Wii Sports Resort      Wii           2009.0        Sports     15.61   \n",
       "4  Pokemon Red/Pokemon Blue       GB           1996.0  Role-Playing     11.27   \n",
       "\n",
       "   EU_sales  JP_sales  Other_sales  Critic_Score User_Score Rating  \n",
       "0     28.96      3.77         8.45          76.0          8      E  \n",
       "1      3.58      6.81         0.77           NaN        NaN    NaN  \n",
       "2     12.76      3.79         3.29          82.0        8.3      E  \n",
       "3     10.93      3.28         2.95          80.0          8      E  \n",
       "4      8.89     10.22         1.00           NaN        NaN    NaN  "
      ]
     },
     "execution_count": 281,
     "metadata": {},
     "output_type": "execute_result"
    }
   ],
   "source": [
    "#посмотрим на данные\n",
    "data.head()"
   ]
  },
  {
   "cell_type": "markdown",
   "metadata": {},
   "source": [
    "### Формат данных"
   ]
  },
  {
   "cell_type": "code",
   "execution_count": 282,
   "metadata": {},
   "outputs": [],
   "source": [
    "data.columns=data.columns.str.lower()"
   ]
  },
  {
   "cell_type": "code",
   "execution_count": 283,
   "metadata": {},
   "outputs": [
    {
     "name": "stdout",
     "output_type": "stream",
     "text": [
      "<class 'pandas.core.frame.DataFrame'>\n",
      "RangeIndex: 16715 entries, 0 to 16714\n",
      "Data columns (total 11 columns):\n",
      " #   Column           Non-Null Count  Dtype  \n",
      "---  ------           --------------  -----  \n",
      " 0   name             16713 non-null  object \n",
      " 1   platform         16715 non-null  object \n",
      " 2   year_of_release  16446 non-null  float64\n",
      " 3   genre            16713 non-null  object \n",
      " 4   na_sales         16715 non-null  float64\n",
      " 5   eu_sales         16715 non-null  float64\n",
      " 6   jp_sales         16715 non-null  float64\n",
      " 7   other_sales      16715 non-null  float64\n",
      " 8   critic_score     8137 non-null   float64\n",
      " 9   user_score       10014 non-null  object \n",
      " 10  rating           9949 non-null   object \n",
      "dtypes: float64(6), object(5)\n",
      "memory usage: 1.4+ MB\n"
     ]
    }
   ],
   "source": [
    "#преобразование типов\n",
    "data.info()"
   ]
  },
  {
   "cell_type": "code",
   "execution_count": 284,
   "metadata": {},
   "outputs": [],
   "source": [
    "#год - целое число\n",
    "data['year_of_release'] = data['year_of_release'].astype(\"Int64\") \n",
    "#оценка игроков - числовое значение"
   ]
  },
  {
   "cell_type": "code",
   "execution_count": 285,
   "metadata": {},
   "outputs": [
    {
     "name": "stdout",
     "output_type": "stream",
     "text": [
      "(2424, 11)\n",
      "(2424, 11)\n"
     ]
    }
   ],
   "source": [
    "#текстовое значение мешается, но при этом необходимо будет отдельно посомтреть на записи с значением 'tbd', \n",
    "#поэтому заменим строку на числовое, заранее невозможное значение.\n",
    "print(data[data['user_score'] == 'tbd'].shape)\n",
    "data.loc[data['user_score'] == 'tbd', 'user_score'] = '999'\n",
    "print(data[data['user_score'] == '999'].shape)"
   ]
  },
  {
   "cell_type": "code",
   "execution_count": 286,
   "metadata": {},
   "outputs": [],
   "source": [
    "data['user_score'] = data['user_score'].astype(\"float64\") "
   ]
  },
  {
   "cell_type": "code",
   "execution_count": 287,
   "metadata": {},
   "outputs": [
    {
     "name": "stdout",
     "output_type": "stream",
     "text": [
      "<class 'pandas.core.frame.DataFrame'>\n",
      "RangeIndex: 16715 entries, 0 to 16714\n",
      "Data columns (total 11 columns):\n",
      " #   Column           Non-Null Count  Dtype  \n",
      "---  ------           --------------  -----  \n",
      " 0   name             16713 non-null  object \n",
      " 1   platform         16715 non-null  object \n",
      " 2   year_of_release  16446 non-null  Int64  \n",
      " 3   genre            16713 non-null  object \n",
      " 4   na_sales         16715 non-null  float64\n",
      " 5   eu_sales         16715 non-null  float64\n",
      " 6   jp_sales         16715 non-null  float64\n",
      " 7   other_sales      16715 non-null  float64\n",
      " 8   critic_score     8137 non-null   float64\n",
      " 9   user_score       10014 non-null  float64\n",
      " 10  rating           9949 non-null   object \n",
      "dtypes: Int64(1), float64(6), object(4)\n",
      "memory usage: 1.4+ MB\n"
     ]
    }
   ],
   "source": [
    "data.info()"
   ]
  },
  {
   "cell_type": "markdown",
   "metadata": {},
   "source": [
    "- \"Год релиза\" заменяем на целое число\n",
    "- \"Оценка игроков\" должна иметь числовой формат"
   ]
  },
  {
   "cell_type": "markdown",
   "metadata": {},
   "source": [
    "### Замена пропусков"
   ]
  },
  {
   "cell_type": "code",
   "execution_count": 288,
   "metadata": {},
   "outputs": [
    {
     "data": {
      "text/plain": [
       "name                  2\n",
       "platform              0\n",
       "year_of_release     269\n",
       "genre                 2\n",
       "na_sales              0\n",
       "eu_sales              0\n",
       "jp_sales              0\n",
       "other_sales           0\n",
       "critic_score       8578\n",
       "user_score         6701\n",
       "rating             6766\n",
       "dtype: int64"
      ]
     },
     "execution_count": 288,
     "metadata": {},
     "output_type": "execute_result"
    }
   ],
   "source": [
    "data.isnull().sum()"
   ]
  },
  {
   "cell_type": "code",
   "execution_count": 289,
   "metadata": {},
   "outputs": [
    {
     "data": {
      "text/html": [
       "<div>\n",
       "<style scoped>\n",
       "    .dataframe tbody tr th:only-of-type {\n",
       "        vertical-align: middle;\n",
       "    }\n",
       "\n",
       "    .dataframe tbody tr th {\n",
       "        vertical-align: top;\n",
       "    }\n",
       "\n",
       "    .dataframe thead th {\n",
       "        text-align: right;\n",
       "    }\n",
       "</style>\n",
       "<table border=\"1\" class=\"dataframe\">\n",
       "  <thead>\n",
       "    <tr style=\"text-align: right;\">\n",
       "      <th></th>\n",
       "      <th>name</th>\n",
       "      <th>platform</th>\n",
       "      <th>year_of_release</th>\n",
       "      <th>genre</th>\n",
       "      <th>na_sales</th>\n",
       "      <th>eu_sales</th>\n",
       "      <th>jp_sales</th>\n",
       "      <th>other_sales</th>\n",
       "      <th>critic_score</th>\n",
       "      <th>user_score</th>\n",
       "      <th>rating</th>\n",
       "    </tr>\n",
       "  </thead>\n",
       "  <tbody>\n",
       "    <tr>\n",
       "      <th>659</th>\n",
       "      <td>NaN</td>\n",
       "      <td>GEN</td>\n",
       "      <td>1993</td>\n",
       "      <td>NaN</td>\n",
       "      <td>1.78</td>\n",
       "      <td>0.53</td>\n",
       "      <td>0.00</td>\n",
       "      <td>0.08</td>\n",
       "      <td>NaN</td>\n",
       "      <td>NaN</td>\n",
       "      <td>NaN</td>\n",
       "    </tr>\n",
       "    <tr>\n",
       "      <th>14244</th>\n",
       "      <td>NaN</td>\n",
       "      <td>GEN</td>\n",
       "      <td>1993</td>\n",
       "      <td>NaN</td>\n",
       "      <td>0.00</td>\n",
       "      <td>0.00</td>\n",
       "      <td>0.03</td>\n",
       "      <td>0.00</td>\n",
       "      <td>NaN</td>\n",
       "      <td>NaN</td>\n",
       "      <td>NaN</td>\n",
       "    </tr>\n",
       "  </tbody>\n",
       "</table>\n",
       "</div>"
      ],
      "text/plain": [
       "      name platform  year_of_release genre  na_sales  eu_sales  jp_sales  \\\n",
       "659    NaN      GEN             1993   NaN      1.78      0.53      0.00   \n",
       "14244  NaN      GEN             1993   NaN      0.00      0.00      0.03   \n",
       "\n",
       "       other_sales  critic_score  user_score rating  \n",
       "659           0.08           NaN         NaN    NaN  \n",
       "14244         0.00           NaN         NaN    NaN  "
      ]
     },
     "execution_count": 289,
     "metadata": {},
     "output_type": "execute_result"
    }
   ],
   "source": [
    "data[data['name'].isnull()]"
   ]
  },
  {
   "cell_type": "markdown",
   "metadata": {},
   "source": [
    "Название отсутвует всего у 2 записей. У этих же записей не заполнен жанр. Т.к. условно, мы исследуем рынок 2016 года, пару записей от 1993 года можно удалить"
   ]
  },
  {
   "cell_type": "code",
   "execution_count": 290,
   "metadata": {},
   "outputs": [],
   "source": [
    "data.dropna(subset=['name'],inplace=True)"
   ]
  },
  {
   "cell_type": "code",
   "execution_count": 291,
   "metadata": {},
   "outputs": [
    {
     "data": {
      "text/html": [
       "<div>\n",
       "<style scoped>\n",
       "    .dataframe tbody tr th:only-of-type {\n",
       "        vertical-align: middle;\n",
       "    }\n",
       "\n",
       "    .dataframe tbody tr th {\n",
       "        vertical-align: top;\n",
       "    }\n",
       "\n",
       "    .dataframe thead th {\n",
       "        text-align: right;\n",
       "    }\n",
       "</style>\n",
       "<table border=\"1\" class=\"dataframe\">\n",
       "  <thead>\n",
       "    <tr style=\"text-align: right;\">\n",
       "      <th></th>\n",
       "      <th>name</th>\n",
       "      <th>platform</th>\n",
       "      <th>year_of_release</th>\n",
       "      <th>genre</th>\n",
       "      <th>na_sales</th>\n",
       "      <th>eu_sales</th>\n",
       "      <th>jp_sales</th>\n",
       "      <th>other_sales</th>\n",
       "      <th>critic_score</th>\n",
       "      <th>user_score</th>\n",
       "      <th>rating</th>\n",
       "    </tr>\n",
       "  </thead>\n",
       "  <tbody>\n",
       "    <tr>\n",
       "      <th>183</th>\n",
       "      <td>Madden NFL 2004</td>\n",
       "      <td>PS2</td>\n",
       "      <td>&lt;NA&gt;</td>\n",
       "      <td>Sports</td>\n",
       "      <td>4.26</td>\n",
       "      <td>0.26</td>\n",
       "      <td>0.01</td>\n",
       "      <td>0.71</td>\n",
       "      <td>94.0</td>\n",
       "      <td>8.5</td>\n",
       "      <td>E</td>\n",
       "    </tr>\n",
       "    <tr>\n",
       "      <th>377</th>\n",
       "      <td>FIFA Soccer 2004</td>\n",
       "      <td>PS2</td>\n",
       "      <td>&lt;NA&gt;</td>\n",
       "      <td>Sports</td>\n",
       "      <td>0.59</td>\n",
       "      <td>2.36</td>\n",
       "      <td>0.04</td>\n",
       "      <td>0.51</td>\n",
       "      <td>84.0</td>\n",
       "      <td>6.4</td>\n",
       "      <td>E</td>\n",
       "    </tr>\n",
       "    <tr>\n",
       "      <th>456</th>\n",
       "      <td>LEGO Batman: The Videogame</td>\n",
       "      <td>Wii</td>\n",
       "      <td>&lt;NA&gt;</td>\n",
       "      <td>Action</td>\n",
       "      <td>1.80</td>\n",
       "      <td>0.97</td>\n",
       "      <td>0.00</td>\n",
       "      <td>0.29</td>\n",
       "      <td>74.0</td>\n",
       "      <td>7.9</td>\n",
       "      <td>E10+</td>\n",
       "    </tr>\n",
       "    <tr>\n",
       "      <th>475</th>\n",
       "      <td>wwe Smackdown vs. Raw 2006</td>\n",
       "      <td>PS2</td>\n",
       "      <td>&lt;NA&gt;</td>\n",
       "      <td>Fighting</td>\n",
       "      <td>1.57</td>\n",
       "      <td>1.02</td>\n",
       "      <td>0.00</td>\n",
       "      <td>0.41</td>\n",
       "      <td>NaN</td>\n",
       "      <td>NaN</td>\n",
       "      <td>NaN</td>\n",
       "    </tr>\n",
       "    <tr>\n",
       "      <th>609</th>\n",
       "      <td>Space Invaders</td>\n",
       "      <td>2600</td>\n",
       "      <td>&lt;NA&gt;</td>\n",
       "      <td>Shooter</td>\n",
       "      <td>2.36</td>\n",
       "      <td>0.14</td>\n",
       "      <td>0.00</td>\n",
       "      <td>0.03</td>\n",
       "      <td>NaN</td>\n",
       "      <td>NaN</td>\n",
       "      <td>NaN</td>\n",
       "    </tr>\n",
       "  </tbody>\n",
       "</table>\n",
       "</div>"
      ],
      "text/plain": [
       "                           name platform  year_of_release     genre  na_sales  \\\n",
       "183             Madden NFL 2004      PS2             <NA>    Sports      4.26   \n",
       "377            FIFA Soccer 2004      PS2             <NA>    Sports      0.59   \n",
       "456  LEGO Batman: The Videogame      Wii             <NA>    Action      1.80   \n",
       "475  wwe Smackdown vs. Raw 2006      PS2             <NA>  Fighting      1.57   \n",
       "609              Space Invaders     2600             <NA>   Shooter      2.36   \n",
       "\n",
       "     eu_sales  jp_sales  other_sales  critic_score  user_score rating  \n",
       "183      0.26      0.01         0.71          94.0         8.5      E  \n",
       "377      2.36      0.04         0.51          84.0         6.4      E  \n",
       "456      0.97      0.00         0.29          74.0         7.9   E10+  \n",
       "475      1.02      0.00         0.41           NaN         NaN    NaN  \n",
       "609      0.14      0.00         0.03           NaN         NaN    NaN  "
      ]
     },
     "execution_count": 291,
     "metadata": {},
     "output_type": "execute_result"
    }
   ],
   "source": [
    "# посмотрим на записи с пропущенным годом релиза\n",
    "data[data['year_of_release'].isnull()].head()"
   ]
  },
  {
   "cell_type": "markdown",
   "metadata": {},
   "source": [
    "У части записей можно восстановить год релиза по названию. Попробуем."
   ]
  },
  {
   "cell_type": "code",
   "execution_count": 292,
   "metadata": {},
   "outputs": [
    {
     "data": {
      "text/plain": [
       "(15,)"
      ]
     },
     "execution_count": 292,
     "metadata": {},
     "output_type": "execute_result"
    }
   ],
   "source": [
    "data[(data['name'].str[-4:].str.isdigit()) & (data['year_of_release'].isnull())]['name'].shape"
   ]
  },
  {
   "cell_type": "markdown",
   "metadata": {},
   "source": [
    "Только 15 строк можно восстановить, что мало. Т.к. год важный признак для последующего анализа, все записи с пропусками удаляем"
   ]
  },
  {
   "cell_type": "code",
   "execution_count": 293,
   "metadata": {},
   "outputs": [],
   "source": [
    "data.dropna(subset=['year_of_release'],inplace=True)"
   ]
  },
  {
   "cell_type": "markdown",
   "metadata": {},
   "source": [
    "Теперь попробуем разобраться со значенгиями TBD в оценке пользователей (ранее заменено на значение 999). Для этого посмотрим на взаимосвязь с другими стобцами."
   ]
  },
  {
   "cell_type": "code",
   "execution_count": 294,
   "metadata": {},
   "outputs": [
    {
     "data": {
      "text/html": [
       "<div>\n",
       "<style scoped>\n",
       "    .dataframe tbody tr th:only-of-type {\n",
       "        vertical-align: middle;\n",
       "    }\n",
       "\n",
       "    .dataframe tbody tr th {\n",
       "        vertical-align: top;\n",
       "    }\n",
       "\n",
       "    .dataframe thead th {\n",
       "        text-align: right;\n",
       "    }\n",
       "</style>\n",
       "<table border=\"1\" class=\"dataframe\">\n",
       "  <thead>\n",
       "    <tr style=\"text-align: right;\">\n",
       "      <th>year_of_release</th>\n",
       "      <th>1997</th>\n",
       "      <th>1999</th>\n",
       "      <th>2000</th>\n",
       "      <th>2001</th>\n",
       "      <th>2002</th>\n",
       "      <th>2003</th>\n",
       "      <th>2004</th>\n",
       "      <th>2005</th>\n",
       "      <th>2006</th>\n",
       "      <th>2007</th>\n",
       "      <th>2008</th>\n",
       "      <th>2009</th>\n",
       "      <th>2010</th>\n",
       "      <th>2011</th>\n",
       "      <th>2012</th>\n",
       "      <th>2013</th>\n",
       "      <th>2014</th>\n",
       "      <th>2015</th>\n",
       "      <th>2016</th>\n",
       "    </tr>\n",
       "    <tr>\n",
       "      <th>rating</th>\n",
       "      <th></th>\n",
       "      <th></th>\n",
       "      <th></th>\n",
       "      <th></th>\n",
       "      <th></th>\n",
       "      <th></th>\n",
       "      <th></th>\n",
       "      <th></th>\n",
       "      <th></th>\n",
       "      <th></th>\n",
       "      <th></th>\n",
       "      <th></th>\n",
       "      <th></th>\n",
       "      <th></th>\n",
       "      <th></th>\n",
       "      <th></th>\n",
       "      <th></th>\n",
       "      <th></th>\n",
       "      <th></th>\n",
       "    </tr>\n",
       "  </thead>\n",
       "  <tbody>\n",
       "    <tr>\n",
       "      <th>E</th>\n",
       "      <td>NaN</td>\n",
       "      <td>7.0</td>\n",
       "      <td>36.0</td>\n",
       "      <td>72.0</td>\n",
       "      <td>138.0</td>\n",
       "      <td>59.0</td>\n",
       "      <td>73.0</td>\n",
       "      <td>72.0</td>\n",
       "      <td>77.0</td>\n",
       "      <td>128.0</td>\n",
       "      <td>231.0</td>\n",
       "      <td>282.0</td>\n",
       "      <td>200.0</td>\n",
       "      <td>118.0</td>\n",
       "      <td>15.0</td>\n",
       "      <td>11.0</td>\n",
       "      <td>8.0</td>\n",
       "      <td>15.0</td>\n",
       "      <td>6.0</td>\n",
       "    </tr>\n",
       "    <tr>\n",
       "      <th>E10+</th>\n",
       "      <td>NaN</td>\n",
       "      <td>NaN</td>\n",
       "      <td>NaN</td>\n",
       "      <td>NaN</td>\n",
       "      <td>NaN</td>\n",
       "      <td>NaN</td>\n",
       "      <td>1.0</td>\n",
       "      <td>27.0</td>\n",
       "      <td>26.0</td>\n",
       "      <td>37.0</td>\n",
       "      <td>51.0</td>\n",
       "      <td>60.0</td>\n",
       "      <td>66.0</td>\n",
       "      <td>54.0</td>\n",
       "      <td>4.0</td>\n",
       "      <td>3.0</td>\n",
       "      <td>9.0</td>\n",
       "      <td>9.0</td>\n",
       "      <td>13.0</td>\n",
       "    </tr>\n",
       "    <tr>\n",
       "      <th>EC</th>\n",
       "      <td>NaN</td>\n",
       "      <td>NaN</td>\n",
       "      <td>NaN</td>\n",
       "      <td>NaN</td>\n",
       "      <td>NaN</td>\n",
       "      <td>NaN</td>\n",
       "      <td>NaN</td>\n",
       "      <td>1.0</td>\n",
       "      <td>NaN</td>\n",
       "      <td>NaN</td>\n",
       "      <td>NaN</td>\n",
       "      <td>1.0</td>\n",
       "      <td>4.0</td>\n",
       "      <td>1.0</td>\n",
       "      <td>NaN</td>\n",
       "      <td>NaN</td>\n",
       "      <td>NaN</td>\n",
       "      <td>NaN</td>\n",
       "      <td>NaN</td>\n",
       "    </tr>\n",
       "    <tr>\n",
       "      <th>M</th>\n",
       "      <td>NaN</td>\n",
       "      <td>1.0</td>\n",
       "      <td>1.0</td>\n",
       "      <td>1.0</td>\n",
       "      <td>4.0</td>\n",
       "      <td>4.0</td>\n",
       "      <td>7.0</td>\n",
       "      <td>2.0</td>\n",
       "      <td>1.0</td>\n",
       "      <td>3.0</td>\n",
       "      <td>2.0</td>\n",
       "      <td>4.0</td>\n",
       "      <td>4.0</td>\n",
       "      <td>3.0</td>\n",
       "      <td>1.0</td>\n",
       "      <td>NaN</td>\n",
       "      <td>NaN</td>\n",
       "      <td>NaN</td>\n",
       "      <td>4.0</td>\n",
       "    </tr>\n",
       "    <tr>\n",
       "      <th>T</th>\n",
       "      <td>1.0</td>\n",
       "      <td>NaN</td>\n",
       "      <td>4.0</td>\n",
       "      <td>8.0</td>\n",
       "      <td>49.0</td>\n",
       "      <td>32.0</td>\n",
       "      <td>25.0</td>\n",
       "      <td>19.0</td>\n",
       "      <td>18.0</td>\n",
       "      <td>23.0</td>\n",
       "      <td>37.0</td>\n",
       "      <td>52.0</td>\n",
       "      <td>51.0</td>\n",
       "      <td>32.0</td>\n",
       "      <td>1.0</td>\n",
       "      <td>1.0</td>\n",
       "      <td>2.0</td>\n",
       "      <td>7.0</td>\n",
       "      <td>7.0</td>\n",
       "    </tr>\n",
       "  </tbody>\n",
       "</table>\n",
       "</div>"
      ],
      "text/plain": [
       "year_of_release  1997  1999  2000  2001   2002  2003  2004  2005  2006   2007  \\\n",
       "rating                                                                          \n",
       "E                 NaN   7.0  36.0  72.0  138.0  59.0  73.0  72.0  77.0  128.0   \n",
       "E10+              NaN   NaN   NaN   NaN    NaN   NaN   1.0  27.0  26.0   37.0   \n",
       "EC                NaN   NaN   NaN   NaN    NaN   NaN   NaN   1.0   NaN    NaN   \n",
       "M                 NaN   1.0   1.0   1.0    4.0   4.0   7.0   2.0   1.0    3.0   \n",
       "T                 1.0   NaN   4.0   8.0   49.0  32.0  25.0  19.0  18.0   23.0   \n",
       "\n",
       "year_of_release   2008   2009   2010   2011  2012  2013  2014  2015  2016  \n",
       "rating                                                                     \n",
       "E                231.0  282.0  200.0  118.0  15.0  11.0   8.0  15.0   6.0  \n",
       "E10+              51.0   60.0   66.0   54.0   4.0   3.0   9.0   9.0  13.0  \n",
       "EC                 NaN    1.0    4.0    1.0   NaN   NaN   NaN   NaN   NaN  \n",
       "M                  2.0    4.0    4.0    3.0   1.0   NaN   NaN   NaN   4.0  \n",
       "T                 37.0   52.0   51.0   32.0   1.0   1.0   2.0   7.0   7.0  "
      ]
     },
     "execution_count": 294,
     "metadata": {},
     "output_type": "execute_result"
    }
   ],
   "source": [
    "data[data['user_score']==999].pivot_table(index=['rating'], columns='year_of_release', values='user_score', aggfunc='count')"
   ]
  },
  {
   "cell_type": "code",
   "execution_count": 295,
   "metadata": {},
   "outputs": [
    {
     "data": {
      "text/html": [
       "<div>\n",
       "<style scoped>\n",
       "    .dataframe tbody tr th:only-of-type {\n",
       "        vertical-align: middle;\n",
       "    }\n",
       "\n",
       "    .dataframe tbody tr th {\n",
       "        vertical-align: top;\n",
       "    }\n",
       "\n",
       "    .dataframe thead th {\n",
       "        text-align: right;\n",
       "    }\n",
       "</style>\n",
       "<table border=\"1\" class=\"dataframe\">\n",
       "  <thead>\n",
       "    <tr style=\"text-align: right;\">\n",
       "      <th>year_of_release</th>\n",
       "      <th>1997</th>\n",
       "      <th>1999</th>\n",
       "      <th>2000</th>\n",
       "      <th>2001</th>\n",
       "      <th>2002</th>\n",
       "      <th>2003</th>\n",
       "      <th>2004</th>\n",
       "      <th>2005</th>\n",
       "      <th>2006</th>\n",
       "      <th>2007</th>\n",
       "      <th>2008</th>\n",
       "      <th>2009</th>\n",
       "      <th>2010</th>\n",
       "      <th>2011</th>\n",
       "      <th>2012</th>\n",
       "      <th>2013</th>\n",
       "      <th>2014</th>\n",
       "      <th>2015</th>\n",
       "      <th>2016</th>\n",
       "    </tr>\n",
       "    <tr>\n",
       "      <th>platform</th>\n",
       "      <th></th>\n",
       "      <th></th>\n",
       "      <th></th>\n",
       "      <th></th>\n",
       "      <th></th>\n",
       "      <th></th>\n",
       "      <th></th>\n",
       "      <th></th>\n",
       "      <th></th>\n",
       "      <th></th>\n",
       "      <th></th>\n",
       "      <th></th>\n",
       "      <th></th>\n",
       "      <th></th>\n",
       "      <th></th>\n",
       "      <th></th>\n",
       "      <th></th>\n",
       "      <th></th>\n",
       "      <th></th>\n",
       "    </tr>\n",
       "  </thead>\n",
       "  <tbody>\n",
       "    <tr>\n",
       "      <th>3DS</th>\n",
       "      <td>NaN</td>\n",
       "      <td>NaN</td>\n",
       "      <td>NaN</td>\n",
       "      <td>NaN</td>\n",
       "      <td>NaN</td>\n",
       "      <td>NaN</td>\n",
       "      <td>NaN</td>\n",
       "      <td>NaN</td>\n",
       "      <td>NaN</td>\n",
       "      <td>NaN</td>\n",
       "      <td>NaN</td>\n",
       "      <td>NaN</td>\n",
       "      <td>NaN</td>\n",
       "      <td>25.0</td>\n",
       "      <td>4.0</td>\n",
       "      <td>4.0</td>\n",
       "      <td>9.0</td>\n",
       "      <td>9.0</td>\n",
       "      <td>3.0</td>\n",
       "    </tr>\n",
       "    <tr>\n",
       "      <th>DS</th>\n",
       "      <td>NaN</td>\n",
       "      <td>NaN</td>\n",
       "      <td>NaN</td>\n",
       "      <td>NaN</td>\n",
       "      <td>NaN</td>\n",
       "      <td>NaN</td>\n",
       "      <td>1.0</td>\n",
       "      <td>17.0</td>\n",
       "      <td>35.0</td>\n",
       "      <td>103.0</td>\n",
       "      <td>183.0</td>\n",
       "      <td>186.0</td>\n",
       "      <td>144.0</td>\n",
       "      <td>62.0</td>\n",
       "      <td>8.0</td>\n",
       "      <td>5.0</td>\n",
       "      <td>NaN</td>\n",
       "      <td>NaN</td>\n",
       "      <td>NaN</td>\n",
       "    </tr>\n",
       "    <tr>\n",
       "      <th>GBA</th>\n",
       "      <td>NaN</td>\n",
       "      <td>NaN</td>\n",
       "      <td>NaN</td>\n",
       "      <td>44.0</td>\n",
       "      <td>83.0</td>\n",
       "      <td>36.0</td>\n",
       "      <td>48.0</td>\n",
       "      <td>37.0</td>\n",
       "      <td>9.0</td>\n",
       "      <td>1.0</td>\n",
       "      <td>NaN</td>\n",
       "      <td>NaN</td>\n",
       "      <td>NaN</td>\n",
       "      <td>NaN</td>\n",
       "      <td>NaN</td>\n",
       "      <td>NaN</td>\n",
       "      <td>NaN</td>\n",
       "      <td>NaN</td>\n",
       "      <td>NaN</td>\n",
       "    </tr>\n",
       "    <tr>\n",
       "      <th>GC</th>\n",
       "      <td>NaN</td>\n",
       "      <td>NaN</td>\n",
       "      <td>NaN</td>\n",
       "      <td>2.0</td>\n",
       "      <td>36.0</td>\n",
       "      <td>19.0</td>\n",
       "      <td>15.0</td>\n",
       "      <td>18.0</td>\n",
       "      <td>8.0</td>\n",
       "      <td>2.0</td>\n",
       "      <td>NaN</td>\n",
       "      <td>NaN</td>\n",
       "      <td>NaN</td>\n",
       "      <td>NaN</td>\n",
       "      <td>NaN</td>\n",
       "      <td>NaN</td>\n",
       "      <td>NaN</td>\n",
       "      <td>NaN</td>\n",
       "      <td>NaN</td>\n",
       "    </tr>\n",
       "    <tr>\n",
       "      <th>PC</th>\n",
       "      <td>NaN</td>\n",
       "      <td>1.0</td>\n",
       "      <td>NaN</td>\n",
       "      <td>NaN</td>\n",
       "      <td>1.0</td>\n",
       "      <td>NaN</td>\n",
       "      <td>NaN</td>\n",
       "      <td>1.0</td>\n",
       "      <td>2.0</td>\n",
       "      <td>2.0</td>\n",
       "      <td>7.0</td>\n",
       "      <td>11.0</td>\n",
       "      <td>6.0</td>\n",
       "      <td>13.0</td>\n",
       "      <td>NaN</td>\n",
       "      <td>NaN</td>\n",
       "      <td>1.0</td>\n",
       "      <td>2.0</td>\n",
       "      <td>2.0</td>\n",
       "    </tr>\n",
       "    <tr>\n",
       "      <th>PS</th>\n",
       "      <td>1.0</td>\n",
       "      <td>7.0</td>\n",
       "      <td>27.0</td>\n",
       "      <td>9.0</td>\n",
       "      <td>NaN</td>\n",
       "      <td>NaN</td>\n",
       "      <td>NaN</td>\n",
       "      <td>NaN</td>\n",
       "      <td>NaN</td>\n",
       "      <td>NaN</td>\n",
       "      <td>NaN</td>\n",
       "      <td>NaN</td>\n",
       "      <td>NaN</td>\n",
       "      <td>NaN</td>\n",
       "      <td>NaN</td>\n",
       "      <td>NaN</td>\n",
       "      <td>NaN</td>\n",
       "      <td>NaN</td>\n",
       "      <td>NaN</td>\n",
       "    </tr>\n",
       "    <tr>\n",
       "      <th>PS2</th>\n",
       "      <td>NaN</td>\n",
       "      <td>NaN</td>\n",
       "      <td>16.0</td>\n",
       "      <td>21.0</td>\n",
       "      <td>35.0</td>\n",
       "      <td>11.0</td>\n",
       "      <td>14.0</td>\n",
       "      <td>15.0</td>\n",
       "      <td>18.0</td>\n",
       "      <td>31.0</td>\n",
       "      <td>43.0</td>\n",
       "      <td>22.0</td>\n",
       "      <td>9.0</td>\n",
       "      <td>1.0</td>\n",
       "      <td>NaN</td>\n",
       "      <td>NaN</td>\n",
       "      <td>NaN</td>\n",
       "      <td>NaN</td>\n",
       "      <td>NaN</td>\n",
       "    </tr>\n",
       "    <tr>\n",
       "      <th>PS3</th>\n",
       "      <td>NaN</td>\n",
       "      <td>NaN</td>\n",
       "      <td>NaN</td>\n",
       "      <td>NaN</td>\n",
       "      <td>NaN</td>\n",
       "      <td>NaN</td>\n",
       "      <td>NaN</td>\n",
       "      <td>NaN</td>\n",
       "      <td>1.0</td>\n",
       "      <td>2.0</td>\n",
       "      <td>7.0</td>\n",
       "      <td>12.0</td>\n",
       "      <td>16.0</td>\n",
       "      <td>23.0</td>\n",
       "      <td>3.0</td>\n",
       "      <td>1.0</td>\n",
       "      <td>5.0</td>\n",
       "      <td>11.0</td>\n",
       "      <td>6.0</td>\n",
       "    </tr>\n",
       "    <tr>\n",
       "      <th>PS4</th>\n",
       "      <td>NaN</td>\n",
       "      <td>NaN</td>\n",
       "      <td>NaN</td>\n",
       "      <td>NaN</td>\n",
       "      <td>NaN</td>\n",
       "      <td>NaN</td>\n",
       "      <td>NaN</td>\n",
       "      <td>NaN</td>\n",
       "      <td>NaN</td>\n",
       "      <td>NaN</td>\n",
       "      <td>NaN</td>\n",
       "      <td>NaN</td>\n",
       "      <td>NaN</td>\n",
       "      <td>NaN</td>\n",
       "      <td>NaN</td>\n",
       "      <td>NaN</td>\n",
       "      <td>NaN</td>\n",
       "      <td>1.0</td>\n",
       "      <td>5.0</td>\n",
       "    </tr>\n",
       "    <tr>\n",
       "      <th>PSP</th>\n",
       "      <td>NaN</td>\n",
       "      <td>NaN</td>\n",
       "      <td>NaN</td>\n",
       "      <td>NaN</td>\n",
       "      <td>NaN</td>\n",
       "      <td>NaN</td>\n",
       "      <td>1.0</td>\n",
       "      <td>3.0</td>\n",
       "      <td>31.0</td>\n",
       "      <td>20.0</td>\n",
       "      <td>14.0</td>\n",
       "      <td>26.0</td>\n",
       "      <td>16.0</td>\n",
       "      <td>5.0</td>\n",
       "      <td>2.0</td>\n",
       "      <td>NaN</td>\n",
       "      <td>NaN</td>\n",
       "      <td>NaN</td>\n",
       "      <td>NaN</td>\n",
       "    </tr>\n",
       "    <tr>\n",
       "      <th>PSV</th>\n",
       "      <td>NaN</td>\n",
       "      <td>NaN</td>\n",
       "      <td>NaN</td>\n",
       "      <td>NaN</td>\n",
       "      <td>NaN</td>\n",
       "      <td>NaN</td>\n",
       "      <td>NaN</td>\n",
       "      <td>NaN</td>\n",
       "      <td>NaN</td>\n",
       "      <td>NaN</td>\n",
       "      <td>NaN</td>\n",
       "      <td>NaN</td>\n",
       "      <td>NaN</td>\n",
       "      <td>NaN</td>\n",
       "      <td>NaN</td>\n",
       "      <td>NaN</td>\n",
       "      <td>NaN</td>\n",
       "      <td>6.0</td>\n",
       "      <td>1.0</td>\n",
       "    </tr>\n",
       "    <tr>\n",
       "      <th>Wii</th>\n",
       "      <td>NaN</td>\n",
       "      <td>NaN</td>\n",
       "      <td>NaN</td>\n",
       "      <td>NaN</td>\n",
       "      <td>NaN</td>\n",
       "      <td>NaN</td>\n",
       "      <td>NaN</td>\n",
       "      <td>NaN</td>\n",
       "      <td>3.0</td>\n",
       "      <td>23.0</td>\n",
       "      <td>64.0</td>\n",
       "      <td>133.0</td>\n",
       "      <td>127.0</td>\n",
       "      <td>61.0</td>\n",
       "      <td>6.0</td>\n",
       "      <td>4.0</td>\n",
       "      <td>3.0</td>\n",
       "      <td>3.0</td>\n",
       "      <td>1.0</td>\n",
       "    </tr>\n",
       "    <tr>\n",
       "      <th>WiiU</th>\n",
       "      <td>NaN</td>\n",
       "      <td>NaN</td>\n",
       "      <td>NaN</td>\n",
       "      <td>NaN</td>\n",
       "      <td>NaN</td>\n",
       "      <td>NaN</td>\n",
       "      <td>NaN</td>\n",
       "      <td>NaN</td>\n",
       "      <td>NaN</td>\n",
       "      <td>NaN</td>\n",
       "      <td>NaN</td>\n",
       "      <td>NaN</td>\n",
       "      <td>NaN</td>\n",
       "      <td>NaN</td>\n",
       "      <td>NaN</td>\n",
       "      <td>NaN</td>\n",
       "      <td>1.0</td>\n",
       "      <td>1.0</td>\n",
       "      <td>3.0</td>\n",
       "    </tr>\n",
       "    <tr>\n",
       "      <th>X360</th>\n",
       "      <td>NaN</td>\n",
       "      <td>NaN</td>\n",
       "      <td>NaN</td>\n",
       "      <td>NaN</td>\n",
       "      <td>NaN</td>\n",
       "      <td>NaN</td>\n",
       "      <td>NaN</td>\n",
       "      <td>NaN</td>\n",
       "      <td>1.0</td>\n",
       "      <td>8.0</td>\n",
       "      <td>8.0</td>\n",
       "      <td>15.0</td>\n",
       "      <td>13.0</td>\n",
       "      <td>27.0</td>\n",
       "      <td>1.0</td>\n",
       "      <td>1.0</td>\n",
       "      <td>2.0</td>\n",
       "      <td>2.0</td>\n",
       "      <td>5.0</td>\n",
       "    </tr>\n",
       "    <tr>\n",
       "      <th>XB</th>\n",
       "      <td>NaN</td>\n",
       "      <td>NaN</td>\n",
       "      <td>NaN</td>\n",
       "      <td>6.0</td>\n",
       "      <td>37.0</td>\n",
       "      <td>29.0</td>\n",
       "      <td>28.0</td>\n",
       "      <td>30.0</td>\n",
       "      <td>16.0</td>\n",
       "      <td>NaN</td>\n",
       "      <td>NaN</td>\n",
       "      <td>NaN</td>\n",
       "      <td>NaN</td>\n",
       "      <td>NaN</td>\n",
       "      <td>NaN</td>\n",
       "      <td>NaN</td>\n",
       "      <td>NaN</td>\n",
       "      <td>NaN</td>\n",
       "      <td>NaN</td>\n",
       "    </tr>\n",
       "    <tr>\n",
       "      <th>XOne</th>\n",
       "      <td>NaN</td>\n",
       "      <td>NaN</td>\n",
       "      <td>NaN</td>\n",
       "      <td>NaN</td>\n",
       "      <td>NaN</td>\n",
       "      <td>NaN</td>\n",
       "      <td>NaN</td>\n",
       "      <td>NaN</td>\n",
       "      <td>NaN</td>\n",
       "      <td>NaN</td>\n",
       "      <td>NaN</td>\n",
       "      <td>NaN</td>\n",
       "      <td>NaN</td>\n",
       "      <td>NaN</td>\n",
       "      <td>NaN</td>\n",
       "      <td>NaN</td>\n",
       "      <td>NaN</td>\n",
       "      <td>3.0</td>\n",
       "      <td>8.0</td>\n",
       "    </tr>\n",
       "  </tbody>\n",
       "</table>\n",
       "</div>"
      ],
      "text/plain": [
       "year_of_release  1997  1999  2000  2001  2002  2003  2004  2005  2006   2007  \\\n",
       "platform                                                                       \n",
       "3DS               NaN   NaN   NaN   NaN   NaN   NaN   NaN   NaN   NaN    NaN   \n",
       "DS                NaN   NaN   NaN   NaN   NaN   NaN   1.0  17.0  35.0  103.0   \n",
       "GBA               NaN   NaN   NaN  44.0  83.0  36.0  48.0  37.0   9.0    1.0   \n",
       "GC                NaN   NaN   NaN   2.0  36.0  19.0  15.0  18.0   8.0    2.0   \n",
       "PC                NaN   1.0   NaN   NaN   1.0   NaN   NaN   1.0   2.0    2.0   \n",
       "PS                1.0   7.0  27.0   9.0   NaN   NaN   NaN   NaN   NaN    NaN   \n",
       "PS2               NaN   NaN  16.0  21.0  35.0  11.0  14.0  15.0  18.0   31.0   \n",
       "PS3               NaN   NaN   NaN   NaN   NaN   NaN   NaN   NaN   1.0    2.0   \n",
       "PS4               NaN   NaN   NaN   NaN   NaN   NaN   NaN   NaN   NaN    NaN   \n",
       "PSP               NaN   NaN   NaN   NaN   NaN   NaN   1.0   3.0  31.0   20.0   \n",
       "PSV               NaN   NaN   NaN   NaN   NaN   NaN   NaN   NaN   NaN    NaN   \n",
       "Wii               NaN   NaN   NaN   NaN   NaN   NaN   NaN   NaN   3.0   23.0   \n",
       "WiiU              NaN   NaN   NaN   NaN   NaN   NaN   NaN   NaN   NaN    NaN   \n",
       "X360              NaN   NaN   NaN   NaN   NaN   NaN   NaN   NaN   1.0    8.0   \n",
       "XB                NaN   NaN   NaN   6.0  37.0  29.0  28.0  30.0  16.0    NaN   \n",
       "XOne              NaN   NaN   NaN   NaN   NaN   NaN   NaN   NaN   NaN    NaN   \n",
       "\n",
       "year_of_release   2008   2009   2010  2011  2012  2013  2014  2015  2016  \n",
       "platform                                                                  \n",
       "3DS                NaN    NaN    NaN  25.0   4.0   4.0   9.0   9.0   3.0  \n",
       "DS               183.0  186.0  144.0  62.0   8.0   5.0   NaN   NaN   NaN  \n",
       "GBA                NaN    NaN    NaN   NaN   NaN   NaN   NaN   NaN   NaN  \n",
       "GC                 NaN    NaN    NaN   NaN   NaN   NaN   NaN   NaN   NaN  \n",
       "PC                 7.0   11.0    6.0  13.0   NaN   NaN   1.0   2.0   2.0  \n",
       "PS                 NaN    NaN    NaN   NaN   NaN   NaN   NaN   NaN   NaN  \n",
       "PS2               43.0   22.0    9.0   1.0   NaN   NaN   NaN   NaN   NaN  \n",
       "PS3                7.0   12.0   16.0  23.0   3.0   1.0   5.0  11.0   6.0  \n",
       "PS4                NaN    NaN    NaN   NaN   NaN   NaN   NaN   1.0   5.0  \n",
       "PSP               14.0   26.0   16.0   5.0   2.0   NaN   NaN   NaN   NaN  \n",
       "PSV                NaN    NaN    NaN   NaN   NaN   NaN   NaN   6.0   1.0  \n",
       "Wii               64.0  133.0  127.0  61.0   6.0   4.0   3.0   3.0   1.0  \n",
       "WiiU               NaN    NaN    NaN   NaN   NaN   NaN   1.0   1.0   3.0  \n",
       "X360               8.0   15.0   13.0  27.0   1.0   1.0   2.0   2.0   5.0  \n",
       "XB                 NaN    NaN    NaN   NaN   NaN   NaN   NaN   NaN   NaN  \n",
       "XOne               NaN    NaN    NaN   NaN   NaN   NaN   NaN   3.0   8.0  "
      ]
     },
     "execution_count": 295,
     "metadata": {},
     "output_type": "execute_result"
    }
   ],
   "source": [
    "data[data['user_score']==999].pivot_table(index=['platform'], columns='year_of_release', values='user_score', aggfunc='count')"
   ]
  },
  {
   "cell_type": "code",
   "execution_count": 296,
   "metadata": {},
   "outputs": [
    {
     "data": {
      "text/html": [
       "<div>\n",
       "<style scoped>\n",
       "    .dataframe tbody tr th:only-of-type {\n",
       "        vertical-align: middle;\n",
       "    }\n",
       "\n",
       "    .dataframe tbody tr th {\n",
       "        vertical-align: top;\n",
       "    }\n",
       "\n",
       "    .dataframe thead th {\n",
       "        text-align: right;\n",
       "    }\n",
       "</style>\n",
       "<table border=\"1\" class=\"dataframe\">\n",
       "  <thead>\n",
       "    <tr style=\"text-align: right;\">\n",
       "      <th>year_of_release</th>\n",
       "      <th>1997</th>\n",
       "      <th>1999</th>\n",
       "      <th>2000</th>\n",
       "      <th>2001</th>\n",
       "      <th>2002</th>\n",
       "      <th>2003</th>\n",
       "      <th>2004</th>\n",
       "      <th>2005</th>\n",
       "      <th>2006</th>\n",
       "      <th>2007</th>\n",
       "      <th>2008</th>\n",
       "      <th>2009</th>\n",
       "      <th>2010</th>\n",
       "      <th>2011</th>\n",
       "      <th>2012</th>\n",
       "      <th>2013</th>\n",
       "      <th>2014</th>\n",
       "      <th>2015</th>\n",
       "      <th>2016</th>\n",
       "    </tr>\n",
       "    <tr>\n",
       "      <th>genre</th>\n",
       "      <th></th>\n",
       "      <th></th>\n",
       "      <th></th>\n",
       "      <th></th>\n",
       "      <th></th>\n",
       "      <th></th>\n",
       "      <th></th>\n",
       "      <th></th>\n",
       "      <th></th>\n",
       "      <th></th>\n",
       "      <th></th>\n",
       "      <th></th>\n",
       "      <th></th>\n",
       "      <th></th>\n",
       "      <th></th>\n",
       "      <th></th>\n",
       "      <th></th>\n",
       "      <th></th>\n",
       "      <th></th>\n",
       "    </tr>\n",
       "  </thead>\n",
       "  <tbody>\n",
       "    <tr>\n",
       "      <th>Action</th>\n",
       "      <td>NaN</td>\n",
       "      <td>NaN</td>\n",
       "      <td>2.0</td>\n",
       "      <td>8.0</td>\n",
       "      <td>27.0</td>\n",
       "      <td>20.0</td>\n",
       "      <td>27.0</td>\n",
       "      <td>20.0</td>\n",
       "      <td>18.0</td>\n",
       "      <td>27.0</td>\n",
       "      <td>35.0</td>\n",
       "      <td>54.0</td>\n",
       "      <td>49.0</td>\n",
       "      <td>33.0</td>\n",
       "      <td>5.0</td>\n",
       "      <td>3.0</td>\n",
       "      <td>9.0</td>\n",
       "      <td>25.0</td>\n",
       "      <td>6.0</td>\n",
       "    </tr>\n",
       "    <tr>\n",
       "      <th>Adventure</th>\n",
       "      <td>NaN</td>\n",
       "      <td>1.0</td>\n",
       "      <td>1.0</td>\n",
       "      <td>3.0</td>\n",
       "      <td>6.0</td>\n",
       "      <td>NaN</td>\n",
       "      <td>3.0</td>\n",
       "      <td>4.0</td>\n",
       "      <td>6.0</td>\n",
       "      <td>20.0</td>\n",
       "      <td>32.0</td>\n",
       "      <td>35.0</td>\n",
       "      <td>23.0</td>\n",
       "      <td>9.0</td>\n",
       "      <td>3.0</td>\n",
       "      <td>1.0</td>\n",
       "      <td>5.0</td>\n",
       "      <td>1.0</td>\n",
       "      <td>3.0</td>\n",
       "    </tr>\n",
       "    <tr>\n",
       "      <th>Fighting</th>\n",
       "      <td>NaN</td>\n",
       "      <td>NaN</td>\n",
       "      <td>3.0</td>\n",
       "      <td>1.0</td>\n",
       "      <td>8.0</td>\n",
       "      <td>1.0</td>\n",
       "      <td>2.0</td>\n",
       "      <td>2.0</td>\n",
       "      <td>2.0</td>\n",
       "      <td>4.0</td>\n",
       "      <td>4.0</td>\n",
       "      <td>4.0</td>\n",
       "      <td>3.0</td>\n",
       "      <td>NaN</td>\n",
       "      <td>1.0</td>\n",
       "      <td>NaN</td>\n",
       "      <td>NaN</td>\n",
       "      <td>1.0</td>\n",
       "      <td>1.0</td>\n",
       "    </tr>\n",
       "    <tr>\n",
       "      <th>Misc</th>\n",
       "      <td>NaN</td>\n",
       "      <td>1.0</td>\n",
       "      <td>1.0</td>\n",
       "      <td>3.0</td>\n",
       "      <td>13.0</td>\n",
       "      <td>8.0</td>\n",
       "      <td>11.0</td>\n",
       "      <td>34.0</td>\n",
       "      <td>20.0</td>\n",
       "      <td>31.0</td>\n",
       "      <td>63.0</td>\n",
       "      <td>85.0</td>\n",
       "      <td>74.0</td>\n",
       "      <td>77.0</td>\n",
       "      <td>6.0</td>\n",
       "      <td>1.0</td>\n",
       "      <td>NaN</td>\n",
       "      <td>2.0</td>\n",
       "      <td>10.0</td>\n",
       "    </tr>\n",
       "    <tr>\n",
       "      <th>Platform</th>\n",
       "      <td>NaN</td>\n",
       "      <td>NaN</td>\n",
       "      <td>1.0</td>\n",
       "      <td>8.0</td>\n",
       "      <td>16.0</td>\n",
       "      <td>11.0</td>\n",
       "      <td>11.0</td>\n",
       "      <td>25.0</td>\n",
       "      <td>16.0</td>\n",
       "      <td>7.0</td>\n",
       "      <td>11.0</td>\n",
       "      <td>10.0</td>\n",
       "      <td>7.0</td>\n",
       "      <td>5.0</td>\n",
       "      <td>NaN</td>\n",
       "      <td>3.0</td>\n",
       "      <td>NaN</td>\n",
       "      <td>1.0</td>\n",
       "      <td>3.0</td>\n",
       "    </tr>\n",
       "    <tr>\n",
       "      <th>Puzzle</th>\n",
       "      <td>NaN</td>\n",
       "      <td>1.0</td>\n",
       "      <td>2.0</td>\n",
       "      <td>7.0</td>\n",
       "      <td>8.0</td>\n",
       "      <td>3.0</td>\n",
       "      <td>6.0</td>\n",
       "      <td>9.0</td>\n",
       "      <td>18.0</td>\n",
       "      <td>25.0</td>\n",
       "      <td>39.0</td>\n",
       "      <td>35.0</td>\n",
       "      <td>27.0</td>\n",
       "      <td>21.0</td>\n",
       "      <td>3.0</td>\n",
       "      <td>NaN</td>\n",
       "      <td>2.0</td>\n",
       "      <td>1.0</td>\n",
       "      <td>1.0</td>\n",
       "    </tr>\n",
       "    <tr>\n",
       "      <th>Racing</th>\n",
       "      <td>NaN</td>\n",
       "      <td>1.0</td>\n",
       "      <td>9.0</td>\n",
       "      <td>16.0</td>\n",
       "      <td>37.0</td>\n",
       "      <td>26.0</td>\n",
       "      <td>14.0</td>\n",
       "      <td>13.0</td>\n",
       "      <td>12.0</td>\n",
       "      <td>13.0</td>\n",
       "      <td>19.0</td>\n",
       "      <td>32.0</td>\n",
       "      <td>17.0</td>\n",
       "      <td>17.0</td>\n",
       "      <td>NaN</td>\n",
       "      <td>NaN</td>\n",
       "      <td>2.0</td>\n",
       "      <td>1.0</td>\n",
       "      <td>NaN</td>\n",
       "    </tr>\n",
       "    <tr>\n",
       "      <th>Role-Playing</th>\n",
       "      <td>NaN</td>\n",
       "      <td>NaN</td>\n",
       "      <td>NaN</td>\n",
       "      <td>3.0</td>\n",
       "      <td>2.0</td>\n",
       "      <td>2.0</td>\n",
       "      <td>1.0</td>\n",
       "      <td>NaN</td>\n",
       "      <td>NaN</td>\n",
       "      <td>6.0</td>\n",
       "      <td>7.0</td>\n",
       "      <td>7.0</td>\n",
       "      <td>2.0</td>\n",
       "      <td>NaN</td>\n",
       "      <td>NaN</td>\n",
       "      <td>NaN</td>\n",
       "      <td>NaN</td>\n",
       "      <td>NaN</td>\n",
       "      <td>NaN</td>\n",
       "    </tr>\n",
       "    <tr>\n",
       "      <th>Shooter</th>\n",
       "      <td>1.0</td>\n",
       "      <td>1.0</td>\n",
       "      <td>2.0</td>\n",
       "      <td>4.0</td>\n",
       "      <td>13.0</td>\n",
       "      <td>8.0</td>\n",
       "      <td>13.0</td>\n",
       "      <td>2.0</td>\n",
       "      <td>6.0</td>\n",
       "      <td>5.0</td>\n",
       "      <td>6.0</td>\n",
       "      <td>6.0</td>\n",
       "      <td>15.0</td>\n",
       "      <td>6.0</td>\n",
       "      <td>NaN</td>\n",
       "      <td>2.0</td>\n",
       "      <td>1.0</td>\n",
       "      <td>NaN</td>\n",
       "      <td>4.0</td>\n",
       "    </tr>\n",
       "    <tr>\n",
       "      <th>Simulation</th>\n",
       "      <td>NaN</td>\n",
       "      <td>1.0</td>\n",
       "      <td>2.0</td>\n",
       "      <td>2.0</td>\n",
       "      <td>2.0</td>\n",
       "      <td>1.0</td>\n",
       "      <td>2.0</td>\n",
       "      <td>NaN</td>\n",
       "      <td>6.0</td>\n",
       "      <td>22.0</td>\n",
       "      <td>56.0</td>\n",
       "      <td>75.0</td>\n",
       "      <td>40.0</td>\n",
       "      <td>18.0</td>\n",
       "      <td>NaN</td>\n",
       "      <td>2.0</td>\n",
       "      <td>1.0</td>\n",
       "      <td>NaN</td>\n",
       "      <td>3.0</td>\n",
       "    </tr>\n",
       "    <tr>\n",
       "      <th>Sports</th>\n",
       "      <td>NaN</td>\n",
       "      <td>2.0</td>\n",
       "      <td>19.0</td>\n",
       "      <td>27.0</td>\n",
       "      <td>56.0</td>\n",
       "      <td>13.0</td>\n",
       "      <td>14.0</td>\n",
       "      <td>12.0</td>\n",
       "      <td>18.0</td>\n",
       "      <td>30.0</td>\n",
       "      <td>49.0</td>\n",
       "      <td>51.0</td>\n",
       "      <td>66.0</td>\n",
       "      <td>30.0</td>\n",
       "      <td>6.0</td>\n",
       "      <td>3.0</td>\n",
       "      <td>1.0</td>\n",
       "      <td>6.0</td>\n",
       "      <td>3.0</td>\n",
       "    </tr>\n",
       "    <tr>\n",
       "      <th>Strategy</th>\n",
       "      <td>NaN</td>\n",
       "      <td>NaN</td>\n",
       "      <td>1.0</td>\n",
       "      <td>NaN</td>\n",
       "      <td>4.0</td>\n",
       "      <td>2.0</td>\n",
       "      <td>3.0</td>\n",
       "      <td>NaN</td>\n",
       "      <td>2.0</td>\n",
       "      <td>2.0</td>\n",
       "      <td>5.0</td>\n",
       "      <td>11.0</td>\n",
       "      <td>8.0</td>\n",
       "      <td>1.0</td>\n",
       "      <td>NaN</td>\n",
       "      <td>NaN</td>\n",
       "      <td>NaN</td>\n",
       "      <td>NaN</td>\n",
       "      <td>NaN</td>\n",
       "    </tr>\n",
       "  </tbody>\n",
       "</table>\n",
       "</div>"
      ],
      "text/plain": [
       "year_of_release  1997  1999  2000  2001  2002  2003  2004  2005  2006  2007  \\\n",
       "genre                                                                         \n",
       "Action            NaN   NaN   2.0   8.0  27.0  20.0  27.0  20.0  18.0  27.0   \n",
       "Adventure         NaN   1.0   1.0   3.0   6.0   NaN   3.0   4.0   6.0  20.0   \n",
       "Fighting          NaN   NaN   3.0   1.0   8.0   1.0   2.0   2.0   2.0   4.0   \n",
       "Misc              NaN   1.0   1.0   3.0  13.0   8.0  11.0  34.0  20.0  31.0   \n",
       "Platform          NaN   NaN   1.0   8.0  16.0  11.0  11.0  25.0  16.0   7.0   \n",
       "Puzzle            NaN   1.0   2.0   7.0   8.0   3.0   6.0   9.0  18.0  25.0   \n",
       "Racing            NaN   1.0   9.0  16.0  37.0  26.0  14.0  13.0  12.0  13.0   \n",
       "Role-Playing      NaN   NaN   NaN   3.0   2.0   2.0   1.0   NaN   NaN   6.0   \n",
       "Shooter           1.0   1.0   2.0   4.0  13.0   8.0  13.0   2.0   6.0   5.0   \n",
       "Simulation        NaN   1.0   2.0   2.0   2.0   1.0   2.0   NaN   6.0  22.0   \n",
       "Sports            NaN   2.0  19.0  27.0  56.0  13.0  14.0  12.0  18.0  30.0   \n",
       "Strategy          NaN   NaN   1.0   NaN   4.0   2.0   3.0   NaN   2.0   2.0   \n",
       "\n",
       "year_of_release  2008  2009  2010  2011  2012  2013  2014  2015  2016  \n",
       "genre                                                                  \n",
       "Action           35.0  54.0  49.0  33.0   5.0   3.0   9.0  25.0   6.0  \n",
       "Adventure        32.0  35.0  23.0   9.0   3.0   1.0   5.0   1.0   3.0  \n",
       "Fighting          4.0   4.0   3.0   NaN   1.0   NaN   NaN   1.0   1.0  \n",
       "Misc             63.0  85.0  74.0  77.0   6.0   1.0   NaN   2.0  10.0  \n",
       "Platform         11.0  10.0   7.0   5.0   NaN   3.0   NaN   1.0   3.0  \n",
       "Puzzle           39.0  35.0  27.0  21.0   3.0   NaN   2.0   1.0   1.0  \n",
       "Racing           19.0  32.0  17.0  17.0   NaN   NaN   2.0   1.0   NaN  \n",
       "Role-Playing      7.0   7.0   2.0   NaN   NaN   NaN   NaN   NaN   NaN  \n",
       "Shooter           6.0   6.0  15.0   6.0   NaN   2.0   1.0   NaN   4.0  \n",
       "Simulation       56.0  75.0  40.0  18.0   NaN   2.0   1.0   NaN   3.0  \n",
       "Sports           49.0  51.0  66.0  30.0   6.0   3.0   1.0   6.0   3.0  \n",
       "Strategy          5.0  11.0   8.0   1.0   NaN   NaN   NaN   NaN   NaN  "
      ]
     },
     "execution_count": 296,
     "metadata": {},
     "output_type": "execute_result"
    }
   ],
   "source": [
    "data[data['user_score']==999].pivot_table(index=['genre'], columns='year_of_release', values='user_score', aggfunc='count')"
   ]
  },
  {
   "cell_type": "markdown",
   "metadata": {},
   "source": [
    "Игры выпускались в разныпе годы, на разные платформы и различных жанров. Считаю, что корректнее заменить значение на null"
   ]
  },
  {
   "cell_type": "code",
   "execution_count": 297,
   "metadata": {},
   "outputs": [],
   "source": [
    "data.loc[data['user_score'] == 999, 'user_score'] = np.nan"
   ]
  },
  {
   "cell_type": "code",
   "execution_count": 298,
   "metadata": {},
   "outputs": [
    {
     "data": {
      "text/html": [
       "<div>\n",
       "<style scoped>\n",
       "    .dataframe tbody tr th:only-of-type {\n",
       "        vertical-align: middle;\n",
       "    }\n",
       "\n",
       "    .dataframe tbody tr th {\n",
       "        vertical-align: top;\n",
       "    }\n",
       "\n",
       "    .dataframe thead th {\n",
       "        text-align: right;\n",
       "    }\n",
       "</style>\n",
       "<table border=\"1\" class=\"dataframe\">\n",
       "  <thead>\n",
       "    <tr style=\"text-align: right;\">\n",
       "      <th></th>\n",
       "      <th>name</th>\n",
       "      <th>platform</th>\n",
       "      <th>year_of_release</th>\n",
       "      <th>genre</th>\n",
       "      <th>na_sales</th>\n",
       "      <th>eu_sales</th>\n",
       "      <th>jp_sales</th>\n",
       "      <th>other_sales</th>\n",
       "      <th>critic_score</th>\n",
       "      <th>user_score</th>\n",
       "      <th>rating</th>\n",
       "    </tr>\n",
       "  </thead>\n",
       "  <tbody>\n",
       "    <tr>\n",
       "      <th>1</th>\n",
       "      <td>Super Mario Bros.</td>\n",
       "      <td>NES</td>\n",
       "      <td>1985</td>\n",
       "      <td>Platform</td>\n",
       "      <td>29.08</td>\n",
       "      <td>3.58</td>\n",
       "      <td>6.81</td>\n",
       "      <td>0.77</td>\n",
       "      <td>NaN</td>\n",
       "      <td>NaN</td>\n",
       "      <td>NaN</td>\n",
       "    </tr>\n",
       "    <tr>\n",
       "      <th>4</th>\n",
       "      <td>Pokemon Red/Pokemon Blue</td>\n",
       "      <td>GB</td>\n",
       "      <td>1996</td>\n",
       "      <td>Role-Playing</td>\n",
       "      <td>11.27</td>\n",
       "      <td>8.89</td>\n",
       "      <td>10.22</td>\n",
       "      <td>1.00</td>\n",
       "      <td>NaN</td>\n",
       "      <td>NaN</td>\n",
       "      <td>NaN</td>\n",
       "    </tr>\n",
       "    <tr>\n",
       "      <th>5</th>\n",
       "      <td>Tetris</td>\n",
       "      <td>GB</td>\n",
       "      <td>1989</td>\n",
       "      <td>Puzzle</td>\n",
       "      <td>23.20</td>\n",
       "      <td>2.26</td>\n",
       "      <td>4.22</td>\n",
       "      <td>0.58</td>\n",
       "      <td>NaN</td>\n",
       "      <td>NaN</td>\n",
       "      <td>NaN</td>\n",
       "    </tr>\n",
       "    <tr>\n",
       "      <th>9</th>\n",
       "      <td>Duck Hunt</td>\n",
       "      <td>NES</td>\n",
       "      <td>1984</td>\n",
       "      <td>Shooter</td>\n",
       "      <td>26.93</td>\n",
       "      <td>0.63</td>\n",
       "      <td>0.28</td>\n",
       "      <td>0.47</td>\n",
       "      <td>NaN</td>\n",
       "      <td>NaN</td>\n",
       "      <td>NaN</td>\n",
       "    </tr>\n",
       "    <tr>\n",
       "      <th>10</th>\n",
       "      <td>Nintendogs</td>\n",
       "      <td>DS</td>\n",
       "      <td>2005</td>\n",
       "      <td>Simulation</td>\n",
       "      <td>9.05</td>\n",
       "      <td>10.95</td>\n",
       "      <td>1.93</td>\n",
       "      <td>2.74</td>\n",
       "      <td>NaN</td>\n",
       "      <td>NaN</td>\n",
       "      <td>NaN</td>\n",
       "    </tr>\n",
       "    <tr>\n",
       "      <th>...</th>\n",
       "      <td>...</td>\n",
       "      <td>...</td>\n",
       "      <td>...</td>\n",
       "      <td>...</td>\n",
       "      <td>...</td>\n",
       "      <td>...</td>\n",
       "      <td>...</td>\n",
       "      <td>...</td>\n",
       "      <td>...</td>\n",
       "      <td>...</td>\n",
       "      <td>...</td>\n",
       "    </tr>\n",
       "    <tr>\n",
       "      <th>16710</th>\n",
       "      <td>Samurai Warriors: Sanada Maru</td>\n",
       "      <td>PS3</td>\n",
       "      <td>2016</td>\n",
       "      <td>Action</td>\n",
       "      <td>0.00</td>\n",
       "      <td>0.00</td>\n",
       "      <td>0.01</td>\n",
       "      <td>0.00</td>\n",
       "      <td>NaN</td>\n",
       "      <td>NaN</td>\n",
       "      <td>NaN</td>\n",
       "    </tr>\n",
       "    <tr>\n",
       "      <th>16711</th>\n",
       "      <td>LMA Manager 2007</td>\n",
       "      <td>X360</td>\n",
       "      <td>2006</td>\n",
       "      <td>Sports</td>\n",
       "      <td>0.00</td>\n",
       "      <td>0.01</td>\n",
       "      <td>0.00</td>\n",
       "      <td>0.00</td>\n",
       "      <td>NaN</td>\n",
       "      <td>NaN</td>\n",
       "      <td>NaN</td>\n",
       "    </tr>\n",
       "    <tr>\n",
       "      <th>16712</th>\n",
       "      <td>Haitaka no Psychedelica</td>\n",
       "      <td>PSV</td>\n",
       "      <td>2016</td>\n",
       "      <td>Adventure</td>\n",
       "      <td>0.00</td>\n",
       "      <td>0.00</td>\n",
       "      <td>0.01</td>\n",
       "      <td>0.00</td>\n",
       "      <td>NaN</td>\n",
       "      <td>NaN</td>\n",
       "      <td>NaN</td>\n",
       "    </tr>\n",
       "    <tr>\n",
       "      <th>16713</th>\n",
       "      <td>Spirits &amp; Spells</td>\n",
       "      <td>GBA</td>\n",
       "      <td>2003</td>\n",
       "      <td>Platform</td>\n",
       "      <td>0.01</td>\n",
       "      <td>0.00</td>\n",
       "      <td>0.00</td>\n",
       "      <td>0.00</td>\n",
       "      <td>NaN</td>\n",
       "      <td>NaN</td>\n",
       "      <td>NaN</td>\n",
       "    </tr>\n",
       "    <tr>\n",
       "      <th>16714</th>\n",
       "      <td>Winning Post 8 2016</td>\n",
       "      <td>PSV</td>\n",
       "      <td>2016</td>\n",
       "      <td>Simulation</td>\n",
       "      <td>0.00</td>\n",
       "      <td>0.00</td>\n",
       "      <td>0.01</td>\n",
       "      <td>0.00</td>\n",
       "      <td>NaN</td>\n",
       "      <td>NaN</td>\n",
       "      <td>NaN</td>\n",
       "    </tr>\n",
       "  </tbody>\n",
       "</table>\n",
       "<p>6676 rows × 11 columns</p>\n",
       "</div>"
      ],
      "text/plain": [
       "                                name platform  year_of_release         genre  \\\n",
       "1                  Super Mario Bros.      NES             1985      Platform   \n",
       "4           Pokemon Red/Pokemon Blue       GB             1996  Role-Playing   \n",
       "5                             Tetris       GB             1989        Puzzle   \n",
       "9                          Duck Hunt      NES             1984       Shooter   \n",
       "10                        Nintendogs       DS             2005    Simulation   \n",
       "...                              ...      ...              ...           ...   \n",
       "16710  Samurai Warriors: Sanada Maru      PS3             2016        Action   \n",
       "16711               LMA Manager 2007     X360             2006        Sports   \n",
       "16712        Haitaka no Psychedelica      PSV             2016     Adventure   \n",
       "16713               Spirits & Spells      GBA             2003      Platform   \n",
       "16714            Winning Post 8 2016      PSV             2016    Simulation   \n",
       "\n",
       "       na_sales  eu_sales  jp_sales  other_sales  critic_score  user_score  \\\n",
       "1         29.08      3.58      6.81         0.77           NaN         NaN   \n",
       "4         11.27      8.89     10.22         1.00           NaN         NaN   \n",
       "5         23.20      2.26      4.22         0.58           NaN         NaN   \n",
       "9         26.93      0.63      0.28         0.47           NaN         NaN   \n",
       "10         9.05     10.95      1.93         2.74           NaN         NaN   \n",
       "...         ...       ...       ...          ...           ...         ...   \n",
       "16710      0.00      0.00      0.01         0.00           NaN         NaN   \n",
       "16711      0.00      0.01      0.00         0.00           NaN         NaN   \n",
       "16712      0.00      0.00      0.01         0.00           NaN         NaN   \n",
       "16713      0.01      0.00      0.00         0.00           NaN         NaN   \n",
       "16714      0.00      0.00      0.01         0.00           NaN         NaN   \n",
       "\n",
       "      rating  \n",
       "1        NaN  \n",
       "4        NaN  \n",
       "5        NaN  \n",
       "9        NaN  \n",
       "10       NaN  \n",
       "...      ...  \n",
       "16710    NaN  \n",
       "16711    NaN  \n",
       "16712    NaN  \n",
       "16713    NaN  \n",
       "16714    NaN  \n",
       "\n",
       "[6676 rows x 11 columns]"
      ]
     },
     "execution_count": 298,
     "metadata": {},
     "output_type": "execute_result"
    }
   ],
   "source": [
    "#Заполнение пропущенных значений\n",
    "#Рейтинг\n",
    "data[data['rating'].isnull()]"
   ]
  },
  {
   "cell_type": "markdown",
   "metadata": {},
   "source": [
    "Причины пропусков в рейтинге:\n",
    "- ESRB появилась в 1994 году. Игры, релиз которых, был ранее 1994 года могут остаться без рейтинга\n",
    "- Рейтинг обязателен для игр в северной америке. Игры, которые выходили в других регионах могут быть без рейтинга\n",
    "- До начала официальных продаж в США и Канаде рейтинг игре не присваивается"
   ]
  },
  {
   "cell_type": "code",
   "execution_count": 299,
   "metadata": {},
   "outputs": [
    {
     "data": {
      "text/html": [
       "<div>\n",
       "<style scoped>\n",
       "    .dataframe tbody tr th:only-of-type {\n",
       "        vertical-align: middle;\n",
       "    }\n",
       "\n",
       "    .dataframe tbody tr th {\n",
       "        vertical-align: top;\n",
       "    }\n",
       "\n",
       "    .dataframe thead th {\n",
       "        text-align: right;\n",
       "    }\n",
       "</style>\n",
       "<table border=\"1\" class=\"dataframe\">\n",
       "  <thead>\n",
       "    <tr style=\"text-align: right;\">\n",
       "      <th></th>\n",
       "      <th>name</th>\n",
       "      <th>platform</th>\n",
       "      <th>year_of_release</th>\n",
       "      <th>genre</th>\n",
       "      <th>na_sales</th>\n",
       "      <th>eu_sales</th>\n",
       "      <th>jp_sales</th>\n",
       "      <th>other_sales</th>\n",
       "      <th>critic_score</th>\n",
       "      <th>user_score</th>\n",
       "      <th>rating</th>\n",
       "    </tr>\n",
       "  </thead>\n",
       "  <tbody>\n",
       "    <tr>\n",
       "      <th>1</th>\n",
       "      <td>Super Mario Bros.</td>\n",
       "      <td>NES</td>\n",
       "      <td>1985</td>\n",
       "      <td>Platform</td>\n",
       "      <td>29.08</td>\n",
       "      <td>3.58</td>\n",
       "      <td>6.81</td>\n",
       "      <td>0.77</td>\n",
       "      <td>NaN</td>\n",
       "      <td>NaN</td>\n",
       "      <td>NaN</td>\n",
       "    </tr>\n",
       "    <tr>\n",
       "      <th>4</th>\n",
       "      <td>Pokemon Red/Pokemon Blue</td>\n",
       "      <td>GB</td>\n",
       "      <td>1996</td>\n",
       "      <td>Role-Playing</td>\n",
       "      <td>11.27</td>\n",
       "      <td>8.89</td>\n",
       "      <td>10.22</td>\n",
       "      <td>1.00</td>\n",
       "      <td>NaN</td>\n",
       "      <td>NaN</td>\n",
       "      <td>NaN</td>\n",
       "    </tr>\n",
       "    <tr>\n",
       "      <th>5</th>\n",
       "      <td>Tetris</td>\n",
       "      <td>GB</td>\n",
       "      <td>1989</td>\n",
       "      <td>Puzzle</td>\n",
       "      <td>23.20</td>\n",
       "      <td>2.26</td>\n",
       "      <td>4.22</td>\n",
       "      <td>0.58</td>\n",
       "      <td>NaN</td>\n",
       "      <td>NaN</td>\n",
       "      <td>NaN</td>\n",
       "    </tr>\n",
       "    <tr>\n",
       "      <th>9</th>\n",
       "      <td>Duck Hunt</td>\n",
       "      <td>NES</td>\n",
       "      <td>1984</td>\n",
       "      <td>Shooter</td>\n",
       "      <td>26.93</td>\n",
       "      <td>0.63</td>\n",
       "      <td>0.28</td>\n",
       "      <td>0.47</td>\n",
       "      <td>NaN</td>\n",
       "      <td>NaN</td>\n",
       "      <td>NaN</td>\n",
       "    </tr>\n",
       "    <tr>\n",
       "      <th>10</th>\n",
       "      <td>Nintendogs</td>\n",
       "      <td>DS</td>\n",
       "      <td>2005</td>\n",
       "      <td>Simulation</td>\n",
       "      <td>9.05</td>\n",
       "      <td>10.95</td>\n",
       "      <td>1.93</td>\n",
       "      <td>2.74</td>\n",
       "      <td>NaN</td>\n",
       "      <td>NaN</td>\n",
       "      <td>NaN</td>\n",
       "    </tr>\n",
       "    <tr>\n",
       "      <th>...</th>\n",
       "      <td>...</td>\n",
       "      <td>...</td>\n",
       "      <td>...</td>\n",
       "      <td>...</td>\n",
       "      <td>...</td>\n",
       "      <td>...</td>\n",
       "      <td>...</td>\n",
       "      <td>...</td>\n",
       "      <td>...</td>\n",
       "      <td>...</td>\n",
       "      <td>...</td>\n",
       "    </tr>\n",
       "    <tr>\n",
       "      <th>16710</th>\n",
       "      <td>Samurai Warriors: Sanada Maru</td>\n",
       "      <td>PS3</td>\n",
       "      <td>2016</td>\n",
       "      <td>Action</td>\n",
       "      <td>0.00</td>\n",
       "      <td>0.00</td>\n",
       "      <td>0.01</td>\n",
       "      <td>0.00</td>\n",
       "      <td>NaN</td>\n",
       "      <td>NaN</td>\n",
       "      <td>NaN</td>\n",
       "    </tr>\n",
       "    <tr>\n",
       "      <th>16711</th>\n",
       "      <td>LMA Manager 2007</td>\n",
       "      <td>X360</td>\n",
       "      <td>2006</td>\n",
       "      <td>Sports</td>\n",
       "      <td>0.00</td>\n",
       "      <td>0.01</td>\n",
       "      <td>0.00</td>\n",
       "      <td>0.00</td>\n",
       "      <td>NaN</td>\n",
       "      <td>NaN</td>\n",
       "      <td>NaN</td>\n",
       "    </tr>\n",
       "    <tr>\n",
       "      <th>16712</th>\n",
       "      <td>Haitaka no Psychedelica</td>\n",
       "      <td>PSV</td>\n",
       "      <td>2016</td>\n",
       "      <td>Adventure</td>\n",
       "      <td>0.00</td>\n",
       "      <td>0.00</td>\n",
       "      <td>0.01</td>\n",
       "      <td>0.00</td>\n",
       "      <td>NaN</td>\n",
       "      <td>NaN</td>\n",
       "      <td>NaN</td>\n",
       "    </tr>\n",
       "    <tr>\n",
       "      <th>16713</th>\n",
       "      <td>Spirits &amp; Spells</td>\n",
       "      <td>GBA</td>\n",
       "      <td>2003</td>\n",
       "      <td>Platform</td>\n",
       "      <td>0.01</td>\n",
       "      <td>0.00</td>\n",
       "      <td>0.00</td>\n",
       "      <td>0.00</td>\n",
       "      <td>NaN</td>\n",
       "      <td>NaN</td>\n",
       "      <td>NaN</td>\n",
       "    </tr>\n",
       "    <tr>\n",
       "      <th>16714</th>\n",
       "      <td>Winning Post 8 2016</td>\n",
       "      <td>PSV</td>\n",
       "      <td>2016</td>\n",
       "      <td>Simulation</td>\n",
       "      <td>0.00</td>\n",
       "      <td>0.00</td>\n",
       "      <td>0.01</td>\n",
       "      <td>0.00</td>\n",
       "      <td>NaN</td>\n",
       "      <td>NaN</td>\n",
       "      <td>NaN</td>\n",
       "    </tr>\n",
       "  </tbody>\n",
       "</table>\n",
       "<p>8461 rows × 11 columns</p>\n",
       "</div>"
      ],
      "text/plain": [
       "                                name platform  year_of_release         genre  \\\n",
       "1                  Super Mario Bros.      NES             1985      Platform   \n",
       "4           Pokemon Red/Pokemon Blue       GB             1996  Role-Playing   \n",
       "5                             Tetris       GB             1989        Puzzle   \n",
       "9                          Duck Hunt      NES             1984       Shooter   \n",
       "10                        Nintendogs       DS             2005    Simulation   \n",
       "...                              ...      ...              ...           ...   \n",
       "16710  Samurai Warriors: Sanada Maru      PS3             2016        Action   \n",
       "16711               LMA Manager 2007     X360             2006        Sports   \n",
       "16712        Haitaka no Psychedelica      PSV             2016     Adventure   \n",
       "16713               Spirits & Spells      GBA             2003      Platform   \n",
       "16714            Winning Post 8 2016      PSV             2016    Simulation   \n",
       "\n",
       "       na_sales  eu_sales  jp_sales  other_sales  critic_score  user_score  \\\n",
       "1         29.08      3.58      6.81         0.77           NaN         NaN   \n",
       "4         11.27      8.89     10.22         1.00           NaN         NaN   \n",
       "5         23.20      2.26      4.22         0.58           NaN         NaN   \n",
       "9         26.93      0.63      0.28         0.47           NaN         NaN   \n",
       "10         9.05     10.95      1.93         2.74           NaN         NaN   \n",
       "...         ...       ...       ...          ...           ...         ...   \n",
       "16710      0.00      0.00      0.01         0.00           NaN         NaN   \n",
       "16711      0.00      0.01      0.00         0.00           NaN         NaN   \n",
       "16712      0.00      0.00      0.01         0.00           NaN         NaN   \n",
       "16713      0.01      0.00      0.00         0.00           NaN         NaN   \n",
       "16714      0.00      0.00      0.01         0.00           NaN         NaN   \n",
       "\n",
       "      rating  \n",
       "1        NaN  \n",
       "4        NaN  \n",
       "5        NaN  \n",
       "9        NaN  \n",
       "10       NaN  \n",
       "...      ...  \n",
       "16710    NaN  \n",
       "16711    NaN  \n",
       "16712    NaN  \n",
       "16713    NaN  \n",
       "16714    NaN  \n",
       "\n",
       "[8461 rows x 11 columns]"
      ]
     },
     "execution_count": 299,
     "metadata": {},
     "output_type": "execute_result"
    }
   ],
   "source": [
    "#Оценка критиков\n",
    "data[data['critic_score'].isnull()]"
   ]
  },
  {
   "cell_type": "markdown",
   "metadata": {},
   "source": [
    "Причины пропусков в \"оценке критиков\":\n",
    "- Нет какой-то единой огранизации цель которых выставлять оценки иргам. Отсюда следует, что показатель далеко не обязателен.\n",
    "- На ранних этапах игровой сферы, не было такого понятия \"оценка критиков\"\n",
    "- Игры ещё не вышедшие, тоже будут без оценок"
   ]
  },
  {
   "cell_type": "code",
   "execution_count": 300,
   "metadata": {},
   "outputs": [
    {
     "data": {
      "text/html": [
       "<div>\n",
       "<style scoped>\n",
       "    .dataframe tbody tr th:only-of-type {\n",
       "        vertical-align: middle;\n",
       "    }\n",
       "\n",
       "    .dataframe tbody tr th {\n",
       "        vertical-align: top;\n",
       "    }\n",
       "\n",
       "    .dataframe thead th {\n",
       "        text-align: right;\n",
       "    }\n",
       "</style>\n",
       "<table border=\"1\" class=\"dataframe\">\n",
       "  <thead>\n",
       "    <tr style=\"text-align: right;\">\n",
       "      <th></th>\n",
       "      <th>name</th>\n",
       "      <th>platform</th>\n",
       "      <th>year_of_release</th>\n",
       "      <th>genre</th>\n",
       "      <th>na_sales</th>\n",
       "      <th>eu_sales</th>\n",
       "      <th>jp_sales</th>\n",
       "      <th>other_sales</th>\n",
       "      <th>critic_score</th>\n",
       "      <th>user_score</th>\n",
       "      <th>rating</th>\n",
       "    </tr>\n",
       "  </thead>\n",
       "  <tbody>\n",
       "    <tr>\n",
       "      <th>1</th>\n",
       "      <td>Super Mario Bros.</td>\n",
       "      <td>NES</td>\n",
       "      <td>1985</td>\n",
       "      <td>Platform</td>\n",
       "      <td>29.08</td>\n",
       "      <td>3.58</td>\n",
       "      <td>6.81</td>\n",
       "      <td>0.77</td>\n",
       "      <td>NaN</td>\n",
       "      <td>NaN</td>\n",
       "      <td>NaN</td>\n",
       "    </tr>\n",
       "    <tr>\n",
       "      <th>4</th>\n",
       "      <td>Pokemon Red/Pokemon Blue</td>\n",
       "      <td>GB</td>\n",
       "      <td>1996</td>\n",
       "      <td>Role-Playing</td>\n",
       "      <td>11.27</td>\n",
       "      <td>8.89</td>\n",
       "      <td>10.22</td>\n",
       "      <td>1.00</td>\n",
       "      <td>NaN</td>\n",
       "      <td>NaN</td>\n",
       "      <td>NaN</td>\n",
       "    </tr>\n",
       "    <tr>\n",
       "      <th>5</th>\n",
       "      <td>Tetris</td>\n",
       "      <td>GB</td>\n",
       "      <td>1989</td>\n",
       "      <td>Puzzle</td>\n",
       "      <td>23.20</td>\n",
       "      <td>2.26</td>\n",
       "      <td>4.22</td>\n",
       "      <td>0.58</td>\n",
       "      <td>NaN</td>\n",
       "      <td>NaN</td>\n",
       "      <td>NaN</td>\n",
       "    </tr>\n",
       "    <tr>\n",
       "      <th>9</th>\n",
       "      <td>Duck Hunt</td>\n",
       "      <td>NES</td>\n",
       "      <td>1984</td>\n",
       "      <td>Shooter</td>\n",
       "      <td>26.93</td>\n",
       "      <td>0.63</td>\n",
       "      <td>0.28</td>\n",
       "      <td>0.47</td>\n",
       "      <td>NaN</td>\n",
       "      <td>NaN</td>\n",
       "      <td>NaN</td>\n",
       "    </tr>\n",
       "    <tr>\n",
       "      <th>10</th>\n",
       "      <td>Nintendogs</td>\n",
       "      <td>DS</td>\n",
       "      <td>2005</td>\n",
       "      <td>Simulation</td>\n",
       "      <td>9.05</td>\n",
       "      <td>10.95</td>\n",
       "      <td>1.93</td>\n",
       "      <td>2.74</td>\n",
       "      <td>NaN</td>\n",
       "      <td>NaN</td>\n",
       "      <td>NaN</td>\n",
       "    </tr>\n",
       "    <tr>\n",
       "      <th>...</th>\n",
       "      <td>...</td>\n",
       "      <td>...</td>\n",
       "      <td>...</td>\n",
       "      <td>...</td>\n",
       "      <td>...</td>\n",
       "      <td>...</td>\n",
       "      <td>...</td>\n",
       "      <td>...</td>\n",
       "      <td>...</td>\n",
       "      <td>...</td>\n",
       "      <td>...</td>\n",
       "    </tr>\n",
       "    <tr>\n",
       "      <th>16710</th>\n",
       "      <td>Samurai Warriors: Sanada Maru</td>\n",
       "      <td>PS3</td>\n",
       "      <td>2016</td>\n",
       "      <td>Action</td>\n",
       "      <td>0.00</td>\n",
       "      <td>0.00</td>\n",
       "      <td>0.01</td>\n",
       "      <td>0.00</td>\n",
       "      <td>NaN</td>\n",
       "      <td>NaN</td>\n",
       "      <td>NaN</td>\n",
       "    </tr>\n",
       "    <tr>\n",
       "      <th>16711</th>\n",
       "      <td>LMA Manager 2007</td>\n",
       "      <td>X360</td>\n",
       "      <td>2006</td>\n",
       "      <td>Sports</td>\n",
       "      <td>0.00</td>\n",
       "      <td>0.01</td>\n",
       "      <td>0.00</td>\n",
       "      <td>0.00</td>\n",
       "      <td>NaN</td>\n",
       "      <td>NaN</td>\n",
       "      <td>NaN</td>\n",
       "    </tr>\n",
       "    <tr>\n",
       "      <th>16712</th>\n",
       "      <td>Haitaka no Psychedelica</td>\n",
       "      <td>PSV</td>\n",
       "      <td>2016</td>\n",
       "      <td>Adventure</td>\n",
       "      <td>0.00</td>\n",
       "      <td>0.00</td>\n",
       "      <td>0.01</td>\n",
       "      <td>0.00</td>\n",
       "      <td>NaN</td>\n",
       "      <td>NaN</td>\n",
       "      <td>NaN</td>\n",
       "    </tr>\n",
       "    <tr>\n",
       "      <th>16713</th>\n",
       "      <td>Spirits &amp; Spells</td>\n",
       "      <td>GBA</td>\n",
       "      <td>2003</td>\n",
       "      <td>Platform</td>\n",
       "      <td>0.01</td>\n",
       "      <td>0.00</td>\n",
       "      <td>0.00</td>\n",
       "      <td>0.00</td>\n",
       "      <td>NaN</td>\n",
       "      <td>NaN</td>\n",
       "      <td>NaN</td>\n",
       "    </tr>\n",
       "    <tr>\n",
       "      <th>16714</th>\n",
       "      <td>Winning Post 8 2016</td>\n",
       "      <td>PSV</td>\n",
       "      <td>2016</td>\n",
       "      <td>Simulation</td>\n",
       "      <td>0.00</td>\n",
       "      <td>0.00</td>\n",
       "      <td>0.01</td>\n",
       "      <td>0.00</td>\n",
       "      <td>NaN</td>\n",
       "      <td>NaN</td>\n",
       "      <td>NaN</td>\n",
       "    </tr>\n",
       "  </tbody>\n",
       "</table>\n",
       "<p>8981 rows × 11 columns</p>\n",
       "</div>"
      ],
      "text/plain": [
       "                                name platform  year_of_release         genre  \\\n",
       "1                  Super Mario Bros.      NES             1985      Platform   \n",
       "4           Pokemon Red/Pokemon Blue       GB             1996  Role-Playing   \n",
       "5                             Tetris       GB             1989        Puzzle   \n",
       "9                          Duck Hunt      NES             1984       Shooter   \n",
       "10                        Nintendogs       DS             2005    Simulation   \n",
       "...                              ...      ...              ...           ...   \n",
       "16710  Samurai Warriors: Sanada Maru      PS3             2016        Action   \n",
       "16711               LMA Manager 2007     X360             2006        Sports   \n",
       "16712        Haitaka no Psychedelica      PSV             2016     Adventure   \n",
       "16713               Spirits & Spells      GBA             2003      Platform   \n",
       "16714            Winning Post 8 2016      PSV             2016    Simulation   \n",
       "\n",
       "       na_sales  eu_sales  jp_sales  other_sales  critic_score  user_score  \\\n",
       "1         29.08      3.58      6.81         0.77           NaN         NaN   \n",
       "4         11.27      8.89     10.22         1.00           NaN         NaN   \n",
       "5         23.20      2.26      4.22         0.58           NaN         NaN   \n",
       "9         26.93      0.63      0.28         0.47           NaN         NaN   \n",
       "10         9.05     10.95      1.93         2.74           NaN         NaN   \n",
       "...         ...       ...       ...          ...           ...         ...   \n",
       "16710      0.00      0.00      0.01         0.00           NaN         NaN   \n",
       "16711      0.00      0.01      0.00         0.00           NaN         NaN   \n",
       "16712      0.00      0.00      0.01         0.00           NaN         NaN   \n",
       "16713      0.01      0.00      0.00         0.00           NaN         NaN   \n",
       "16714      0.00      0.00      0.01         0.00           NaN         NaN   \n",
       "\n",
       "      rating  \n",
       "1        NaN  \n",
       "4        NaN  \n",
       "5        NaN  \n",
       "9        NaN  \n",
       "10       NaN  \n",
       "...      ...  \n",
       "16710    NaN  \n",
       "16711    NaN  \n",
       "16712    NaN  \n",
       "16713    NaN  \n",
       "16714    NaN  \n",
       "\n",
       "[8981 rows x 11 columns]"
      ]
     },
     "execution_count": 300,
     "metadata": {},
     "output_type": "execute_result"
    }
   ],
   "source": [
    "#Оценка играков\n",
    "data[data['user_score'].isnull()]"
   ]
  },
  {
   "cell_type": "markdown",
   "metadata": {},
   "source": [
    "Причины пропусков в \"оценке игроков\":\n",
    "- Оценки могли не ставиться на ранних этапах игровой индустрии\n",
    "- Игры, которые не вышли, останутся без оценок"
   ]
  },
  {
   "cell_type": "markdown",
   "metadata": {},
   "source": [
    "Пропусков в оценках критиков, оценках игроков и рейтинге очень много, до 30% всех записей, поэтому мы не будем удалять данные строки. "
   ]
  },
  {
   "cell_type": "code",
   "execution_count": 301,
   "metadata": {},
   "outputs": [],
   "source": [
    "#посчитаем общие продажи\n",
    "data['all_sales']=data['na_sales']+data['eu_sales']+data['jp_sales']+data['other_sales']"
   ]
  },
  {
   "cell_type": "markdown",
   "metadata": {},
   "source": [
    "Проверим ограничения на оценки критиков и оценки игроков"
   ]
  },
  {
   "cell_type": "code",
   "execution_count": 302,
   "metadata": {},
   "outputs": [
    {
     "data": {
      "text/plain": [
       "<AxesSubplot:>"
      ]
     },
     "execution_count": 302,
     "metadata": {},
     "output_type": "execute_result"
    },
    {
     "data": {
      "image/png": "[encoded data removed]",
      "text/plain": [
       "<Figure size 432x288 with 1 Axes>"
      ]
     },
     "metadata": {
      "needs_background": "light"
     },
     "output_type": "display_data"
    }
   ],
   "source": [
    "data['critic_score'].hist(bins=10)"
   ]
  },
  {
   "cell_type": "code",
   "execution_count": 303,
   "metadata": {},
   "outputs": [
    {
     "data": {
      "text/plain": [
       "<AxesSubplot:>"
      ]
     },
     "execution_count": 303,
     "metadata": {},
     "output_type": "execute_result"
    },
    {
     "data": {
      "image/png": "[encoded data removed]",
      "text/plain": [
       "<Figure size 432x288 with 1 Axes>"
      ]
     },
     "metadata": {
      "needs_background": "light"
     },
     "output_type": "display_data"
    }
   ],
   "source": [
    "data['user_score'].hist(bins=10)"
   ]
  },
  {
   "cell_type": "code",
   "execution_count": 304,
   "metadata": {},
   "outputs": [
    {
     "name": "stdout",
     "output_type": "stream",
     "text": [
      "<class 'pandas.core.frame.DataFrame'>\n",
      "Int64Index: 16444 entries, 0 to 16714\n",
      "Data columns (total 12 columns):\n",
      " #   Column           Non-Null Count  Dtype  \n",
      "---  ------           --------------  -----  \n",
      " 0   name             16444 non-null  object \n",
      " 1   platform         16444 non-null  object \n",
      " 2   year_of_release  16444 non-null  Int64  \n",
      " 3   genre            16444 non-null  object \n",
      " 4   na_sales         16444 non-null  float64\n",
      " 5   eu_sales         16444 non-null  float64\n",
      " 6   jp_sales         16444 non-null  float64\n",
      " 7   other_sales      16444 non-null  float64\n",
      " 8   critic_score     7983 non-null   float64\n",
      " 9   user_score       7463 non-null   float64\n",
      " 10  rating           9768 non-null   object \n",
      " 11  all_sales        16444 non-null  float64\n",
      "dtypes: Int64(1), float64(7), object(4)\n",
      "memory usage: 1.6+ MB\n"
     ]
    }
   ],
   "source": [
    "# check\n",
    "data.info()"
   ]
  },
  {
   "cell_type": "code",
   "execution_count": 305,
   "metadata": {},
   "outputs": [
    {
     "data": {
      "text/html": [
       "<div>\n",
       "<style scoped>\n",
       "    .dataframe tbody tr th:only-of-type {\n",
       "        vertical-align: middle;\n",
       "    }\n",
       "\n",
       "    .dataframe tbody tr th {\n",
       "        vertical-align: top;\n",
       "    }\n",
       "\n",
       "    .dataframe thead th {\n",
       "        text-align: right;\n",
       "    }\n",
       "</style>\n",
       "<table border=\"1\" class=\"dataframe\">\n",
       "  <thead>\n",
       "    <tr style=\"text-align: right;\">\n",
       "      <th></th>\n",
       "      <th>name</th>\n",
       "    </tr>\n",
       "    <tr>\n",
       "      <th>rating</th>\n",
       "      <th></th>\n",
       "    </tr>\n",
       "  </thead>\n",
       "  <tbody>\n",
       "    <tr>\n",
       "      <th>AO</th>\n",
       "      <td>1</td>\n",
       "    </tr>\n",
       "    <tr>\n",
       "      <th>E</th>\n",
       "      <td>3921</td>\n",
       "    </tr>\n",
       "    <tr>\n",
       "      <th>E10+</th>\n",
       "      <td>1393</td>\n",
       "    </tr>\n",
       "    <tr>\n",
       "      <th>EC</th>\n",
       "      <td>8</td>\n",
       "    </tr>\n",
       "    <tr>\n",
       "      <th>K-A</th>\n",
       "      <td>3</td>\n",
       "    </tr>\n",
       "    <tr>\n",
       "      <th>M</th>\n",
       "      <td>1536</td>\n",
       "    </tr>\n",
       "    <tr>\n",
       "      <th>RP</th>\n",
       "      <td>1</td>\n",
       "    </tr>\n",
       "    <tr>\n",
       "      <th>T</th>\n",
       "      <td>2905</td>\n",
       "    </tr>\n",
       "  </tbody>\n",
       "</table>\n",
       "</div>"
      ],
      "text/plain": [
       "        name\n",
       "rating      \n",
       "AO         1\n",
       "E       3921\n",
       "E10+    1393\n",
       "EC         8\n",
       "K-A        3\n",
       "M       1536\n",
       "RP         1\n",
       "T       2905"
      ]
     },
     "execution_count": 305,
     "metadata": {},
     "output_type": "execute_result"
    }
   ],
   "source": [
    "data.pivot_table(index=['rating'], values='name', aggfunc='count')"
   ]
  },
  {
   "cell_type": "code",
   "execution_count": 306,
   "metadata": {},
   "outputs": [],
   "source": [
    "data.loc[data['rating'].isna(),'rating']='M'"
   ]
  },
  {
   "cell_type": "code",
   "execution_count": 307,
   "metadata": {},
   "outputs": [
    {
     "data": {
      "text/html": [
       "<div>\n",
       "<style scoped>\n",
       "    .dataframe tbody tr th:only-of-type {\n",
       "        vertical-align: middle;\n",
       "    }\n",
       "\n",
       "    .dataframe tbody tr th {\n",
       "        vertical-align: top;\n",
       "    }\n",
       "\n",
       "    .dataframe thead th {\n",
       "        text-align: right;\n",
       "    }\n",
       "</style>\n",
       "<table border=\"1\" class=\"dataframe\">\n",
       "  <thead>\n",
       "    <tr style=\"text-align: right;\">\n",
       "      <th></th>\n",
       "      <th>name</th>\n",
       "    </tr>\n",
       "    <tr>\n",
       "      <th>rating</th>\n",
       "      <th></th>\n",
       "    </tr>\n",
       "  </thead>\n",
       "  <tbody>\n",
       "    <tr>\n",
       "      <th>AO</th>\n",
       "      <td>1</td>\n",
       "    </tr>\n",
       "    <tr>\n",
       "      <th>E</th>\n",
       "      <td>3921</td>\n",
       "    </tr>\n",
       "    <tr>\n",
       "      <th>E10+</th>\n",
       "      <td>1393</td>\n",
       "    </tr>\n",
       "    <tr>\n",
       "      <th>EC</th>\n",
       "      <td>8</td>\n",
       "    </tr>\n",
       "    <tr>\n",
       "      <th>K-A</th>\n",
       "      <td>3</td>\n",
       "    </tr>\n",
       "    <tr>\n",
       "      <th>M</th>\n",
       "      <td>8212</td>\n",
       "    </tr>\n",
       "    <tr>\n",
       "      <th>RP</th>\n",
       "      <td>1</td>\n",
       "    </tr>\n",
       "    <tr>\n",
       "      <th>T</th>\n",
       "      <td>2905</td>\n",
       "    </tr>\n",
       "  </tbody>\n",
       "</table>\n",
       "</div>"
      ],
      "text/plain": [
       "        name\n",
       "rating      \n",
       "AO         1\n",
       "E       3921\n",
       "E10+    1393\n",
       "EC         8\n",
       "K-A        3\n",
       "M       8212\n",
       "RP         1\n",
       "T       2905"
      ]
     },
     "execution_count": 307,
     "metadata": {},
     "output_type": "execute_result"
    }
   ],
   "source": [
    "data.pivot_table(index=['rating'], values='name', aggfunc='count')"
   ]
  },
  {
   "cell_type": "markdown",
   "metadata": {},
   "source": [
    "## Исследуем данные"
   ]
  },
  {
   "cell_type": "markdown",
   "metadata": {},
   "source": [
    "### Отбор периода"
   ]
  },
  {
   "cell_type": "code",
   "execution_count": 308,
   "metadata": {},
   "outputs": [
    {
     "data": {
      "image/png": "[encoded data removed]",
      "text/plain": [
       "<Figure size 432x288 with 1 Axes>"
      ]
     },
     "metadata": {
      "needs_background": "light"
     },
     "output_type": "display_data"
    }
   ],
   "source": [
    "data.pivot_table(index=['year_of_release'], values='name', aggfunc='count').plot(kind='line', title='Релизы по годам')\n",
    "plt.xlabel(\"Год релиза\")\n",
    "plt.ylabel(\"Кол-во релизов\")\n",
    "plt.show()"
   ]
  },
  {
   "cell_type": "code",
   "execution_count": 309,
   "metadata": {},
   "outputs": [
    {
     "data": {
      "text/html": [
       "<div>\n",
       "<style scoped>\n",
       "    .dataframe tbody tr th:only-of-type {\n",
       "        vertical-align: middle;\n",
       "    }\n",
       "\n",
       "    .dataframe tbody tr th {\n",
       "        vertical-align: top;\n",
       "    }\n",
       "\n",
       "    .dataframe thead th {\n",
       "        text-align: right;\n",
       "    }\n",
       "</style>\n",
       "<table border=\"1\" class=\"dataframe\">\n",
       "  <thead>\n",
       "    <tr style=\"text-align: right;\">\n",
       "      <th></th>\n",
       "      <th>name</th>\n",
       "    </tr>\n",
       "    <tr>\n",
       "      <th>platform</th>\n",
       "      <th></th>\n",
       "    </tr>\n",
       "  </thead>\n",
       "  <tbody>\n",
       "    <tr>\n",
       "      <th>PS2</th>\n",
       "      <td>2127</td>\n",
       "    </tr>\n",
       "    <tr>\n",
       "      <th>DS</th>\n",
       "      <td>2121</td>\n",
       "    </tr>\n",
       "    <tr>\n",
       "      <th>PS3</th>\n",
       "      <td>1306</td>\n",
       "    </tr>\n",
       "    <tr>\n",
       "      <th>Wii</th>\n",
       "      <td>1286</td>\n",
       "    </tr>\n",
       "    <tr>\n",
       "      <th>X360</th>\n",
       "      <td>1232</td>\n",
       "    </tr>\n",
       "    <tr>\n",
       "      <th>PSP</th>\n",
       "      <td>1193</td>\n",
       "    </tr>\n",
       "    <tr>\n",
       "      <th>PS</th>\n",
       "      <td>1190</td>\n",
       "    </tr>\n",
       "    <tr>\n",
       "      <th>PC</th>\n",
       "      <td>957</td>\n",
       "    </tr>\n",
       "    <tr>\n",
       "      <th>GBA</th>\n",
       "      <td>811</td>\n",
       "    </tr>\n",
       "    <tr>\n",
       "      <th>XB</th>\n",
       "      <td>803</td>\n",
       "    </tr>\n",
       "    <tr>\n",
       "      <th>GC</th>\n",
       "      <td>542</td>\n",
       "    </tr>\n",
       "    <tr>\n",
       "      <th>3DS</th>\n",
       "      <td>512</td>\n",
       "    </tr>\n",
       "    <tr>\n",
       "      <th>PSV</th>\n",
       "      <td>429</td>\n",
       "    </tr>\n",
       "    <tr>\n",
       "      <th>PS4</th>\n",
       "      <td>392</td>\n",
       "    </tr>\n",
       "    <tr>\n",
       "      <th>N64</th>\n",
       "      <td>316</td>\n",
       "    </tr>\n",
       "    <tr>\n",
       "      <th>XOne</th>\n",
       "      <td>247</td>\n",
       "    </tr>\n",
       "    <tr>\n",
       "      <th>SNES</th>\n",
       "      <td>239</td>\n",
       "    </tr>\n",
       "    <tr>\n",
       "      <th>SAT</th>\n",
       "      <td>173</td>\n",
       "    </tr>\n",
       "    <tr>\n",
       "      <th>WiiU</th>\n",
       "      <td>147</td>\n",
       "    </tr>\n",
       "    <tr>\n",
       "      <th>2600</th>\n",
       "      <td>116</td>\n",
       "    </tr>\n",
       "    <tr>\n",
       "      <th>NES</th>\n",
       "      <td>98</td>\n",
       "    </tr>\n",
       "    <tr>\n",
       "      <th>GB</th>\n",
       "      <td>97</td>\n",
       "    </tr>\n",
       "    <tr>\n",
       "      <th>DC</th>\n",
       "      <td>52</td>\n",
       "    </tr>\n",
       "    <tr>\n",
       "      <th>GEN</th>\n",
       "      <td>27</td>\n",
       "    </tr>\n",
       "    <tr>\n",
       "      <th>NG</th>\n",
       "      <td>12</td>\n",
       "    </tr>\n",
       "    <tr>\n",
       "      <th>SCD</th>\n",
       "      <td>6</td>\n",
       "    </tr>\n",
       "    <tr>\n",
       "      <th>WS</th>\n",
       "      <td>6</td>\n",
       "    </tr>\n",
       "    <tr>\n",
       "      <th>3DO</th>\n",
       "      <td>3</td>\n",
       "    </tr>\n",
       "    <tr>\n",
       "      <th>TG16</th>\n",
       "      <td>2</td>\n",
       "    </tr>\n",
       "    <tr>\n",
       "      <th>PCFX</th>\n",
       "      <td>1</td>\n",
       "    </tr>\n",
       "    <tr>\n",
       "      <th>GG</th>\n",
       "      <td>1</td>\n",
       "    </tr>\n",
       "  </tbody>\n",
       "</table>\n",
       "</div>"
      ],
      "text/plain": [
       "          name\n",
       "platform      \n",
       "PS2       2127\n",
       "DS        2121\n",
       "PS3       1306\n",
       "Wii       1286\n",
       "X360      1232\n",
       "PSP       1193\n",
       "PS        1190\n",
       "PC         957\n",
       "GBA        811\n",
       "XB         803\n",
       "GC         542\n",
       "3DS        512\n",
       "PSV        429\n",
       "PS4        392\n",
       "N64        316\n",
       "XOne       247\n",
       "SNES       239\n",
       "SAT        173\n",
       "WiiU       147\n",
       "2600       116\n",
       "NES         98\n",
       "GB          97\n",
       "DC          52\n",
       "GEN         27\n",
       "NG          12\n",
       "SCD          6\n",
       "WS           6\n",
       "3DO          3\n",
       "TG16         2\n",
       "PCFX         1\n",
       "GG           1"
      ]
     },
     "execution_count": 309,
     "metadata": {},
     "output_type": "execute_result"
    }
   ],
   "source": [
    "# продажи по платформам\n",
    "data.pivot_table(index=['platform'],  values='name', aggfunc='count').sort_values(by='name', ascending=False)"
   ]
  },
  {
   "cell_type": "code",
   "execution_count": 310,
   "metadata": {},
   "outputs": [],
   "source": [
    "#Установим отсечку на 200 играх\n",
    "top_platform=data.pivot_table(index=['platform'],  values='name', aggfunc='count')[data.pivot_table(index=['platform'],  \\\n",
    "                                                                                    values='name', aggfunc='count')['name']>200]"
   ]
  },
  {
   "cell_type": "code",
   "execution_count": 311,
   "metadata": {},
   "outputs": [],
   "source": [
    "#отберём данные по платформам из TOP\n",
    "top_platform_data=data.query('platform in @top_platform.index')"
   ]
  },
  {
   "cell_type": "code",
   "execution_count": 312,
   "metadata": {},
   "outputs": [
    {
     "data": {
      "image/png": "[encoded data removed]",
      "text/plain": [
       "<Figure size 432x288 with 1 Axes>"
      ]
     },
     "metadata": {
      "needs_background": "light"
     },
     "output_type": "display_data"
    },
    {
     "data": {
      "image/png": "[encoded data removed]",
      "text/plain": [
       "<Figure size 432x288 with 1 Axes>"
      ]
     },
     "metadata": {
      "needs_background": "light"
     },
     "output_type": "display_data"
    },
    {
     "data": {
      "image/png": "[encoded data removed]",
      "text/plain": [
       "<Figure size 432x288 with 1 Axes>"
      ]
     },
     "metadata": {
      "needs_background": "light"
     },
     "output_type": "display_data"
    },
    {
     "data": {
      "image/png": "[encoded data removed]",
      "text/plain": [
       "<Figure size 432x288 with 1 Axes>"
      ]
     },
     "metadata": {
      "needs_background": "light"
     },
     "output_type": "display_data"
    },
    {
     "data": {
      "image/png": "[encoded data removed]",
      "text/plain": [
       "<Figure size 432x288 with 1 Axes>"
      ]
     },
     "metadata": {
      "needs_background": "light"
     },
     "output_type": "display_data"
    },
    {
     "data": {
      "image/png": "[encoded data removed]",
      "text/plain": [
       "<Figure size 432x288 with 1 Axes>"
      ]
     },
     "metadata": {
      "needs_background": "light"
     },
     "output_type": "display_data"
    },
    {
     "data": {
      "image/png": "[encoded data removed]",
      "text/plain": [
       "<Figure size 432x288 with 1 Axes>"
      ]
     },
     "metadata": {
      "needs_background": "light"
     },
     "output_type": "display_data"
    },
    {
     "data": {
      "image/png": "[encoded data removed]",
      "text/plain": [
       "<Figure size 432x288 with 1 Axes>"
      ]
     },
     "metadata": {
      "needs_background": "light"
     },
     "output_type": "display_data"
    },
    {
     "data": {
      "image/png": "[encoded data removed]",
      "text/plain": [
       "<Figure size 432x288 with 1 Axes>"
      ]
     },
     "metadata": {
      "needs_background": "light"
     },
     "output_type": "display_data"
    },
    {
     "data": {
      "image/png": "[encoded data removed]",
      "text/plain": [
       "<Figure size 432x288 with 1 Axes>"
      ]
     },
     "metadata": {
      "needs_background": "light"
     },
     "output_type": "display_data"
    },
    {
     "data": {
      "image/png": "[encoded data removed]",
      "text/plain": [
       "<Figure size 432x288 with 1 Axes>"
      ]
     },
     "metadata": {
      "needs_background": "light"
     },
     "output_type": "display_data"
    },
    {
     "data": {
      "image/png": "[encoded data removed]",
      "text/plain": [
       "<Figure size 432x288 with 1 Axes>"
      ]
     },
     "metadata": {
      "needs_background": "light"
     },
     "output_type": "display_data"
    },
    {
     "data": {
      "image/png": "[encoded data removed]",
      "text/plain": [
       "<Figure size 432x288 with 1 Axes>"
      ]
     },
     "metadata": {
      "needs_background": "light"
     },
     "output_type": "display_data"
    },
    {
     "data": {
      "image/png": "[encoded data removed]",
      "text/plain": [
       "<Figure size 432x288 with 1 Axes>"
      ]
     },
     "metadata": {
      "needs_background": "light"
     },
     "output_type": "display_data"
    },
    {
     "data": {
      "image/png": "[encoded data removed]",
      "text/plain": [
       "<Figure size 432x288 with 1 Axes>"
      ]
     },
     "metadata": {
      "needs_background": "light"
     },
     "output_type": "display_data"
    },
    {
     "data": {
      "image/png": "[encoded data removed]",
      "text/plain": [
       "<Figure size 432x288 with 1 Axes>"
      ]
     },
     "metadata": {
      "needs_background": "light"
     },
     "output_type": "display_data"
    },
    {
     "data": {
      "image/png": "[encoded data removed]",
      "text/plain": [
       "<Figure size 432x288 with 1 Axes>"
      ]
     },
     "metadata": {
      "needs_background": "light"
     },
     "output_type": "display_data"
    }
   ],
   "source": [
    "for platform in top_platform.index:\n",
    "    top_platform_data[top_platform_data['platform']==platform].pivot_table(index=['year_of_release'], \\\n",
    "                                                                columns='platform', values='name', aggfunc='count').plot.line()"
   ]
  },
  {
   "cell_type": "markdown",
   "metadata": {},
   "source": [
    "В зависимости от платформы, от 6 до 10 лет появляются и теряют актуальность платформы. Для дальнейшего анализа будем использовать интервал в 6 лет."
   ]
  },
  {
   "cell_type": "code",
   "execution_count": 313,
   "metadata": {},
   "outputs": [
    {
     "data": {
      "text/html": [
       "<div>\n",
       "<style scoped>\n",
       "    .dataframe tbody tr th:only-of-type {\n",
       "        vertical-align: middle;\n",
       "    }\n",
       "\n",
       "    .dataframe tbody tr th {\n",
       "        vertical-align: top;\n",
       "    }\n",
       "\n",
       "    .dataframe thead th {\n",
       "        text-align: right;\n",
       "    }\n",
       "</style>\n",
       "<table border=\"1\" class=\"dataframe\">\n",
       "  <thead>\n",
       "    <tr style=\"text-align: right;\">\n",
       "      <th>year_of_release</th>\n",
       "      <th>1985</th>\n",
       "      <th>2004</th>\n",
       "      <th>2005</th>\n",
       "      <th>2006</th>\n",
       "      <th>2007</th>\n",
       "      <th>2008</th>\n",
       "      <th>2009</th>\n",
       "      <th>2010</th>\n",
       "      <th>2011</th>\n",
       "      <th>2012</th>\n",
       "      <th>2013</th>\n",
       "    </tr>\n",
       "    <tr>\n",
       "      <th>platform</th>\n",
       "      <th></th>\n",
       "      <th></th>\n",
       "      <th></th>\n",
       "      <th></th>\n",
       "      <th></th>\n",
       "      <th></th>\n",
       "      <th></th>\n",
       "      <th></th>\n",
       "      <th></th>\n",
       "      <th></th>\n",
       "      <th></th>\n",
       "    </tr>\n",
       "  </thead>\n",
       "  <tbody>\n",
       "    <tr>\n",
       "      <th>DS</th>\n",
       "      <td>1</td>\n",
       "      <td>23</td>\n",
       "      <td>118</td>\n",
       "      <td>201</td>\n",
       "      <td>376</td>\n",
       "      <td>492</td>\n",
       "      <td>403</td>\n",
       "      <td>323</td>\n",
       "      <td>153</td>\n",
       "      <td>23</td>\n",
       "      <td>8</td>\n",
       "    </tr>\n",
       "  </tbody>\n",
       "</table>\n",
       "</div>"
      ],
      "text/plain": [
       "year_of_release  1985  2004  2005  2006  2007  2008  2009  2010  2011  2012  \\\n",
       "platform                                                                      \n",
       "DS                  1    23   118   201   376   492   403   323   153    23   \n",
       "\n",
       "year_of_release  2013  \n",
       "platform               \n",
       "DS                  8  "
      ]
     },
     "execution_count": 313,
     "metadata": {},
     "output_type": "execute_result"
    }
   ],
   "source": [
    "data[data['platform']=='DS'].pivot_table(index=['platform'], columns='year_of_release', values='name', aggfunc='count')"
   ]
  },
  {
   "cell_type": "markdown",
   "metadata": {},
   "source": [
    "Данные за 1985 год - это ошибка, т.к. платформа появилась в начале 2000-х. Данную анамалию не будем учитывать в полследующем, т.к. мы возьмём только короткий интермал данных для прогнозирования."
   ]
  },
  {
   "cell_type": "code",
   "execution_count": 314,
   "metadata": {},
   "outputs": [],
   "source": [
    "actual_data=data[data['year_of_release']>2009]"
   ]
  },
  {
   "cell_type": "code",
   "execution_count": 315,
   "metadata": {},
   "outputs": [],
   "source": [
    "actual_data=data[data['year_of_release']>2013]"
   ]
  },
  {
   "cell_type": "markdown",
   "metadata": {},
   "source": [
    "### Отбор платформ"
   ]
  },
  {
   "cell_type": "code",
   "execution_count": 316,
   "metadata": {},
   "outputs": [
    {
     "data": {
      "text/html": [
       "<div>\n",
       "<style scoped>\n",
       "    .dataframe tbody tr th:only-of-type {\n",
       "        vertical-align: middle;\n",
       "    }\n",
       "\n",
       "    .dataframe tbody tr th {\n",
       "        vertical-align: top;\n",
       "    }\n",
       "\n",
       "    .dataframe thead th {\n",
       "        text-align: right;\n",
       "    }\n",
       "</style>\n",
       "<table border=\"1\" class=\"dataframe\">\n",
       "  <thead>\n",
       "    <tr style=\"text-align: right;\">\n",
       "      <th>year_of_release</th>\n",
       "      <th>2014</th>\n",
       "      <th>2015</th>\n",
       "      <th>2016</th>\n",
       "    </tr>\n",
       "    <tr>\n",
       "      <th>platform</th>\n",
       "      <th></th>\n",
       "      <th></th>\n",
       "      <th></th>\n",
       "    </tr>\n",
       "  </thead>\n",
       "  <tbody>\n",
       "    <tr>\n",
       "      <th>3DS</th>\n",
       "      <td>22.0</td>\n",
       "      <td>21.0</td>\n",
       "      <td>12.0</td>\n",
       "    </tr>\n",
       "    <tr>\n",
       "      <th>PC</th>\n",
       "      <td>38.0</td>\n",
       "      <td>39.0</td>\n",
       "      <td>45.0</td>\n",
       "    </tr>\n",
       "    <tr>\n",
       "      <th>PS3</th>\n",
       "      <td>63.0</td>\n",
       "      <td>26.0</td>\n",
       "      <td>9.0</td>\n",
       "    </tr>\n",
       "    <tr>\n",
       "      <th>PS4</th>\n",
       "      <td>52.0</td>\n",
       "      <td>89.0</td>\n",
       "      <td>101.0</td>\n",
       "    </tr>\n",
       "    <tr>\n",
       "      <th>PSP</th>\n",
       "      <td>0.0</td>\n",
       "      <td>0.0</td>\n",
       "      <td>NaN</td>\n",
       "    </tr>\n",
       "    <tr>\n",
       "      <th>PSV</th>\n",
       "      <td>37.0</td>\n",
       "      <td>23.0</td>\n",
       "      <td>13.0</td>\n",
       "    </tr>\n",
       "    <tr>\n",
       "      <th>Wii</th>\n",
       "      <td>2.0</td>\n",
       "      <td>0.0</td>\n",
       "      <td>0.0</td>\n",
       "    </tr>\n",
       "    <tr>\n",
       "      <th>WiiU</th>\n",
       "      <td>19.0</td>\n",
       "      <td>20.0</td>\n",
       "      <td>9.0</td>\n",
       "    </tr>\n",
       "    <tr>\n",
       "      <th>X360</th>\n",
       "      <td>52.0</td>\n",
       "      <td>24.0</td>\n",
       "      <td>7.0</td>\n",
       "    </tr>\n",
       "    <tr>\n",
       "      <th>XOne</th>\n",
       "      <td>44.0</td>\n",
       "      <td>55.0</td>\n",
       "      <td>66.0</td>\n",
       "    </tr>\n",
       "  </tbody>\n",
       "</table>\n",
       "</div>"
      ],
      "text/plain": [
       "year_of_release  2014  2015   2016\n",
       "platform                          \n",
       "3DS              22.0  21.0   12.0\n",
       "PC               38.0  39.0   45.0\n",
       "PS3              63.0  26.0    9.0\n",
       "PS4              52.0  89.0  101.0\n",
       "PSP               0.0   0.0    NaN\n",
       "PSV              37.0  23.0   13.0\n",
       "Wii               2.0   0.0    0.0\n",
       "WiiU             19.0  20.0    9.0\n",
       "X360             52.0  24.0    7.0\n",
       "XOne             44.0  55.0   66.0"
      ]
     },
     "execution_count": 316,
     "metadata": {},
     "output_type": "execute_result"
    }
   ],
   "source": [
    "actual_data.pivot_table(index=['platform'], columns='year_of_release', values='user_score', aggfunc='count')"
   ]
  },
  {
   "cell_type": "markdown",
   "metadata": {},
   "source": [
    "К потенциально прибыльным платформам можно отнести:\n",
    "- PC\n",
    "- PS4\n",
    "- XOne\n",
    "- PS3\n",
    "- 3DS"
   ]
  },
  {
   "cell_type": "code",
   "execution_count": 317,
   "metadata": {},
   "outputs": [],
   "source": [
    "actual_platform=['PC', 'PS4','XOne','PS3','3DS']"
   ]
  },
  {
   "cell_type": "code",
   "execution_count": 318,
   "metadata": {},
   "outputs": [],
   "source": [
    "actual_platform_data=actual_data.query('platform in @actual_platform')"
   ]
  },
  {
   "cell_type": "code",
   "execution_count": 319,
   "metadata": {},
   "outputs": [
    {
     "data": {
      "image/png": "[encoded data removed]",
      "text/plain": [
       "<Figure size 432x288 with 1 Axes>"
      ]
     },
     "metadata": {
      "needs_background": "light"
     },
     "output_type": "display_data"
    }
   ],
   "source": [
    "#посомтрим на продажи в разрезе потенциальных платформ\n",
    "actual_platform_data.boxplot(column=['all_sales'], by = ['platform'])\n",
    "plt.show()"
   ]
  },
  {
   "cell_type": "code",
   "execution_count": 320,
   "metadata": {},
   "outputs": [
    {
     "data": {
      "text/plain": [
       "(0.0, 2.0)"
      ]
     },
     "execution_count": 320,
     "metadata": {},
     "output_type": "execute_result"
    },
    {
     "data": {
      "image/png": "[encoded data removed]",
      "text/plain": [
       "<Figure size 432x288 with 1 Axes>"
      ]
     },
     "metadata": {
      "needs_background": "light"
     },
     "output_type": "display_data"
    }
   ],
   "source": [
    "actual_platform_data.boxplot(column=['all_sales'], by = ['platform'])\n",
    "plt.ylim(0, 2)"
   ]
  },
  {
   "cell_type": "markdown",
   "metadata": {},
   "source": [
    "В рассматриваемом периоде:\n",
    "- Игры на PC продаются хуже чем на приставках\n",
    "- На всех платформах есть выбросы с очень высокими объёмами продаж\n",
    "- Распределение на всех платформах сильно скошено вправо"
   ]
  },
  {
   "cell_type": "code",
   "execution_count": 321,
   "metadata": {},
   "outputs": [
    {
     "data": {
      "image/png": "[encoded data removed]",
      "text/plain": [
       "<Figure size 432x288 with 1 Axes>"
      ]
     },
     "metadata": {
      "needs_background": "light"
     },
     "output_type": "display_data"
    }
   ],
   "source": [
    "actual_data.boxplot(column=['all_sales'], by = ['platform'])\n",
    "plt.show()"
   ]
  },
  {
   "cell_type": "code",
   "execution_count": 322,
   "metadata": {},
   "outputs": [
    {
     "data": {
      "text/plain": [
       "(0.0, 1.0)"
      ]
     },
     "execution_count": 322,
     "metadata": {},
     "output_type": "execute_result"
    },
    {
     "data": {
      "image/png": "[encoded data removed]",
      "text/plain": [
       "<Figure size 432x288 with 1 Axes>"
      ]
     },
     "metadata": {
      "needs_background": "light"
     },
     "output_type": "display_data"
    }
   ],
   "source": [
    "actual_data.boxplot(column=['all_sales'], by = ['platform'])\n",
    "plt.ylim(0, 1)"
   ]
  },
  {
   "cell_type": "markdown",
   "metadata": {},
   "source": [
    "В рассматриваемом периоде:\n",
    "- PSP и PSV аутсайдеры данного списка\n",
    "- PC сильно отстаёт от игровых приставок\n",
    "- У 3DS, PS4 и XOne много игр с выбросами по высокому объёму продаж"
   ]
  },
  {
   "cell_type": "markdown",
   "metadata": {},
   "source": [
    "### Влияние на продажи"
   ]
  },
  {
   "cell_type": "code",
   "execution_count": 323,
   "metadata": {},
   "outputs": [
    {
     "data": {
      "image/png": "[encoded data removed]",
      "text/plain": [
       "<Figure size 432x288 with 1 Axes>"
      ]
     },
     "metadata": {
      "needs_background": "light"
     },
     "output_type": "display_data"
    },
    {
     "name": "stdout",
     "output_type": "stream",
     "text": [
      "Корреляция между объёмом продаж и оценкой критиков = 0.17463413769350036\n"
     ]
    }
   ],
   "source": [
    "#Начнём с платформы PC\n",
    "actual_platform_data[actual_platform_data['platform']=='PC'].plot.scatter(y='all_sales',x='critic_score')\n",
    "plt.show()\n",
    "print('Корреляция между объёмом продаж и оценкой критиков =',actual_platform_data[actual_platform_data['platform']=='PC']['all_sales'].corr(actual_platform_data[actual_platform_data['platform']=='PC']['critic_score']))"
   ]
  },
  {
   "cell_type": "code",
   "execution_count": 324,
   "metadata": {},
   "outputs": [
    {
     "data": {
      "image/png": "[encoded data removed]",
      "text/plain": [
       "<Figure size 432x288 with 1 Axes>"
      ]
     },
     "metadata": {
      "needs_background": "light"
     },
     "output_type": "display_data"
    },
    {
     "name": "stdout",
     "output_type": "stream",
     "text": [
      "Корреляция между объёмом продаж и оценкой игроков = -0.07159665703472452\n"
     ]
    }
   ],
   "source": [
    "actual_platform_data[actual_platform_data['platform']=='PC'].plot.scatter(y='all_sales',x='user_score')\n",
    "plt.show()\n",
    "print('Корреляция между объёмом продаж и оценкой игроков =',actual_platform_data[actual_platform_data['platform']=='PC']['all_sales'].corr(actual_platform_data[actual_platform_data['platform']=='PC']['user_score']))"
   ]
  },
  {
   "cell_type": "markdown",
   "metadata": {},
   "source": [
    "- взимосвязь между объёмом продаж  и оценкой критиков, прямая, но слабая\n",
    "- взимосвязь между объёмом продаж  и оценкой играков отсутствует"
   ]
  },
  {
   "cell_type": "code",
   "execution_count": 325,
   "metadata": {},
   "outputs": [
    {
     "data": {
      "image/png": "[encoded data removed]",
      "text/plain": [
       "<Figure size 432x288 with 1 Axes>"
      ]
     },
     "metadata": {
      "needs_background": "light"
     },
     "output_type": "display_data"
    },
    {
     "name": "stdout",
     "output_type": "stream",
     "text": [
      "Корреляция между объёмом продаж и оценкой критиков = 0.40266141068104083\n"
     ]
    }
   ],
   "source": [
    "#PS4\n",
    "actual_platform_data[actual_platform_data['platform']=='PS4'].plot.scatter(y='all_sales',x='critic_score')\n",
    "plt.show()\n",
    "print('Корреляция между объёмом продаж и оценкой критиков =',actual_platform_data[actual_platform_data['platform']=='PS4']['all_sales'].corr(actual_platform_data[actual_platform_data['platform']=='PS4']['critic_score']))"
   ]
  },
  {
   "cell_type": "code",
   "execution_count": 326,
   "metadata": {},
   "outputs": [
    {
     "data": {
      "image/png": "[encoded data removed]",
      "text/plain": [
       "<Figure size 432x288 with 1 Axes>"
      ]
     },
     "metadata": {
      "needs_background": "light"
     },
     "output_type": "display_data"
    },
    {
     "name": "stdout",
     "output_type": "stream",
     "text": [
      "Корреляция между объёмом продаж и оценкой игроков = -0.040131589472697356\n"
     ]
    }
   ],
   "source": [
    "actual_platform_data[actual_platform_data['platform']=='PS4'].plot.scatter(y='all_sales',x='user_score')\n",
    "plt.show()\n",
    "print('Корреляция между объёмом продаж и оценкой игроков =',actual_platform_data[actual_platform_data['platform']=='PS4']['all_sales'].corr(actual_platform_data[actual_platform_data['platform']=='PS4']['user_score']))"
   ]
  },
  {
   "cell_type": "markdown",
   "metadata": {},
   "source": [
    "Аналогично платформе PC:\n",
    "- взимосвязь между объёмом продаж  и оценкой критиков, прямая, но слабая\n",
    "- взимосвязь между объёмом продаж  и оценкой играков отсутствует"
   ]
  },
  {
   "cell_type": "code",
   "execution_count": 327,
   "metadata": {},
   "outputs": [
    {
     "data": {
      "image/png": "[encoded data removed]",
      "text/plain": [
       "<Figure size 432x288 with 1 Axes>"
      ]
     },
     "metadata": {
      "needs_background": "light"
     },
     "output_type": "display_data"
    },
    {
     "name": "stdout",
     "output_type": "stream",
     "text": [
      "Корреляция между объёмом продаж и оценкой критиков = 0.42867694370333226\n"
     ]
    }
   ],
   "source": [
    "#PS4\n",
    "actual_platform_data[actual_platform_data['platform']=='XOne'].plot.scatter(y='all_sales',x='critic_score')\n",
    "plt.show()\n",
    "print('Корреляция между объёмом продаж и оценкой критиков =',actual_platform_data[actual_platform_data['platform']=='XOne']['all_sales'].corr(actual_platform_data[actual_platform_data['platform']=='XOne']['critic_score']))"
   ]
  },
  {
   "cell_type": "code",
   "execution_count": 328,
   "metadata": {
    "scrolled": true
   },
   "outputs": [
    {
     "data": {
      "image/png": "[encoded data removed]",
      "text/plain": [
       "<Figure size 432x288 with 1 Axes>"
      ]
     },
     "metadata": {
      "needs_background": "light"
     },
     "output_type": "display_data"
    },
    {
     "name": "stdout",
     "output_type": "stream",
     "text": [
      "Корреляция между объёмом продаж и оценкой игроков = -0.0703839280647581\n"
     ]
    }
   ],
   "source": [
    "actual_platform_data[actual_platform_data['platform']=='XOne'].plot.scatter(y='all_sales',x='user_score')\n",
    "plt.show()\n",
    "print('Корреляция между объёмом продаж и оценкой игроков =',actual_platform_data[actual_platform_data['platform']=='XOne']['all_sales'].corr(actual_platform_data[actual_platform_data['platform']=='XOne']['user_score']))"
   ]
  },
  {
   "cell_type": "markdown",
   "metadata": {},
   "source": [
    "Можно сделать вывод для всех платформ:\n",
    "- взимосвязь между объёмом продаж  и оценкой критиков, прямая, но слабая\n",
    "- взимосвязь между объёмом продаж  и оценкой играков отсутствует"
   ]
  },
  {
   "cell_type": "code",
   "execution_count": 329,
   "metadata": {},
   "outputs": [
    {
     "data": {
      "text/html": [
       "<div>\n",
       "<style scoped>\n",
       "    .dataframe tbody tr th:only-of-type {\n",
       "        vertical-align: middle;\n",
       "    }\n",
       "\n",
       "    .dataframe tbody tr th {\n",
       "        vertical-align: top;\n",
       "    }\n",
       "\n",
       "    .dataframe thead th {\n",
       "        text-align: right;\n",
       "    }\n",
       "</style>\n",
       "<table border=\"1\" class=\"dataframe\">\n",
       "  <thead>\n",
       "    <tr style=\"text-align: right;\">\n",
       "      <th>year_of_release</th>\n",
       "      <th>2014</th>\n",
       "      <th>2015</th>\n",
       "      <th>2016</th>\n",
       "    </tr>\n",
       "    <tr>\n",
       "      <th>genre</th>\n",
       "      <th></th>\n",
       "      <th></th>\n",
       "      <th></th>\n",
       "    </tr>\n",
       "  </thead>\n",
       "  <tbody>\n",
       "    <tr>\n",
       "      <th>Action</th>\n",
       "      <td>78.58</td>\n",
       "      <td>63.64</td>\n",
       "      <td>25.96</td>\n",
       "    </tr>\n",
       "    <tr>\n",
       "      <th>Adventure</th>\n",
       "      <td>3.50</td>\n",
       "      <td>6.20</td>\n",
       "      <td>3.26</td>\n",
       "    </tr>\n",
       "    <tr>\n",
       "      <th>Fighting</th>\n",
       "      <td>9.98</td>\n",
       "      <td>7.67</td>\n",
       "      <td>3.34</td>\n",
       "    </tr>\n",
       "    <tr>\n",
       "      <th>Misc</th>\n",
       "      <td>17.03</td>\n",
       "      <td>6.67</td>\n",
       "      <td>1.40</td>\n",
       "    </tr>\n",
       "    <tr>\n",
       "      <th>Platform</th>\n",
       "      <td>7.13</td>\n",
       "      <td>0.80</td>\n",
       "      <td>2.91</td>\n",
       "    </tr>\n",
       "    <tr>\n",
       "      <th>Puzzle</th>\n",
       "      <td>0.23</td>\n",
       "      <td>0.70</td>\n",
       "      <td>NaN</td>\n",
       "    </tr>\n",
       "    <tr>\n",
       "      <th>Racing</th>\n",
       "      <td>7.89</td>\n",
       "      <td>8.01</td>\n",
       "      <td>2.79</td>\n",
       "    </tr>\n",
       "    <tr>\n",
       "      <th>Role-Playing</th>\n",
       "      <td>39.85</td>\n",
       "      <td>34.66</td>\n",
       "      <td>16.55</td>\n",
       "    </tr>\n",
       "    <tr>\n",
       "      <th>Shooter</th>\n",
       "      <td>53.27</td>\n",
       "      <td>60.73</td>\n",
       "      <td>37.81</td>\n",
       "    </tr>\n",
       "    <tr>\n",
       "      <th>Simulation</th>\n",
       "      <td>5.52</td>\n",
       "      <td>5.27</td>\n",
       "      <td>1.88</td>\n",
       "    </tr>\n",
       "    <tr>\n",
       "      <th>Sports</th>\n",
       "      <td>34.96</td>\n",
       "      <td>36.00</td>\n",
       "      <td>22.45</td>\n",
       "    </tr>\n",
       "    <tr>\n",
       "      <th>Strategy</th>\n",
       "      <td>0.93</td>\n",
       "      <td>1.81</td>\n",
       "      <td>1.04</td>\n",
       "    </tr>\n",
       "  </tbody>\n",
       "</table>\n",
       "</div>"
      ],
      "text/plain": [
       "year_of_release   2014   2015   2016\n",
       "genre                               \n",
       "Action           78.58  63.64  25.96\n",
       "Adventure         3.50   6.20   3.26\n",
       "Fighting          9.98   7.67   3.34\n",
       "Misc             17.03   6.67   1.40\n",
       "Platform          7.13   0.80   2.91\n",
       "Puzzle            0.23   0.70    NaN\n",
       "Racing            7.89   8.01   2.79\n",
       "Role-Playing     39.85  34.66  16.55\n",
       "Shooter          53.27  60.73  37.81\n",
       "Simulation        5.52   5.27   1.88\n",
       "Sports           34.96  36.00  22.45\n",
       "Strategy          0.93   1.81   1.04"
      ]
     },
     "execution_count": 329,
     "metadata": {},
     "output_type": "execute_result"
    }
   ],
   "source": [
    "actual_platform_data.pivot_table(index=['genre'], columns='year_of_release', values='all_sales', aggfunc='sum')"
   ]
  },
  {
   "cell_type": "markdown",
   "metadata": {},
   "source": [
    "В топе продаж игры со следующими жанрами:\n",
    "- Action\n",
    "- Shooter\n",
    "- Sports"
   ]
  },
  {
   "cell_type": "code",
   "execution_count": 330,
   "metadata": {},
   "outputs": [
    {
     "data": {
      "text/plain": [
       "<AxesSubplot:title={'center':'all_sales'}, xlabel='[genre]'>"
      ]
     },
     "execution_count": 330,
     "metadata": {},
     "output_type": "execute_result"
    },
    {
     "data": {
      "text/plain": [
       "<Figure size 1080x288 with 0 Axes>"
      ]
     },
     "metadata": {},
     "output_type": "display_data"
    },
    {
     "data": {
      "image/png": "[encoded data removed]",
      "text/plain": [
       "<Figure size 1080x360 with 1 Axes>"
      ]
     },
     "metadata": {
      "needs_background": "light"
     },
     "output_type": "display_data"
    }
   ],
   "source": [
    "plt.figure(figsize=(15,4))\n",
    "actual_data.boxplot(column=['all_sales'], by = ['genre'],figsize=(15, 5))"
   ]
  },
  {
   "cell_type": "code",
   "execution_count": 331,
   "metadata": {},
   "outputs": [
    {
     "data": {
      "text/plain": [
       "(0.0, 2.0)"
      ]
     },
     "execution_count": 331,
     "metadata": {},
     "output_type": "execute_result"
    },
    {
     "data": {
      "image/png": "[encoded data removed]",
      "text/plain": [
       "<Figure size 1080x360 with 1 Axes>"
      ]
     },
     "metadata": {
      "needs_background": "light"
     },
     "output_type": "display_data"
    }
   ],
   "source": [
    "actual_data.boxplot(column=['all_sales'], by = ['genre'],figsize=(15, 5))\n",
    "plt.ylim(0, 2)"
   ]
  },
  {
   "cell_type": "markdown",
   "metadata": {},
   "source": [
    "## Портрет пользователей"
   ]
  },
  {
   "cell_type": "markdown",
   "metadata": {},
   "source": [
    "### Популярные платформы и жанры по регионам"
   ]
  },
  {
   "cell_type": "code",
   "execution_count": 332,
   "metadata": {},
   "outputs": [
    {
     "data": {
      "text/html": [
       "<div>\n",
       "<style scoped>\n",
       "    .dataframe tbody tr th:only-of-type {\n",
       "        vertical-align: middle;\n",
       "    }\n",
       "\n",
       "    .dataframe tbody tr th {\n",
       "        vertical-align: top;\n",
       "    }\n",
       "\n",
       "    .dataframe thead th {\n",
       "        text-align: right;\n",
       "    }\n",
       "</style>\n",
       "<table border=\"1\" class=\"dataframe\">\n",
       "  <thead>\n",
       "    <tr style=\"text-align: right;\">\n",
       "      <th></th>\n",
       "      <th>na_sales</th>\n",
       "    </tr>\n",
       "    <tr>\n",
       "      <th>platform</th>\n",
       "      <th></th>\n",
       "    </tr>\n",
       "  </thead>\n",
       "  <tbody>\n",
       "    <tr>\n",
       "      <th>PS4</th>\n",
       "      <td>98.61</td>\n",
       "    </tr>\n",
       "    <tr>\n",
       "      <th>XOne</th>\n",
       "      <td>81.27</td>\n",
       "    </tr>\n",
       "    <tr>\n",
       "      <th>X360</th>\n",
       "      <td>28.30</td>\n",
       "    </tr>\n",
       "    <tr>\n",
       "      <th>3DS</th>\n",
       "      <td>22.64</td>\n",
       "    </tr>\n",
       "    <tr>\n",
       "      <th>PS3</th>\n",
       "      <td>22.05</td>\n",
       "    </tr>\n",
       "  </tbody>\n",
       "</table>\n",
       "</div>"
      ],
      "text/plain": [
       "          na_sales\n",
       "platform          \n",
       "PS4          98.61\n",
       "XOne         81.27\n",
       "X360         28.30\n",
       "3DS          22.64\n",
       "PS3          22.05"
      ]
     },
     "execution_count": 332,
     "metadata": {},
     "output_type": "execute_result"
    }
   ],
   "source": [
    "actual_data.pivot_table(index=['platform'], values='na_sales', aggfunc='sum').sort_values(by='na_sales', ascending=False).head()"
   ]
  },
  {
   "cell_type": "code",
   "execution_count": 333,
   "metadata": {},
   "outputs": [
    {
     "data": {
      "text/html": [
       "<div>\n",
       "<style scoped>\n",
       "    .dataframe tbody tr th:only-of-type {\n",
       "        vertical-align: middle;\n",
       "    }\n",
       "\n",
       "    .dataframe tbody tr th {\n",
       "        vertical-align: top;\n",
       "    }\n",
       "\n",
       "    .dataframe thead th {\n",
       "        text-align: right;\n",
       "    }\n",
       "</style>\n",
       "<table border=\"1\" class=\"dataframe\">\n",
       "  <thead>\n",
       "    <tr style=\"text-align: right;\">\n",
       "      <th></th>\n",
       "      <th>eu_sales</th>\n",
       "    </tr>\n",
       "    <tr>\n",
       "      <th>platform</th>\n",
       "      <th></th>\n",
       "    </tr>\n",
       "  </thead>\n",
       "  <tbody>\n",
       "    <tr>\n",
       "      <th>PS4</th>\n",
       "      <td>130.04</td>\n",
       "    </tr>\n",
       "    <tr>\n",
       "      <th>XOne</th>\n",
       "      <td>46.25</td>\n",
       "    </tr>\n",
       "    <tr>\n",
       "      <th>PS3</th>\n",
       "      <td>25.54</td>\n",
       "    </tr>\n",
       "    <tr>\n",
       "      <th>PC</th>\n",
       "      <td>17.97</td>\n",
       "    </tr>\n",
       "    <tr>\n",
       "      <th>3DS</th>\n",
       "      <td>16.12</td>\n",
       "    </tr>\n",
       "  </tbody>\n",
       "</table>\n",
       "</div>"
      ],
      "text/plain": [
       "          eu_sales\n",
       "platform          \n",
       "PS4         130.04\n",
       "XOne         46.25\n",
       "PS3          25.54\n",
       "PC           17.97\n",
       "3DS          16.12"
      ]
     },
     "execution_count": 333,
     "metadata": {},
     "output_type": "execute_result"
    }
   ],
   "source": [
    "actual_data.pivot_table(index=['platform'], values='eu_sales', aggfunc='sum').sort_values(by='eu_sales', ascending=False).head()"
   ]
  },
  {
   "cell_type": "code",
   "execution_count": 334,
   "metadata": {},
   "outputs": [
    {
     "data": {
      "text/html": [
       "<div>\n",
       "<style scoped>\n",
       "    .dataframe tbody tr th:only-of-type {\n",
       "        vertical-align: middle;\n",
       "    }\n",
       "\n",
       "    .dataframe tbody tr th {\n",
       "        vertical-align: top;\n",
       "    }\n",
       "\n",
       "    .dataframe thead th {\n",
       "        text-align: right;\n",
       "    }\n",
       "</style>\n",
       "<table border=\"1\" class=\"dataframe\">\n",
       "  <thead>\n",
       "    <tr style=\"text-align: right;\">\n",
       "      <th></th>\n",
       "      <th>jp_sales</th>\n",
       "    </tr>\n",
       "    <tr>\n",
       "      <th>platform</th>\n",
       "      <th></th>\n",
       "    </tr>\n",
       "  </thead>\n",
       "  <tbody>\n",
       "    <tr>\n",
       "      <th>3DS</th>\n",
       "      <td>44.24</td>\n",
       "    </tr>\n",
       "    <tr>\n",
       "      <th>PS4</th>\n",
       "      <td>15.02</td>\n",
       "    </tr>\n",
       "    <tr>\n",
       "      <th>PSV</th>\n",
       "      <td>14.54</td>\n",
       "    </tr>\n",
       "    <tr>\n",
       "      <th>PS3</th>\n",
       "      <td>11.22</td>\n",
       "    </tr>\n",
       "    <tr>\n",
       "      <th>WiiU</th>\n",
       "      <td>7.31</td>\n",
       "    </tr>\n",
       "  </tbody>\n",
       "</table>\n",
       "</div>"
      ],
      "text/plain": [
       "          jp_sales\n",
       "platform          \n",
       "3DS          44.24\n",
       "PS4          15.02\n",
       "PSV          14.54\n",
       "PS3          11.22\n",
       "WiiU          7.31"
      ]
     },
     "execution_count": 334,
     "metadata": {},
     "output_type": "execute_result"
    }
   ],
   "source": [
    "actual_data.pivot_table(index=['platform'], values='jp_sales', aggfunc='sum').sort_values(by='jp_sales', ascending=False).head()"
   ]
  },
  {
   "cell_type": "markdown",
   "metadata": {},
   "source": [
    "Регионы различаются по платформам:\n",
    "- В японии xbox вовсе не попадают в топ, и есть своя уникальная 3DS.\n",
    "- В европе в топ папал PC. Европейский топ более похож на американский.\n",
    "- В америке более популярны приставки xbox, чем в других регионах\n",
    "- Приставки PS в топе во всех регионах"
   ]
  },
  {
   "cell_type": "code",
   "execution_count": 335,
   "metadata": {},
   "outputs": [
    {
     "data": {
      "text/html": [
       "<div>\n",
       "<style scoped>\n",
       "    .dataframe tbody tr th:only-of-type {\n",
       "        vertical-align: middle;\n",
       "    }\n",
       "\n",
       "    .dataframe tbody tr th {\n",
       "        vertical-align: top;\n",
       "    }\n",
       "\n",
       "    .dataframe thead th {\n",
       "        text-align: right;\n",
       "    }\n",
       "</style>\n",
       "<table border=\"1\" class=\"dataframe\">\n",
       "  <thead>\n",
       "    <tr style=\"text-align: right;\">\n",
       "      <th></th>\n",
       "      <th>na_sales</th>\n",
       "    </tr>\n",
       "    <tr>\n",
       "      <th>genre</th>\n",
       "      <th></th>\n",
       "    </tr>\n",
       "  </thead>\n",
       "  <tbody>\n",
       "    <tr>\n",
       "      <th>Shooter</th>\n",
       "      <td>79.02</td>\n",
       "    </tr>\n",
       "    <tr>\n",
       "      <th>Action</th>\n",
       "      <td>72.53</td>\n",
       "    </tr>\n",
       "    <tr>\n",
       "      <th>Sports</th>\n",
       "      <td>46.13</td>\n",
       "    </tr>\n",
       "    <tr>\n",
       "      <th>Role-Playing</th>\n",
       "      <td>33.47</td>\n",
       "    </tr>\n",
       "    <tr>\n",
       "      <th>Misc</th>\n",
       "      <td>15.05</td>\n",
       "    </tr>\n",
       "  </tbody>\n",
       "</table>\n",
       "</div>"
      ],
      "text/plain": [
       "              na_sales\n",
       "genre                 \n",
       "Shooter          79.02\n",
       "Action           72.53\n",
       "Sports           46.13\n",
       "Role-Playing     33.47\n",
       "Misc             15.05"
      ]
     },
     "execution_count": 335,
     "metadata": {},
     "output_type": "execute_result"
    }
   ],
   "source": [
    "actual_data.pivot_table(index=['genre'], values='na_sales', aggfunc='sum').sort_values(by='na_sales', ascending=False).head()"
   ]
  },
  {
   "cell_type": "code",
   "execution_count": 336,
   "metadata": {},
   "outputs": [
    {
     "data": {
      "text/html": [
       "<div>\n",
       "<style scoped>\n",
       "    .dataframe tbody tr th:only-of-type {\n",
       "        vertical-align: middle;\n",
       "    }\n",
       "\n",
       "    .dataframe tbody tr th {\n",
       "        vertical-align: top;\n",
       "    }\n",
       "\n",
       "    .dataframe thead th {\n",
       "        text-align: right;\n",
       "    }\n",
       "</style>\n",
       "<table border=\"1\" class=\"dataframe\">\n",
       "  <thead>\n",
       "    <tr style=\"text-align: right;\">\n",
       "      <th></th>\n",
       "      <th>eu_sales</th>\n",
       "    </tr>\n",
       "    <tr>\n",
       "      <th>genre</th>\n",
       "      <th></th>\n",
       "    </tr>\n",
       "  </thead>\n",
       "  <tbody>\n",
       "    <tr>\n",
       "      <th>Action</th>\n",
       "      <td>74.68</td>\n",
       "    </tr>\n",
       "    <tr>\n",
       "      <th>Shooter</th>\n",
       "      <td>65.52</td>\n",
       "    </tr>\n",
       "    <tr>\n",
       "      <th>Sports</th>\n",
       "      <td>45.73</td>\n",
       "    </tr>\n",
       "    <tr>\n",
       "      <th>Role-Playing</th>\n",
       "      <td>28.17</td>\n",
       "    </tr>\n",
       "    <tr>\n",
       "      <th>Racing</th>\n",
       "      <td>14.13</td>\n",
       "    </tr>\n",
       "  </tbody>\n",
       "</table>\n",
       "</div>"
      ],
      "text/plain": [
       "              eu_sales\n",
       "genre                 \n",
       "Action           74.68\n",
       "Shooter          65.52\n",
       "Sports           45.73\n",
       "Role-Playing     28.17\n",
       "Racing           14.13"
      ]
     },
     "execution_count": 336,
     "metadata": {},
     "output_type": "execute_result"
    }
   ],
   "source": [
    "actual_data.pivot_table(index=['genre'], values='eu_sales', aggfunc='sum').sort_values(by='eu_sales', ascending=False).head()"
   ]
  },
  {
   "cell_type": "code",
   "execution_count": 337,
   "metadata": {},
   "outputs": [
    {
     "data": {
      "text/html": [
       "<div>\n",
       "<style scoped>\n",
       "    .dataframe tbody tr th:only-of-type {\n",
       "        vertical-align: middle;\n",
       "    }\n",
       "\n",
       "    .dataframe tbody tr th {\n",
       "        vertical-align: top;\n",
       "    }\n",
       "\n",
       "    .dataframe thead th {\n",
       "        text-align: right;\n",
       "    }\n",
       "</style>\n",
       "<table border=\"1\" class=\"dataframe\">\n",
       "  <thead>\n",
       "    <tr style=\"text-align: right;\">\n",
       "      <th></th>\n",
       "      <th>jp_sales</th>\n",
       "    </tr>\n",
       "    <tr>\n",
       "      <th>genre</th>\n",
       "      <th></th>\n",
       "    </tr>\n",
       "  </thead>\n",
       "  <tbody>\n",
       "    <tr>\n",
       "      <th>Role-Playing</th>\n",
       "      <td>31.16</td>\n",
       "    </tr>\n",
       "    <tr>\n",
       "      <th>Action</th>\n",
       "      <td>29.58</td>\n",
       "    </tr>\n",
       "    <tr>\n",
       "      <th>Fighting</th>\n",
       "      <td>6.37</td>\n",
       "    </tr>\n",
       "    <tr>\n",
       "      <th>Misc</th>\n",
       "      <td>5.61</td>\n",
       "    </tr>\n",
       "    <tr>\n",
       "      <th>Shooter</th>\n",
       "      <td>4.87</td>\n",
       "    </tr>\n",
       "  </tbody>\n",
       "</table>\n",
       "</div>"
      ],
      "text/plain": [
       "              jp_sales\n",
       "genre                 \n",
       "Role-Playing     31.16\n",
       "Action           29.58\n",
       "Fighting          6.37\n",
       "Misc              5.61\n",
       "Shooter           4.87"
      ]
     },
     "execution_count": 337,
     "metadata": {},
     "output_type": "execute_result"
    }
   ],
   "source": [
    "actual_data.pivot_table(index=['genre'], values='jp_sales', aggfunc='sum').sort_values(by='jp_sales', ascending=False).head()"
   ]
  },
  {
   "cell_type": "markdown",
   "metadata": {},
   "source": [
    "В части жанров:\n",
    "- америка и европа более схожи между собой\n",
    "- япония выделяется тем, что самый популярный жанр это РПГ, а шутинги и спортивыне игры вовсе не попали в топ.\n",
    "- причина столь сильного отличия японии от других рынков, может заключаться в отличие по палтформам и различиями в культуре."
   ]
  },
  {
   "cell_type": "code",
   "execution_count": 358,
   "metadata": {},
   "outputs": [
    {
     "name": "stderr",
     "output_type": "stream",
     "text": [
      "/tmp/ipykernel_31/871629206.py:7: SettingWithCopyWarning: \n",
      "A value is trying to be set on a copy of a slice from a DataFrame.\n",
      "Try using .loc[row_indexer,col_indexer] = value instead\n",
      "\n",
      "See the caveats in the documentation: https://pandas.pydata.org/pandas-docs/stable/user_guide/indexing.html#returning-a-view-versus-a-copy\n",
      "  actual_data['platform_cat_us'] = actual_data['platform'].apply(lambda x: x if x in platform_top_us.index else 'other')\n",
      "/tmp/ipykernel_31/871629206.py:8: SettingWithCopyWarning: \n",
      "A value is trying to be set on a copy of a slice from a DataFrame.\n",
      "Try using .loc[row_indexer,col_indexer] = value instead\n",
      "\n",
      "See the caveats in the documentation: https://pandas.pydata.org/pandas-docs/stable/user_guide/indexing.html#returning-a-view-versus-a-copy\n",
      "  actual_data['platform_cat_eu'] = actual_data['platform'].apply(lambda x: x if x in platform_top_eu.index else 'other')\n",
      "/tmp/ipykernel_31/871629206.py:9: SettingWithCopyWarning: \n",
      "A value is trying to be set on a copy of a slice from a DataFrame.\n",
      "Try using .loc[row_indexer,col_indexer] = value instead\n",
      "\n",
      "See the caveats in the documentation: https://pandas.pydata.org/pandas-docs/stable/user_guide/indexing.html#returning-a-view-versus-a-copy\n",
      "  actual_data['platform_top_jp'] = actual_data['platform'].apply(lambda x: x if x in platform_top_jp.index else 'other')\n"
     ]
    }
   ],
   "source": [
    "#Создадим вспомагательные столбцы\n",
    "platform_top_us=actual_data.pivot_table(index=['platform'], values='na_sales', aggfunc='sum').\\\n",
    "    sort_values(by='na_sales', ascending=False).head(5)\n",
    "platform_top_eu=actual_data.pivot_table(index=['platform'], values='eu_sales', aggfunc='sum').\\\n",
    "    sort_values(by='eu_sales', ascending=False).head(5)\n",
    "platform_top_jp=actual_data.pivot_table(index=['platform'], values='jp_sales', aggfunc='sum').\\\n",
    "    sort_values(by='jp_sales', ascending=False).head(5)\n",
    "actual_data['platform_cat_us'] = actual_data['platform'].apply(lambda x: x if x in platform_top_us.index else 'other')\n",
    "actual_data['platform_cat_eu'] = actual_data['platform'].apply(lambda x: x if x in platform_top_eu.index else 'other')\n",
    "actual_data['platform_top_jp'] = actual_data['platform'].apply(lambda x: x if x in platform_top_jp.index else 'other')"
   ]
  },
  {
   "cell_type": "code",
   "execution_count": 364,
   "metadata": {},
   "outputs": [
    {
     "data": {
      "text/html": [
       "<div>\n",
       "<style scoped>\n",
       "    .dataframe tbody tr th:only-of-type {\n",
       "        vertical-align: middle;\n",
       "    }\n",
       "\n",
       "    .dataframe tbody tr th {\n",
       "        vertical-align: top;\n",
       "    }\n",
       "\n",
       "    .dataframe thead th {\n",
       "        text-align: right;\n",
       "    }\n",
       "</style>\n",
       "<table border=\"1\" class=\"dataframe\">\n",
       "  <thead>\n",
       "    <tr style=\"text-align: right;\">\n",
       "      <th></th>\n",
       "      <th>na_sales</th>\n",
       "    </tr>\n",
       "    <tr>\n",
       "      <th>platform_cat_us</th>\n",
       "      <th></th>\n",
       "    </tr>\n",
       "  </thead>\n",
       "  <tbody>\n",
       "    <tr>\n",
       "      <th>PS4</th>\n",
       "      <td>98.61</td>\n",
       "    </tr>\n",
       "    <tr>\n",
       "      <th>XOne</th>\n",
       "      <td>81.27</td>\n",
       "    </tr>\n",
       "    <tr>\n",
       "      <th>other</th>\n",
       "      <td>31.19</td>\n",
       "    </tr>\n",
       "    <tr>\n",
       "      <th>X360</th>\n",
       "      <td>28.30</td>\n",
       "    </tr>\n",
       "    <tr>\n",
       "      <th>3DS</th>\n",
       "      <td>22.64</td>\n",
       "    </tr>\n",
       "    <tr>\n",
       "      <th>PS3</th>\n",
       "      <td>22.05</td>\n",
       "    </tr>\n",
       "  </tbody>\n",
       "</table>\n",
       "</div>"
      ],
      "text/plain": [
       "                 na_sales\n",
       "platform_cat_us          \n",
       "PS4                 98.61\n",
       "XOne                81.27\n",
       "other               31.19\n",
       "X360                28.30\n",
       "3DS                 22.64\n",
       "PS3                 22.05"
      ]
     },
     "execution_count": 364,
     "metadata": {},
     "output_type": "execute_result"
    }
   ],
   "source": [
    "actual_data.pivot_table(index=['platform_cat_us'], values='na_sales', aggfunc='sum').sort_values(by='na_sales', ascending=False)"
   ]
  },
  {
   "cell_type": "code",
   "execution_count": 361,
   "metadata": {},
   "outputs": [
    {
     "data": {
      "text/html": [
       "<div>\n",
       "<style scoped>\n",
       "    .dataframe tbody tr th:only-of-type {\n",
       "        vertical-align: middle;\n",
       "    }\n",
       "\n",
       "    .dataframe tbody tr th {\n",
       "        vertical-align: top;\n",
       "    }\n",
       "\n",
       "    .dataframe thead th {\n",
       "        text-align: right;\n",
       "    }\n",
       "</style>\n",
       "<table border=\"1\" class=\"dataframe\">\n",
       "  <thead>\n",
       "    <tr style=\"text-align: right;\">\n",
       "      <th></th>\n",
       "      <th>eu_sales</th>\n",
       "    </tr>\n",
       "    <tr>\n",
       "      <th>platform_cat_eu</th>\n",
       "      <th></th>\n",
       "    </tr>\n",
       "  </thead>\n",
       "  <tbody>\n",
       "    <tr>\n",
       "      <th>PS4</th>\n",
       "      <td>130.04</td>\n",
       "    </tr>\n",
       "    <tr>\n",
       "      <th>XOne</th>\n",
       "      <td>46.25</td>\n",
       "    </tr>\n",
       "    <tr>\n",
       "      <th>other</th>\n",
       "      <td>34.76</td>\n",
       "    </tr>\n",
       "    <tr>\n",
       "      <th>PS3</th>\n",
       "      <td>25.54</td>\n",
       "    </tr>\n",
       "    <tr>\n",
       "      <th>PC</th>\n",
       "      <td>17.97</td>\n",
       "    </tr>\n",
       "    <tr>\n",
       "      <th>3DS</th>\n",
       "      <td>16.12</td>\n",
       "    </tr>\n",
       "  </tbody>\n",
       "</table>\n",
       "</div>"
      ],
      "text/plain": [
       "                 eu_sales\n",
       "platform_cat_eu          \n",
       "PS4                130.04\n",
       "XOne                46.25\n",
       "other               34.76\n",
       "PS3                 25.54\n",
       "PC                  17.97\n",
       "3DS                 16.12"
      ]
     },
     "execution_count": 361,
     "metadata": {},
     "output_type": "execute_result"
    }
   ],
   "source": [
    "actual_data.pivot_table(index=['platform_cat_eu'], values='eu_sales', aggfunc='sum').sort_values(by='eu_sales', ascending=False)"
   ]
  },
  {
   "cell_type": "code",
   "execution_count": 362,
   "metadata": {},
   "outputs": [
    {
     "data": {
      "text/html": [
       "<div>\n",
       "<style scoped>\n",
       "    .dataframe tbody tr th:only-of-type {\n",
       "        vertical-align: middle;\n",
       "    }\n",
       "\n",
       "    .dataframe tbody tr th {\n",
       "        vertical-align: top;\n",
       "    }\n",
       "\n",
       "    .dataframe thead th {\n",
       "        text-align: right;\n",
       "    }\n",
       "</style>\n",
       "<table border=\"1\" class=\"dataframe\">\n",
       "  <thead>\n",
       "    <tr style=\"text-align: right;\">\n",
       "      <th></th>\n",
       "      <th>jp_sales</th>\n",
       "    </tr>\n",
       "    <tr>\n",
       "      <th>platform_top_jp</th>\n",
       "      <th></th>\n",
       "    </tr>\n",
       "  </thead>\n",
       "  <tbody>\n",
       "    <tr>\n",
       "      <th>3DS</th>\n",
       "      <td>44.24</td>\n",
       "    </tr>\n",
       "    <tr>\n",
       "      <th>PS4</th>\n",
       "      <td>15.02</td>\n",
       "    </tr>\n",
       "    <tr>\n",
       "      <th>PSV</th>\n",
       "      <td>14.54</td>\n",
       "    </tr>\n",
       "    <tr>\n",
       "      <th>PS3</th>\n",
       "      <td>11.22</td>\n",
       "    </tr>\n",
       "    <tr>\n",
       "      <th>WiiU</th>\n",
       "      <td>7.31</td>\n",
       "    </tr>\n",
       "    <tr>\n",
       "      <th>other</th>\n",
       "      <td>0.76</td>\n",
       "    </tr>\n",
       "  </tbody>\n",
       "</table>\n",
       "</div>"
      ],
      "text/plain": [
       "                 jp_sales\n",
       "platform_top_jp          \n",
       "3DS                 44.24\n",
       "PS4                 15.02\n",
       "PSV                 14.54\n",
       "PS3                 11.22\n",
       "WiiU                 7.31\n",
       "other                0.76"
      ]
     },
     "execution_count": 362,
     "metadata": {},
     "output_type": "execute_result"
    }
   ],
   "source": [
    "actual_data.pivot_table(index=['platform_top_jp'], values='jp_sales', aggfunc='sum').sort_values(by='jp_sales', ascending=False)"
   ]
  },
  {
   "cell_type": "code",
   "execution_count": 391,
   "metadata": {},
   "outputs": [
    {
     "data": {
      "image/png": "[encoded data removed]",
      "text/plain": [
       "<Figure size 1080x360 with 3 Axes>"
      ]
     },
     "metadata": {
      "needs_background": "light"
     },
     "output_type": "display_data"
    }
   ],
   "source": [
    "x1 = actual_data.pivot_table(index=['platform_cat_us'], values='na_sales', aggfunc='sum').sort_values(by='na_sales', ascending=False).index\n",
    "y1 = actual_data.pivot_table(index=['platform_cat_us'], values='na_sales', aggfunc='sum').sort_values(by='na_sales', ascending=False)['na_sales']\n",
    "\n",
    "\n",
    "fig, (ax1, ax2, ax3) = plt.subplots(nrows=1, ncols=3, sharex=False,\n",
    "                                    figsize=(15, 5))\n",
    "\n",
    "ax1.set_title('america')\n",
    "ax1.plot(x1, y1)\n",
    "plt.subplot(ax1)\n",
    "\n",
    "x2 = actual_data.pivot_table(index=['platform_cat_eu'], values='eu_sales', aggfunc='sum').sort_values(by='eu_sales', ascending=False).index\n",
    "y2 = actual_data.pivot_table(index=['platform_cat_eu'], values='eu_sales', aggfunc='sum').sort_values(by='eu_sales', ascending=False)['eu_sales']\n",
    "\n",
    "ax2.set_title('europe')\n",
    "ax2.plot(x2, y2)\n",
    "plt.subplot(ax2)\n",
    "\n",
    "x3 = actual_data.pivot_table(index=['platform_top_jp'], values='jp_sales', aggfunc='sum').sort_values(by='jp_sales', ascending=False).index\n",
    "y3 = actual_data.pivot_table(index=['platform_top_jp'], values='jp_sales', aggfunc='sum').sort_values(by='jp_sales', ascending=False)['jp_sales']\n",
    "\n",
    "ax3.set_title('japan')\n",
    "ax3.plot(x3, y3)\n",
    "plt.subplot(ax3)\n",
    "\n",
    "fig.suptitle('Сравнение популярности платформ в зависимости от части света')\n",
    "plt.show()"
   ]
  },
  {
   "cell_type": "markdown",
   "metadata": {},
   "source": [
    "Выделяется среди регионов япония с платформfvb 3DS, PSV. В европе и америке преобладают приставки нового поколения."
   ]
  },
  {
   "cell_type": "code",
   "execution_count": 338,
   "metadata": {},
   "outputs": [
    {
     "data": {
      "text/html": [
       "<div>\n",
       "<style scoped>\n",
       "    .dataframe tbody tr th:only-of-type {\n",
       "        vertical-align: middle;\n",
       "    }\n",
       "\n",
       "    .dataframe tbody tr th {\n",
       "        vertical-align: top;\n",
       "    }\n",
       "\n",
       "    .dataframe thead th {\n",
       "        text-align: right;\n",
       "    }\n",
       "</style>\n",
       "<table border=\"1\" class=\"dataframe\">\n",
       "  <thead>\n",
       "    <tr style=\"text-align: right;\">\n",
       "      <th></th>\n",
       "      <th>na_sales</th>\n",
       "    </tr>\n",
       "    <tr>\n",
       "      <th>rating</th>\n",
       "      <th></th>\n",
       "    </tr>\n",
       "  </thead>\n",
       "  <tbody>\n",
       "    <tr>\n",
       "      <th>M</th>\n",
       "      <td>161.14</td>\n",
       "    </tr>\n",
       "    <tr>\n",
       "      <th>E</th>\n",
       "      <td>50.74</td>\n",
       "    </tr>\n",
       "    <tr>\n",
       "      <th>T</th>\n",
       "      <td>38.95</td>\n",
       "    </tr>\n",
       "    <tr>\n",
       "      <th>E10+</th>\n",
       "      <td>33.23</td>\n",
       "    </tr>\n",
       "  </tbody>\n",
       "</table>\n",
       "</div>"
      ],
      "text/plain": [
       "        na_sales\n",
       "rating          \n",
       "M         161.14\n",
       "E          50.74\n",
       "T          38.95\n",
       "E10+       33.23"
      ]
     },
     "execution_count": 338,
     "metadata": {},
     "output_type": "execute_result"
    }
   ],
   "source": [
    "actual_data.pivot_table(index=['rating'], values='na_sales', aggfunc='sum').sort_values(by='na_sales', ascending=False).head()"
   ]
  },
  {
   "cell_type": "code",
   "execution_count": 339,
   "metadata": {},
   "outputs": [
    {
     "data": {
      "text/html": [
       "<div>\n",
       "<style scoped>\n",
       "    .dataframe tbody tr th:only-of-type {\n",
       "        vertical-align: middle;\n",
       "    }\n",
       "\n",
       "    .dataframe tbody tr th {\n",
       "        vertical-align: top;\n",
       "    }\n",
       "\n",
       "    .dataframe thead th {\n",
       "        text-align: right;\n",
       "    }\n",
       "</style>\n",
       "<table border=\"1\" class=\"dataframe\">\n",
       "  <thead>\n",
       "    <tr style=\"text-align: right;\">\n",
       "      <th></th>\n",
       "      <th>eu_sales</th>\n",
       "    </tr>\n",
       "    <tr>\n",
       "      <th>rating</th>\n",
       "      <th></th>\n",
       "    </tr>\n",
       "  </thead>\n",
       "  <tbody>\n",
       "    <tr>\n",
       "      <th>M</th>\n",
       "      <td>152.39</td>\n",
       "    </tr>\n",
       "    <tr>\n",
       "      <th>E</th>\n",
       "      <td>58.06</td>\n",
       "    </tr>\n",
       "    <tr>\n",
       "      <th>T</th>\n",
       "      <td>34.07</td>\n",
       "    </tr>\n",
       "    <tr>\n",
       "      <th>E10+</th>\n",
       "      <td>26.16</td>\n",
       "    </tr>\n",
       "  </tbody>\n",
       "</table>\n",
       "</div>"
      ],
      "text/plain": [
       "        eu_sales\n",
       "rating          \n",
       "M         152.39\n",
       "E          58.06\n",
       "T          34.07\n",
       "E10+       26.16"
      ]
     },
     "execution_count": 339,
     "metadata": {},
     "output_type": "execute_result"
    }
   ],
   "source": [
    "actual_data.pivot_table(index=['rating'], values='eu_sales', aggfunc='sum').sort_values(by='eu_sales', ascending=False).head()"
   ]
  },
  {
   "cell_type": "code",
   "execution_count": 340,
   "metadata": {},
   "outputs": [
    {
     "data": {
      "text/html": [
       "<div>\n",
       "<style scoped>\n",
       "    .dataframe tbody tr th:only-of-type {\n",
       "        vertical-align: middle;\n",
       "    }\n",
       "\n",
       "    .dataframe tbody tr th {\n",
       "        vertical-align: top;\n",
       "    }\n",
       "\n",
       "    .dataframe thead th {\n",
       "        text-align: right;\n",
       "    }\n",
       "</style>\n",
       "<table border=\"1\" class=\"dataframe\">\n",
       "  <thead>\n",
       "    <tr style=\"text-align: right;\">\n",
       "      <th></th>\n",
       "      <th>jp_sales</th>\n",
       "    </tr>\n",
       "    <tr>\n",
       "      <th>rating</th>\n",
       "      <th></th>\n",
       "    </tr>\n",
       "  </thead>\n",
       "  <tbody>\n",
       "    <tr>\n",
       "      <th>M</th>\n",
       "      <td>64.91</td>\n",
       "    </tr>\n",
       "    <tr>\n",
       "      <th>T</th>\n",
       "      <td>14.78</td>\n",
       "    </tr>\n",
       "    <tr>\n",
       "      <th>E</th>\n",
       "      <td>8.94</td>\n",
       "    </tr>\n",
       "    <tr>\n",
       "      <th>E10+</th>\n",
       "      <td>4.46</td>\n",
       "    </tr>\n",
       "  </tbody>\n",
       "</table>\n",
       "</div>"
      ],
      "text/plain": [
       "        jp_sales\n",
       "rating          \n",
       "M          64.91\n",
       "T          14.78\n",
       "E           8.94\n",
       "E10+        4.46"
      ]
     },
     "execution_count": 340,
     "metadata": {},
     "output_type": "execute_result"
    }
   ],
   "source": [
    "actual_data.pivot_table(index=['rating'], values='jp_sales', aggfunc='sum').sort_values(by='jp_sales', ascending=False).head()"
   ]
  },
  {
   "cell_type": "markdown",
   "metadata": {},
   "source": [
    "При рассмотрении рейтинга так же следует отметить рынок японии, где преобладаю игры \"для всех\" и \"для подростков\", в то время как в европе и америке, ТОП 1 - это игры 17+."
   ]
  },
  {
   "cell_type": "markdown",
   "metadata": {},
   "source": [
    "### Проверка гипотез"
   ]
  },
  {
   "cell_type": "markdown",
   "metadata": {},
   "source": [
    "Проверим различается ли пользовательский рейтинг для палтформ Xbox One и PC.\n",
    "\n",
    "Для обоих проверок применим критерий для проверки равенства средних в 2 генеральных совокупностях."
   ]
  },
  {
   "cell_type": "code",
   "execution_count": 341,
   "metadata": {},
   "outputs": [],
   "source": [
    "#Отбираем требуемые данные для критерия\n",
    "Xbox_data = actual_data.query('platform == \"XOne\" and not (user_score.isnull())')['user_score']\n",
    "min_XBO=actual_data.query('platform == \"XOne\" and not (user_score.isnull())')['year_of_release'].min()\n",
    "PC_data = actual_data.query('platform == \"PC\" and not (user_score.isnull()) and year_of_release>=@min_XBO')['user_score']"
   ]
  },
  {
   "cell_type": "code",
   "execution_count": 342,
   "metadata": {},
   "outputs": [
    {
     "name": "stdout",
     "output_type": "stream",
     "text": [
      "p-значение:  0.10450507919348415\n"
     ]
    }
   ],
   "source": [
    "#Проверяем нулевую гипотезу: среднее по оценке пользователей не различается для платформ Xbox One и PC\n",
    "#Альтернативная гипотеза: среднее по оценке пользователей различаются для платформ Xbox One и PC\n",
    "results = st.ttest_ind(\n",
    "    Xbox_data,\n",
    "    PC_data)\n",
    "print('p-значение: ', results.pvalue)"
   ]
  },
  {
   "cell_type": "markdown",
   "metadata": {},
   "source": [
    "Мы можем отвергнуть нулевую гипотезу с уровнем значимости в 0,11. При меньших alpha мы не можем отвергнуть лулевую гипотезу."
   ]
  },
  {
   "cell_type": "code",
   "execution_count": 343,
   "metadata": {},
   "outputs": [],
   "source": [
    "#Теперь проверим различия между жанрами\n",
    "action_data=actual_data.query('genre == \"Action\" and not (user_score.isnull())')['user_score']\n",
    "sports_data=actual_data.query('genre == \"Sports\" and not (user_score.isnull())')['user_score']"
   ]
  },
  {
   "cell_type": "code",
   "execution_count": 344,
   "metadata": {},
   "outputs": [
    {
     "name": "stdout",
     "output_type": "stream",
     "text": [
      "p-значение:  2.8711147985105864e-19\n"
     ]
    }
   ],
   "source": [
    "#Проверяем нулевую гипотезу: среднее по оценке пользователей не различается для жанров Action и Sports\n",
    "#Альтернативная гипотеза: среднее по оценке пользователей различаются для жанров Action и Sports\n",
    "results = st.ttest_ind(\n",
    "    action_data,\n",
    "    sports_data)\n",
    "print('p-значение: ', results.pvalue)"
   ]
  },
  {
   "cell_type": "markdown",
   "metadata": {},
   "source": [
    "Очень малое pvalue, которое позволяет нам даже для аровня значимости alpha в 0,001 отвернуть нулевую гипотезу и сказать, что различия в средней оценке для указанных жанров есть."
   ]
  },
  {
   "cell_type": "markdown",
   "metadata": {},
   "source": [
    "## Выводы"
   ]
  },
  {
   "cell_type": "markdown",
   "metadata": {},
   "source": [
    "В рамках текущего исследования мы на данных интернет магазина пытаемся определить успешность игр:\n",
    "- Данне содержат много пропусков в части оценок критиков и игроков\n",
    "- Популярность игр зависит от преставленных в рассматриваемом периоде платформ, т.к. платформы появляются и устаревают. Срок \"жизни палтформы\" в диапазоне от 6 до 10 лет.\n",
    "- для прогноз продаж на 2017 год достаточно использовать последние 6 лет в представленных данных\n",
    "- Ориентироваться необходимо на новые платформы или долгоживущие. К таковым относятся: PC, XboxOne, PS4. Продажи в прочих платформах будут снижаться\n",
    "- мы установили, что между оценко критиком и объёмом продаж есть слабая положительная корреляция, при этом корреляции между объёмом продаж и оценкой пользователей нет\n",
    "- наиболее популярные жанры в рассматриваемом периоде: Action, Shooter, Sports\n",
    "- между регионами (америка, европа, япония) есть значимые различия по популярным платформам. В японии, кроме вышеозвученных платформ, очень популярна платформа 3DS\n",
    "- так же япония отличается от других регионов в части популярных жанров\n",
    "- америка и европа похожи как по платформам, та и по популярным жанрам \n",
    "- проверили гипотезу о равенстве средних оценок между платформами Xbox One и PC. Нулевую гипотеуз не смогли отвергнуть.\n",
    "- проверили гипотезу о равенстве средних оценок между жанрами Action и Sports. Нулевую гипотеуз отвергли с уровнем значимости 0,001"
   ]
  },
  {
   "cell_type": "code",
   "execution_count": null,
   "metadata": {},
   "outputs": [],
   "source": []
  }
 ],
 "metadata": {
  "ExecuteTimeLog": [
   {
    "duration": 416,
    "start_time": "2022-11-16T18:00:32.531Z"
   },
   {
    "duration": 210,
    "start_time": "2022-11-16T18:00:52.261Z"
   },
   {
    "duration": 20,
    "start_time": "2022-11-16T18:00:58.748Z"
   },
   {
    "duration": 2,
    "start_time": "2022-11-16T18:20:50.555Z"
   },
   {
    "duration": 58,
    "start_time": "2022-11-16T18:20:50.558Z"
   },
   {
    "duration": 14,
    "start_time": "2022-11-16T18:20:50.617Z"
   },
   {
    "duration": 13,
    "start_time": "2022-11-16T18:36:50.475Z"
   },
   {
    "duration": 4,
    "start_time": "2022-11-16T18:41:03.140Z"
   },
   {
    "duration": 63,
    "start_time": "2022-11-16T18:42:07.796Z"
   },
   {
    "duration": 7,
    "start_time": "2022-11-16T18:42:19.314Z"
   },
   {
    "duration": 2,
    "start_time": "2022-11-16T18:46:36.699Z"
   },
   {
    "duration": 4,
    "start_time": "2022-11-16T18:46:48.154Z"
   },
   {
    "duration": 7,
    "start_time": "2022-11-16T18:47:39.769Z"
   },
   {
    "duration": 10,
    "start_time": "2022-11-16T18:48:35.589Z"
   },
   {
    "duration": 5,
    "start_time": "2022-11-16T18:48:41.833Z"
   },
   {
    "duration": 3,
    "start_time": "2022-11-16T18:48:49.003Z"
   },
   {
    "duration": 14,
    "start_time": "2022-11-16T18:48:53.200Z"
   },
   {
    "duration": 20,
    "start_time": "2022-11-16T18:55:34.375Z"
   },
   {
    "duration": 14,
    "start_time": "2022-11-16T19:00:08.350Z"
   },
   {
    "duration": 12,
    "start_time": "2022-11-16T19:00:19.837Z"
   },
   {
    "duration": 12,
    "start_time": "2022-11-16T19:02:43.572Z"
   },
   {
    "duration": 15,
    "start_time": "2022-11-16T19:03:18.059Z"
   },
   {
    "duration": 12,
    "start_time": "2022-11-16T19:04:55.355Z"
   },
   {
    "duration": 13,
    "start_time": "2022-11-16T19:05:05.792Z"
   },
   {
    "duration": 25,
    "start_time": "2022-11-16T19:08:10.258Z"
   },
   {
    "duration": 4,
    "start_time": "2022-11-16T19:09:54.353Z"
   },
   {
    "duration": 19,
    "start_time": "2022-11-16T19:09:57.568Z"
   },
   {
    "duration": 53,
    "start_time": "2022-11-16T19:10:13.851Z"
   },
   {
    "duration": 14,
    "start_time": "2022-11-16T19:10:14.097Z"
   },
   {
    "duration": 4,
    "start_time": "2022-11-16T19:10:14.567Z"
   },
   {
    "duration": 16,
    "start_time": "2022-11-16T19:10:14.872Z"
   },
   {
    "duration": 4,
    "start_time": "2022-11-16T19:10:15.345Z"
   },
   {
    "duration": 11,
    "start_time": "2022-11-16T19:12:32.011Z"
   },
   {
    "duration": 12,
    "start_time": "2022-11-16T19:12:56.208Z"
   },
   {
    "duration": 69,
    "start_time": "2022-11-16T19:14:43.567Z"
   },
   {
    "duration": 20,
    "start_time": "2022-11-16T19:14:47.519Z"
   },
   {
    "duration": 3,
    "start_time": "2022-11-16T19:17:34.983Z"
   },
   {
    "duration": 7,
    "start_time": "2022-11-16T19:18:06.890Z"
   },
   {
    "duration": 3,
    "start_time": "2022-11-16T19:19:53.077Z"
   },
   {
    "duration": 6,
    "start_time": "2022-11-16T19:20:03.677Z"
   },
   {
    "duration": 20,
    "start_time": "2022-11-16T19:20:10.034Z"
   },
   {
    "duration": 6,
    "start_time": "2022-11-16T19:20:36.653Z"
   },
   {
    "duration": 20,
    "start_time": "2022-11-16T19:20:37.701Z"
   },
   {
    "duration": 5,
    "start_time": "2022-11-16T19:21:55.948Z"
   },
   {
    "duration": 10,
    "start_time": "2022-11-16T19:21:58.436Z"
   },
   {
    "duration": 6,
    "start_time": "2022-11-16T19:22:12.916Z"
   },
   {
    "duration": 14,
    "start_time": "2022-11-16T19:22:29.908Z"
   },
   {
    "duration": 406,
    "start_time": "2022-11-17T17:49:06.460Z"
   },
   {
    "duration": 221,
    "start_time": "2022-11-17T17:49:06.868Z"
   },
   {
    "duration": 19,
    "start_time": "2022-11-17T17:49:07.811Z"
   },
   {
    "duration": 4,
    "start_time": "2022-11-17T17:49:08.522Z"
   },
   {
    "duration": 13,
    "start_time": "2022-11-17T17:49:10.715Z"
   },
   {
    "duration": 4,
    "start_time": "2022-11-17T17:49:10.994Z"
   },
   {
    "duration": 5,
    "start_time": "2022-11-17T17:49:11.298Z"
   },
   {
    "duration": 5,
    "start_time": "2022-11-17T17:49:11.610Z"
   },
   {
    "duration": 12,
    "start_time": "2022-11-17T17:49:12.803Z"
   },
   {
    "duration": 76,
    "start_time": "2022-11-17T17:53:25.945Z"
   },
   {
    "duration": 6,
    "start_time": "2022-11-17T17:53:30.470Z"
   },
   {
    "duration": 55,
    "start_time": "2022-11-17T17:55:05.992Z"
   },
   {
    "duration": 13,
    "start_time": "2022-11-17T17:55:06.472Z"
   },
   {
    "duration": 744,
    "start_time": "2022-11-17T17:55:42.313Z"
   },
   {
    "duration": 3,
    "start_time": "2022-11-17T17:55:58.704Z"
   },
   {
    "duration": 29,
    "start_time": "2022-11-17T17:56:02.632Z"
   },
   {
    "duration": 18,
    "start_time": "2022-11-17T17:59:39.694Z"
   },
   {
    "duration": 5,
    "start_time": "2022-11-17T17:59:39.958Z"
   },
   {
    "duration": 5,
    "start_time": "2022-11-17T17:59:40.198Z"
   },
   {
    "duration": 5,
    "start_time": "2022-11-17T17:59:40.454Z"
   },
   {
    "duration": 13,
    "start_time": "2022-11-17T17:59:41.103Z"
   },
   {
    "duration": 9,
    "start_time": "2022-11-17T18:00:55.134Z"
   },
   {
    "duration": 8,
    "start_time": "2022-11-17T18:04:28.349Z"
   },
   {
    "duration": 9,
    "start_time": "2022-11-17T18:04:48.468Z"
   },
   {
    "duration": 9,
    "start_time": "2022-11-17T18:05:10.676Z"
   },
   {
    "duration": 7,
    "start_time": "2022-11-17T18:05:14.676Z"
   },
   {
    "duration": 25,
    "start_time": "2022-11-17T18:05:27.637Z"
   },
   {
    "duration": 15,
    "start_time": "2022-11-17T18:15:07.590Z"
   },
   {
    "duration": 7,
    "start_time": "2022-11-17T18:15:18.848Z"
   },
   {
    "duration": 7,
    "start_time": "2022-11-17T18:15:27.640Z"
   },
   {
    "duration": 4,
    "start_time": "2022-11-17T18:15:32.792Z"
   },
   {
    "duration": 4,
    "start_time": "2022-11-17T18:15:53.593Z"
   },
   {
    "duration": 10,
    "start_time": "2022-11-17T18:16:02.583Z"
   },
   {
    "duration": 52,
    "start_time": "2022-11-17T18:16:08.792Z"
   },
   {
    "duration": 15,
    "start_time": "2022-11-17T18:16:09.007Z"
   },
   {
    "duration": 4,
    "start_time": "2022-11-17T18:16:09.431Z"
   },
   {
    "duration": 19,
    "start_time": "2022-11-17T18:16:09.648Z"
   },
   {
    "duration": 4,
    "start_time": "2022-11-17T18:16:09.855Z"
   },
   {
    "duration": 6,
    "start_time": "2022-11-17T18:16:10.048Z"
   },
   {
    "duration": 5,
    "start_time": "2022-11-17T18:16:10.255Z"
   },
   {
    "duration": 13,
    "start_time": "2022-11-17T18:16:10.447Z"
   },
   {
    "duration": 12,
    "start_time": "2022-11-17T18:16:11.024Z"
   },
   {
    "duration": 9,
    "start_time": "2022-11-17T18:16:11.232Z"
   },
   {
    "duration": 61,
    "start_time": "2022-11-17T18:16:15.472Z"
   },
   {
    "duration": 18,
    "start_time": "2022-11-17T18:16:15.712Z"
   },
   {
    "duration": 3,
    "start_time": "2022-11-17T18:16:16.167Z"
   },
   {
    "duration": 14,
    "start_time": "2022-11-17T18:16:16.423Z"
   },
   {
    "duration": 4,
    "start_time": "2022-11-17T18:16:16.784Z"
   },
   {
    "duration": 4,
    "start_time": "2022-11-17T18:16:17.376Z"
   },
   {
    "duration": 5,
    "start_time": "2022-11-17T18:16:17.632Z"
   },
   {
    "duration": 11,
    "start_time": "2022-11-17T18:16:18.120Z"
   },
   {
    "duration": 13,
    "start_time": "2022-11-17T18:16:21.137Z"
   },
   {
    "duration": 25,
    "start_time": "2022-11-17T18:21:26.134Z"
   },
   {
    "duration": 11,
    "start_time": "2022-11-17T18:21:36.492Z"
   },
   {
    "duration": 13,
    "start_time": "2022-11-17T18:21:43.341Z"
   },
   {
    "duration": 18,
    "start_time": "2022-11-17T18:22:06.677Z"
   },
   {
    "duration": 8,
    "start_time": "2022-11-17T18:22:28.885Z"
   },
   {
    "duration": 14,
    "start_time": "2022-11-17T18:22:31.228Z"
   },
   {
    "duration": 8,
    "start_time": "2022-11-17T18:23:48.605Z"
   },
   {
    "duration": 719,
    "start_time": "2022-11-17T18:23:58.509Z"
   },
   {
    "duration": 31,
    "start_time": "2022-11-17T18:24:24.100Z"
   },
   {
    "duration": 3,
    "start_time": "2022-11-17T18:37:43.766Z"
   },
   {
    "duration": 9,
    "start_time": "2022-11-17T18:53:51.751Z"
   },
   {
    "duration": 4,
    "start_time": "2022-11-17T18:54:01.375Z"
   },
   {
    "duration": 11,
    "start_time": "2022-11-17T18:54:11.977Z"
   },
   {
    "duration": 10,
    "start_time": "2022-11-17T18:56:36.543Z"
   },
   {
    "duration": 12,
    "start_time": "2022-11-17T18:56:44.671Z"
   },
   {
    "duration": 9,
    "start_time": "2022-11-17T18:56:52.655Z"
   },
   {
    "duration": 11,
    "start_time": "2022-11-17T18:57:02.951Z"
   },
   {
    "duration": 8,
    "start_time": "2022-11-17T18:58:26.886Z"
   },
   {
    "duration": 13,
    "start_time": "2022-11-17T18:58:49.814Z"
   },
   {
    "duration": 12,
    "start_time": "2022-11-17T18:59:34.334Z"
   },
   {
    "duration": 12,
    "start_time": "2022-11-17T19:00:11.526Z"
   },
   {
    "duration": 10,
    "start_time": "2022-11-17T19:02:35.710Z"
   },
   {
    "duration": 14,
    "start_time": "2022-11-17T19:03:40.780Z"
   },
   {
    "duration": 15,
    "start_time": "2022-11-17T19:09:31.850Z"
   },
   {
    "duration": 8,
    "start_time": "2022-11-17T19:09:59.745Z"
   },
   {
    "duration": 13,
    "start_time": "2022-11-17T19:11:53.005Z"
   },
   {
    "duration": 12,
    "start_time": "2022-11-17T19:12:22.945Z"
   },
   {
    "duration": 7,
    "start_time": "2022-11-17T19:12:29.913Z"
   },
   {
    "duration": 39,
    "start_time": "2022-11-17T19:13:52.977Z"
   },
   {
    "duration": 14,
    "start_time": "2022-11-17T19:14:36.502Z"
   },
   {
    "duration": 15,
    "start_time": "2022-11-17T19:16:52.200Z"
   },
   {
    "duration": 18,
    "start_time": "2022-11-17T19:17:15.648Z"
   },
   {
    "duration": 15,
    "start_time": "2022-11-17T19:17:18.705Z"
   },
   {
    "duration": 7,
    "start_time": "2022-11-17T19:20:39.461Z"
   },
   {
    "duration": 13,
    "start_time": "2022-11-17T19:20:50.661Z"
   },
   {
    "duration": 21,
    "start_time": "2022-11-17T19:21:02.766Z"
   },
   {
    "duration": 385,
    "start_time": "2022-11-20T08:19:15.453Z"
   },
   {
    "duration": 187,
    "start_time": "2022-11-20T08:19:15.851Z"
   },
   {
    "duration": 19,
    "start_time": "2022-11-20T08:19:16.891Z"
   },
   {
    "duration": 2,
    "start_time": "2022-11-20T08:19:17.844Z"
   },
   {
    "duration": 12,
    "start_time": "2022-11-20T08:19:18.444Z"
   },
   {
    "duration": 4,
    "start_time": "2022-11-20T08:19:19.356Z"
   },
   {
    "duration": 5,
    "start_time": "2022-11-20T08:19:20.868Z"
   },
   {
    "duration": 4,
    "start_time": "2022-11-20T08:19:21.196Z"
   },
   {
    "duration": 12,
    "start_time": "2022-11-20T08:19:21.531Z"
   },
   {
    "duration": 9,
    "start_time": "2022-11-20T08:19:24.972Z"
   },
   {
    "duration": 71,
    "start_time": "2022-11-20T08:19:25.571Z"
   },
   {
    "duration": 1161,
    "start_time": "2022-11-20T08:21:33.314Z"
   },
   {
    "duration": 6,
    "start_time": "2022-11-20T08:21:37.980Z"
   },
   {
    "duration": 12,
    "start_time": "2022-11-20T08:21:47.099Z"
   },
   {
    "duration": 10,
    "start_time": "2022-11-20T08:22:17.411Z"
   },
   {
    "duration": 19,
    "start_time": "2022-11-20T08:22:18.051Z"
   },
   {
    "duration": 14,
    "start_time": "2022-11-20T08:22:20.075Z"
   },
   {
    "duration": 6,
    "start_time": "2022-11-20T08:22:26.011Z"
   },
   {
    "duration": 8,
    "start_time": "2022-11-20T08:22:50.139Z"
   },
   {
    "duration": 50,
    "start_time": "2022-11-20T08:22:59.362Z"
   },
   {
    "duration": 13,
    "start_time": "2022-11-20T08:22:59.651Z"
   },
   {
    "duration": 3,
    "start_time": "2022-11-20T08:23:00.018Z"
   },
   {
    "duration": 13,
    "start_time": "2022-11-20T08:23:00.194Z"
   },
   {
    "duration": 4,
    "start_time": "2022-11-20T08:23:00.386Z"
   },
   {
    "duration": 5,
    "start_time": "2022-11-20T08:23:00.570Z"
   },
   {
    "duration": 5,
    "start_time": "2022-11-20T08:23:00.762Z"
   },
   {
    "duration": 13,
    "start_time": "2022-11-20T08:23:00.955Z"
   },
   {
    "duration": 8,
    "start_time": "2022-11-20T08:23:01.906Z"
   },
   {
    "duration": 15,
    "start_time": "2022-11-20T08:23:02.362Z"
   },
   {
    "duration": 7,
    "start_time": "2022-11-20T08:23:05.610Z"
   },
   {
    "duration": 14,
    "start_time": "2022-11-20T08:23:06.522Z"
   },
   {
    "duration": 12,
    "start_time": "2022-11-20T08:23:10.506Z"
   },
   {
    "duration": 6,
    "start_time": "2022-11-20T08:23:11.458Z"
   },
   {
    "duration": 50,
    "start_time": "2022-11-20T08:30:56.447Z"
   },
   {
    "duration": 14,
    "start_time": "2022-11-20T08:30:56.727Z"
   },
   {
    "duration": 3,
    "start_time": "2022-11-20T08:30:57.639Z"
   },
   {
    "duration": 12,
    "start_time": "2022-11-20T08:31:01.767Z"
   },
   {
    "duration": 4,
    "start_time": "2022-11-20T08:31:05.359Z"
   },
   {
    "duration": 20,
    "start_time": "2022-11-20T08:31:18.304Z"
   },
   {
    "duration": 34,
    "start_time": "2022-11-20T08:33:35.591Z"
   },
   {
    "duration": 3,
    "start_time": "2022-11-20T08:38:31.276Z"
   },
   {
    "duration": 49,
    "start_time": "2022-11-20T08:38:31.564Z"
   },
   {
    "duration": 13,
    "start_time": "2022-11-20T08:38:31.820Z"
   },
   {
    "duration": 3,
    "start_time": "2022-11-20T08:38:32.868Z"
   },
   {
    "duration": 13,
    "start_time": "2022-11-20T08:38:34.581Z"
   },
   {
    "duration": 4,
    "start_time": "2022-11-20T08:38:35.941Z"
   },
   {
    "duration": 9,
    "start_time": "2022-11-20T08:39:08.587Z"
   },
   {
    "duration": 9,
    "start_time": "2022-11-20T08:39:49.917Z"
   },
   {
    "duration": 10,
    "start_time": "2022-11-20T08:40:11.620Z"
   },
   {
    "duration": 13,
    "start_time": "2022-11-20T08:40:18.619Z"
   },
   {
    "duration": 10,
    "start_time": "2022-11-20T08:40:22.836Z"
   },
   {
    "duration": 2,
    "start_time": "2022-11-20T08:40:46.955Z"
   },
   {
    "duration": 48,
    "start_time": "2022-11-20T08:40:47.179Z"
   },
   {
    "duration": 13,
    "start_time": "2022-11-20T08:40:47.371Z"
   },
   {
    "duration": 2,
    "start_time": "2022-11-20T08:40:47.747Z"
   },
   {
    "duration": 13,
    "start_time": "2022-11-20T08:40:47.931Z"
   },
   {
    "duration": 4,
    "start_time": "2022-11-20T08:40:48.396Z"
   },
   {
    "duration": 9,
    "start_time": "2022-11-20T08:40:48.828Z"
   },
   {
    "duration": 5,
    "start_time": "2022-11-20T08:40:49.251Z"
   },
   {
    "duration": 12,
    "start_time": "2022-11-20T08:40:49.875Z"
   },
   {
    "duration": 9,
    "start_time": "2022-11-20T08:40:51.339Z"
   },
   {
    "duration": 14,
    "start_time": "2022-11-20T08:40:51.797Z"
   },
   {
    "duration": 7,
    "start_time": "2022-11-20T08:40:54.251Z"
   },
   {
    "duration": 15,
    "start_time": "2022-11-20T08:40:54.891Z"
   },
   {
    "duration": 3,
    "start_time": "2022-11-20T08:45:21.017Z"
   },
   {
    "duration": 51,
    "start_time": "2022-11-20T08:45:21.296Z"
   },
   {
    "duration": 14,
    "start_time": "2022-11-20T08:45:21.537Z"
   },
   {
    "duration": 3,
    "start_time": "2022-11-20T08:45:22.049Z"
   },
   {
    "duration": 13,
    "start_time": "2022-11-20T08:45:22.345Z"
   },
   {
    "duration": 5,
    "start_time": "2022-11-20T08:45:22.633Z"
   },
   {
    "duration": 11,
    "start_time": "2022-11-20T08:45:22.974Z"
   },
   {
    "duration": 4,
    "start_time": "2022-11-20T08:45:23.274Z"
   },
   {
    "duration": 12,
    "start_time": "2022-11-20T08:45:23.569Z"
   },
   {
    "duration": 8,
    "start_time": "2022-11-20T08:45:24.889Z"
   },
   {
    "duration": 13,
    "start_time": "2022-11-20T08:45:25.354Z"
   },
   {
    "duration": 7,
    "start_time": "2022-11-20T08:45:26.569Z"
   },
   {
    "duration": 20,
    "start_time": "2022-11-20T08:45:27.018Z"
   },
   {
    "duration": 15,
    "start_time": "2022-11-20T08:45:29.529Z"
   },
   {
    "duration": 6,
    "start_time": "2022-11-20T08:45:30.242Z"
   },
   {
    "duration": 21,
    "start_time": "2022-11-20T08:47:00.369Z"
   },
   {
    "duration": 40,
    "start_time": "2022-11-20T08:52:12.327Z"
   },
   {
    "duration": 36,
    "start_time": "2022-11-20T08:53:19.855Z"
   },
   {
    "duration": 29,
    "start_time": "2022-11-20T08:53:46.785Z"
   },
   {
    "duration": 54,
    "start_time": "2022-11-20T08:55:56.240Z"
   },
   {
    "duration": 14,
    "start_time": "2022-11-20T08:56:26.382Z"
   },
   {
    "duration": 14,
    "start_time": "2022-11-20T08:56:53.757Z"
   },
   {
    "duration": 55,
    "start_time": "2022-11-20T08:59:58.428Z"
   },
   {
    "duration": 17,
    "start_time": "2022-11-20T09:00:15.005Z"
   },
   {
    "duration": 41,
    "start_time": "2022-11-20T09:29:37.832Z"
   },
   {
    "duration": 30,
    "start_time": "2022-11-20T14:22:16.505Z"
   },
   {
    "duration": 38,
    "start_time": "2022-11-20T14:22:18.641Z"
   },
   {
    "duration": 39,
    "start_time": "2022-11-20T14:22:56.408Z"
   },
   {
    "duration": 19,
    "start_time": "2022-11-20T14:24:21.883Z"
   },
   {
    "duration": 11,
    "start_time": "2022-11-20T14:32:14.044Z"
   },
   {
    "duration": 8,
    "start_time": "2022-11-20T14:32:35.199Z"
   },
   {
    "duration": 5,
    "start_time": "2022-11-20T14:32:40.572Z"
   },
   {
    "duration": 11,
    "start_time": "2022-11-20T14:32:52.580Z"
   },
   {
    "duration": 19,
    "start_time": "2022-11-20T14:34:32.852Z"
   },
   {
    "duration": 20,
    "start_time": "2022-11-20T14:34:42.093Z"
   },
   {
    "duration": 44,
    "start_time": "2022-11-20T14:40:39.002Z"
   },
   {
    "duration": 15,
    "start_time": "2022-11-20T14:40:57.329Z"
   },
   {
    "duration": 13,
    "start_time": "2022-11-20T14:41:18.122Z"
   },
   {
    "duration": 15,
    "start_time": "2022-11-20T14:41:37.553Z"
   },
   {
    "duration": 15,
    "start_time": "2022-11-20T14:42:08.768Z"
   },
   {
    "duration": 21,
    "start_time": "2022-11-20T14:42:55.792Z"
   },
   {
    "duration": 19,
    "start_time": "2022-11-20T15:03:24.313Z"
   },
   {
    "duration": 73,
    "start_time": "2022-11-20T15:09:55.853Z"
   },
   {
    "duration": 89,
    "start_time": "2022-11-20T15:10:02.541Z"
   },
   {
    "duration": 20,
    "start_time": "2022-11-20T15:10:50.629Z"
   },
   {
    "duration": 57,
    "start_time": "2022-11-20T15:13:28.837Z"
   },
   {
    "duration": 19,
    "start_time": "2022-11-20T15:14:30.485Z"
   },
   {
    "duration": 58,
    "start_time": "2022-11-20T15:14:38.540Z"
   },
   {
    "duration": 4,
    "start_time": "2022-11-20T15:43:04.794Z"
   },
   {
    "duration": 14,
    "start_time": "2022-11-20T15:43:18.921Z"
   },
   {
    "duration": 64,
    "start_time": "2022-11-20T15:46:27.528Z"
   },
   {
    "duration": 388,
    "start_time": "2022-11-20T15:49:28.206Z"
   },
   {
    "duration": 451,
    "start_time": "2022-11-20T15:49:50.022Z"
   },
   {
    "duration": 18,
    "start_time": "2022-11-20T15:54:12.581Z"
   },
   {
    "duration": 70,
    "start_time": "2022-11-20T15:55:38.227Z"
   },
   {
    "duration": 9,
    "start_time": "2022-11-20T15:55:44.715Z"
   },
   {
    "duration": 6,
    "start_time": "2022-11-20T15:55:53.568Z"
   },
   {
    "duration": 11,
    "start_time": "2022-11-20T15:56:02.539Z"
   },
   {
    "duration": 18,
    "start_time": "2022-11-20T15:56:35.498Z"
   },
   {
    "duration": 140,
    "start_time": "2022-11-20T15:56:51.274Z"
   },
   {
    "duration": 134,
    "start_time": "2022-11-20T15:57:14.394Z"
   },
   {
    "duration": 190,
    "start_time": "2022-11-20T16:15:07.506Z"
   },
   {
    "duration": 150,
    "start_time": "2022-11-20T16:16:52.090Z"
   },
   {
    "duration": 13,
    "start_time": "2022-11-20T16:29:11.005Z"
   },
   {
    "duration": 14,
    "start_time": "2022-11-20T16:30:00.814Z"
   },
   {
    "duration": 12,
    "start_time": "2022-11-20T17:04:02.512Z"
   },
   {
    "duration": 5,
    "start_time": "2022-11-20T17:04:08.047Z"
   },
   {
    "duration": 16,
    "start_time": "2022-11-20T17:05:32.023Z"
   },
   {
    "duration": 6,
    "start_time": "2022-11-20T17:05:34.352Z"
   },
   {
    "duration": 6,
    "start_time": "2022-11-20T17:06:02.711Z"
   },
   {
    "duration": 4,
    "start_time": "2022-11-20T17:07:36.158Z"
   },
   {
    "duration": 9,
    "start_time": "2022-11-20T17:25:27.280Z"
   },
   {
    "duration": 22,
    "start_time": "2022-11-20T17:25:30.983Z"
   },
   {
    "duration": 13,
    "start_time": "2022-11-20T17:25:39.727Z"
   },
   {
    "duration": 45,
    "start_time": "2022-11-20T17:32:44.548Z"
   },
   {
    "duration": 164,
    "start_time": "2022-11-20T17:34:49.138Z"
   },
   {
    "duration": 1617,
    "start_time": "2022-11-20T17:35:30.675Z"
   },
   {
    "duration": 122,
    "start_time": "2022-11-20T17:35:48.139Z"
   },
   {
    "duration": 465,
    "start_time": "2022-11-20T17:39:12.330Z"
   },
   {
    "duration": 258,
    "start_time": "2022-11-20T17:41:05.185Z"
   },
   {
    "duration": 15,
    "start_time": "2022-11-20T18:13:17.851Z"
   },
   {
    "duration": 1134,
    "start_time": "2022-11-20T18:17:41.490Z"
   },
   {
    "duration": 25,
    "start_time": "2022-11-20T18:18:11.450Z"
   },
   {
    "duration": 14113,
    "start_time": "2022-11-20T18:18:16.217Z"
   },
   {
    "duration": 0,
    "start_time": "2022-11-20T18:19:15.992Z"
   },
   {
    "duration": 4,
    "start_time": "2022-11-20T18:19:20.681Z"
   },
   {
    "duration": 1949,
    "start_time": "2022-11-20T18:19:26.738Z"
   },
   {
    "duration": 16,
    "start_time": "2022-11-20T18:26:08.647Z"
   },
   {
    "duration": 7,
    "start_time": "2022-11-20T18:26:10.143Z"
   },
   {
    "duration": 362,
    "start_time": "2022-11-20T18:26:10.750Z"
   },
   {
    "duration": 2700,
    "start_time": "2022-11-20T18:26:35.807Z"
   },
   {
    "duration": 5,
    "start_time": "2022-11-20T18:40:31.776Z"
   },
   {
    "duration": 23,
    "start_time": "2022-11-20T18:41:20.376Z"
   },
   {
    "duration": 3,
    "start_time": "2022-11-20T18:47:04.094Z"
   },
   {
    "duration": 6,
    "start_time": "2022-11-20T18:48:35.622Z"
   },
   {
    "duration": 23,
    "start_time": "2022-11-20T18:48:39.316Z"
   },
   {
    "duration": 95,
    "start_time": "2022-11-20T18:53:50.226Z"
   },
   {
    "duration": 137,
    "start_time": "2022-11-20T18:54:19.114Z"
   },
   {
    "duration": 141,
    "start_time": "2022-11-20T18:57:14.792Z"
   },
   {
    "duration": 135,
    "start_time": "2022-11-20T18:57:21.984Z"
   },
   {
    "duration": 125,
    "start_time": "2022-11-20T18:59:11.304Z"
   },
   {
    "duration": 134,
    "start_time": "2022-11-20T18:59:19.871Z"
   },
   {
    "duration": 143,
    "start_time": "2022-11-20T19:00:12.023Z"
   },
   {
    "duration": 124,
    "start_time": "2022-11-20T19:00:25.608Z"
   },
   {
    "duration": 134,
    "start_time": "2022-11-20T19:00:33.487Z"
   },
   {
    "duration": 148,
    "start_time": "2022-11-20T19:00:50.593Z"
   },
   {
    "duration": 255,
    "start_time": "2022-11-20T19:00:57.046Z"
   },
   {
    "duration": 149,
    "start_time": "2022-11-20T19:01:03.991Z"
   },
   {
    "duration": 137,
    "start_time": "2022-11-20T19:20:20.550Z"
   },
   {
    "duration": 129,
    "start_time": "2022-11-20T19:20:48.006Z"
   },
   {
    "duration": 124,
    "start_time": "2022-11-20T19:21:08.702Z"
   },
   {
    "duration": 142,
    "start_time": "2022-11-20T19:26:38.871Z"
   },
   {
    "duration": 5,
    "start_time": "2022-11-20T19:29:18.874Z"
   },
   {
    "duration": 134,
    "start_time": "2022-11-20T19:29:20.961Z"
   },
   {
    "duration": 148,
    "start_time": "2022-11-20T19:29:26.306Z"
   },
   {
    "duration": 138,
    "start_time": "2022-11-20T19:29:31.658Z"
   },
   {
    "duration": 129,
    "start_time": "2022-11-20T19:30:01.081Z"
   },
   {
    "duration": 138,
    "start_time": "2022-11-20T19:30:08.953Z"
   },
   {
    "duration": 3,
    "start_time": "2022-11-20T19:33:09.328Z"
   },
   {
    "duration": 134,
    "start_time": "2022-11-20T19:33:39.615Z"
   },
   {
    "duration": 223,
    "start_time": "2022-11-20T19:35:30.990Z"
   },
   {
    "duration": 123,
    "start_time": "2022-11-20T19:35:34.734Z"
   },
   {
    "duration": 124,
    "start_time": "2022-11-20T19:36:05.541Z"
   },
   {
    "duration": 131,
    "start_time": "2022-11-20T19:36:56.254Z"
   },
   {
    "duration": 125,
    "start_time": "2022-11-20T19:36:56.637Z"
   },
   {
    "duration": 802,
    "start_time": "2022-11-21T11:02:15.679Z"
   },
   {
    "duration": 204,
    "start_time": "2022-11-21T11:02:16.483Z"
   },
   {
    "duration": 19,
    "start_time": "2022-11-21T11:02:16.689Z"
   },
   {
    "duration": 3,
    "start_time": "2022-11-21T11:02:16.869Z"
   },
   {
    "duration": 14,
    "start_time": "2022-11-21T11:02:17.085Z"
   },
   {
    "duration": 4,
    "start_time": "2022-11-21T11:02:17.325Z"
   },
   {
    "duration": 13,
    "start_time": "2022-11-21T11:02:17.868Z"
   },
   {
    "duration": 5,
    "start_time": "2022-11-21T11:02:18.084Z"
   },
   {
    "duration": 14,
    "start_time": "2022-11-21T11:02:18.332Z"
   },
   {
    "duration": 9,
    "start_time": "2022-11-21T11:02:19.244Z"
   },
   {
    "duration": 15,
    "start_time": "2022-11-21T11:02:19.460Z"
   },
   {
    "duration": 8,
    "start_time": "2022-11-21T11:02:20.772Z"
   },
   {
    "duration": 15,
    "start_time": "2022-11-21T11:02:21.036Z"
   },
   {
    "duration": 17,
    "start_time": "2022-11-21T11:02:21.499Z"
   },
   {
    "duration": 6,
    "start_time": "2022-11-21T11:02:22.573Z"
   },
   {
    "duration": 34,
    "start_time": "2022-11-21T11:02:23.076Z"
   },
   {
    "duration": 54,
    "start_time": "2022-11-21T11:02:23.732Z"
   },
   {
    "duration": 49,
    "start_time": "2022-11-21T11:02:24.158Z"
   },
   {
    "duration": 5,
    "start_time": "2022-11-21T11:02:25.132Z"
   },
   {
    "duration": 24,
    "start_time": "2022-11-21T11:02:25.685Z"
   },
   {
    "duration": 21,
    "start_time": "2022-11-21T11:02:26.708Z"
   },
   {
    "duration": 22,
    "start_time": "2022-11-21T11:02:27.868Z"
   },
   {
    "duration": 6,
    "start_time": "2022-11-21T11:02:29.460Z"
   },
   {
    "duration": 171,
    "start_time": "2022-11-21T11:02:30.956Z"
   },
   {
    "duration": 144,
    "start_time": "2022-11-21T11:02:34.388Z"
   },
   {
    "duration": 168,
    "start_time": "2022-11-21T11:02:36.148Z"
   },
   {
    "duration": 17,
    "start_time": "2022-11-21T11:02:36.436Z"
   },
   {
    "duration": 17,
    "start_time": "2022-11-21T11:02:37.012Z"
   },
   {
    "duration": 8,
    "start_time": "2022-11-21T11:02:37.644Z"
   },
   {
    "duration": 2596,
    "start_time": "2022-11-21T11:02:37.868Z"
   },
   {
    "duration": 6,
    "start_time": "2022-11-21T11:02:41.996Z"
   },
   {
    "duration": 26,
    "start_time": "2022-11-21T11:02:42.765Z"
   },
   {
    "duration": 3,
    "start_time": "2022-11-21T11:02:43.908Z"
   },
   {
    "duration": 6,
    "start_time": "2022-11-21T11:02:44.308Z"
   },
   {
    "duration": 144,
    "start_time": "2022-11-21T11:02:44.676Z"
   },
   {
    "duration": 149,
    "start_time": "2022-11-21T11:02:47.101Z"
   },
   {
    "duration": 164,
    "start_time": "2022-11-21T11:02:49.957Z"
   },
   {
    "duration": 185,
    "start_time": "2022-11-21T11:02:50.563Z"
   },
   {
    "duration": 251,
    "start_time": "2022-11-21T11:03:23.349Z"
   },
   {
    "duration": 130,
    "start_time": "2022-11-21T11:03:58.524Z"
   },
   {
    "duration": 74,
    "start_time": "2022-11-21T11:05:37.403Z"
   },
   {
    "duration": 140,
    "start_time": "2022-11-21T11:05:37.891Z"
   },
   {
    "duration": 93,
    "start_time": "2022-11-21T11:05:43.216Z"
   },
   {
    "duration": 80,
    "start_time": "2022-11-21T11:05:46.740Z"
   },
   {
    "duration": 141,
    "start_time": "2022-11-21T11:05:56.707Z"
   },
   {
    "duration": 151,
    "start_time": "2022-11-21T11:05:59.122Z"
   },
   {
    "duration": 26,
    "start_time": "2022-11-21T11:09:14.522Z"
   },
   {
    "duration": 24,
    "start_time": "2022-11-21T11:10:25.199Z"
   },
   {
    "duration": 31,
    "start_time": "2022-11-21T12:31:47.702Z"
   },
   {
    "duration": 13,
    "start_time": "2022-11-21T12:32:32.271Z"
   },
   {
    "duration": 14,
    "start_time": "2022-11-21T12:32:37.239Z"
   },
   {
    "duration": 78,
    "start_time": "2022-11-21T12:32:55.208Z"
   },
   {
    "duration": 14,
    "start_time": "2022-11-21T12:33:01.622Z"
   },
   {
    "duration": 15,
    "start_time": "2022-11-21T12:33:55.133Z"
   },
   {
    "duration": 13,
    "start_time": "2022-11-21T12:48:55.927Z"
   },
   {
    "duration": 14,
    "start_time": "2022-11-21T12:48:56.822Z"
   },
   {
    "duration": 14,
    "start_time": "2022-11-21T12:48:57.086Z"
   },
   {
    "duration": 16,
    "start_time": "2022-11-21T12:57:00.299Z"
   },
   {
    "duration": 17,
    "start_time": "2022-11-21T12:57:00.594Z"
   },
   {
    "duration": 17,
    "start_time": "2022-11-21T12:57:00.915Z"
   },
   {
    "duration": 71,
    "start_time": "2022-11-21T13:04:43.255Z"
   },
   {
    "duration": 418,
    "start_time": "2022-11-21T13:04:51.080Z"
   },
   {
    "duration": 10,
    "start_time": "2022-11-21T13:14:37.187Z"
   },
   {
    "duration": 22,
    "start_time": "2022-11-21T13:14:43.499Z"
   },
   {
    "duration": 10,
    "start_time": "2022-11-21T13:16:24.040Z"
   },
   {
    "duration": 6,
    "start_time": "2022-11-21T13:16:26.346Z"
   },
   {
    "duration": 11,
    "start_time": "2022-11-21T13:16:48.514Z"
   },
   {
    "duration": 6,
    "start_time": "2022-11-21T13:17:07.482Z"
   },
   {
    "duration": 5,
    "start_time": "2022-11-21T13:18:14.834Z"
   },
   {
    "duration": 4,
    "start_time": "2022-11-21T13:21:40.734Z"
   },
   {
    "duration": 34,
    "start_time": "2022-11-21T13:24:56.215Z"
   },
   {
    "duration": 11,
    "start_time": "2022-11-21T13:24:58.158Z"
   },
   {
    "duration": 5,
    "start_time": "2022-11-21T13:24:58.814Z"
   },
   {
    "duration": 4,
    "start_time": "2022-11-21T14:05:33.301Z"
   },
   {
    "duration": 52,
    "start_time": "2022-11-21T14:05:33.565Z"
   },
   {
    "duration": 15,
    "start_time": "2022-11-21T14:05:33.798Z"
   },
   {
    "duration": 4,
    "start_time": "2022-11-21T14:05:34.286Z"
   },
   {
    "duration": 14,
    "start_time": "2022-11-21T14:05:34.525Z"
   },
   {
    "duration": 5,
    "start_time": "2022-11-21T14:05:34.766Z"
   },
   {
    "duration": 10,
    "start_time": "2022-11-21T14:05:34.991Z"
   },
   {
    "duration": 5,
    "start_time": "2022-11-21T14:05:35.205Z"
   },
   {
    "duration": 20,
    "start_time": "2022-11-21T14:05:35.429Z"
   },
   {
    "duration": 9,
    "start_time": "2022-11-21T14:05:36.102Z"
   },
   {
    "duration": 15,
    "start_time": "2022-11-21T14:05:36.333Z"
   },
   {
    "duration": 7,
    "start_time": "2022-11-21T14:05:36.789Z"
   },
   {
    "duration": 16,
    "start_time": "2022-11-21T14:05:37.030Z"
   },
   {
    "duration": 16,
    "start_time": "2022-11-21T14:05:37.500Z"
   },
   {
    "duration": 7,
    "start_time": "2022-11-21T14:05:37.958Z"
   },
   {
    "duration": 34,
    "start_time": "2022-11-21T14:05:38.421Z"
   },
   {
    "duration": 51,
    "start_time": "2022-11-21T14:05:38.645Z"
   },
   {
    "duration": 44,
    "start_time": "2022-11-21T14:05:38.885Z"
   },
   {
    "duration": 4,
    "start_time": "2022-11-21T14:05:39.341Z"
   },
   {
    "duration": 22,
    "start_time": "2022-11-21T14:05:39.566Z"
   },
   {
    "duration": 25,
    "start_time": "2022-11-21T14:05:40.021Z"
   },
   {
    "duration": 20,
    "start_time": "2022-11-21T14:05:40.477Z"
   },
   {
    "duration": 5,
    "start_time": "2022-11-21T14:05:41.173Z"
   },
   {
    "duration": 223,
    "start_time": "2022-11-21T14:05:41.645Z"
   },
   {
    "duration": 132,
    "start_time": "2022-11-21T14:05:41.876Z"
   },
   {
    "duration": 152,
    "start_time": "2022-11-21T14:05:42.621Z"
   },
   {
    "duration": 15,
    "start_time": "2022-11-21T14:05:42.845Z"
   },
   {
    "duration": 16,
    "start_time": "2022-11-21T14:05:43.101Z"
   },
   {
    "duration": 10,
    "start_time": "2022-11-21T14:05:43.325Z"
   },
   {
    "duration": 2698,
    "start_time": "2022-11-21T14:05:43.558Z"
   },
   {
    "duration": 4,
    "start_time": "2022-11-21T14:05:46.258Z"
   },
   {
    "duration": 39,
    "start_time": "2022-11-21T14:05:46.264Z"
   },
   {
    "duration": 3,
    "start_time": "2022-11-21T14:05:46.305Z"
   },
   {
    "duration": 9,
    "start_time": "2022-11-21T14:05:46.310Z"
   },
   {
    "duration": 252,
    "start_time": "2022-11-21T14:05:46.321Z"
   },
   {
    "duration": 161,
    "start_time": "2022-11-21T14:05:46.578Z"
   },
   {
    "duration": 148,
    "start_time": "2022-11-21T14:05:48.677Z"
   },
   {
    "duration": 143,
    "start_time": "2022-11-21T14:05:49.349Z"
   },
   {
    "duration": 159,
    "start_time": "2022-11-21T14:05:50.117Z"
   },
   {
    "duration": 153,
    "start_time": "2022-11-21T14:05:50.390Z"
   },
   {
    "duration": 178,
    "start_time": "2022-11-21T14:05:50.941Z"
   },
   {
    "duration": 162,
    "start_time": "2022-11-21T14:05:51.269Z"
   },
   {
    "duration": 25,
    "start_time": "2022-11-21T14:05:52.350Z"
   },
   {
    "duration": 16,
    "start_time": "2022-11-21T14:05:53.829Z"
   },
   {
    "duration": 21,
    "start_time": "2022-11-21T14:05:54.030Z"
   },
   {
    "duration": 18,
    "start_time": "2022-11-21T14:05:54.222Z"
   },
   {
    "duration": 17,
    "start_time": "2022-11-21T14:05:54.597Z"
   },
   {
    "duration": 15,
    "start_time": "2022-11-21T14:05:54.781Z"
   },
   {
    "duration": 17,
    "start_time": "2022-11-21T14:05:55.156Z"
   },
   {
    "duration": 15,
    "start_time": "2022-11-21T14:05:55.532Z"
   },
   {
    "duration": 19,
    "start_time": "2022-11-21T14:05:55.750Z"
   },
   {
    "duration": 15,
    "start_time": "2022-11-21T14:05:55.982Z"
   },
   {
    "duration": 12,
    "start_time": "2022-11-21T14:05:57.068Z"
   },
   {
    "duration": 4,
    "start_time": "2022-11-21T14:05:57.366Z"
   },
   {
    "duration": 12,
    "start_time": "2022-11-21T14:05:58.030Z"
   },
   {
    "duration": 4,
    "start_time": "2022-11-21T14:05:58.454Z"
   },
   {
    "duration": 44,
    "start_time": "2022-11-21T14:17:07.466Z"
   },
   {
    "duration": 1044,
    "start_time": "2022-11-21T14:17:12.580Z"
   },
   {
    "duration": 52,
    "start_time": "2022-11-21T14:17:13.626Z"
   },
   {
    "duration": 18,
    "start_time": "2022-11-21T14:17:13.680Z"
   },
   {
    "duration": 3,
    "start_time": "2022-11-21T14:17:13.699Z"
   },
   {
    "duration": 14,
    "start_time": "2022-11-21T14:17:13.704Z"
   },
   {
    "duration": 4,
    "start_time": "2022-11-21T14:17:13.719Z"
   },
   {
    "duration": 17,
    "start_time": "2022-11-21T14:17:13.724Z"
   },
   {
    "duration": 4,
    "start_time": "2022-11-21T14:17:13.742Z"
   },
   {
    "duration": 16,
    "start_time": "2022-11-21T14:17:13.747Z"
   },
   {
    "duration": 17,
    "start_time": "2022-11-21T14:17:13.764Z"
   },
   {
    "duration": 23,
    "start_time": "2022-11-21T14:17:13.783Z"
   },
   {
    "duration": 7,
    "start_time": "2022-11-21T14:17:13.807Z"
   },
   {
    "duration": 18,
    "start_time": "2022-11-21T14:17:13.815Z"
   },
   {
    "duration": 13,
    "start_time": "2022-11-21T14:17:13.836Z"
   },
   {
    "duration": 9,
    "start_time": "2022-11-21T14:17:13.850Z"
   },
   {
    "duration": 43,
    "start_time": "2022-11-21T14:17:13.860Z"
   },
   {
    "duration": 37,
    "start_time": "2022-11-21T14:17:13.905Z"
   },
   {
    "duration": 37,
    "start_time": "2022-11-21T14:17:13.943Z"
   },
   {
    "duration": 4,
    "start_time": "2022-11-21T14:17:13.998Z"
   },
   {
    "duration": 19,
    "start_time": "2022-11-21T14:17:14.004Z"
   },
   {
    "duration": 18,
    "start_time": "2022-11-21T14:17:14.025Z"
   },
   {
    "duration": 18,
    "start_time": "2022-11-21T14:17:14.044Z"
   },
   {
    "duration": 35,
    "start_time": "2022-11-21T14:17:14.063Z"
   },
   {
    "duration": 133,
    "start_time": "2022-11-21T14:17:14.099Z"
   },
   {
    "duration": 125,
    "start_time": "2022-11-21T14:17:14.234Z"
   },
   {
    "duration": 13,
    "start_time": "2022-11-21T14:17:14.360Z"
   },
   {
    "duration": 180,
    "start_time": "2022-11-21T14:17:14.374Z"
   },
   {
    "duration": 13,
    "start_time": "2022-11-21T14:17:14.556Z"
   },
   {
    "duration": 28,
    "start_time": "2022-11-21T14:17:14.570Z"
   },
   {
    "duration": 29,
    "start_time": "2022-11-21T14:17:14.599Z"
   },
   {
    "duration": 3444,
    "start_time": "2022-11-21T14:17:14.630Z"
   },
   {
    "duration": 5,
    "start_time": "2022-11-21T14:17:18.075Z"
   },
   {
    "duration": 31,
    "start_time": "2022-11-21T14:17:18.081Z"
   },
   {
    "duration": 3,
    "start_time": "2022-11-21T14:17:18.113Z"
   },
   {
    "duration": 7,
    "start_time": "2022-11-21T14:17:18.117Z"
   },
   {
    "duration": 141,
    "start_time": "2022-11-21T14:17:18.126Z"
   },
   {
    "duration": 160,
    "start_time": "2022-11-21T14:17:18.269Z"
   },
   {
    "duration": 137,
    "start_time": "2022-11-21T14:17:18.430Z"
   },
   {
    "duration": 148,
    "start_time": "2022-11-21T14:17:18.569Z"
   },
   {
    "duration": 148,
    "start_time": "2022-11-21T14:17:18.719Z"
   },
   {
    "duration": 148,
    "start_time": "2022-11-21T14:17:18.872Z"
   },
   {
    "duration": 159,
    "start_time": "2022-11-21T14:17:19.021Z"
   },
   {
    "duration": 143,
    "start_time": "2022-11-21T14:17:19.182Z"
   },
   {
    "duration": 26,
    "start_time": "2022-11-21T14:17:19.327Z"
   },
   {
    "duration": 12,
    "start_time": "2022-11-21T14:17:19.355Z"
   },
   {
    "duration": 34,
    "start_time": "2022-11-21T14:17:19.369Z"
   },
   {
    "duration": 15,
    "start_time": "2022-11-21T14:17:19.405Z"
   },
   {
    "duration": 12,
    "start_time": "2022-11-21T14:17:19.421Z"
   },
   {
    "duration": 12,
    "start_time": "2022-11-21T14:17:19.434Z"
   },
   {
    "duration": 13,
    "start_time": "2022-11-21T14:17:19.448Z"
   },
   {
    "duration": 44,
    "start_time": "2022-11-21T14:17:19.463Z"
   },
   {
    "duration": 12,
    "start_time": "2022-11-21T14:17:19.508Z"
   },
   {
    "duration": 13,
    "start_time": "2022-11-21T14:17:19.522Z"
   },
   {
    "duration": 10,
    "start_time": "2022-11-21T14:17:19.536Z"
   },
   {
    "duration": 4,
    "start_time": "2022-11-21T14:17:19.548Z"
   },
   {
    "duration": 12,
    "start_time": "2022-11-21T14:17:19.553Z"
   },
   {
    "duration": 32,
    "start_time": "2022-11-21T14:17:19.567Z"
   },
   {
    "duration": 6,
    "start_time": "2022-11-21T14:25:29.623Z"
   },
   {
    "duration": 6,
    "start_time": "2022-11-21T14:25:36.839Z"
   },
   {
    "duration": 1006,
    "start_time": "2022-11-21T14:30:24.745Z"
   },
   {
    "duration": 53,
    "start_time": "2022-11-21T14:30:25.752Z"
   },
   {
    "duration": 17,
    "start_time": "2022-11-21T14:30:25.807Z"
   },
   {
    "duration": 5,
    "start_time": "2022-11-21T14:30:25.826Z"
   },
   {
    "duration": 16,
    "start_time": "2022-11-21T14:30:25.832Z"
   },
   {
    "duration": 5,
    "start_time": "2022-11-21T14:30:25.849Z"
   },
   {
    "duration": 15,
    "start_time": "2022-11-21T14:30:25.856Z"
   },
   {
    "duration": 29,
    "start_time": "2022-11-21T14:30:25.872Z"
   },
   {
    "duration": 16,
    "start_time": "2022-11-21T14:30:25.902Z"
   },
   {
    "duration": 8,
    "start_time": "2022-11-21T14:30:25.921Z"
   },
   {
    "duration": 19,
    "start_time": "2022-11-21T14:30:25.931Z"
   },
   {
    "duration": 8,
    "start_time": "2022-11-21T14:30:25.952Z"
   },
   {
    "duration": 39,
    "start_time": "2022-11-21T14:30:25.961Z"
   },
   {
    "duration": 17,
    "start_time": "2022-11-21T14:30:26.002Z"
   },
   {
    "duration": 7,
    "start_time": "2022-11-21T14:30:26.021Z"
   },
   {
    "duration": 33,
    "start_time": "2022-11-21T14:30:26.029Z"
   },
   {
    "duration": 57,
    "start_time": "2022-11-21T14:30:26.063Z"
   },
   {
    "duration": 35,
    "start_time": "2022-11-21T14:30:26.121Z"
   },
   {
    "duration": 3,
    "start_time": "2022-11-21T14:30:26.158Z"
   },
   {
    "duration": 35,
    "start_time": "2022-11-21T14:30:26.163Z"
   },
   {
    "duration": 17,
    "start_time": "2022-11-21T14:30:26.200Z"
   },
   {
    "duration": 17,
    "start_time": "2022-11-21T14:30:26.219Z"
   },
   {
    "duration": 4,
    "start_time": "2022-11-21T14:30:26.237Z"
   },
   {
    "duration": 149,
    "start_time": "2022-11-21T14:30:26.243Z"
   },
   {
    "duration": 125,
    "start_time": "2022-11-21T14:30:26.394Z"
   },
   {
    "duration": 12,
    "start_time": "2022-11-21T14:30:26.520Z"
   },
   {
    "duration": 161,
    "start_time": "2022-11-21T14:30:26.534Z"
   },
   {
    "duration": 14,
    "start_time": "2022-11-21T14:30:26.699Z"
   },
   {
    "duration": 32,
    "start_time": "2022-11-21T14:30:26.715Z"
   },
   {
    "duration": 47,
    "start_time": "2022-11-21T14:30:26.748Z"
   },
   {
    "duration": 2314,
    "start_time": "2022-11-21T14:30:26.796Z"
   },
   {
    "duration": 4,
    "start_time": "2022-11-21T14:30:29.112Z"
   },
   {
    "duration": 68,
    "start_time": "2022-11-21T14:30:29.117Z"
   },
   {
    "duration": 9,
    "start_time": "2022-11-21T14:30:29.187Z"
   },
   {
    "duration": 72,
    "start_time": "2022-11-21T14:30:29.197Z"
   },
   {
    "duration": 182,
    "start_time": "2022-11-21T14:30:29.271Z"
   },
   {
    "duration": 131,
    "start_time": "2022-11-21T14:30:29.455Z"
   },
   {
    "duration": 130,
    "start_time": "2022-11-21T14:30:29.587Z"
   },
   {
    "duration": 130,
    "start_time": "2022-11-21T14:30:29.718Z"
   },
   {
    "duration": 140,
    "start_time": "2022-11-21T14:30:29.850Z"
   },
   {
    "duration": 154,
    "start_time": "2022-11-21T14:30:29.997Z"
   },
   {
    "duration": 140,
    "start_time": "2022-11-21T14:30:30.152Z"
   },
   {
    "duration": 127,
    "start_time": "2022-11-21T14:30:30.297Z"
   },
   {
    "duration": 22,
    "start_time": "2022-11-21T14:30:30.425Z"
   },
   {
    "duration": 25,
    "start_time": "2022-11-21T14:30:30.449Z"
   },
   {
    "duration": 101,
    "start_time": "2022-11-21T14:30:30.475Z"
   },
   {
    "duration": 37,
    "start_time": "2022-11-21T14:30:30.577Z"
   },
   {
    "duration": 62,
    "start_time": "2022-11-21T14:30:30.615Z"
   },
   {
    "duration": 70,
    "start_time": "2022-11-21T14:30:30.678Z"
   },
   {
    "duration": 38,
    "start_time": "2022-11-21T14:30:30.750Z"
   },
   {
    "duration": 53,
    "start_time": "2022-11-21T14:30:30.789Z"
   },
   {
    "duration": 51,
    "start_time": "2022-11-21T14:30:30.843Z"
   },
   {
    "duration": 61,
    "start_time": "2022-11-21T14:30:30.895Z"
   },
   {
    "duration": 57,
    "start_time": "2022-11-21T14:30:30.957Z"
   },
   {
    "duration": 56,
    "start_time": "2022-11-21T14:30:31.015Z"
   },
   {
    "duration": 85,
    "start_time": "2022-11-21T14:30:31.073Z"
   },
   {
    "duration": 36,
    "start_time": "2022-11-21T14:30:31.160Z"
   },
   {
    "duration": 62,
    "start_time": "2022-11-21T16:32:10.272Z"
   },
   {
    "duration": 1250,
    "start_time": "2022-11-21T16:32:17.021Z"
   },
   {
    "duration": 185,
    "start_time": "2022-11-21T16:32:18.273Z"
   },
   {
    "duration": 20,
    "start_time": "2022-11-21T16:32:18.460Z"
   },
   {
    "duration": 3,
    "start_time": "2022-11-21T16:32:21.822Z"
   },
   {
    "duration": 14,
    "start_time": "2022-11-21T16:32:22.167Z"
   },
   {
    "duration": 4,
    "start_time": "2022-11-21T16:32:22.541Z"
   },
   {
    "duration": 10,
    "start_time": "2022-11-21T16:32:22.717Z"
   },
   {
    "duration": 5,
    "start_time": "2022-11-21T16:32:22.918Z"
   },
   {
    "duration": 13,
    "start_time": "2022-11-21T16:32:23.117Z"
   },
   {
    "duration": 8,
    "start_time": "2022-11-21T16:32:23.710Z"
   },
   {
    "duration": 18,
    "start_time": "2022-11-21T16:32:24.084Z"
   },
   {
    "duration": 8,
    "start_time": "2022-11-21T16:32:25.037Z"
   },
   {
    "duration": 16,
    "start_time": "2022-11-21T16:32:25.909Z"
   },
   {
    "duration": 15,
    "start_time": "2022-11-21T16:32:26.301Z"
   },
   {
    "duration": 6,
    "start_time": "2022-11-21T16:32:26.685Z"
   },
   {
    "duration": 32,
    "start_time": "2022-11-21T16:32:27.078Z"
   },
   {
    "duration": 42,
    "start_time": "2022-11-21T16:32:27.294Z"
   },
   {
    "duration": 38,
    "start_time": "2022-11-21T16:32:27.501Z"
   },
   {
    "duration": 4,
    "start_time": "2022-11-21T16:32:27.909Z"
   },
   {
    "duration": 27,
    "start_time": "2022-11-21T16:32:29.182Z"
   },
   {
    "duration": 19,
    "start_time": "2022-11-21T16:32:30.269Z"
   },
   {
    "duration": 20,
    "start_time": "2022-11-21T16:32:30.798Z"
   },
   {
    "duration": 4,
    "start_time": "2022-11-21T16:32:31.974Z"
   },
   {
    "duration": 142,
    "start_time": "2022-11-21T16:32:32.909Z"
   },
   {
    "duration": 120,
    "start_time": "2022-11-21T16:32:33.150Z"
   },
   {
    "duration": 17,
    "start_time": "2022-11-21T16:32:33.349Z"
   },
   {
    "duration": 4,
    "start_time": "2022-11-21T16:41:11.614Z"
   },
   {
    "duration": 4,
    "start_time": "2022-11-21T16:41:33.752Z"
   },
   {
    "duration": 109,
    "start_time": "2022-11-21T16:41:33.759Z"
   },
   {
    "duration": 17,
    "start_time": "2022-11-21T16:41:33.871Z"
   },
   {
    "duration": 7,
    "start_time": "2022-11-21T16:41:33.889Z"
   },
   {
    "duration": 31,
    "start_time": "2022-11-21T16:41:33.898Z"
   },
   {
    "duration": 24,
    "start_time": "2022-11-21T16:41:33.931Z"
   },
   {
    "duration": 37,
    "start_time": "2022-11-21T16:41:33.957Z"
   },
   {
    "duration": 7,
    "start_time": "2022-11-21T16:41:33.995Z"
   },
   {
    "duration": 30,
    "start_time": "2022-11-21T16:41:34.003Z"
   },
   {
    "duration": 23,
    "start_time": "2022-11-21T16:41:34.035Z"
   },
   {
    "duration": 80,
    "start_time": "2022-11-21T16:41:34.059Z"
   },
   {
    "duration": 24,
    "start_time": "2022-11-21T16:41:34.141Z"
   },
   {
    "duration": 36,
    "start_time": "2022-11-21T16:41:34.169Z"
   },
   {
    "duration": 49,
    "start_time": "2022-11-21T16:41:34.207Z"
   },
   {
    "duration": 24,
    "start_time": "2022-11-21T16:41:34.258Z"
   },
   {
    "duration": 45,
    "start_time": "2022-11-21T16:41:34.284Z"
   },
   {
    "duration": 40,
    "start_time": "2022-11-21T16:41:34.330Z"
   },
   {
    "duration": 52,
    "start_time": "2022-11-21T16:41:34.371Z"
   },
   {
    "duration": 4,
    "start_time": "2022-11-21T16:41:34.425Z"
   },
   {
    "duration": 42,
    "start_time": "2022-11-21T16:41:34.430Z"
   },
   {
    "duration": 20,
    "start_time": "2022-11-21T16:41:34.474Z"
   },
   {
    "duration": 31,
    "start_time": "2022-11-21T16:41:34.495Z"
   },
   {
    "duration": 30,
    "start_time": "2022-11-21T16:41:34.527Z"
   },
   {
    "duration": 131,
    "start_time": "2022-11-21T16:41:34.559Z"
   },
   {
    "duration": 135,
    "start_time": "2022-11-21T16:41:34.692Z"
   },
   {
    "duration": 11,
    "start_time": "2022-11-21T16:41:34.829Z"
   },
   {
    "duration": 196,
    "start_time": "2022-11-21T16:41:34.842Z"
   },
   {
    "duration": 14,
    "start_time": "2022-11-21T16:41:35.040Z"
   },
   {
    "duration": 19,
    "start_time": "2022-11-21T16:41:35.056Z"
   },
   {
    "duration": 7,
    "start_time": "2022-11-21T16:41:35.077Z"
   },
   {
    "duration": 2511,
    "start_time": "2022-11-21T16:41:35.085Z"
   },
   {
    "duration": 5,
    "start_time": "2022-11-21T16:41:37.598Z"
   },
   {
    "duration": 37,
    "start_time": "2022-11-21T16:41:37.605Z"
   },
   {
    "duration": 3,
    "start_time": "2022-11-21T16:41:37.643Z"
   },
   {
    "duration": 8,
    "start_time": "2022-11-21T16:41:37.647Z"
   },
   {
    "duration": 172,
    "start_time": "2022-11-21T16:41:37.657Z"
   },
   {
    "duration": 172,
    "start_time": "2022-11-21T16:41:37.832Z"
   },
   {
    "duration": 140,
    "start_time": "2022-11-21T16:41:38.006Z"
   },
   {
    "duration": 201,
    "start_time": "2022-11-21T16:41:38.148Z"
   },
   {
    "duration": 187,
    "start_time": "2022-11-21T16:41:38.351Z"
   },
   {
    "duration": 152,
    "start_time": "2022-11-21T16:41:38.539Z"
   },
   {
    "duration": 250,
    "start_time": "2022-11-21T16:41:38.693Z"
   },
   {
    "duration": 138,
    "start_time": "2022-11-21T16:41:38.945Z"
   },
   {
    "duration": 37,
    "start_time": "2022-11-21T16:41:39.085Z"
   },
   {
    "duration": 14,
    "start_time": "2022-11-21T16:41:39.124Z"
   },
   {
    "duration": 16,
    "start_time": "2022-11-21T16:41:39.140Z"
   },
   {
    "duration": 14,
    "start_time": "2022-11-21T16:41:39.158Z"
   },
   {
    "duration": 20,
    "start_time": "2022-11-21T16:41:39.174Z"
   },
   {
    "duration": 39,
    "start_time": "2022-11-21T16:41:39.196Z"
   },
   {
    "duration": 22,
    "start_time": "2022-11-21T16:41:39.237Z"
   },
   {
    "duration": 17,
    "start_time": "2022-11-21T16:41:39.262Z"
   },
   {
    "duration": 42,
    "start_time": "2022-11-21T16:41:39.281Z"
   },
   {
    "duration": 14,
    "start_time": "2022-11-21T16:41:39.325Z"
   },
   {
    "duration": 13,
    "start_time": "2022-11-21T16:41:39.341Z"
   },
   {
    "duration": 8,
    "start_time": "2022-11-21T16:41:39.355Z"
   },
   {
    "duration": 12,
    "start_time": "2022-11-21T16:41:39.364Z"
   },
   {
    "duration": 4,
    "start_time": "2022-11-21T16:41:39.378Z"
   },
   {
    "duration": 1296,
    "start_time": "2022-11-22T07:42:14.606Z"
   },
   {
    "duration": 106,
    "start_time": "2022-11-22T07:42:15.904Z"
   },
   {
    "duration": 20,
    "start_time": "2022-11-22T07:42:16.012Z"
   },
   {
    "duration": 3,
    "start_time": "2022-11-22T07:42:16.034Z"
   },
   {
    "duration": 20,
    "start_time": "2022-11-22T07:42:16.039Z"
   },
   {
    "duration": 5,
    "start_time": "2022-11-22T07:42:16.384Z"
   },
   {
    "duration": 10,
    "start_time": "2022-11-22T07:42:16.800Z"
   },
   {
    "duration": 6,
    "start_time": "2022-11-22T07:42:16.991Z"
   },
   {
    "duration": 13,
    "start_time": "2022-11-22T07:42:17.183Z"
   },
   {
    "duration": 9,
    "start_time": "2022-11-22T07:42:18.631Z"
   },
   {
    "duration": 17,
    "start_time": "2022-11-22T07:42:19.079Z"
   },
   {
    "duration": 9,
    "start_time": "2022-11-22T07:42:20.039Z"
   },
   {
    "duration": 15,
    "start_time": "2022-11-22T07:42:20.455Z"
   },
   {
    "duration": 15,
    "start_time": "2022-11-22T07:42:21.327Z"
   },
   {
    "duration": 7,
    "start_time": "2022-11-22T07:42:21.719Z"
   },
   {
    "duration": 36,
    "start_time": "2022-11-22T07:42:22.119Z"
   },
   {
    "duration": 39,
    "start_time": "2022-11-22T07:42:22.320Z"
   },
   {
    "duration": 39,
    "start_time": "2022-11-22T07:42:22.520Z"
   },
   {
    "duration": 4,
    "start_time": "2022-11-22T07:42:22.903Z"
   },
   {
    "duration": 19,
    "start_time": "2022-11-22T07:42:23.528Z"
   },
   {
    "duration": 20,
    "start_time": "2022-11-22T07:42:23.943Z"
   },
   {
    "duration": 22,
    "start_time": "2022-11-22T07:42:24.704Z"
   },
   {
    "duration": 5,
    "start_time": "2022-11-22T07:42:26.143Z"
   },
   {
    "duration": 150,
    "start_time": "2022-11-22T07:42:27.695Z"
   },
   {
    "duration": 139,
    "start_time": "2022-11-22T07:42:28.254Z"
   },
   {
    "duration": 15,
    "start_time": "2022-11-22T07:42:29.032Z"
   },
   {
    "duration": 165,
    "start_time": "2022-11-22T07:42:32.936Z"
   },
   {
    "duration": 15,
    "start_time": "2022-11-22T07:42:33.335Z"
   },
   {
    "duration": 16,
    "start_time": "2022-11-22T07:42:33.504Z"
   },
   {
    "duration": 8,
    "start_time": "2022-11-22T07:42:33.823Z"
   },
   {
    "duration": 2513,
    "start_time": "2022-11-22T07:42:33.980Z"
   },
   {
    "duration": 5,
    "start_time": "2022-11-22T07:42:36.495Z"
   },
   {
    "duration": 38,
    "start_time": "2022-11-22T07:42:36.501Z"
   },
   {
    "duration": 10,
    "start_time": "2022-11-22T07:42:36.540Z"
   },
   {
    "duration": 26,
    "start_time": "2022-11-22T07:42:36.551Z"
   },
   {
    "duration": 150,
    "start_time": "2022-11-22T07:42:36.578Z"
   },
   {
    "duration": 147,
    "start_time": "2022-11-22T07:42:36.729Z"
   },
   {
    "duration": 148,
    "start_time": "2022-11-22T07:42:36.983Z"
   },
   {
    "duration": 132,
    "start_time": "2022-11-22T07:42:37.177Z"
   },
   {
    "duration": 156,
    "start_time": "2022-11-22T07:42:37.563Z"
   },
   {
    "duration": 146,
    "start_time": "2022-11-22T07:42:37.784Z"
   },
   {
    "duration": 143,
    "start_time": "2022-11-22T07:42:38.207Z"
   },
   {
    "duration": 139,
    "start_time": "2022-11-22T07:42:38.417Z"
   },
   {
    "duration": 23,
    "start_time": "2022-11-22T07:42:39.039Z"
   },
   {
    "duration": 17,
    "start_time": "2022-11-22T07:42:40.031Z"
   },
   {
    "duration": 18,
    "start_time": "2022-11-22T07:42:40.239Z"
   },
   {
    "duration": 16,
    "start_time": "2022-11-22T07:42:40.423Z"
   },
   {
    "duration": 17,
    "start_time": "2022-11-22T07:42:40.792Z"
   },
   {
    "duration": 14,
    "start_time": "2022-11-22T07:42:41.137Z"
   },
   {
    "duration": 20,
    "start_time": "2022-11-22T07:42:41.343Z"
   },
   {
    "duration": 14,
    "start_time": "2022-11-22T07:42:42.655Z"
   },
   {
    "duration": 14,
    "start_time": "2022-11-22T07:42:42.883Z"
   },
   {
    "duration": 13,
    "start_time": "2022-11-22T07:42:43.088Z"
   },
   {
    "duration": 13,
    "start_time": "2022-11-22T07:42:44.788Z"
   },
   {
    "duration": 4,
    "start_time": "2022-11-22T07:42:45.777Z"
   },
   {
    "duration": 10,
    "start_time": "2022-11-22T07:42:46.792Z"
   },
   {
    "duration": 5,
    "start_time": "2022-11-22T07:42:46.991Z"
   },
   {
    "duration": 28,
    "start_time": "2022-11-22T08:07:11.555Z"
   },
   {
    "duration": 38,
    "start_time": "2022-11-22T08:07:38.501Z"
   },
   {
    "duration": 38,
    "start_time": "2022-11-22T08:11:11.292Z"
   },
   {
    "duration": 19,
    "start_time": "2022-11-22T08:11:24.860Z"
   },
   {
    "duration": 21,
    "start_time": "2022-11-22T08:12:23.684Z"
   },
   {
    "duration": 58,
    "start_time": "2022-11-22T08:12:43.388Z"
   },
   {
    "duration": 50,
    "start_time": "2022-11-22T08:13:44.212Z"
   },
   {
    "duration": 13,
    "start_time": "2022-11-22T08:14:43.805Z"
   },
   {
    "duration": 165,
    "start_time": "2022-11-22T08:20:53.217Z"
   },
   {
    "duration": 168,
    "start_time": "2022-11-22T08:21:43.168Z"
   },
   {
    "duration": 157,
    "start_time": "2022-11-22T08:22:15.352Z"
   },
   {
    "duration": 252,
    "start_time": "2022-11-22T08:23:23.743Z"
   },
   {
    "duration": 177,
    "start_time": "2022-11-22T08:27:44.798Z"
   },
   {
    "duration": 10,
    "start_time": "2022-11-22T08:28:54.862Z"
   },
   {
    "duration": 6,
    "start_time": "2022-11-22T08:29:01.732Z"
   },
   {
    "duration": 8,
    "start_time": "2022-11-22T08:29:27.341Z"
   },
   {
    "duration": 53,
    "start_time": "2022-11-22T08:29:56.461Z"
   },
   {
    "duration": 166,
    "start_time": "2022-11-22T08:30:03.313Z"
   },
   {
    "duration": 170,
    "start_time": "2022-11-22T08:31:23.372Z"
   },
   {
    "duration": 194,
    "start_time": "2022-11-22T08:31:28.684Z"
   },
   {
    "duration": 258,
    "start_time": "2022-11-22T08:34:32.051Z"
   },
   {
    "duration": 142,
    "start_time": "2022-11-22T08:34:37.379Z"
   },
   {
    "duration": 145,
    "start_time": "2022-11-22T08:34:41.242Z"
   },
   {
    "duration": 245,
    "start_time": "2022-11-22T08:35:10.378Z"
   },
   {
    "duration": 154,
    "start_time": "2022-11-22T08:35:47.347Z"
   },
   {
    "duration": 125,
    "start_time": "2022-11-22T08:42:30.655Z"
   },
   {
    "duration": 235,
    "start_time": "2022-11-22T08:43:22.328Z"
   },
   {
    "duration": 3,
    "start_time": "2022-11-22T11:13:57.940Z"
   },
   {
    "duration": 52,
    "start_time": "2022-11-22T11:13:58.314Z"
   },
   {
    "duration": 13,
    "start_time": "2022-11-22T11:13:58.506Z"
   },
   {
    "duration": 4,
    "start_time": "2022-11-22T11:13:58.913Z"
   },
   {
    "duration": 14,
    "start_time": "2022-11-22T11:13:59.634Z"
   },
   {
    "duration": 4,
    "start_time": "2022-11-22T11:14:00.018Z"
   },
   {
    "duration": 10,
    "start_time": "2022-11-22T11:14:00.530Z"
   },
   {
    "duration": 5,
    "start_time": "2022-11-22T11:14:00.746Z"
   },
   {
    "duration": 14,
    "start_time": "2022-11-22T11:14:00.946Z"
   },
   {
    "duration": 14,
    "start_time": "2022-11-22T11:14:01.529Z"
   },
   {
    "duration": 24,
    "start_time": "2022-11-22T11:14:01.746Z"
   },
   {
    "duration": 8,
    "start_time": "2022-11-22T11:14:02.594Z"
   },
   {
    "duration": 15,
    "start_time": "2022-11-22T11:14:03.466Z"
   },
   {
    "duration": 17,
    "start_time": "2022-11-22T11:14:03.939Z"
   },
   {
    "duration": 5,
    "start_time": "2022-11-22T11:14:04.250Z"
   },
   {
    "duration": 32,
    "start_time": "2022-11-22T11:14:04.545Z"
   },
   {
    "duration": 43,
    "start_time": "2022-11-22T11:14:04.698Z"
   },
   {
    "duration": 41,
    "start_time": "2022-11-22T11:14:04.842Z"
   },
   {
    "duration": 4,
    "start_time": "2022-11-22T11:14:05.137Z"
   },
   {
    "duration": 19,
    "start_time": "2022-11-22T11:14:05.802Z"
   },
   {
    "duration": 18,
    "start_time": "2022-11-22T11:14:06.690Z"
   },
   {
    "duration": 22,
    "start_time": "2022-11-22T11:14:08.050Z"
   },
   {
    "duration": 6,
    "start_time": "2022-11-22T11:14:11.393Z"
   },
   {
    "duration": 145,
    "start_time": "2022-11-22T11:14:12.506Z"
   },
   {
    "duration": 130,
    "start_time": "2022-11-22T11:14:14.889Z"
   },
   {
    "duration": 12,
    "start_time": "2022-11-22T11:14:15.282Z"
   },
   {
    "duration": 41,
    "start_time": "2022-11-22T11:14:18.995Z"
   },
   {
    "duration": 15,
    "start_time": "2022-11-22T11:14:19.201Z"
   },
   {
    "duration": 148,
    "start_time": "2022-11-22T11:14:42.666Z"
   },
   {
    "duration": 155,
    "start_time": "2022-11-22T11:17:53.406Z"
   },
   {
    "duration": 244,
    "start_time": "2022-11-22T11:19:14.543Z"
   },
   {
    "duration": 164,
    "start_time": "2022-11-22T11:19:27.023Z"
   },
   {
    "duration": 142,
    "start_time": "2022-11-22T11:19:34.240Z"
   },
   {
    "duration": 190,
    "start_time": "2022-11-22T11:27:44.049Z"
   },
   {
    "duration": 14553,
    "start_time": "2022-11-22T11:28:05.853Z"
   },
   {
    "duration": 101,
    "start_time": "2022-11-22T11:28:39.748Z"
   },
   {
    "duration": 99,
    "start_time": "2022-11-22T11:28:58.853Z"
   },
   {
    "duration": 113,
    "start_time": "2022-11-22T11:29:02.556Z"
   },
   {
    "duration": 149,
    "start_time": "2022-11-22T11:30:16.885Z"
   },
   {
    "duration": 106,
    "start_time": "2022-11-22T11:33:42.972Z"
   },
   {
    "duration": 8,
    "start_time": "2022-11-22T11:35:59.673Z"
   },
   {
    "duration": 3,
    "start_time": "2022-11-22T11:36:14.872Z"
   },
   {
    "duration": 56,
    "start_time": "2022-11-22T11:36:15.232Z"
   },
   {
    "duration": 17,
    "start_time": "2022-11-22T11:36:15.419Z"
   },
   {
    "duration": 3,
    "start_time": "2022-11-22T11:36:15.760Z"
   },
   {
    "duration": 14,
    "start_time": "2022-11-22T11:36:16.136Z"
   },
   {
    "duration": 4,
    "start_time": "2022-11-22T11:36:16.488Z"
   },
   {
    "duration": 11,
    "start_time": "2022-11-22T11:36:16.693Z"
   },
   {
    "duration": 6,
    "start_time": "2022-11-22T11:36:16.864Z"
   },
   {
    "duration": 14,
    "start_time": "2022-11-22T11:36:17.048Z"
   },
   {
    "duration": 10,
    "start_time": "2022-11-22T11:36:17.600Z"
   },
   {
    "duration": 14,
    "start_time": "2022-11-22T11:36:17.791Z"
   },
   {
    "duration": 9,
    "start_time": "2022-11-22T11:36:18.152Z"
   },
   {
    "duration": 15,
    "start_time": "2022-11-22T11:36:18.504Z"
   },
   {
    "duration": 16,
    "start_time": "2022-11-22T11:36:19.096Z"
   },
   {
    "duration": 6,
    "start_time": "2022-11-22T11:36:19.687Z"
   },
   {
    "duration": 35,
    "start_time": "2022-11-22T11:36:20.048Z"
   },
   {
    "duration": 43,
    "start_time": "2022-11-22T11:36:20.216Z"
   },
   {
    "duration": 43,
    "start_time": "2022-11-22T11:36:20.593Z"
   },
   {
    "duration": 7,
    "start_time": "2022-11-22T11:36:21.255Z"
   },
   {
    "duration": 21,
    "start_time": "2022-11-22T11:36:21.968Z"
   },
   {
    "duration": 20,
    "start_time": "2022-11-22T11:36:22.776Z"
   },
   {
    "duration": 20,
    "start_time": "2022-11-22T11:36:23.699Z"
   },
   {
    "duration": 5,
    "start_time": "2022-11-22T11:36:24.976Z"
   },
   {
    "duration": 149,
    "start_time": "2022-11-22T11:36:26.393Z"
   },
   {
    "duration": 116,
    "start_time": "2022-11-22T11:36:26.823Z"
   },
   {
    "duration": 14,
    "start_time": "2022-11-22T11:36:27.400Z"
   },
   {
    "duration": 43,
    "start_time": "2022-11-22T11:36:29.024Z"
   },
   {
    "duration": 14,
    "start_time": "2022-11-22T11:36:29.544Z"
   },
   {
    "duration": 145,
    "start_time": "2022-11-22T11:36:34.880Z"
   },
   {
    "duration": 150,
    "start_time": "2022-11-22T11:36:36.776Z"
   },
   {
    "duration": 151,
    "start_time": "2022-11-22T11:37:17.673Z"
   },
   {
    "duration": 153,
    "start_time": "2022-11-22T11:38:11.552Z"
   },
   {
    "duration": 153,
    "start_time": "2022-11-22T11:41:51.111Z"
   },
   {
    "duration": 8,
    "start_time": "2022-11-22T11:44:33.662Z"
   },
   {
    "duration": 43,
    "start_time": "2022-11-22T11:44:43.808Z"
   },
   {
    "duration": 58,
    "start_time": "2022-11-22T11:45:13.149Z"
   },
   {
    "duration": 14,
    "start_time": "2022-11-22T11:45:57.014Z"
   },
   {
    "duration": 13,
    "start_time": "2022-11-22T11:48:59.371Z"
   },
   {
    "duration": 18,
    "start_time": "2022-11-22T11:49:23.434Z"
   },
   {
    "duration": 19,
    "start_time": "2022-11-22T11:49:54.443Z"
   },
   {
    "duration": 18,
    "start_time": "2022-11-22T11:50:03.867Z"
   },
   {
    "duration": 10,
    "start_time": "2022-11-22T11:50:16.050Z"
   },
   {
    "duration": 12,
    "start_time": "2022-11-22T11:50:21.114Z"
   },
   {
    "duration": 50,
    "start_time": "2022-11-22T11:50:35.731Z"
   },
   {
    "duration": 15,
    "start_time": "2022-11-22T11:50:40.123Z"
   },
   {
    "duration": 17,
    "start_time": "2022-11-22T11:53:59.938Z"
   },
   {
    "duration": 8,
    "start_time": "2022-11-22T11:54:01.760Z"
   },
   {
    "duration": 2446,
    "start_time": "2022-11-22T11:54:02.024Z"
   },
   {
    "duration": 2432,
    "start_time": "2022-11-22T11:54:10.417Z"
   },
   {
    "duration": 14,
    "start_time": "2022-11-22T11:58:59.006Z"
   },
   {
    "duration": 4,
    "start_time": "2022-11-22T12:01:49.726Z"
   },
   {
    "duration": 13,
    "start_time": "2022-11-22T12:02:35.310Z"
   },
   {
    "duration": 9,
    "start_time": "2022-11-22T12:04:25.549Z"
   },
   {
    "duration": 51,
    "start_time": "2022-11-22T12:05:51.429Z"
   },
   {
    "duration": 50,
    "start_time": "2022-11-22T12:06:05.220Z"
   },
   {
    "duration": 125,
    "start_time": "2022-11-22T12:07:03.211Z"
   },
   {
    "duration": 18,
    "start_time": "2022-11-22T12:08:24.739Z"
   },
   {
    "duration": 21,
    "start_time": "2022-11-22T12:09:34.960Z"
   },
   {
    "duration": 61,
    "start_time": "2022-11-22T12:10:02.875Z"
   },
   {
    "duration": 76,
    "start_time": "2022-11-22T12:13:06.392Z"
   },
   {
    "duration": 47,
    "start_time": "2022-11-22T12:17:45.872Z"
   },
   {
    "duration": 5,
    "start_time": "2022-11-22T12:18:03.656Z"
   },
   {
    "duration": 19,
    "start_time": "2022-11-22T12:18:06.981Z"
   },
   {
    "duration": 3,
    "start_time": "2022-11-22T12:22:17.254Z"
   },
   {
    "duration": 6,
    "start_time": "2022-11-22T12:22:19.671Z"
   },
   {
    "duration": 162,
    "start_time": "2022-11-22T12:22:19.959Z"
   },
   {
    "duration": 161,
    "start_time": "2022-11-22T12:22:24.985Z"
   },
   {
    "duration": 77,
    "start_time": "2022-11-22T12:24:30.679Z"
   },
   {
    "duration": 216,
    "start_time": "2022-11-22T12:25:09.734Z"
   },
   {
    "duration": 238,
    "start_time": "2022-11-22T12:25:28.205Z"
   },
   {
    "duration": 1239,
    "start_time": "2022-11-22T12:26:08.793Z"
   },
   {
    "duration": 3,
    "start_time": "2022-11-22T13:13:10.895Z"
   },
   {
    "duration": 60,
    "start_time": "2022-11-22T13:13:10.900Z"
   },
   {
    "duration": 15,
    "start_time": "2022-11-22T13:13:10.961Z"
   },
   {
    "duration": 8,
    "start_time": "2022-11-22T13:13:10.978Z"
   },
   {
    "duration": 21,
    "start_time": "2022-11-22T13:13:10.987Z"
   },
   {
    "duration": 4,
    "start_time": "2022-11-22T13:13:11.015Z"
   },
   {
    "duration": 12,
    "start_time": "2022-11-22T13:13:11.022Z"
   },
   {
    "duration": 5,
    "start_time": "2022-11-22T13:13:11.036Z"
   },
   {
    "duration": 17,
    "start_time": "2022-11-22T13:13:11.045Z"
   },
   {
    "duration": 11,
    "start_time": "2022-11-22T13:13:11.064Z"
   },
   {
    "duration": 46,
    "start_time": "2022-11-22T13:13:11.077Z"
   },
   {
    "duration": 7,
    "start_time": "2022-11-22T13:13:11.124Z"
   },
   {
    "duration": 16,
    "start_time": "2022-11-22T13:13:11.133Z"
   },
   {
    "duration": 17,
    "start_time": "2022-11-22T13:13:11.151Z"
   },
   {
    "duration": 7,
    "start_time": "2022-11-22T13:13:11.170Z"
   },
   {
    "duration": 69,
    "start_time": "2022-11-22T13:13:11.179Z"
   },
   {
    "duration": 47,
    "start_time": "2022-11-22T13:13:11.250Z"
   },
   {
    "duration": 55,
    "start_time": "2022-11-22T13:13:11.299Z"
   },
   {
    "duration": 4,
    "start_time": "2022-11-22T13:13:11.356Z"
   },
   {
    "duration": 30,
    "start_time": "2022-11-22T13:13:11.362Z"
   },
   {
    "duration": 37,
    "start_time": "2022-11-22T13:13:11.394Z"
   },
   {
    "duration": 36,
    "start_time": "2022-11-22T13:13:11.433Z"
   },
   {
    "duration": 5,
    "start_time": "2022-11-22T13:13:11.470Z"
   },
   {
    "duration": 149,
    "start_time": "2022-11-22T13:13:11.478Z"
   },
   {
    "duration": 133,
    "start_time": "2022-11-22T13:13:11.628Z"
   },
   {
    "duration": 13,
    "start_time": "2022-11-22T13:13:11.763Z"
   },
   {
    "duration": 14,
    "start_time": "2022-11-22T13:13:11.777Z"
   },
   {
    "duration": 24,
    "start_time": "2022-11-22T13:13:11.793Z"
   },
   {
    "duration": 16,
    "start_time": "2022-11-22T13:13:11.819Z"
   },
   {
    "duration": 178,
    "start_time": "2022-11-22T13:13:11.837Z"
   },
   {
    "duration": 15,
    "start_time": "2022-11-22T13:13:12.017Z"
   },
   {
    "duration": 19,
    "start_time": "2022-11-22T13:13:12.034Z"
   },
   {
    "duration": 8,
    "start_time": "2022-11-22T13:13:12.056Z"
   },
   {
    "duration": 2515,
    "start_time": "2022-11-22T13:13:12.066Z"
   },
   {
    "duration": 21,
    "start_time": "2022-11-22T13:13:14.583Z"
   },
   {
    "duration": 16,
    "start_time": "2022-11-22T13:13:14.616Z"
   },
   {
    "duration": 22,
    "start_time": "2022-11-22T13:13:14.634Z"
   },
   {
    "duration": 32,
    "start_time": "2022-11-22T13:13:14.657Z"
   },
   {
    "duration": 23,
    "start_time": "2022-11-22T13:13:14.690Z"
   },
   {
    "duration": 27,
    "start_time": "2022-11-22T13:13:14.715Z"
   },
   {
    "duration": 190,
    "start_time": "2022-11-22T13:13:14.744Z"
   },
   {
    "duration": 187,
    "start_time": "2022-11-22T13:13:14.935Z"
   },
   {
    "duration": 238,
    "start_time": "2022-11-22T13:13:15.123Z"
   },
   {
    "duration": 219,
    "start_time": "2022-11-22T13:13:15.363Z"
   },
   {
    "duration": 140,
    "start_time": "2022-11-22T13:13:15.584Z"
   },
   {
    "duration": 158,
    "start_time": "2022-11-22T13:13:15.725Z"
   },
   {
    "duration": 156,
    "start_time": "2022-11-22T13:13:15.884Z"
   },
   {
    "duration": 149,
    "start_time": "2022-11-22T13:13:16.042Z"
   },
   {
    "duration": 198,
    "start_time": "2022-11-22T13:13:16.193Z"
   },
   {
    "duration": 185,
    "start_time": "2022-11-22T13:13:16.393Z"
   },
   {
    "duration": 20,
    "start_time": "2022-11-22T13:13:16.580Z"
   },
   {
    "duration": 244,
    "start_time": "2022-11-22T13:14:27.025Z"
   },
   {
    "duration": 251,
    "start_time": "2022-11-22T13:14:32.304Z"
   },
   {
    "duration": 238,
    "start_time": "2022-11-22T13:14:40.477Z"
   },
   {
    "duration": 240,
    "start_time": "2022-11-22T13:15:32.992Z"
   },
   {
    "duration": 286,
    "start_time": "2022-11-22T13:15:39.400Z"
   },
   {
    "duration": 239,
    "start_time": "2022-11-22T13:15:59.705Z"
   },
   {
    "duration": 258,
    "start_time": "2022-11-22T13:16:03.112Z"
   },
   {
    "duration": 264,
    "start_time": "2022-11-22T13:17:02.120Z"
   },
   {
    "duration": 247,
    "start_time": "2022-11-22T13:18:30.152Z"
   },
   {
    "duration": 344,
    "start_time": "2022-11-22T13:23:02.558Z"
   },
   {
    "duration": 278,
    "start_time": "2022-11-22T13:23:09.469Z"
   },
   {
    "duration": 281,
    "start_time": "2022-11-22T13:23:20.484Z"
   },
   {
    "duration": 292,
    "start_time": "2022-11-22T13:23:25.891Z"
   },
   {
    "duration": 346,
    "start_time": "2022-11-22T13:23:36.165Z"
   },
   {
    "duration": 834,
    "start_time": "2022-11-22T13:36:12.946Z"
   },
   {
    "duration": 16,
    "start_time": "2022-11-22T13:36:35.431Z"
   },
   {
    "duration": 7,
    "start_time": "2022-11-22T13:36:44.121Z"
   },
   {
    "duration": 15,
    "start_time": "2022-11-22T13:37:14.783Z"
   },
   {
    "duration": 5,
    "start_time": "2022-11-22T13:37:17.567Z"
   },
   {
    "duration": 130,
    "start_time": "2022-11-22T13:38:11.008Z"
   },
   {
    "duration": 144,
    "start_time": "2022-11-22T13:38:15.108Z"
   },
   {
    "duration": 16,
    "start_time": "2022-11-22T13:38:41.471Z"
   },
   {
    "duration": 4,
    "start_time": "2022-11-22T13:39:17.766Z"
   },
   {
    "duration": 11,
    "start_time": "2022-11-22T13:39:21.094Z"
   },
   {
    "duration": 5,
    "start_time": "2022-11-22T13:39:21.862Z"
   },
   {
    "duration": 15,
    "start_time": "2022-11-22T13:42:47.341Z"
   },
   {
    "duration": 15,
    "start_time": "2022-11-22T13:42:47.580Z"
   },
   {
    "duration": 15,
    "start_time": "2022-11-22T13:42:47.780Z"
   },
   {
    "duration": 2,
    "start_time": "2022-11-22T14:00:57.283Z"
   },
   {
    "duration": 56,
    "start_time": "2022-11-22T14:00:57.287Z"
   },
   {
    "duration": 14,
    "start_time": "2022-11-22T14:00:57.345Z"
   },
   {
    "duration": 16,
    "start_time": "2022-11-22T14:00:57.361Z"
   },
   {
    "duration": 37,
    "start_time": "2022-11-22T14:00:57.378Z"
   },
   {
    "duration": 4,
    "start_time": "2022-11-22T14:00:57.417Z"
   },
   {
    "duration": 13,
    "start_time": "2022-11-22T14:00:57.422Z"
   },
   {
    "duration": 4,
    "start_time": "2022-11-22T14:00:57.437Z"
   },
   {
    "duration": 15,
    "start_time": "2022-11-22T14:00:57.444Z"
   },
   {
    "duration": 8,
    "start_time": "2022-11-22T14:00:57.461Z"
   },
   {
    "duration": 14,
    "start_time": "2022-11-22T14:00:57.471Z"
   },
   {
    "duration": 34,
    "start_time": "2022-11-22T14:00:57.486Z"
   },
   {
    "duration": 15,
    "start_time": "2022-11-22T14:00:57.522Z"
   },
   {
    "duration": 17,
    "start_time": "2022-11-22T14:00:57.539Z"
   },
   {
    "duration": 6,
    "start_time": "2022-11-22T14:00:57.557Z"
   },
   {
    "duration": 52,
    "start_time": "2022-11-22T14:00:57.564Z"
   },
   {
    "duration": 42,
    "start_time": "2022-11-22T14:00:57.618Z"
   },
   {
    "duration": 55,
    "start_time": "2022-11-22T14:00:57.661Z"
   },
   {
    "duration": 4,
    "start_time": "2022-11-22T14:00:57.717Z"
   },
   {
    "duration": 28,
    "start_time": "2022-11-22T14:00:57.723Z"
   },
   {
    "duration": 17,
    "start_time": "2022-11-22T14:00:57.753Z"
   },
   {
    "duration": 22,
    "start_time": "2022-11-22T14:00:57.772Z"
   },
   {
    "duration": 20,
    "start_time": "2022-11-22T14:00:57.796Z"
   },
   {
    "duration": 138,
    "start_time": "2022-11-22T14:00:57.819Z"
   },
   {
    "duration": 133,
    "start_time": "2022-11-22T14:00:57.959Z"
   },
   {
    "duration": 13,
    "start_time": "2022-11-22T14:00:58.093Z"
   },
   {
    "duration": 21,
    "start_time": "2022-11-22T14:00:58.116Z"
   },
   {
    "duration": 20,
    "start_time": "2022-11-22T14:00:58.138Z"
   },
   {
    "duration": 35,
    "start_time": "2022-11-22T14:00:58.159Z"
   },
   {
    "duration": 189,
    "start_time": "2022-11-22T14:00:58.196Z"
   },
   {
    "duration": 14,
    "start_time": "2022-11-22T14:00:58.387Z"
   },
   {
    "duration": 26,
    "start_time": "2022-11-22T14:00:58.403Z"
   },
   {
    "duration": 7,
    "start_time": "2022-11-22T14:00:58.431Z"
   },
   {
    "duration": 2413,
    "start_time": "2022-11-22T14:00:58.440Z"
   },
   {
    "duration": 20,
    "start_time": "2022-11-22T14:01:00.855Z"
   },
   {
    "duration": 39,
    "start_time": "2022-11-22T14:01:00.876Z"
   },
   {
    "duration": 43,
    "start_time": "2022-11-22T14:01:00.916Z"
   },
   {
    "duration": 39,
    "start_time": "2022-11-22T14:01:00.961Z"
   },
   {
    "duration": 37,
    "start_time": "2022-11-22T14:01:01.002Z"
   },
   {
    "duration": 54,
    "start_time": "2022-11-22T14:01:01.041Z"
   },
   {
    "duration": 206,
    "start_time": "2022-11-22T14:01:01.098Z"
   },
   {
    "duration": 181,
    "start_time": "2022-11-22T14:01:01.306Z"
   },
   {
    "duration": 234,
    "start_time": "2022-11-22T14:01:01.489Z"
   },
   {
    "duration": 233,
    "start_time": "2022-11-22T14:01:01.725Z"
   },
   {
    "duration": 145,
    "start_time": "2022-11-22T14:01:01.960Z"
   },
   {
    "duration": 151,
    "start_time": "2022-11-22T14:01:02.107Z"
   },
   {
    "duration": 154,
    "start_time": "2022-11-22T14:01:02.261Z"
   },
   {
    "duration": 164,
    "start_time": "2022-11-22T14:01:02.418Z"
   },
   {
    "duration": 152,
    "start_time": "2022-11-22T14:01:02.584Z"
   },
   {
    "duration": 141,
    "start_time": "2022-11-22T14:01:02.738Z"
   },
   {
    "duration": 17,
    "start_time": "2022-11-22T14:01:02.881Z"
   },
   {
    "duration": 308,
    "start_time": "2022-11-22T14:01:02.900Z"
   },
   {
    "duration": 289,
    "start_time": "2022-11-22T14:01:03.209Z"
   },
   {
    "duration": 21,
    "start_time": "2022-11-22T14:01:03.500Z"
   },
   {
    "duration": 45,
    "start_time": "2022-11-22T14:01:03.523Z"
   },
   {
    "duration": 28,
    "start_time": "2022-11-22T14:01:03.569Z"
   },
   {
    "duration": 32,
    "start_time": "2022-11-22T14:01:03.599Z"
   },
   {
    "duration": 29,
    "start_time": "2022-11-22T14:01:03.632Z"
   },
   {
    "duration": 32,
    "start_time": "2022-11-22T14:01:03.663Z"
   },
   {
    "duration": 19,
    "start_time": "2022-11-22T14:01:03.696Z"
   },
   {
    "duration": 13,
    "start_time": "2022-11-22T14:01:03.716Z"
   },
   {
    "duration": 12,
    "start_time": "2022-11-22T14:01:03.730Z"
   },
   {
    "duration": 17,
    "start_time": "2022-11-22T14:01:03.743Z"
   },
   {
    "duration": 7,
    "start_time": "2022-11-22T14:01:03.761Z"
   },
   {
    "duration": 12,
    "start_time": "2022-11-22T14:01:03.769Z"
   },
   {
    "duration": 27,
    "start_time": "2022-11-22T14:01:03.782Z"
   },
   {
    "duration": 56,
    "start_time": "2022-11-22T14:46:56.010Z"
   },
   {
    "duration": 11,
    "start_time": "2022-11-22T14:47:20.490Z"
   },
   {
    "duration": 6,
    "start_time": "2022-11-22T14:47:33.202Z"
   },
   {
    "duration": 5,
    "start_time": "2022-11-22T14:47:43.281Z"
   },
   {
    "duration": 3,
    "start_time": "2022-11-22T14:52:23.976Z"
   },
   {
    "duration": 11,
    "start_time": "2022-11-22T14:52:55.424Z"
   },
   {
    "duration": 697,
    "start_time": "2022-11-22T14:54:48.110Z"
   },
   {
    "duration": 224,
    "start_time": "2022-11-22T14:55:32.063Z"
   },
   {
    "duration": 90,
    "start_time": "2022-11-22T15:04:35.539Z"
   },
   {
    "duration": 12,
    "start_time": "2022-11-22T15:04:51.962Z"
   },
   {
    "duration": 6,
    "start_time": "2022-11-22T15:04:56.106Z"
   },
   {
    "duration": 57,
    "start_time": "2022-11-22T15:10:54.256Z"
   },
   {
    "duration": 10,
    "start_time": "2022-11-22T15:11:27.496Z"
   },
   {
    "duration": 28,
    "start_time": "2022-11-22T15:12:09.232Z"
   },
   {
    "duration": 20,
    "start_time": "2022-11-22T15:12:22.472Z"
   },
   {
    "duration": 14,
    "start_time": "2022-11-22T15:13:49.295Z"
   },
   {
    "duration": 14,
    "start_time": "2022-11-22T15:15:15.662Z"
   },
   {
    "duration": 13,
    "start_time": "2022-11-22T15:15:17.030Z"
   },
   {
    "duration": 9,
    "start_time": "2022-11-22T15:15:58.998Z"
   },
   {
    "duration": 15,
    "start_time": "2022-11-22T15:16:12.102Z"
   },
   {
    "duration": 235,
    "start_time": "2022-11-22T16:12:40.836Z"
   },
   {
    "duration": 97,
    "start_time": "2022-11-22T16:13:56.302Z"
   },
   {
    "duration": 4516,
    "start_time": "2022-11-22T16:16:55.333Z"
   },
   {
    "duration": 133,
    "start_time": "2022-11-22T16:18:38.317Z"
   },
   {
    "duration": 332,
    "start_time": "2022-11-22T16:19:23.172Z"
   },
   {
    "duration": 312,
    "start_time": "2022-11-22T16:21:12.364Z"
   },
   {
    "duration": 160,
    "start_time": "2022-11-22T16:25:44.209Z"
   },
   {
    "duration": 314,
    "start_time": "2022-11-22T16:26:05.706Z"
   },
   {
    "duration": 295,
    "start_time": "2022-11-22T16:27:06.521Z"
   },
   {
    "duration": 302,
    "start_time": "2022-11-22T16:28:03.921Z"
   },
   {
    "duration": 370,
    "start_time": "2022-11-22T16:31:36.640Z"
   },
   {
    "duration": 285,
    "start_time": "2022-11-22T16:32:29.351Z"
   },
   {
    "duration": 299,
    "start_time": "2022-11-22T16:35:48.638Z"
   },
   {
    "duration": 303,
    "start_time": "2022-11-22T16:38:05.709Z"
   },
   {
    "duration": 315,
    "start_time": "2022-11-22T16:38:26.716Z"
   },
   {
    "duration": 306,
    "start_time": "2022-11-22T16:38:34.549Z"
   },
   {
    "duration": 316,
    "start_time": "2022-11-22T16:39:19.132Z"
   },
   {
    "duration": 303,
    "start_time": "2022-11-22T16:40:20.488Z"
   },
   {
    "duration": 616,
    "start_time": "2022-11-22T16:42:05.724Z"
   },
   {
    "duration": 436,
    "start_time": "2022-11-22T16:42:12.652Z"
   },
   {
    "duration": 308,
    "start_time": "2022-11-22T16:42:17.499Z"
   },
   {
    "duration": 308,
    "start_time": "2022-11-22T16:42:26.651Z"
   },
   {
    "duration": 605,
    "start_time": "2022-11-22T16:44:04.034Z"
   },
   {
    "duration": 10,
    "start_time": "2022-11-22T16:44:12.473Z"
   },
   {
    "duration": 210,
    "start_time": "2022-11-22T16:45:21.937Z"
   },
   {
    "duration": 228,
    "start_time": "2022-11-22T16:45:35.874Z"
   },
   {
    "duration": 305,
    "start_time": "2022-11-22T16:46:20.578Z"
   }
  ],
  "kernelspec": {
   "display_name": "Python 3 (ipykernel)",
   "language": "python",
   "name": "python3"
  },
  "language_info": {
   "codemirror_mode": {
    "name": "ipython",
    "version": 3
   },
   "file_extension": ".py",
   "mimetype": "text/x-python",
   "name": "python",
   "nbconvert_exporter": "python",
   "pygments_lexer": "ipython3",
   "version": "3.9.7"
  },
  "toc": {
   "base_numbering": 1,
   "nav_menu": {},
   "number_sections": true,
   "sideBar": true,
   "skip_h1_title": true,
   "title_cell": "Table of Contents",
   "title_sidebar": "Contents",
   "toc_cell": false,
   "toc_position": {},
   "toc_section_display": true,
   "toc_window_display": true
  }
 },
 "nbformat": 4,
 "nbformat_minor": 2
}

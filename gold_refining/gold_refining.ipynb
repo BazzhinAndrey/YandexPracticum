{
 "cells": [
  {
   "cell_type": "markdown",
   "metadata": {
    "toc": true
   },
   "source": [
    "<h1>Содержание<span class=\"tocSkip\"></span></h1>\n",
    "<div class=\"toc\"><ul class=\"toc-item\"><li><span><a href=\"#Подготовка-данных\" data-toc-modified-id=\"Подготовка-данных-1\"><span class=\"toc-item-num\">1&nbsp;&nbsp;</span>Подготовка данных</a></span></li><li><span><a href=\"#Анализ-данных\" data-toc-modified-id=\"Анализ-данных-2\"><span class=\"toc-item-num\">2&nbsp;&nbsp;</span>Анализ данных</a></span></li><li><span><a href=\"#Модель\" data-toc-modified-id=\"Модель-3\"><span class=\"toc-item-num\">3&nbsp;&nbsp;</span>Модель</a></span><ul class=\"toc-item\"><li><span><a href=\"#Модель-для-этапа-флотации\" data-toc-modified-id=\"Модель-для-этапа-флотации-3.1\"><span class=\"toc-item-num\">3.1&nbsp;&nbsp;</span>Модель для этапа флотации</a></span></li><li><span><a href=\"#Модель-для-этапа-очистки\" data-toc-modified-id=\"Модель-для-этапа-очистки-3.2\"><span class=\"toc-item-num\">3.2&nbsp;&nbsp;</span>Модель для этапа очистки</a></span></li></ul></li><li><span><a href=\"#Чек-лист-готовности-проекта\" data-toc-modified-id=\"Чек-лист-готовности-проекта-4\"><span class=\"toc-item-num\">4&nbsp;&nbsp;</span>Чек-лист готовности проекта</a></span></li></ul></div>"
   ]
  },
  {
   "cell_type": "markdown",
   "metadata": {},
   "source": [
    "# Восстановление золота из руды"
   ]
  },
  {
   "cell_type": "markdown",
   "metadata": {},
   "source": [
    "Подготовьте прототип модели машинного обучения для «Цифры». Компания разрабатывает решения для эффективной работы промышленных предприятий.\n",
    "\n",
    "Модель должна предсказать коэффициент восстановления золота из золотосодержащей руды. Используйте данные с параметрами добычи и очистки. \n",
    "\n",
    "Модель поможет оптимизировать производство, чтобы не запускать предприятие с убыточными характеристиками.\n",
    "\n",
    "Вам нужно:\n",
    "\n",
    "1. Подготовить данные;\n",
    "2. Провести исследовательский анализ данных;\n",
    "3. Построить и обучить модель.\n",
    "\n",
    "Чтобы выполнить проект, обращайтесь к библиотекам *pandas*, *matplotlib* и *sklearn.* Вам поможет их документация."
   ]
  },
  {
   "cell_type": "markdown",
   "metadata": {},
   "source": [
    "## Подготовка данных"
   ]
  },
  {
   "cell_type": "code",
   "execution_count": 198,
   "metadata": {},
   "outputs": [],
   "source": [
    "import pandas as pd\n",
    "import numpy as np\n",
    "from sklearn.metrics import mean_absolute_error\n",
    "from sklearn.preprocessing import StandardScaler\n",
    "import matplotlib.pyplot as plt\n",
    "import seaborn as sns\n",
    "from sklearn.metrics import mean_absolute_percentage_error,mean_absolute_error\n",
    "from sklearn.ensemble import GradientBoostingRegressor\n",
    "from sklearn.ensemble import RandomForestRegressor\n",
    "from sklearn.tree import DecisionTreeRegressor\n",
    "from sklearn.linear_model import LinearRegression\n",
    "from sklearn.model_selection import cross_val_score,train_test_split, GridSearchCV\n",
    "from sklearn.metrics import make_scorer\n",
    "from sklearn.dummy import DummyRegressor"
   ]
  },
  {
   "cell_type": "code",
   "execution_count": 199,
   "metadata": {},
   "outputs": [],
   "source": [
    "import warnings\n",
    "warnings.filterwarnings('ignore')"
   ]
  },
  {
   "cell_type": "code",
   "execution_count": null,
   "metadata": {},
   "outputs": [],
   "source": [
    "numerical_methods"
   ]
  },
  {
   "cell_type": "code",
   "execution_count": 200,
   "metadata": {},
   "outputs": [],
   "source": [
    "try:\n",
    "    df_train=pd.read_csv('datasets\\gold_recovery_train_new.csv',index_col='date')\n",
    "    df_test=pd.read_csv('datasets\\gold_recovery_test_new.csv',index_col='date')\n",
    "    df=pd.read_csv('datasets\\gold_recovery_full_new.csv',index_col='date')\n",
    "except:\n",
    "    df_train=pd.read_csv('/datasets/gold_recovery_train_new.csv',index_col='date')\n",
    "    df_test=pd.read_csv('/datasets/gold_recovery_test_new.csv',index_col='date')\n",
    "    df=pd.read_csv('/datasets/gold_recovery_full_new.csv',index_col='date')"
   ]
  },
  {
   "cell_type": "code",
   "execution_count": 201,
   "metadata": {},
   "outputs": [
    {
     "data": {
      "text/html": [
       "<div>\n",
       "<style scoped>\n",
       "    .dataframe tbody tr th:only-of-type {\n",
       "        vertical-align: middle;\n",
       "    }\n",
       "\n",
       "    .dataframe tbody tr th {\n",
       "        vertical-align: top;\n",
       "    }\n",
       "\n",
       "    .dataframe thead th {\n",
       "        text-align: right;\n",
       "    }\n",
       "</style>\n",
       "<table border=\"1\" class=\"dataframe\">\n",
       "  <thead>\n",
       "    <tr style=\"text-align: right;\">\n",
       "      <th></th>\n",
       "      <th>final.output.concentrate_ag</th>\n",
       "      <th>final.output.concentrate_pb</th>\n",
       "      <th>final.output.concentrate_sol</th>\n",
       "      <th>final.output.concentrate_au</th>\n",
       "      <th>final.output.recovery</th>\n",
       "      <th>final.output.tail_ag</th>\n",
       "      <th>final.output.tail_pb</th>\n",
       "      <th>final.output.tail_sol</th>\n",
       "      <th>final.output.tail_au</th>\n",
       "      <th>primary_cleaner.input.sulfate</th>\n",
       "      <th>...</th>\n",
       "      <th>secondary_cleaner.state.floatbank4_a_air</th>\n",
       "      <th>secondary_cleaner.state.floatbank4_a_level</th>\n",
       "      <th>secondary_cleaner.state.floatbank4_b_air</th>\n",
       "      <th>secondary_cleaner.state.floatbank4_b_level</th>\n",
       "      <th>secondary_cleaner.state.floatbank5_a_air</th>\n",
       "      <th>secondary_cleaner.state.floatbank5_a_level</th>\n",
       "      <th>secondary_cleaner.state.floatbank5_b_air</th>\n",
       "      <th>secondary_cleaner.state.floatbank5_b_level</th>\n",
       "      <th>secondary_cleaner.state.floatbank6_a_air</th>\n",
       "      <th>secondary_cleaner.state.floatbank6_a_level</th>\n",
       "    </tr>\n",
       "    <tr>\n",
       "      <th>date</th>\n",
       "      <th></th>\n",
       "      <th></th>\n",
       "      <th></th>\n",
       "      <th></th>\n",
       "      <th></th>\n",
       "      <th></th>\n",
       "      <th></th>\n",
       "      <th></th>\n",
       "      <th></th>\n",
       "      <th></th>\n",
       "      <th></th>\n",
       "      <th></th>\n",
       "      <th></th>\n",
       "      <th></th>\n",
       "      <th></th>\n",
       "      <th></th>\n",
       "      <th></th>\n",
       "      <th></th>\n",
       "      <th></th>\n",
       "      <th></th>\n",
       "      <th></th>\n",
       "    </tr>\n",
       "  </thead>\n",
       "  <tbody>\n",
       "    <tr>\n",
       "      <th>2016-01-15 00:00:00</th>\n",
       "      <td>6.055403</td>\n",
       "      <td>9.889648</td>\n",
       "      <td>5.507324</td>\n",
       "      <td>42.192020</td>\n",
       "      <td>70.541216</td>\n",
       "      <td>10.411962</td>\n",
       "      <td>0.895447</td>\n",
       "      <td>16.904297</td>\n",
       "      <td>2.143149</td>\n",
       "      <td>127.092003</td>\n",
       "      <td>...</td>\n",
       "      <td>14.016835</td>\n",
       "      <td>-502.488007</td>\n",
       "      <td>12.099931</td>\n",
       "      <td>-504.715942</td>\n",
       "      <td>9.925633</td>\n",
       "      <td>-498.310211</td>\n",
       "      <td>8.079666</td>\n",
       "      <td>-500.470978</td>\n",
       "      <td>14.151341</td>\n",
       "      <td>-605.841980</td>\n",
       "    </tr>\n",
       "    <tr>\n",
       "      <th>2016-01-15 01:00:00</th>\n",
       "      <td>6.029369</td>\n",
       "      <td>9.968944</td>\n",
       "      <td>5.257781</td>\n",
       "      <td>42.701629</td>\n",
       "      <td>69.266198</td>\n",
       "      <td>10.462676</td>\n",
       "      <td>0.927452</td>\n",
       "      <td>16.634514</td>\n",
       "      <td>2.224930</td>\n",
       "      <td>125.629232</td>\n",
       "      <td>...</td>\n",
       "      <td>13.992281</td>\n",
       "      <td>-505.503262</td>\n",
       "      <td>11.950531</td>\n",
       "      <td>-501.331529</td>\n",
       "      <td>10.039245</td>\n",
       "      <td>-500.169983</td>\n",
       "      <td>7.984757</td>\n",
       "      <td>-500.582168</td>\n",
       "      <td>13.998353</td>\n",
       "      <td>-599.787184</td>\n",
       "    </tr>\n",
       "    <tr>\n",
       "      <th>2016-01-15 02:00:00</th>\n",
       "      <td>6.055926</td>\n",
       "      <td>10.213995</td>\n",
       "      <td>5.383759</td>\n",
       "      <td>42.657501</td>\n",
       "      <td>68.116445</td>\n",
       "      <td>10.507046</td>\n",
       "      <td>0.953716</td>\n",
       "      <td>16.208849</td>\n",
       "      <td>2.257889</td>\n",
       "      <td>123.819808</td>\n",
       "      <td>...</td>\n",
       "      <td>14.015015</td>\n",
       "      <td>-502.520901</td>\n",
       "      <td>11.912783</td>\n",
       "      <td>-501.133383</td>\n",
       "      <td>10.070913</td>\n",
       "      <td>-500.129135</td>\n",
       "      <td>8.013877</td>\n",
       "      <td>-500.517572</td>\n",
       "      <td>14.028663</td>\n",
       "      <td>-601.427363</td>\n",
       "    </tr>\n",
       "    <tr>\n",
       "      <th>2016-01-15 03:00:00</th>\n",
       "      <td>6.047977</td>\n",
       "      <td>9.977019</td>\n",
       "      <td>4.858634</td>\n",
       "      <td>42.689819</td>\n",
       "      <td>68.347543</td>\n",
       "      <td>10.422762</td>\n",
       "      <td>0.883763</td>\n",
       "      <td>16.532835</td>\n",
       "      <td>2.146849</td>\n",
       "      <td>122.270188</td>\n",
       "      <td>...</td>\n",
       "      <td>14.036510</td>\n",
       "      <td>-500.857308</td>\n",
       "      <td>11.999550</td>\n",
       "      <td>-501.193686</td>\n",
       "      <td>9.970366</td>\n",
       "      <td>-499.201640</td>\n",
       "      <td>7.977324</td>\n",
       "      <td>-500.255908</td>\n",
       "      <td>14.005551</td>\n",
       "      <td>-599.996129</td>\n",
       "    </tr>\n",
       "    <tr>\n",
       "      <th>2016-01-15 04:00:00</th>\n",
       "      <td>6.148599</td>\n",
       "      <td>10.142511</td>\n",
       "      <td>4.939416</td>\n",
       "      <td>42.774141</td>\n",
       "      <td>66.927016</td>\n",
       "      <td>10.360302</td>\n",
       "      <td>0.792826</td>\n",
       "      <td>16.525686</td>\n",
       "      <td>2.055292</td>\n",
       "      <td>117.988169</td>\n",
       "      <td>...</td>\n",
       "      <td>14.027298</td>\n",
       "      <td>-499.838632</td>\n",
       "      <td>11.953070</td>\n",
       "      <td>-501.053894</td>\n",
       "      <td>9.925709</td>\n",
       "      <td>-501.686727</td>\n",
       "      <td>7.894242</td>\n",
       "      <td>-500.356035</td>\n",
       "      <td>13.996647</td>\n",
       "      <td>-601.496691</td>\n",
       "    </tr>\n",
       "  </tbody>\n",
       "</table>\n",
       "<p>5 rows × 86 columns</p>\n",
       "</div>"
      ],
      "text/plain": [
       "                     final.output.concentrate_ag  final.output.concentrate_pb  \\\n",
       "date                                                                            \n",
       "2016-01-15 00:00:00                     6.055403                     9.889648   \n",
       "2016-01-15 01:00:00                     6.029369                     9.968944   \n",
       "2016-01-15 02:00:00                     6.055926                    10.213995   \n",
       "2016-01-15 03:00:00                     6.047977                     9.977019   \n",
       "2016-01-15 04:00:00                     6.148599                    10.142511   \n",
       "\n",
       "                     final.output.concentrate_sol  \\\n",
       "date                                                \n",
       "2016-01-15 00:00:00                      5.507324   \n",
       "2016-01-15 01:00:00                      5.257781   \n",
       "2016-01-15 02:00:00                      5.383759   \n",
       "2016-01-15 03:00:00                      4.858634   \n",
       "2016-01-15 04:00:00                      4.939416   \n",
       "\n",
       "                     final.output.concentrate_au  final.output.recovery  \\\n",
       "date                                                                      \n",
       "2016-01-15 00:00:00                    42.192020              70.541216   \n",
       "2016-01-15 01:00:00                    42.701629              69.266198   \n",
       "2016-01-15 02:00:00                    42.657501              68.116445   \n",
       "2016-01-15 03:00:00                    42.689819              68.347543   \n",
       "2016-01-15 04:00:00                    42.774141              66.927016   \n",
       "\n",
       "                     final.output.tail_ag  final.output.tail_pb  \\\n",
       "date                                                              \n",
       "2016-01-15 00:00:00             10.411962              0.895447   \n",
       "2016-01-15 01:00:00             10.462676              0.927452   \n",
       "2016-01-15 02:00:00             10.507046              0.953716   \n",
       "2016-01-15 03:00:00             10.422762              0.883763   \n",
       "2016-01-15 04:00:00             10.360302              0.792826   \n",
       "\n",
       "                     final.output.tail_sol  final.output.tail_au  \\\n",
       "date                                                               \n",
       "2016-01-15 00:00:00              16.904297              2.143149   \n",
       "2016-01-15 01:00:00              16.634514              2.224930   \n",
       "2016-01-15 02:00:00              16.208849              2.257889   \n",
       "2016-01-15 03:00:00              16.532835              2.146849   \n",
       "2016-01-15 04:00:00              16.525686              2.055292   \n",
       "\n",
       "                     primary_cleaner.input.sulfate  ...  \\\n",
       "date                                                ...   \n",
       "2016-01-15 00:00:00                     127.092003  ...   \n",
       "2016-01-15 01:00:00                     125.629232  ...   \n",
       "2016-01-15 02:00:00                     123.819808  ...   \n",
       "2016-01-15 03:00:00                     122.270188  ...   \n",
       "2016-01-15 04:00:00                     117.988169  ...   \n",
       "\n",
       "                     secondary_cleaner.state.floatbank4_a_air  \\\n",
       "date                                                            \n",
       "2016-01-15 00:00:00                                 14.016835   \n",
       "2016-01-15 01:00:00                                 13.992281   \n",
       "2016-01-15 02:00:00                                 14.015015   \n",
       "2016-01-15 03:00:00                                 14.036510   \n",
       "2016-01-15 04:00:00                                 14.027298   \n",
       "\n",
       "                     secondary_cleaner.state.floatbank4_a_level  \\\n",
       "date                                                              \n",
       "2016-01-15 00:00:00                                 -502.488007   \n",
       "2016-01-15 01:00:00                                 -505.503262   \n",
       "2016-01-15 02:00:00                                 -502.520901   \n",
       "2016-01-15 03:00:00                                 -500.857308   \n",
       "2016-01-15 04:00:00                                 -499.838632   \n",
       "\n",
       "                     secondary_cleaner.state.floatbank4_b_air  \\\n",
       "date                                                            \n",
       "2016-01-15 00:00:00                                 12.099931   \n",
       "2016-01-15 01:00:00                                 11.950531   \n",
       "2016-01-15 02:00:00                                 11.912783   \n",
       "2016-01-15 03:00:00                                 11.999550   \n",
       "2016-01-15 04:00:00                                 11.953070   \n",
       "\n",
       "                     secondary_cleaner.state.floatbank4_b_level  \\\n",
       "date                                                              \n",
       "2016-01-15 00:00:00                                 -504.715942   \n",
       "2016-01-15 01:00:00                                 -501.331529   \n",
       "2016-01-15 02:00:00                                 -501.133383   \n",
       "2016-01-15 03:00:00                                 -501.193686   \n",
       "2016-01-15 04:00:00                                 -501.053894   \n",
       "\n",
       "                     secondary_cleaner.state.floatbank5_a_air  \\\n",
       "date                                                            \n",
       "2016-01-15 00:00:00                                  9.925633   \n",
       "2016-01-15 01:00:00                                 10.039245   \n",
       "2016-01-15 02:00:00                                 10.070913   \n",
       "2016-01-15 03:00:00                                  9.970366   \n",
       "2016-01-15 04:00:00                                  9.925709   \n",
       "\n",
       "                     secondary_cleaner.state.floatbank5_a_level  \\\n",
       "date                                                              \n",
       "2016-01-15 00:00:00                                 -498.310211   \n",
       "2016-01-15 01:00:00                                 -500.169983   \n",
       "2016-01-15 02:00:00                                 -500.129135   \n",
       "2016-01-15 03:00:00                                 -499.201640   \n",
       "2016-01-15 04:00:00                                 -501.686727   \n",
       "\n",
       "                     secondary_cleaner.state.floatbank5_b_air  \\\n",
       "date                                                            \n",
       "2016-01-15 00:00:00                                  8.079666   \n",
       "2016-01-15 01:00:00                                  7.984757   \n",
       "2016-01-15 02:00:00                                  8.013877   \n",
       "2016-01-15 03:00:00                                  7.977324   \n",
       "2016-01-15 04:00:00                                  7.894242   \n",
       "\n",
       "                     secondary_cleaner.state.floatbank5_b_level  \\\n",
       "date                                                              \n",
       "2016-01-15 00:00:00                                 -500.470978   \n",
       "2016-01-15 01:00:00                                 -500.582168   \n",
       "2016-01-15 02:00:00                                 -500.517572   \n",
       "2016-01-15 03:00:00                                 -500.255908   \n",
       "2016-01-15 04:00:00                                 -500.356035   \n",
       "\n",
       "                     secondary_cleaner.state.floatbank6_a_air  \\\n",
       "date                                                            \n",
       "2016-01-15 00:00:00                                 14.151341   \n",
       "2016-01-15 01:00:00                                 13.998353   \n",
       "2016-01-15 02:00:00                                 14.028663   \n",
       "2016-01-15 03:00:00                                 14.005551   \n",
       "2016-01-15 04:00:00                                 13.996647   \n",
       "\n",
       "                     secondary_cleaner.state.floatbank6_a_level  \n",
       "date                                                             \n",
       "2016-01-15 00:00:00                                 -605.841980  \n",
       "2016-01-15 01:00:00                                 -599.787184  \n",
       "2016-01-15 02:00:00                                 -601.427363  \n",
       "2016-01-15 03:00:00                                 -599.996129  \n",
       "2016-01-15 04:00:00                                 -601.496691  \n",
       "\n",
       "[5 rows x 86 columns]"
      ]
     },
     "execution_count": 201,
     "metadata": {},
     "output_type": "execute_result"
    }
   ],
   "source": [
    "df_train.head()"
   ]
  },
  {
   "cell_type": "code",
   "execution_count": 202,
   "metadata": {
    "scrolled": true
   },
   "outputs": [
    {
     "name": "stdout",
     "output_type": "stream",
     "text": [
      "<class 'pandas.core.frame.DataFrame'>\n",
      "Index: 14149 entries, 2016-01-15 00:00:00 to 2018-08-18 10:59:59\n",
      "Data columns (total 86 columns):\n",
      " #   Column                                              Non-Null Count  Dtype  \n",
      "---  ------                                              --------------  -----  \n",
      " 0   final.output.concentrate_ag                         14148 non-null  float64\n",
      " 1   final.output.concentrate_pb                         14148 non-null  float64\n",
      " 2   final.output.concentrate_sol                        13938 non-null  float64\n",
      " 3   final.output.concentrate_au                         14149 non-null  float64\n",
      " 4   final.output.recovery                               14149 non-null  float64\n",
      " 5   final.output.tail_ag                                14149 non-null  float64\n",
      " 6   final.output.tail_pb                                14049 non-null  float64\n",
      " 7   final.output.tail_sol                               14144 non-null  float64\n",
      " 8   final.output.tail_au                                14149 non-null  float64\n",
      " 9   primary_cleaner.input.sulfate                       14129 non-null  float64\n",
      " 10  primary_cleaner.input.depressant                    14117 non-null  float64\n",
      " 11  primary_cleaner.input.feed_size                     14149 non-null  float64\n",
      " 12  primary_cleaner.input.xanthate                      14049 non-null  float64\n",
      " 13  primary_cleaner.output.concentrate_ag               14149 non-null  float64\n",
      " 14  primary_cleaner.output.concentrate_pb               14063 non-null  float64\n",
      " 15  primary_cleaner.output.concentrate_sol              13863 non-null  float64\n",
      " 16  primary_cleaner.output.concentrate_au               14149 non-null  float64\n",
      " 17  primary_cleaner.output.tail_ag                      14148 non-null  float64\n",
      " 18  primary_cleaner.output.tail_pb                      14134 non-null  float64\n",
      " 19  primary_cleaner.output.tail_sol                     14103 non-null  float64\n",
      " 20  primary_cleaner.output.tail_au                      14149 non-null  float64\n",
      " 21  primary_cleaner.state.floatbank8_a_air              14145 non-null  float64\n",
      " 22  primary_cleaner.state.floatbank8_a_level            14148 non-null  float64\n",
      " 23  primary_cleaner.state.floatbank8_b_air              14145 non-null  float64\n",
      " 24  primary_cleaner.state.floatbank8_b_level            14148 non-null  float64\n",
      " 25  primary_cleaner.state.floatbank8_c_air              14147 non-null  float64\n",
      " 26  primary_cleaner.state.floatbank8_c_level            14148 non-null  float64\n",
      " 27  primary_cleaner.state.floatbank8_d_air              14146 non-null  float64\n",
      " 28  primary_cleaner.state.floatbank8_d_level            14148 non-null  float64\n",
      " 29  rougher.calculation.sulfate_to_au_concentrate       14148 non-null  float64\n",
      " 30  rougher.calculation.floatbank10_sulfate_to_au_feed  14148 non-null  float64\n",
      " 31  rougher.calculation.floatbank11_sulfate_to_au_feed  14148 non-null  float64\n",
      " 32  rougher.calculation.au_pb_ratio                     14149 non-null  float64\n",
      " 33  rougher.input.feed_ag                               14149 non-null  float64\n",
      " 34  rougher.input.feed_pb                               14049 non-null  float64\n",
      " 35  rougher.input.feed_rate                             14141 non-null  float64\n",
      " 36  rougher.input.feed_size                             14005 non-null  float64\n",
      " 37  rougher.input.feed_sol                              14071 non-null  float64\n",
      " 38  rougher.input.feed_au                               14149 non-null  float64\n",
      " 39  rougher.input.floatbank10_sulfate                   14120 non-null  float64\n",
      " 40  rougher.input.floatbank10_xanthate                  14141 non-null  float64\n",
      " 41  rougher.input.floatbank11_sulfate                   14113 non-null  float64\n",
      " 42  rougher.input.floatbank11_xanthate                  13721 non-null  float64\n",
      " 43  rougher.output.concentrate_ag                       14149 non-null  float64\n",
      " 44  rougher.output.concentrate_pb                       14149 non-null  float64\n",
      " 45  rougher.output.concentrate_sol                      14127 non-null  float64\n",
      " 46  rougher.output.concentrate_au                       14149 non-null  float64\n",
      " 47  rougher.output.recovery                             14149 non-null  float64\n",
      " 48  rougher.output.tail_ag                              14148 non-null  float64\n",
      " 49  rougher.output.tail_pb                              14149 non-null  float64\n",
      " 50  rougher.output.tail_sol                             14149 non-null  float64\n",
      " 51  rougher.output.tail_au                              14149 non-null  float64\n",
      " 52  rougher.state.floatbank10_a_air                     14148 non-null  float64\n",
      " 53  rougher.state.floatbank10_a_level                   14148 non-null  float64\n",
      " 54  rougher.state.floatbank10_b_air                     14148 non-null  float64\n",
      " 55  rougher.state.floatbank10_b_level                   14148 non-null  float64\n",
      " 56  rougher.state.floatbank10_c_air                     14148 non-null  float64\n",
      " 57  rougher.state.floatbank10_c_level                   14148 non-null  float64\n",
      " 58  rougher.state.floatbank10_d_air                     14149 non-null  float64\n",
      " 59  rougher.state.floatbank10_d_level                   14149 non-null  float64\n",
      " 60  rougher.state.floatbank10_e_air                     13713 non-null  float64\n",
      " 61  rougher.state.floatbank10_e_level                   14149 non-null  float64\n",
      " 62  rougher.state.floatbank10_f_air                     14149 non-null  float64\n",
      " 63  rougher.state.floatbank10_f_level                   14149 non-null  float64\n",
      " 64  secondary_cleaner.output.tail_ag                    14147 non-null  float64\n",
      " 65  secondary_cleaner.output.tail_pb                    14139 non-null  float64\n",
      " 66  secondary_cleaner.output.tail_sol                   12544 non-null  float64\n",
      " 67  secondary_cleaner.output.tail_au                    14149 non-null  float64\n",
      " 68  secondary_cleaner.state.floatbank2_a_air            13932 non-null  float64\n",
      " 69  secondary_cleaner.state.floatbank2_a_level          14148 non-null  float64\n",
      " 70  secondary_cleaner.state.floatbank2_b_air            14128 non-null  float64\n",
      " 71  secondary_cleaner.state.floatbank2_b_level          14148 non-null  float64\n",
      " 72  secondary_cleaner.state.floatbank3_a_air            14145 non-null  float64\n",
      " 73  secondary_cleaner.state.floatbank3_a_level          14148 non-null  float64\n",
      " 74  secondary_cleaner.state.floatbank3_b_air            14148 non-null  float64\n",
      " 75  secondary_cleaner.state.floatbank3_b_level          14148 non-null  float64\n",
      " 76  secondary_cleaner.state.floatbank4_a_air            14143 non-null  float64\n",
      " 77  secondary_cleaner.state.floatbank4_a_level          14148 non-null  float64\n",
      " 78  secondary_cleaner.state.floatbank4_b_air            14148 non-null  float64\n",
      " 79  secondary_cleaner.state.floatbank4_b_level          14148 non-null  float64\n",
      " 80  secondary_cleaner.state.floatbank5_a_air            14148 non-null  float64\n",
      " 81  secondary_cleaner.state.floatbank5_a_level          14148 non-null  float64\n",
      " 82  secondary_cleaner.state.floatbank5_b_air            14148 non-null  float64\n",
      " 83  secondary_cleaner.state.floatbank5_b_level          14148 non-null  float64\n",
      " 84  secondary_cleaner.state.floatbank6_a_air            14147 non-null  float64\n",
      " 85  secondary_cleaner.state.floatbank6_a_level          14148 non-null  float64\n",
      "dtypes: float64(86)\n",
      "memory usage: 9.4+ MB\n"
     ]
    }
   ],
   "source": [
    "df_train.info()"
   ]
  },
  {
   "cell_type": "code",
   "execution_count": 203,
   "metadata": {},
   "outputs": [],
   "source": [
    "df_train['rougher.output.recovery.chek']=(df_train['rougher.output.concentrate_au']*(df_train['rougher.input.feed_au']-df_train['rougher.output.tail_au'])\n",
    "                                         )/(df_train['rougher.input.feed_au']*(df_train['rougher.output.concentrate_au']-df_train['rougher.output.tail_au']))*100"
   ]
  },
  {
   "cell_type": "code",
   "execution_count": 204,
   "metadata": {},
   "outputs": [
    {
     "name": "stdout",
     "output_type": "stream",
     "text": [
      "9.73512347450521e-15\n"
     ]
    }
   ],
   "source": [
    "print(mean_absolute_error(df_train['rougher.output.recovery.chek'], df_train['rougher.output.recovery']))"
   ]
  },
  {
   "cell_type": "markdown",
   "metadata": {},
   "source": [
    "Ошибка - очень малое число, следовательно расчёт эффективности обогащения произведён верно. Проверочный столбец удалим."
   ]
  },
  {
   "cell_type": "code",
   "execution_count": 205,
   "metadata": {},
   "outputs": [],
   "source": [
    "df_train.drop('rougher.output.recovery.chek', axis= 1,inplace= True)"
   ]
  },
  {
   "cell_type": "code",
   "execution_count": 206,
   "metadata": {},
   "outputs": [
    {
     "data": {
      "text/plain": [
       "['final.output.concentrate_ag',\n",
       " 'final.output.concentrate_pb',\n",
       " 'final.output.concentrate_sol',\n",
       " 'final.output.concentrate_au',\n",
       " 'final.output.recovery',\n",
       " 'final.output.tail_ag',\n",
       " 'final.output.tail_pb',\n",
       " 'final.output.tail_sol',\n",
       " 'final.output.tail_au',\n",
       " 'primary_cleaner.output.concentrate_ag',\n",
       " 'primary_cleaner.output.concentrate_pb',\n",
       " 'primary_cleaner.output.concentrate_sol',\n",
       " 'primary_cleaner.output.concentrate_au',\n",
       " 'primary_cleaner.output.tail_ag',\n",
       " 'primary_cleaner.output.tail_pb',\n",
       " 'primary_cleaner.output.tail_sol',\n",
       " 'primary_cleaner.output.tail_au',\n",
       " 'rougher.calculation.sulfate_to_au_concentrate',\n",
       " 'rougher.calculation.floatbank10_sulfate_to_au_feed',\n",
       " 'rougher.calculation.floatbank11_sulfate_to_au_feed',\n",
       " 'rougher.calculation.au_pb_ratio',\n",
       " 'rougher.output.concentrate_ag',\n",
       " 'rougher.output.concentrate_pb',\n",
       " 'rougher.output.concentrate_sol',\n",
       " 'rougher.output.concentrate_au',\n",
       " 'rougher.output.recovery',\n",
       " 'rougher.output.tail_ag',\n",
       " 'rougher.output.tail_pb',\n",
       " 'rougher.output.tail_sol',\n",
       " 'rougher.output.tail_au',\n",
       " 'secondary_cleaner.output.tail_ag',\n",
       " 'secondary_cleaner.output.tail_pb',\n",
       " 'secondary_cleaner.output.tail_sol',\n",
       " 'secondary_cleaner.output.tail_au']"
      ]
     },
     "execution_count": 206,
     "metadata": {},
     "output_type": "execute_result"
    }
   ],
   "source": [
    "#найдём признаки, которые есть в обучающей выборке и нет в тестовой\n",
    "test=df_test.columns.to_numpy()\n",
    "train=df_train.columns.to_numpy()\n",
    "[x for x in train if x not in test]"
   ]
  },
  {
   "cell_type": "markdown",
   "metadata": {},
   "source": [
    "В тестовой выборке у нас нет финальных характеристик, параметров продуктов и \"хвостов\" после этапов очистки. Т.к. модель должна прогнозировать на тестовой выборке, то и обучать мы её будем на признаках, которые есть в тестовой выборке."
   ]
  },
  {
   "cell_type": "code",
   "execution_count": 207,
   "metadata": {},
   "outputs": [],
   "source": [
    "#создадим отдельный фрейм с набором признаков как в тесте\n",
    "df_train_new=df_train[test]"
   ]
  },
  {
   "cell_type": "code",
   "execution_count": 208,
   "metadata": {},
   "outputs": [],
   "source": [
    "df_train_new.ffill(axis=0, inplace=True)"
   ]
  },
  {
   "cell_type": "code",
   "execution_count": 209,
   "metadata": {},
   "outputs": [],
   "source": [
    "df_test.ffill(axis=0, inplace=True)"
   ]
  },
  {
   "cell_type": "code",
   "execution_count": 211,
   "metadata": {},
   "outputs": [],
   "source": [
    "#Разделим выборку. Нам нужно будет строить 2 модели, то и данные разбиваем на 2 набора. \n",
    "target_rougher_train = df_train['rougher.output.recovery']\n",
    "target_final_train = df_train['final.output.recovery']\n",
    "features_rougher_train=df_train_new[['rougher.input.feed_ag',\n",
    "       'rougher.input.feed_pb', 'rougher.input.feed_rate',\n",
    "       'rougher.input.feed_size', 'rougher.input.feed_sol',\n",
    "       'rougher.input.feed_au', 'rougher.input.floatbank10_sulfate',\n",
    "       'rougher.input.floatbank10_xanthate',\n",
    "       'rougher.input.floatbank11_sulfate',\n",
    "       'rougher.input.floatbank11_xanthate', 'rougher.state.floatbank10_a_air',\n",
    "       'rougher.state.floatbank10_a_level', 'rougher.state.floatbank10_b_air',\n",
    "       'rougher.state.floatbank10_b_level', 'rougher.state.floatbank10_c_air',\n",
    "       'rougher.state.floatbank10_c_level', 'rougher.state.floatbank10_d_air',\n",
    "       'rougher.state.floatbank10_d_level', 'rougher.state.floatbank10_e_air',\n",
    "       'rougher.state.floatbank10_e_level', 'rougher.state.floatbank10_f_air',\n",
    "       'rougher.state.floatbank10_f_level']]\n",
    "features_cleaner_train=df_train_new[[\n",
    "    'primary_cleaner.input.sulfate', 'primary_cleaner.input.depressant',\n",
    "       'primary_cleaner.input.feed_size', 'primary_cleaner.input.xanthate',\n",
    "       'primary_cleaner.state.floatbank8_a_air',\n",
    "       'primary_cleaner.state.floatbank8_a_level',\n",
    "       'primary_cleaner.state.floatbank8_b_air',\n",
    "       'primary_cleaner.state.floatbank8_b_level',\n",
    "       'primary_cleaner.state.floatbank8_c_air',\n",
    "       'primary_cleaner.state.floatbank8_c_level',\n",
    "       'primary_cleaner.state.floatbank8_d_air',\n",
    "       'primary_cleaner.state.floatbank8_d_level','secondary_cleaner.state.floatbank2_a_air',\n",
    "       'secondary_cleaner.state.floatbank2_a_level',\n",
    "       'secondary_cleaner.state.floatbank2_b_air',\n",
    "       'secondary_cleaner.state.floatbank2_b_level',\n",
    "       'secondary_cleaner.state.floatbank3_a_air',\n",
    "       'secondary_cleaner.state.floatbank3_a_level',\n",
    "       'secondary_cleaner.state.floatbank3_b_air',\n",
    "       'secondary_cleaner.state.floatbank3_b_level',\n",
    "       'secondary_cleaner.state.floatbank4_a_air',\n",
    "       'secondary_cleaner.state.floatbank4_a_level',\n",
    "       'secondary_cleaner.state.floatbank4_b_air',\n",
    "       'secondary_cleaner.state.floatbank4_b_level',\n",
    "       'secondary_cleaner.state.floatbank5_a_air',\n",
    "       'secondary_cleaner.state.floatbank5_a_level',\n",
    "       'secondary_cleaner.state.floatbank5_b_air',\n",
    "       'secondary_cleaner.state.floatbank5_b_level',\n",
    "       'secondary_cleaner.state.floatbank6_a_air',\n",
    "       'secondary_cleaner.state.floatbank6_a_level'\n",
    "    ]]"
   ]
  },
  {
   "cell_type": "code",
   "execution_count": 212,
   "metadata": {},
   "outputs": [],
   "source": [
    "#Тоже самое сделаем для тестовой выборки\n",
    "target_rougher_test = df.loc[df_test.index,'rougher.output.recovery']\n",
    "target_final_test =  df.loc[df_test.index,'final.output.recovery']\n",
    "features_rougher_test=df_test[['rougher.input.feed_ag',\n",
    "       'rougher.input.feed_pb', 'rougher.input.feed_rate',\n",
    "       'rougher.input.feed_size', 'rougher.input.feed_sol',\n",
    "       'rougher.input.feed_au', 'rougher.input.floatbank10_sulfate',\n",
    "       'rougher.input.floatbank10_xanthate',\n",
    "       'rougher.input.floatbank11_sulfate',\n",
    "       'rougher.input.floatbank11_xanthate', 'rougher.state.floatbank10_a_air',\n",
    "       'rougher.state.floatbank10_a_level', 'rougher.state.floatbank10_b_air',\n",
    "       'rougher.state.floatbank10_b_level', 'rougher.state.floatbank10_c_air',\n",
    "       'rougher.state.floatbank10_c_level', 'rougher.state.floatbank10_d_air',\n",
    "       'rougher.state.floatbank10_d_level', 'rougher.state.floatbank10_e_air',\n",
    "       'rougher.state.floatbank10_e_level', 'rougher.state.floatbank10_f_air',\n",
    "       'rougher.state.floatbank10_f_level']]\n",
    "features_cleaner_test=df_test[[\n",
    "    'primary_cleaner.input.sulfate', 'primary_cleaner.input.depressant',\n",
    "       'primary_cleaner.input.feed_size', 'primary_cleaner.input.xanthate',\n",
    "       'primary_cleaner.state.floatbank8_a_air',\n",
    "       'primary_cleaner.state.floatbank8_a_level',\n",
    "       'primary_cleaner.state.floatbank8_b_air',\n",
    "       'primary_cleaner.state.floatbank8_b_level',\n",
    "       'primary_cleaner.state.floatbank8_c_air',\n",
    "       'primary_cleaner.state.floatbank8_c_level',\n",
    "       'primary_cleaner.state.floatbank8_d_air',\n",
    "       'primary_cleaner.state.floatbank8_d_level','secondary_cleaner.state.floatbank2_a_air',\n",
    "       'secondary_cleaner.state.floatbank2_a_level',\n",
    "       'secondary_cleaner.state.floatbank2_b_air',\n",
    "       'secondary_cleaner.state.floatbank2_b_level',\n",
    "       'secondary_cleaner.state.floatbank3_a_air',\n",
    "       'secondary_cleaner.state.floatbank3_a_level',\n",
    "       'secondary_cleaner.state.floatbank3_b_air',\n",
    "       'secondary_cleaner.state.floatbank3_b_level',\n",
    "       'secondary_cleaner.state.floatbank4_a_air',\n",
    "       'secondary_cleaner.state.floatbank4_a_level',\n",
    "       'secondary_cleaner.state.floatbank4_b_air',\n",
    "       'secondary_cleaner.state.floatbank4_b_level',\n",
    "       'secondary_cleaner.state.floatbank5_a_air',\n",
    "       'secondary_cleaner.state.floatbank5_a_level',\n",
    "       'secondary_cleaner.state.floatbank5_b_air',\n",
    "       'secondary_cleaner.state.floatbank5_b_level',\n",
    "       'secondary_cleaner.state.floatbank6_a_air',\n",
    "       'secondary_cleaner.state.floatbank6_a_level'\n",
    "    ]]"
   ]
  },
  {
   "cell_type": "markdown",
   "metadata": {},
   "source": [
    "Т.к. один из алгоритмов линейная регрессия, то нормируем признаки"
   ]
  },
  {
   "cell_type": "code",
   "execution_count": 214,
   "metadata": {},
   "outputs": [
    {
     "name": "stdout",
     "output_type": "stream",
     "text": [
      "0 0\n"
     ]
    }
   ],
   "source": [
    "print(df['rougher.output.recovery'].isna().sum(),df['final.output.recovery'].isna().sum())"
   ]
  },
  {
   "cell_type": "markdown",
   "metadata": {},
   "source": [
    "В целевых у нас пропусков нет."
   ]
  },
  {
   "cell_type": "code",
   "execution_count": 215,
   "metadata": {},
   "outputs": [
    {
     "name": "stdout",
     "output_type": "stream",
     "text": [
      "394 98\n"
     ]
    }
   ],
   "source": [
    "print(df[df['rougher.output.recovery']==0]['rougher.output.recovery'].count(),\n",
    "      df[df['final.output.recovery']==0]['final.output.recovery'].count())"
   ]
  },
  {
   "cell_type": "markdown",
   "metadata": {},
   "source": [
    "А вот нули есть. Расчёт метрики sMAPE предполагает, что таргет стит в знаменателе дроби, следовательно ошибка будет стремиться к бесконечности на данных примерах. Данные записи удалим. "
   ]
  },
  {
   "cell_type": "code",
   "execution_count": 216,
   "metadata": {},
   "outputs": [],
   "source": [
    "target_rougher_train=target_rougher_train[target_rougher_train!=0]\n",
    "target_rougher_test=target_rougher_test[target_rougher_test!=0]\n",
    "target_final_train = target_final_train[target_final_train!=0]\n",
    "target_final_test = target_final_test[target_final_test!=0]"
   ]
  },
  {
   "cell_type": "code",
   "execution_count": 217,
   "metadata": {},
   "outputs": [],
   "source": [
    "features_rougher_train=features_rougher_train.loc[target_rougher_train.index]\n",
    "features_rougher_test=features_rougher_test.loc[target_rougher_test.index]\n",
    "features_cleaner_train=features_cleaner_train.loc[target_final_train.index]\n",
    "features_cleaner_test=features_cleaner_test.loc[target_final_test.index]"
   ]
  },
  {
   "cell_type": "markdown",
   "metadata": {},
   "source": [
    "## Анализ данных"
   ]
  },
  {
   "cell_type": "markdown",
   "metadata": {},
   "source": [
    "Посомтрим на изменение концетрации металов"
   ]
  },
  {
   "cell_type": "code",
   "execution_count": 218,
   "metadata": {},
   "outputs": [
    {
     "data": {
      "image/png": "[encoded data removed]",
      "text/plain": [
       "<Figure size 1080x576 with 1 Axes>"
      ]
     },
     "metadata": {
      "needs_background": "light"
     },
     "output_type": "display_data"
    }
   ],
   "source": [
    "df_au = pd.DataFrame(data=df, columns=['rougher.input.feed_au','rougher.output.concentrate_au',\n",
    "                                       'primary_cleaner.output.concentrate_au','final.output.concentrate_au'])\n",
    "plt.figure(figsize=(15,8))\n",
    "boxplot=sns.boxplot(x=\"variable\", y=\"value\", data=pd.melt(df_au))\n",
    "boxplot.axes.set_title(\"Изменение концетрации золота\")\n",
    "boxplot.set_xlabel(\"Уровни очистки\")\n",
    "boxplot.set_ylabel(\"Концетрация\")\n",
    "plt.show()"
   ]
  },
  {
   "cell_type": "markdown",
   "metadata": {},
   "source": [
    "После всех этапов концетрация золота вырастает в 5 раз"
   ]
  },
  {
   "cell_type": "code",
   "execution_count": 219,
   "metadata": {},
   "outputs": [
    {
     "data": {
      "image/png": "[encoded data removed]",
      "text/plain": [
       "<Figure size 1080x576 with 1 Axes>"
      ]
     },
     "metadata": {
      "needs_background": "light"
     },
     "output_type": "display_data"
    }
   ],
   "source": [
    "df_ag = pd.DataFrame(data=df, columns=['rougher.input.feed_ag','rougher.output.concentrate_ag',\n",
    "                                       'primary_cleaner.output.concentrate_ag','final.output.concentrate_ag'])\n",
    "plt.figure(figsize=(15,8))\n",
    "boxplot=sns.boxplot(x=\"variable\", y=\"value\", data=pd.melt(df_ag))\n",
    "boxplot.axes.set_title(\"Изменение концетрации серебра\")\n",
    "boxplot.set_xlabel(\"Уровни очистки\")\n",
    "boxplot.set_ylabel(\"Концетрация\")\n",
    "plt.show()"
   ]
  },
  {
   "cell_type": "markdown",
   "metadata": {},
   "source": [
    "Концетрация серебра возрастает после флотации, а после очистки падает."
   ]
  },
  {
   "cell_type": "code",
   "execution_count": 220,
   "metadata": {},
   "outputs": [
    {
     "data": {
      "image/png": "[encoded data removed]",
      "text/plain": [
       "<Figure size 1080x576 with 1 Axes>"
      ]
     },
     "metadata": {
      "needs_background": "light"
     },
     "output_type": "display_data"
    }
   ],
   "source": [
    "df_pb = pd.DataFrame(data=df, columns=['rougher.input.feed_pb','rougher.output.concentrate_pb',\n",
    "                                       'primary_cleaner.output.concentrate_pb','final.output.concentrate_pb'])\n",
    "plt.figure(figsize=(15,8))\n",
    "boxplot=sns.boxplot(x=\"variable\", y=\"value\", data=pd.melt(df_pb))\n",
    "boxplot.axes.set_title(\"Изменение концетрации свинца\")\n",
    "boxplot.set_xlabel(\"Уровни очистки\")\n",
    "boxplot.set_ylabel(\"Концетрация\")\n",
    "plt.show()"
   ]
  },
  {
   "cell_type": "markdown",
   "metadata": {},
   "source": [
    "Концетрация свинца растёт после флотации и первого этапа очистки."
   ]
  },
  {
   "cell_type": "code",
   "execution_count": 221,
   "metadata": {},
   "outputs": [],
   "source": [
    "df_test['type']='test'\n",
    "df_train['type']='train'\n",
    "feed_size = pd.concat([df_train[['rougher.input.feed_size','type']], df_test[['rougher.input.feed_size','type']]], axis=0)"
   ]
  },
  {
   "cell_type": "code",
   "execution_count": 222,
   "metadata": {},
   "outputs": [
    {
     "data": {
      "image/png": "[encoded data removed]",
      "text/plain": [
       "<Figure size 432x288 with 1 Axes>"
      ]
     },
     "metadata": {
      "needs_background": "light"
     },
     "output_type": "display_data"
    }
   ],
   "source": [
    "boxplot=sns.boxplot(x=feed_size['rougher.input.feed_size'], y=feed_size['type'])\n",
    "boxplot.axes.set_title(\"Сравнение размера гранул\")\n",
    "boxplot.set_xlabel(\"Размер гранулы\")\n",
    "boxplot.set_ylabel(\"Выборка\")\n",
    "plt.show()"
   ]
  },
  {
   "cell_type": "markdown",
   "metadata": {},
   "source": [
    "Медианы и 25/75 квантили близки по значениям, следовательно распределение показателя в выборках не сильно отличаются."
   ]
  },
  {
   "cell_type": "code",
   "execution_count": 223,
   "metadata": {},
   "outputs": [],
   "source": [
    "df['rougher.input.concentrate_all_metals']=df['rougher.input.feed_au']+df['rougher.input.feed_ag']+df['rougher.input.feed_pb']\n",
    "df['rougher.output.concentrate_all_metals']=df['rougher.output.concentrate_au']+df['rougher.output.concentrate_ag']+\\\n",
    "    df['rougher.output.concentrate_pb']\n",
    "df['primary_cleaner.output.concentrate_all_metals']=df['primary_cleaner.output.concentrate_au']+\\\n",
    "    df['primary_cleaner.output.concentrate_ag']+df['primary_cleaner.output.concentrate_pb']\n",
    "df['final.output.concentrate_all_metals']=df['final.output.concentrate_au']+\\\n",
    "    df['final.output.concentrate_ag']+df['final.output.concentrate_pb']"
   ]
  },
  {
   "cell_type": "code",
   "execution_count": 224,
   "metadata": {},
   "outputs": [],
   "source": [
    "df_all_metals = pd.DataFrame(data=df, columns=['rougher.input.concentrate_all_metals','rougher.output.concentrate_all_metals',\n",
    "                                       'primary_cleaner.output.concentrate_all_metals','final.output.concentrate_all_metals'])"
   ]
  },
  {
   "cell_type": "code",
   "execution_count": 225,
   "metadata": {},
   "outputs": [
    {
     "data": {
      "text/plain": [
       "20.185052048700843"
      ]
     },
     "execution_count": 225,
     "metadata": {},
     "output_type": "execute_result"
    }
   ],
   "source": [
    "df_all_metals['rougher.input.concentrate_all_metals'].median()"
   ]
  },
  {
   "cell_type": "code",
   "execution_count": 226,
   "metadata": {},
   "outputs": [
    {
     "data": {
      "image/png": "[encoded data removed]",
      "text/plain": [
       "<Figure size 1080x576 with 1 Axes>"
      ]
     },
     "metadata": {
      "needs_background": "light"
     },
     "output_type": "display_data"
    }
   ],
   "source": [
    "plt.figure(figsize=(15,8))\n",
    "boxplot=sns.boxplot(x=\"variable\", y=\"value\", data=pd.melt(df_pb))\n",
    "boxplot.axes.set_title(\"Изменение концетрации металов\")\n",
    "boxplot.set_xlabel(\"Уровни очистки\")\n",
    "boxplot.set_ylabel(\"Концетрация\")\n",
    "plt.show()"
   ]
  },
  {
   "cell_type": "markdown",
   "metadata": {},
   "source": [
    "После флотации концетрация металов вырастает в 2-3 раза. Последующая очистка даёт меньший эффект, но повышает медианную концетрацию до 10%. Весь процесс очистки увеличивает (медианную) концетрацию металлов с 3% до 10%."
   ]
  },
  {
   "cell_type": "code",
   "execution_count": 227,
   "metadata": {},
   "outputs": [],
   "source": [
    "df_list=[]\n",
    "for i in range(0,len(df_all_metals.columns)):\n",
    "    Q1 = df_all_metals[df_all_metals.columns[i]].quantile(0.25)\n",
    "    Q3 = df_all_metals[df_all_metals.columns[i]].quantile(0.75)\n",
    "    IQR = Q3 - Q1\n",
    "    lower = Q1 - 1.5*IQR\n",
    "    upper = Q3 + 1.5*IQR\n",
    "    df_list.append(df_all_metals[(df_all_metals[df_all_metals.columns[i]] > lower) & \n",
    "                                 (df_all_metals[df_all_metals.columns[i]] < upper)][df_all_metals.columns[i]])"
   ]
  },
  {
   "cell_type": "code",
   "execution_count": 228,
   "metadata": {},
   "outputs": [
    {
     "data": {
      "image/png": "[encoded data removed]",
      "text/plain": [
       "<Figure size 432x288 with 1 Axes>"
      ]
     },
     "metadata": {
      "needs_background": "light"
     },
     "output_type": "display_data"
    },
    {
     "data": {
      "image/png": "[encoded data removed]",
      "text/plain": [
       "<Figure size 432x288 with 1 Axes>"
      ]
     },
     "metadata": {
      "needs_background": "light"
     },
     "output_type": "display_data"
    },
    {
     "data": {
      "image/png": "[encoded data removed]",
      "text/plain": [
       "<Figure size 432x288 with 1 Axes>"
      ]
     },
     "metadata": {
      "needs_background": "light"
     },
     "output_type": "display_data"
    },
    {
     "data": {
      "image/png": "[encoded data removed]",
      "text/plain": [
       "<Figure size 432x288 with 1 Axes>"
      ]
     },
     "metadata": {
      "needs_background": "light"
     },
     "output_type": "display_data"
    }
   ],
   "source": [
    "for i in range(0, len(df_list)):\n",
    "    pd.DataFrame(df_list[i]).boxplot()\n",
    "    plt.show()"
   ]
  },
  {
   "cell_type": "markdown",
   "metadata": {},
   "source": [
    "## Модель"
   ]
  },
  {
   "cell_type": "markdown",
   "metadata": {},
   "source": [
    "Напишем функцию для итоговой оценки качества."
   ]
  },
  {
   "cell_type": "code",
   "execution_count": 230,
   "metadata": {},
   "outputs": [],
   "source": [
    "def sMAPE(terget, predict):\n",
    "    return((abs(terget-predict)/((abs(terget)+abs(predict))/2)).sum()/len(terget))*100"
   ]
  },
  {
   "cell_type": "markdown",
   "metadata": {},
   "source": [
    "### Модель для этапа флотации"
   ]
  },
  {
   "cell_type": "code",
   "execution_count": 231,
   "metadata": {},
   "outputs": [],
   "source": [
    "linear_model= LinearRegression()"
   ]
  },
  {
   "cell_type": "code",
   "execution_count": 233,
   "metadata": {},
   "outputs": [],
   "source": [
    "scoring=make_scorer(sMAPE,greater_is_better=False)"
   ]
  },
  {
   "cell_type": "code",
   "execution_count": 234,
   "metadata": {},
   "outputs": [
    {
     "name": "stdout",
     "output_type": "stream",
     "text": [
      "-6.690459741299781\n"
     ]
    }
   ],
   "source": [
    "scores = cross_val_score(linear_model, features_rougher_train, target_rougher_train, cv=5,scoring=scoring)\n",
    "print(scores.mean())"
   ]
  },
  {
   "cell_type": "code",
   "execution_count": 236,
   "metadata": {},
   "outputs": [],
   "source": [
    "#случайный лес\n",
    "forest_model= RandomForestRegressor(random_state=12345)"
   ]
  },
  {
   "cell_type": "code",
   "execution_count": 237,
   "metadata": {},
   "outputs": [],
   "source": [
    "parameters_grid = {\n",
    "    'n_estimators': [50, 100, 200],\n",
    "    'max_depth': [10, 20, 50]\n",
    "}"
   ]
  },
  {
   "cell_type": "code",
   "execution_count": 238,
   "metadata": {},
   "outputs": [
    {
     "name": "stdout",
     "output_type": "stream",
     "text": [
      "Wall time: 1min 5s\n"
     ]
    },
    {
     "data": {
      "text/plain": [
       "GridSearchCV(cv=3, estimator=RandomForestRegressor(random_state=12345),\n",
       "             n_jobs=-1,\n",
       "             param_grid={'max_depth': [10, 20, 50],\n",
       "                         'n_estimators': [50, 100, 200]},\n",
       "             scoring=make_scorer(sMAPE, greater_is_better=False))"
      ]
     },
     "execution_count": 238,
     "metadata": {},
     "output_type": "execute_result"
    }
   ],
   "source": [
    "%%time\n",
    "grid_cv = GridSearchCV(forest_model, parameters_grid, scoring = scoring, cv = 3, n_jobs=-1)\n",
    "grid_cv.fit(features_rougher_train, target_rougher_train)"
   ]
  },
  {
   "cell_type": "code",
   "execution_count": 239,
   "metadata": {},
   "outputs": [
    {
     "name": "stdout",
     "output_type": "stream",
     "text": [
      "{'max_depth': 20, 'n_estimators': 50}\n",
      "-8.082207807972429\n"
     ]
    }
   ],
   "source": [
    "best_model=grid_cv.best_estimator_\n",
    "print(grid_cv.best_params_)\n",
    "print(grid_cv.best_score_)"
   ]
  },
  {
   "cell_type": "markdown",
   "metadata": {},
   "source": [
    "Случайный лес несколько уступает линейной регрессии по качеству."
   ]
  },
  {
   "cell_type": "code",
   "execution_count": 242,
   "metadata": {},
   "outputs": [],
   "source": [
    "#попробуем градиентный бустинг с параметрами по умолчанию\n",
    "model=GradientBoostingRegressor()"
   ]
  },
  {
   "cell_type": "code",
   "execution_count": 243,
   "metadata": {},
   "outputs": [
    {
     "name": "stdout",
     "output_type": "stream",
     "text": [
      "-6.920918778770907\n"
     ]
    }
   ],
   "source": [
    "scores = cross_val_score(model, features_rougher_train, target_rougher_train, cv=5,scoring=scoring)\n",
    "print(scores.mean())"
   ]
  },
  {
   "cell_type": "code",
   "execution_count": 245,
   "metadata": {},
   "outputs": [],
   "source": [
    "#ещё дерево посмотрим\n",
    "model=DecisionTreeRegressor(random_state=12345)"
   ]
  },
  {
   "cell_type": "code",
   "execution_count": 246,
   "metadata": {},
   "outputs": [],
   "source": [
    "parameters_grid = {\n",
    "    'max_depth': list(range(5, 100,5))\n",
    "}"
   ]
  },
  {
   "cell_type": "code",
   "execution_count": 247,
   "metadata": {},
   "outputs": [
    {
     "name": "stdout",
     "output_type": "stream",
     "text": [
      "Wall time: 1.85 s\n"
     ]
    },
    {
     "data": {
      "text/plain": [
       "GridSearchCV(cv=3, estimator=DecisionTreeRegressor(random_state=12345),\n",
       "             n_jobs=-1,\n",
       "             param_grid={'max_depth': [5, 10, 15, 20, 25, 30, 35, 40, 45, 50,\n",
       "                                       55, 60, 65, 70, 75, 80, 85, 90, 95]},\n",
       "             scoring=make_scorer(sMAPE, greater_is_better=False))"
      ]
     },
     "execution_count": 247,
     "metadata": {},
     "output_type": "execute_result"
    }
   ],
   "source": [
    "%%time\n",
    "grid_cv = GridSearchCV(model, parameters_grid, scoring = scoring, cv = 3, n_jobs=-1)\n",
    "grid_cv.fit(features_rougher_train, target_rougher_train)"
   ]
  },
  {
   "cell_type": "code",
   "execution_count": 248,
   "metadata": {},
   "outputs": [
    {
     "name": "stdout",
     "output_type": "stream",
     "text": [
      "{'max_depth': 5}\n",
      "-9.086587540420132\n"
     ]
    }
   ],
   "source": [
    "best_model_tree=grid_cv.best_estimator_\n",
    "print(grid_cv.best_params_)\n",
    "print(grid_cv.best_score_)"
   ]
  },
  {
   "cell_type": "markdown",
   "metadata": {},
   "source": [
    "Итого по первой моделе:\n",
    "- Линейная регрессия показала качество выше, чем другие модели. Для итогового предсказания берем линейную регрессию"
   ]
  },
  {
   "cell_type": "markdown",
   "metadata": {},
   "source": [
    "### Модель для этапа очистки"
   ]
  },
  {
   "cell_type": "markdown",
   "metadata": {},
   "source": [
    "Теперь всё те же шаги проделываем для следующего этапа"
   ]
  },
  {
   "cell_type": "code",
   "execution_count": 251,
   "metadata": {},
   "outputs": [
    {
     "name": "stdout",
     "output_type": "stream",
     "text": [
      "-9.811324246955156\n"
     ]
    }
   ],
   "source": [
    "model= LinearRegression()\n",
    "scores = cross_val_score(model, features_cleaner_train, target_final_train, cv=5,scoring=scoring)\n",
    "print(scores.mean())"
   ]
  },
  {
   "cell_type": "code",
   "execution_count": 253,
   "metadata": {},
   "outputs": [],
   "source": [
    "#случайный лес\n",
    "model= RandomForestRegressor(random_state=12345)\n",
    "parameters_grid = {\n",
    "    'n_estimators': [50, 100, 200],\n",
    "    'max_depth': [10, 20, 50]\n",
    "}"
   ]
  },
  {
   "cell_type": "code",
   "execution_count": 254,
   "metadata": {},
   "outputs": [
    {
     "name": "stdout",
     "output_type": "stream",
     "text": [
      "Wall time: 1min 49s\n"
     ]
    },
    {
     "data": {
      "text/plain": [
       "GridSearchCV(cv=3, estimator=RandomForestRegressor(random_state=12345),\n",
       "             n_jobs=-1,\n",
       "             param_grid={'max_depth': [10, 20, 50],\n",
       "                         'n_estimators': [50, 100, 200]},\n",
       "             scoring=make_scorer(sMAPE, greater_is_better=False))"
      ]
     },
     "execution_count": 254,
     "metadata": {},
     "output_type": "execute_result"
    }
   ],
   "source": [
    "%%time\n",
    "grid_cv = GridSearchCV(model, parameters_grid, scoring = scoring, cv = 3, n_jobs=-1)\n",
    "grid_cv.fit(features_cleaner_train, target_final_train)"
   ]
  },
  {
   "cell_type": "code",
   "execution_count": 255,
   "metadata": {},
   "outputs": [
    {
     "name": "stdout",
     "output_type": "stream",
     "text": [
      "{'max_depth': 10, 'n_estimators': 200}\n",
      "-14.531768953915945\n"
     ]
    }
   ],
   "source": [
    "best_model=grid_cv.best_estimator_\n",
    "print(grid_cv.best_params_)\n",
    "print(grid_cv.best_score_)"
   ]
  },
  {
   "cell_type": "code",
   "execution_count": 258,
   "metadata": {},
   "outputs": [],
   "source": [
    "#попробуем градиентный бустинг с параметрами по умолчанию\n",
    "model=GradientBoostingRegressor()"
   ]
  },
  {
   "cell_type": "code",
   "execution_count": 259,
   "metadata": {},
   "outputs": [
    {
     "name": "stdout",
     "output_type": "stream",
     "text": [
      "-11.36411911099762\n"
     ]
    }
   ],
   "source": [
    "scores = cross_val_score(model, features_cleaner_train, target_final_train, cv=5,scoring=scoring)\n",
    "print(scores.mean())"
   ]
  },
  {
   "cell_type": "code",
   "execution_count": 261,
   "metadata": {},
   "outputs": [],
   "source": [
    "#ещё дерево посмотрим\n",
    "model=DecisionTreeRegressor(random_state=12345)"
   ]
  },
  {
   "cell_type": "code",
   "execution_count": 262,
   "metadata": {},
   "outputs": [],
   "source": [
    "parameters_grid = {\n",
    "    'max_depth': list(range(5, 100,5))\n",
    "}"
   ]
  },
  {
   "cell_type": "code",
   "execution_count": 263,
   "metadata": {},
   "outputs": [
    {
     "name": "stdout",
     "output_type": "stream",
     "text": [
      "Wall time: 2.6 s\n"
     ]
    },
    {
     "data": {
      "text/plain": [
       "GridSearchCV(cv=3, estimator=DecisionTreeRegressor(random_state=12345),\n",
       "             n_jobs=-1,\n",
       "             param_grid={'max_depth': [5, 10, 15, 20, 25, 30, 35, 40, 45, 50,\n",
       "                                       55, 60, 65, 70, 75, 80, 85, 90, 95]},\n",
       "             scoring=make_scorer(sMAPE, greater_is_better=False))"
      ]
     },
     "execution_count": 263,
     "metadata": {},
     "output_type": "execute_result"
    }
   ],
   "source": [
    "%%time\n",
    "grid_cv = GridSearchCV(model, parameters_grid, scoring = scoring, cv = 3, n_jobs=-1)\n",
    "grid_cv.fit(features_cleaner_train, target_final_train)"
   ]
  },
  {
   "cell_type": "code",
   "execution_count": 264,
   "metadata": {},
   "outputs": [
    {
     "name": "stdout",
     "output_type": "stream",
     "text": [
      "{'max_depth': 5}\n",
      "-15.452080341550946\n"
     ]
    }
   ],
   "source": [
    "best_model_tree=grid_cv.best_estimator_\n",
    "print(grid_cv.best_params_)\n",
    "print(grid_cv.best_score_)"
   ]
  },
  {
   "cell_type": "markdown",
   "metadata": {},
   "source": [
    "Итого по этапу очистки:\n",
    "- Для этапа очистки так же лучшее качество показала линейная регрессия"
   ]
  },
  {
   "cell_type": "code",
   "execution_count": 272,
   "metadata": {},
   "outputs": [],
   "source": [
    "model_rougher=LinearRegression()\n",
    "model_cleaner=LinearRegression()"
   ]
  },
  {
   "cell_type": "code",
   "execution_count": 273,
   "metadata": {},
   "outputs": [],
   "source": [
    "model_rougher.fit(features_rougher_train,target_rougher_train)\n",
    "model_cleaner.fit(features_cleaner_train,target_final_train)\n",
    "predict_rougher=model_rougher.predict(features_rougher_test)\n",
    "predict_cleaner=model_cleaner.predict(features_cleaner_test)"
   ]
  },
  {
   "cell_type": "code",
   "execution_count": 274,
   "metadata": {},
   "outputs": [],
   "source": [
    "#print('Итоговая оценка качество модели:',sMAPE(model_rougher,model_cleaner, features_rougher_test_scale, target_rougher_test, features_cleaner_test_scale, \n",
    "#      target_final_test))"
   ]
  },
  {
   "cell_type": "code",
   "execution_count": 275,
   "metadata": {},
   "outputs": [
    {
     "name": "stdout",
     "output_type": "stream",
     "text": [
      "Итоговая оценка качество модели: 7.720532811782432\n"
     ]
    }
   ],
   "source": [
    "print('Итоговая оценка качество модели:',sMAPE(target_rougher_test, predict_rougher)*0.25+0.75*\n",
    "      sMAPE(target_final_test, predict_cleaner))"
   ]
  },
  {
   "cell_type": "code",
   "execution_count": 276,
   "metadata": {},
   "outputs": [],
   "source": [
    "predict_rougher_dummy = pd.Series([target_rougher_train.median()]*len(features_rougher_test),\n",
    "                                  index = features_rougher_test.index)"
   ]
  },
  {
   "cell_type": "code",
   "execution_count": 277,
   "metadata": {},
   "outputs": [],
   "source": [
    "predict_cleaner_dummy = pd.Series([target_final_train.median()]*len(features_cleaner_test),\n",
    "                                  index = features_cleaner_test.index)"
   ]
  },
  {
   "cell_type": "code",
   "execution_count": 278,
   "metadata": {},
   "outputs": [
    {
     "name": "stdout",
     "output_type": "stream",
     "text": [
      "Итоговая оценка качество модели по константной молели: 7.465168321848635\n"
     ]
    }
   ],
   "source": [
    "print('Итоговая оценка качество модели по константной молели:',sMAPE(target_rougher_test, predict_rougher_dummy)*0.25+0.75*\n",
    "      sMAPE(target_final_test, predict_cleaner_dummy))"
   ]
  },
  {
   "cell_type": "markdown",
   "metadata": {},
   "source": [
    "Выводы:\n",
    "- В рамках проекта мы исследовали процесс очистки золотоносной руды\n",
    "- Задача состояла в предскзании эффективности обогащения руды на этапах флотации и после очистки.\n",
    "- Т.к. таргет числово, то имеет место задача построения регрессии\n",
    "- Провели предобрабоку даных и исследовали признаки\n",
    "- Признаки разделили на 2 группы, в соответсвии с этапами очистки. Модель стром на соответсвующих признаках для этапа\n",
    "- Обучили по 4 модели для каждого этапа: линейну регрессию, дерево решений, случайны лес и градиентный бустинг. В качестве итговой модели был выбран градиентный бустинг на обоих этапах\n",
    "- Для итогоов йоценки качества была написана пользовательская функция оценки\n",
    "- Ошибка на тестовой выборке составила 8,5%: 4,5% на этапе флотации и 9,9% на этапе очистки."
   ]
  },
  {
   "cell_type": "code",
   "execution_count": null,
   "metadata": {},
   "outputs": [],
   "source": []
  }
 ],
 "metadata": {
  "ExecuteTimeLog": [
   {
    "duration": 392,
    "start_time": "2023-01-16T17:50:09.386Z"
   },
   {
    "duration": 3314,
    "start_time": "2023-01-16T17:51:06.996Z"
   },
   {
    "duration": 32,
    "start_time": "2023-01-16T17:51:27.043Z"
   },
   {
    "duration": 30,
    "start_time": "2023-01-16T17:52:10.866Z"
   },
   {
    "duration": 23,
    "start_time": "2023-01-16T17:58:47.823Z"
   },
   {
    "duration": 73,
    "start_time": "2023-01-16T17:59:10.728Z"
   },
   {
    "duration": 251,
    "start_time": "2023-01-16T17:59:37.650Z"
   },
   {
    "duration": 1480,
    "start_time": "2023-01-16T18:02:10.016Z"
   },
   {
    "duration": 27,
    "start_time": "2023-01-16T18:05:47.039Z"
   },
   {
    "duration": 17,
    "start_time": "2023-01-16T18:06:25.459Z"
   },
   {
    "duration": 15,
    "start_time": "2023-01-16T18:07:02.790Z"
   },
   {
    "duration": 23,
    "start_time": "2023-01-16T18:07:35.531Z"
   },
   {
    "duration": 411,
    "start_time": "2023-01-19T18:01:50.965Z"
   },
   {
    "duration": 3292,
    "start_time": "2023-01-19T18:01:51.378Z"
   },
   {
    "duration": 27,
    "start_time": "2023-01-19T18:01:57.971Z"
   },
   {
    "duration": 753,
    "start_time": "2023-01-19T18:16:38.752Z"
   },
   {
    "duration": 34,
    "start_time": "2023-01-19T18:16:45.375Z"
   },
   {
    "duration": 7,
    "start_time": "2023-01-19T18:17:02.490Z"
   },
   {
    "duration": 50,
    "start_time": "2023-01-19T18:18:45.495Z"
   },
   {
    "duration": 6,
    "start_time": "2023-01-19T18:19:21.871Z"
   },
   {
    "duration": 55,
    "start_time": "2023-01-19T18:20:01.416Z"
   },
   {
    "duration": 789,
    "start_time": "2023-01-19T18:20:06.207Z"
   },
   {
    "duration": 5,
    "start_time": "2023-01-19T18:20:31.574Z"
   },
   {
    "duration": 56,
    "start_time": "2023-01-19T18:24:34.563Z"
   },
   {
    "duration": 5,
    "start_time": "2023-01-19T18:26:21.493Z"
   },
   {
    "duration": 5,
    "start_time": "2023-01-19T18:26:22.364Z"
   },
   {
    "duration": 705,
    "start_time": "2023-01-19T18:26:35.494Z"
   },
   {
    "duration": 23,
    "start_time": "2023-01-19T18:26:52.365Z"
   },
   {
    "duration": 5,
    "start_time": "2023-01-19T18:27:08.924Z"
   },
   {
    "duration": 4,
    "start_time": "2023-01-19T18:27:09.661Z"
   },
   {
    "duration": 13,
    "start_time": "2023-01-19T18:27:11.681Z"
   },
   {
    "duration": 7,
    "start_time": "2023-01-19T18:30:28.490Z"
   },
   {
    "duration": 3,
    "start_time": "2023-01-19T18:31:46.968Z"
   },
   {
    "duration": 4,
    "start_time": "2023-01-19T18:31:56.002Z"
   },
   {
    "duration": 3,
    "start_time": "2023-01-19T18:32:42.163Z"
   },
   {
    "duration": 8,
    "start_time": "2023-01-19T18:34:11.858Z"
   },
   {
    "duration": 3,
    "start_time": "2023-01-19T18:34:40.450Z"
   },
   {
    "duration": 5,
    "start_time": "2023-01-19T18:34:44.362Z"
   },
   {
    "duration": 6,
    "start_time": "2023-01-19T18:36:20.482Z"
   },
   {
    "duration": 5,
    "start_time": "2023-01-19T18:36:29.281Z"
   },
   {
    "duration": 12,
    "start_time": "2023-01-19T18:37:08.500Z"
   },
   {
    "duration": 7,
    "start_time": "2023-01-19T18:44:27.919Z"
   },
   {
    "duration": 3,
    "start_time": "2023-01-19T18:45:01.837Z"
   },
   {
    "duration": 7,
    "start_time": "2023-01-19T18:45:02.681Z"
   },
   {
    "duration": 2,
    "start_time": "2023-01-19T18:46:53.077Z"
   },
   {
    "duration": 19,
    "start_time": "2023-01-19T18:47:07.293Z"
   },
   {
    "duration": 8,
    "start_time": "2023-01-19T18:47:40.213Z"
   },
   {
    "duration": 3,
    "start_time": "2023-01-19T18:48:53.789Z"
   },
   {
    "duration": 9,
    "start_time": "2023-01-19T18:48:59.055Z"
   },
   {
    "duration": 4,
    "start_time": "2023-01-19T18:51:33.020Z"
   },
   {
    "duration": 4,
    "start_time": "2023-01-19T18:51:41.940Z"
   },
   {
    "duration": 4,
    "start_time": "2023-01-19T18:51:47.828Z"
   },
   {
    "duration": 5,
    "start_time": "2023-01-19T18:55:14.027Z"
   },
   {
    "duration": 5,
    "start_time": "2023-01-19T18:55:42.823Z"
   },
   {
    "duration": 14,
    "start_time": "2023-01-19T18:56:47.978Z"
   },
   {
    "duration": 10,
    "start_time": "2023-01-19T18:59:00.480Z"
   },
   {
    "duration": 14,
    "start_time": "2023-01-19T19:04:27.183Z"
   },
   {
    "duration": 16,
    "start_time": "2023-01-19T19:05:48.080Z"
   },
   {
    "duration": 8,
    "start_time": "2023-01-19T19:07:01.365Z"
   },
   {
    "duration": 5,
    "start_time": "2023-01-19T19:07:05.693Z"
   },
   {
    "duration": 19,
    "start_time": "2023-01-19T19:13:48.968Z"
   },
   {
    "duration": 23,
    "start_time": "2023-01-19T19:14:02.559Z"
   },
   {
    "duration": 29,
    "start_time": "2023-01-19T19:14:41.193Z"
   },
   {
    "duration": 27,
    "start_time": "2023-01-19T19:20:25.525Z"
   },
   {
    "duration": 58,
    "start_time": "2023-01-19T19:20:41.934Z"
   },
   {
    "duration": 19,
    "start_time": "2023-01-19T19:21:28.437Z"
   },
   {
    "duration": 1431,
    "start_time": "2023-01-21T11:40:14.513Z"
   },
   {
    "duration": 1985,
    "start_time": "2023-01-21T11:40:16.639Z"
   },
   {
    "duration": 32,
    "start_time": "2023-01-21T11:40:18.935Z"
   },
   {
    "duration": 23,
    "start_time": "2023-01-21T11:40:19.711Z"
   },
   {
    "duration": 7,
    "start_time": "2023-01-21T11:40:22.567Z"
   },
   {
    "duration": 4,
    "start_time": "2023-01-21T11:40:23.376Z"
   },
   {
    "duration": 18,
    "start_time": "2023-01-21T11:40:24.303Z"
   },
   {
    "duration": 6,
    "start_time": "2023-01-21T11:40:24.887Z"
   },
   {
    "duration": 1281,
    "start_time": "2023-01-21T11:53:45.147Z"
   },
   {
    "duration": 2577,
    "start_time": "2023-01-21T11:53:46.430Z"
   },
   {
    "duration": 44,
    "start_time": "2023-01-21T11:53:49.010Z"
   },
   {
    "duration": 36,
    "start_time": "2023-01-21T11:53:49.057Z"
   },
   {
    "duration": 10,
    "start_time": "2023-01-21T11:53:49.099Z"
   },
   {
    "duration": 12,
    "start_time": "2023-01-21T11:53:49.111Z"
   },
   {
    "duration": 31,
    "start_time": "2023-01-21T11:53:49.125Z"
   },
   {
    "duration": 10,
    "start_time": "2023-01-21T11:53:49.158Z"
   },
   {
    "duration": 22,
    "start_time": "2023-01-21T11:54:52.327Z"
   },
   {
    "duration": 57,
    "start_time": "2023-01-21T11:55:33.314Z"
   },
   {
    "duration": 28,
    "start_time": "2023-01-21T11:55:39.408Z"
   },
   {
    "duration": 6,
    "start_time": "2023-01-21T11:56:06.034Z"
   },
   {
    "duration": 1253,
    "start_time": "2023-01-21T11:56:16.217Z"
   },
   {
    "duration": 150,
    "start_time": "2023-01-21T12:00:19.314Z"
   },
   {
    "duration": 4,
    "start_time": "2023-01-21T12:01:12.325Z"
   },
   {
    "duration": 76,
    "start_time": "2023-01-21T12:03:28.871Z"
   },
   {
    "duration": 111,
    "start_time": "2023-01-21T12:04:16.157Z"
   },
   {
    "duration": 97,
    "start_time": "2023-01-21T12:04:26.976Z"
   },
   {
    "duration": 535,
    "start_time": "2023-01-21T12:04:43.455Z"
   },
   {
    "duration": 559,
    "start_time": "2023-01-21T12:06:38.703Z"
   },
   {
    "duration": 514,
    "start_time": "2023-01-21T12:07:29.039Z"
   },
   {
    "duration": 481,
    "start_time": "2023-01-21T12:07:41.705Z"
   },
   {
    "duration": 652,
    "start_time": "2023-01-21T12:08:11.180Z"
   },
   {
    "duration": 635,
    "start_time": "2023-01-21T12:10:09.732Z"
   },
   {
    "duration": 25,
    "start_time": "2023-01-21T12:22:56.424Z"
   },
   {
    "duration": 19,
    "start_time": "2023-01-21T12:23:29.506Z"
   },
   {
    "duration": 46,
    "start_time": "2023-01-21T12:27:15.069Z"
   },
   {
    "duration": 12,
    "start_time": "2023-01-21T12:29:05.717Z"
   },
   {
    "duration": 4,
    "start_time": "2023-01-21T12:29:12.349Z"
   },
   {
    "duration": 14,
    "start_time": "2023-01-21T12:31:29.001Z"
   },
   {
    "duration": 2232,
    "start_time": "2023-01-21T12:31:59.035Z"
   },
   {
    "duration": 37,
    "start_time": "2023-01-21T12:32:01.270Z"
   },
   {
    "duration": 18,
    "start_time": "2023-01-21T12:32:06.155Z"
   },
   {
    "duration": 9,
    "start_time": "2023-01-21T12:32:19.104Z"
   },
   {
    "duration": 11,
    "start_time": "2023-01-21T12:32:20.812Z"
   },
   {
    "duration": 19,
    "start_time": "2023-01-21T12:32:21.548Z"
   },
   {
    "duration": 8,
    "start_time": "2023-01-21T12:32:22.036Z"
   },
   {
    "duration": 14,
    "start_time": "2023-01-21T12:32:28.006Z"
   },
   {
    "duration": 76,
    "start_time": "2023-01-21T12:32:28.504Z"
   },
   {
    "duration": 1519,
    "start_time": "2023-01-21T12:55:35.436Z"
   },
   {
    "duration": 712,
    "start_time": "2023-01-21T12:58:17.964Z"
   },
   {
    "duration": 11,
    "start_time": "2023-01-21T13:07:37.025Z"
   },
   {
    "duration": 1177,
    "start_time": "2023-01-21T13:08:54.146Z"
   },
   {
    "duration": 14,
    "start_time": "2023-01-21T13:10:06.233Z"
   },
   {
    "duration": 20,
    "start_time": "2023-01-21T13:16:45.918Z"
   },
   {
    "duration": 46,
    "start_time": "2023-01-21T13:16:51.671Z"
   },
   {
    "duration": 29,
    "start_time": "2023-01-21T13:17:15.263Z"
   },
   {
    "duration": 12,
    "start_time": "2023-01-21T13:17:40.342Z"
   },
   {
    "duration": 28,
    "start_time": "2023-01-21T13:17:49.878Z"
   },
   {
    "duration": 5,
    "start_time": "2023-01-21T13:18:10.809Z"
   },
   {
    "duration": 12,
    "start_time": "2023-01-21T13:18:35.702Z"
   },
   {
    "duration": 11,
    "start_time": "2023-01-21T13:18:43.213Z"
   },
   {
    "duration": 15,
    "start_time": "2023-01-21T13:18:52.342Z"
   },
   {
    "duration": 17,
    "start_time": "2023-01-21T13:20:44.565Z"
   },
   {
    "duration": 7,
    "start_time": "2023-01-21T13:21:04.460Z"
   },
   {
    "duration": 48,
    "start_time": "2023-01-21T13:25:39.475Z"
   },
   {
    "duration": 13,
    "start_time": "2023-01-21T13:25:57.361Z"
   },
   {
    "duration": 6,
    "start_time": "2023-01-21T13:26:56.930Z"
   },
   {
    "duration": 95,
    "start_time": "2023-01-21T13:29:14.707Z"
   },
   {
    "duration": 14,
    "start_time": "2023-01-21T13:29:15.458Z"
   },
   {
    "duration": 9,
    "start_time": "2023-01-21T13:29:25.642Z"
   },
   {
    "duration": 14,
    "start_time": "2023-01-21T13:29:26.802Z"
   },
   {
    "duration": 1613,
    "start_time": "2023-01-21T14:05:44.609Z"
   },
   {
    "duration": 464,
    "start_time": "2023-01-21T14:06:02.518Z"
   },
   {
    "duration": 9,
    "start_time": "2023-01-21T14:06:19.805Z"
   },
   {
    "duration": 318,
    "start_time": "2023-01-21T14:06:26.278Z"
   },
   {
    "duration": 11,
    "start_time": "2023-01-21T14:08:05.118Z"
   },
   {
    "duration": 11,
    "start_time": "2023-01-21T14:08:13.150Z"
   },
   {
    "duration": 19,
    "start_time": "2023-01-21T14:08:28.997Z"
   },
   {
    "duration": 14,
    "start_time": "2023-01-21T14:08:36.891Z"
   },
   {
    "duration": 4,
    "start_time": "2023-01-21T14:09:25.455Z"
   },
   {
    "duration": 4,
    "start_time": "2023-01-21T14:09:25.742Z"
   },
   {
    "duration": 1954,
    "start_time": "2023-01-21T14:09:26.006Z"
   },
   {
    "duration": 43,
    "start_time": "2023-01-21T14:09:27.963Z"
   },
   {
    "duration": 60,
    "start_time": "2023-01-21T14:09:28.009Z"
   },
   {
    "duration": 8,
    "start_time": "2023-01-21T14:09:28.073Z"
   },
   {
    "duration": 56,
    "start_time": "2023-01-21T14:09:28.083Z"
   },
   {
    "duration": 20,
    "start_time": "2023-01-21T14:09:28.142Z"
   },
   {
    "duration": 10,
    "start_time": "2023-01-21T14:09:28.169Z"
   },
   {
    "duration": 8,
    "start_time": "2023-01-21T14:09:31.438Z"
   },
   {
    "duration": 279,
    "start_time": "2023-01-21T14:09:31.712Z"
   },
   {
    "duration": 13,
    "start_time": "2023-01-21T14:09:32.141Z"
   },
   {
    "duration": 18,
    "start_time": "2023-01-21T14:09:35.381Z"
   },
   {
    "duration": 3,
    "start_time": "2023-01-21T14:18:24.525Z"
   },
   {
    "duration": 9,
    "start_time": "2023-01-21T14:20:41.234Z"
   },
   {
    "duration": 4,
    "start_time": "2023-01-21T14:20:46.738Z"
   },
   {
    "duration": 3,
    "start_time": "2023-01-21T14:20:47.033Z"
   },
   {
    "duration": 1412,
    "start_time": "2023-01-21T14:20:47.313Z"
   },
   {
    "duration": 25,
    "start_time": "2023-01-21T14:20:48.728Z"
   },
   {
    "duration": 36,
    "start_time": "2023-01-21T14:20:48.755Z"
   },
   {
    "duration": 6,
    "start_time": "2023-01-21T14:20:48.794Z"
   },
   {
    "duration": 21,
    "start_time": "2023-01-21T14:20:48.804Z"
   },
   {
    "duration": 10,
    "start_time": "2023-01-21T14:20:48.953Z"
   },
   {
    "duration": 7,
    "start_time": "2023-01-21T14:20:49.217Z"
   },
   {
    "duration": 7,
    "start_time": "2023-01-21T14:20:51.513Z"
   },
   {
    "duration": 331,
    "start_time": "2023-01-21T14:20:51.803Z"
   },
   {
    "duration": 14,
    "start_time": "2023-01-21T14:20:52.731Z"
   },
   {
    "duration": 19,
    "start_time": "2023-01-21T14:20:53.547Z"
   },
   {
    "duration": 52,
    "start_time": "2023-01-21T14:23:29.585Z"
   },
   {
    "duration": 14,
    "start_time": "2023-01-21T14:23:42.813Z"
   },
   {
    "duration": 1337,
    "start_time": "2023-01-21T14:26:41.768Z"
   },
   {
    "duration": 1418,
    "start_time": "2023-01-21T14:26:48.816Z"
   },
   {
    "duration": 31,
    "start_time": "2023-01-21T14:26:58.605Z"
   },
   {
    "duration": 1270,
    "start_time": "2023-01-21T14:27:10.098Z"
   },
   {
    "duration": 20,
    "start_time": "2023-01-21T14:27:11.370Z"
   },
   {
    "duration": 108,
    "start_time": "2023-01-21T14:27:43.418Z"
   },
   {
    "duration": 1437,
    "start_time": "2023-01-21T14:27:48.856Z"
   },
   {
    "duration": 9,
    "start_time": "2023-01-21T14:27:50.295Z"
   },
   {
    "duration": 14,
    "start_time": "2023-01-21T14:28:09.238Z"
   },
   {
    "duration": 10,
    "start_time": "2023-01-21T14:28:09.726Z"
   },
   {
    "duration": 1388,
    "start_time": "2023-01-21T14:29:05.407Z"
   },
   {
    "duration": 1422,
    "start_time": "2023-01-21T14:29:25.159Z"
   },
   {
    "duration": 446,
    "start_time": "2023-01-21T14:29:44.664Z"
   },
   {
    "duration": 5,
    "start_time": "2023-01-21T14:29:46.463Z"
   },
   {
    "duration": 532,
    "start_time": "2023-01-21T14:31:00.526Z"
   },
   {
    "duration": 5,
    "start_time": "2023-01-21T14:31:01.638Z"
   },
   {
    "duration": 17,
    "start_time": "2023-01-21T14:32:20.849Z"
   },
   {
    "duration": 13,
    "start_time": "2023-01-21T14:32:28.515Z"
   },
   {
    "duration": 7,
    "start_time": "2023-01-21T14:32:33.933Z"
   },
   {
    "duration": 34,
    "start_time": "2023-01-21T14:34:29.810Z"
   },
   {
    "duration": 47,
    "start_time": "2023-01-21T14:35:04.235Z"
   },
   {
    "duration": 38,
    "start_time": "2023-01-21T14:35:35.226Z"
   },
   {
    "duration": 30,
    "start_time": "2023-01-21T14:35:44.242Z"
   },
   {
    "duration": 7,
    "start_time": "2023-01-21T14:36:33.961Z"
   },
   {
    "duration": 228,
    "start_time": "2023-01-21T14:40:19.365Z"
   },
   {
    "duration": 9,
    "start_time": "2023-01-21T14:40:21.526Z"
   },
   {
    "duration": 6,
    "start_time": "2023-01-21T14:40:37.533Z"
   },
   {
    "duration": 42,
    "start_time": "2023-01-21T14:40:48.406Z"
   },
   {
    "duration": 31,
    "start_time": "2023-01-21T14:42:09.308Z"
   },
   {
    "duration": 282,
    "start_time": "2023-01-21T14:42:10.715Z"
   },
   {
    "duration": 58,
    "start_time": "2023-01-21T14:42:12.094Z"
   },
   {
    "duration": 7,
    "start_time": "2023-01-21T14:42:29.020Z"
   },
   {
    "duration": 4,
    "start_time": "2023-01-21T17:02:19.437Z"
   },
   {
    "duration": 3,
    "start_time": "2023-01-21T17:02:19.907Z"
   },
   {
    "duration": 3908,
    "start_time": "2023-01-21T17:02:20.211Z"
   },
   {
    "duration": 39,
    "start_time": "2023-01-21T17:02:24.125Z"
   },
   {
    "duration": 38,
    "start_time": "2023-01-21T17:02:24.166Z"
   },
   {
    "duration": 10,
    "start_time": "2023-01-21T17:02:24.210Z"
   },
   {
    "duration": 30,
    "start_time": "2023-01-21T17:02:24.225Z"
   },
   {
    "duration": 16,
    "start_time": "2023-01-21T17:02:24.259Z"
   },
   {
    "duration": 11,
    "start_time": "2023-01-21T17:02:24.278Z"
   },
   {
    "duration": 38,
    "start_time": "2023-01-21T17:02:24.298Z"
   },
   {
    "duration": 586,
    "start_time": "2023-01-21T17:02:24.343Z"
   },
   {
    "duration": 21,
    "start_time": "2023-01-21T17:02:24.936Z"
   },
   {
    "duration": 48,
    "start_time": "2023-01-21T17:02:24.963Z"
   },
   {
    "duration": 64,
    "start_time": "2023-01-21T17:02:25.704Z"
   },
   {
    "duration": 15,
    "start_time": "2023-01-21T17:06:26.958Z"
   },
   {
    "duration": 268,
    "start_time": "2023-01-21T17:06:44.803Z"
   },
   {
    "duration": 256,
    "start_time": "2023-01-21T17:07:45.410Z"
   },
   {
    "duration": 2003,
    "start_time": "2023-01-21T17:08:29.367Z"
   },
   {
    "duration": 1765,
    "start_time": "2023-01-21T17:08:35.105Z"
   },
   {
    "duration": 20,
    "start_time": "2023-01-21T17:10:12.214Z"
   },
   {
    "duration": 152,
    "start_time": "2023-01-21T17:10:18.519Z"
   },
   {
    "duration": 11,
    "start_time": "2023-01-21T17:11:06.328Z"
   },
   {
    "duration": 2319,
    "start_time": "2023-01-21T17:11:31.975Z"
   },
   {
    "duration": 193,
    "start_time": "2023-01-21T17:11:44.359Z"
   },
   {
    "duration": 170,
    "start_time": "2023-01-21T17:11:52.864Z"
   },
   {
    "duration": 261,
    "start_time": "2023-01-21T17:18:36.175Z"
   },
   {
    "duration": 198,
    "start_time": "2023-01-21T17:19:22.729Z"
   },
   {
    "duration": 353,
    "start_time": "2023-01-21T17:21:09.778Z"
   },
   {
    "duration": 286,
    "start_time": "2023-01-21T17:22:28.110Z"
   },
   {
    "duration": 331,
    "start_time": "2023-01-21T17:22:35.079Z"
   },
   {
    "duration": 318,
    "start_time": "2023-01-21T17:28:57.750Z"
   },
   {
    "duration": 378,
    "start_time": "2023-01-21T17:31:36.767Z"
   },
   {
    "duration": 371,
    "start_time": "2023-01-21T17:31:46.606Z"
   },
   {
    "duration": 337,
    "start_time": "2023-01-21T17:32:01.207Z"
   },
   {
    "duration": 378,
    "start_time": "2023-01-21T17:32:11.504Z"
   },
   {
    "duration": 375,
    "start_time": "2023-01-21T17:32:37.010Z"
   },
   {
    "duration": 392,
    "start_time": "2023-01-21T17:32:44.041Z"
   },
   {
    "duration": 35,
    "start_time": "2023-01-21T17:47:27.717Z"
   },
   {
    "duration": 314,
    "start_time": "2023-01-21T17:47:47.437Z"
   },
   {
    "duration": 301,
    "start_time": "2023-01-21T17:48:44.460Z"
   },
   {
    "duration": 303,
    "start_time": "2023-01-21T17:48:57.324Z"
   },
   {
    "duration": 566,
    "start_time": "2023-01-21T17:49:28.130Z"
   },
   {
    "duration": 291,
    "start_time": "2023-01-21T17:49:44.357Z"
   },
   {
    "duration": 314,
    "start_time": "2023-01-21T17:49:55.252Z"
   },
   {
    "duration": 323,
    "start_time": "2023-01-21T17:50:05.591Z"
   },
   {
    "duration": 396,
    "start_time": "2023-01-21T17:50:10.611Z"
   },
   {
    "duration": 357,
    "start_time": "2023-01-21T17:50:14.029Z"
   },
   {
    "duration": 288,
    "start_time": "2023-01-21T17:50:21.426Z"
   },
   {
    "duration": 288,
    "start_time": "2023-01-21T17:50:24.773Z"
   },
   {
    "duration": 352,
    "start_time": "2023-01-21T17:50:29.613Z"
   },
   {
    "duration": 11,
    "start_time": "2023-01-21T17:55:12.409Z"
   },
   {
    "duration": 13,
    "start_time": "2023-01-21T17:55:23.156Z"
   },
   {
    "duration": 216,
    "start_time": "2023-01-21T17:56:16.476Z"
   },
   {
    "duration": 192,
    "start_time": "2023-01-21T17:57:40.532Z"
   },
   {
    "duration": 7,
    "start_time": "2023-01-21T18:07:56.222Z"
   },
   {
    "duration": 11,
    "start_time": "2023-01-21T18:09:43.731Z"
   },
   {
    "duration": 296,
    "start_time": "2023-01-21T18:11:13.328Z"
   },
   {
    "duration": 72,
    "start_time": "2023-01-21T18:22:00.429Z"
   },
   {
    "duration": 1993,
    "start_time": "2023-01-22T10:28:28.611Z"
   },
   {
    "duration": 5,
    "start_time": "2023-01-22T10:28:30.606Z"
   },
   {
    "duration": 3574,
    "start_time": "2023-01-22T10:28:30.613Z"
   },
   {
    "duration": 32,
    "start_time": "2023-01-22T10:28:34.190Z"
   },
   {
    "duration": 24,
    "start_time": "2023-01-22T10:28:34.224Z"
   },
   {
    "duration": 13,
    "start_time": "2023-01-22T10:28:34.250Z"
   },
   {
    "duration": 16,
    "start_time": "2023-01-22T10:28:34.265Z"
   },
   {
    "duration": 36,
    "start_time": "2023-01-22T10:28:34.283Z"
   },
   {
    "duration": 21,
    "start_time": "2023-01-22T10:28:34.321Z"
   },
   {
    "duration": 22,
    "start_time": "2023-01-22T10:28:34.345Z"
   },
   {
    "duration": 287,
    "start_time": "2023-01-22T10:28:34.370Z"
   },
   {
    "duration": 12,
    "start_time": "2023-01-22T10:28:34.659Z"
   },
   {
    "duration": 28,
    "start_time": "2023-01-22T10:28:34.673Z"
   },
   {
    "duration": 30,
    "start_time": "2023-01-22T10:28:35.275Z"
   },
   {
    "duration": 224,
    "start_time": "2023-01-22T10:28:35.938Z"
   },
   {
    "duration": 220,
    "start_time": "2023-01-22T10:28:36.691Z"
   },
   {
    "duration": 230,
    "start_time": "2023-01-22T10:28:37.074Z"
   },
   {
    "duration": 8,
    "start_time": "2023-01-22T10:28:37.468Z"
   },
   {
    "duration": 189,
    "start_time": "2023-01-22T10:28:39.427Z"
   },
   {
    "duration": 11,
    "start_time": "2023-01-22T10:28:39.989Z"
   },
   {
    "duration": 334,
    "start_time": "2023-01-22T10:28:40.181Z"
   },
   {
    "duration": 216,
    "start_time": "2023-01-22T10:28:44.203Z"
   },
   {
    "duration": 4,
    "start_time": "2023-01-22T10:29:06.379Z"
   },
   {
    "duration": 4,
    "start_time": "2023-01-22T10:31:34.748Z"
   },
   {
    "duration": 158,
    "start_time": "2023-01-22T10:32:45.539Z"
   },
   {
    "duration": 5,
    "start_time": "2023-01-22T10:34:14.971Z"
   },
   {
    "duration": 4,
    "start_time": "2023-01-22T10:36:23.185Z"
   },
   {
    "duration": 4,
    "start_time": "2023-01-22T10:44:53.689Z"
   },
   {
    "duration": 49,
    "start_time": "2023-01-22T10:57:13.097Z"
   },
   {
    "duration": 4,
    "start_time": "2023-01-22T10:57:19.833Z"
   },
   {
    "duration": 9,
    "start_time": "2023-01-22T10:58:18.002Z"
   },
   {
    "duration": 3,
    "start_time": "2023-01-22T10:58:22.691Z"
   },
   {
    "duration": 9,
    "start_time": "2023-01-22T11:01:41.985Z"
   },
   {
    "duration": 4,
    "start_time": "2023-01-22T11:02:01.370Z"
   },
   {
    "duration": 1248,
    "start_time": "2023-01-22T11:02:08.616Z"
   },
   {
    "duration": 3,
    "start_time": "2023-01-22T11:02:32.024Z"
   },
   {
    "duration": 52,
    "start_time": "2023-01-22T11:02:53.816Z"
   },
   {
    "duration": 4,
    "start_time": "2023-01-22T11:02:58.191Z"
   },
   {
    "duration": 562,
    "start_time": "2023-01-22T11:13:15.313Z"
   },
   {
    "duration": 5,
    "start_time": "2023-01-22T11:13:22.761Z"
   },
   {
    "duration": 5,
    "start_time": "2023-01-22T11:14:59.423Z"
   },
   {
    "duration": 2,
    "start_time": "2023-01-22T11:17:00.860Z"
   },
   {
    "duration": 3,
    "start_time": "2023-01-22T11:17:25.013Z"
   },
   {
    "duration": 3,
    "start_time": "2023-01-22T11:18:27.741Z"
   },
   {
    "duration": 57,
    "start_time": "2023-01-22T11:18:53.125Z"
   },
   {
    "duration": 279508,
    "start_time": "2023-01-22T11:19:13.021Z"
   },
   {
    "duration": 3,
    "start_time": "2023-01-22T11:24:03.209Z"
   },
   {
    "duration": 84046,
    "start_time": "2023-01-22T11:24:03.601Z"
   },
   {
    "duration": 3,
    "start_time": "2023-01-22T11:26:33.061Z"
   },
   {
    "duration": 99642,
    "start_time": "2023-01-22T11:26:47.272Z"
   },
   {
    "duration": 12988,
    "start_time": "2023-01-22T11:28:35.565Z"
   },
   {
    "duration": 30867,
    "start_time": "2023-01-22T11:29:02.311Z"
   },
   {
    "duration": 8,
    "start_time": "2023-01-22T11:30:27.159Z"
   },
   {
    "duration": 226,
    "start_time": "2023-01-22T11:30:36.258Z"
   },
   {
    "duration": 230,
    "start_time": "2023-01-22T11:31:22.109Z"
   },
   {
    "duration": 217,
    "start_time": "2023-01-22T11:31:26.023Z"
   },
   {
    "duration": 6,
    "start_time": "2023-01-22T11:31:39.708Z"
   },
   {
    "duration": 5,
    "start_time": "2023-01-22T11:38:29.563Z"
   },
   {
    "duration": 7,
    "start_time": "2023-01-22T11:38:44.005Z"
   },
   {
    "duration": 4,
    "start_time": "2023-01-22T11:39:00.306Z"
   },
   {
    "duration": 4,
    "start_time": "2023-01-22T11:39:22.027Z"
   },
   {
    "duration": 3,
    "start_time": "2023-01-22T11:42:20.889Z"
   },
   {
    "duration": 1085017,
    "start_time": "2023-01-22T11:42:21.810Z"
   },
   {
    "duration": 4,
    "start_time": "2023-01-22T12:00:58.853Z"
   },
   {
    "duration": 227,
    "start_time": "2023-01-22T12:01:12.074Z"
   },
   {
    "duration": 5,
    "start_time": "2023-01-22T12:08:03.423Z"
   },
   {
    "duration": 89,
    "start_time": "2023-01-22T12:08:14.983Z"
   },
   {
    "duration": 6,
    "start_time": "2023-01-22T12:08:18.526Z"
   },
   {
    "duration": 7,
    "start_time": "2023-01-22T12:08:27.453Z"
   },
   {
    "duration": 6,
    "start_time": "2023-01-22T12:08:35.194Z"
   },
   {
    "duration": 30,
    "start_time": "2023-01-22T12:09:35.431Z"
   },
   {
    "duration": 8,
    "start_time": "2023-01-22T12:09:45.453Z"
   },
   {
    "duration": 7,
    "start_time": "2023-01-22T12:11:06.727Z"
   },
   {
    "duration": 28294,
    "start_time": "2023-01-22T12:11:08.806Z"
   },
   {
    "duration": 218,
    "start_time": "2023-01-22T12:11:38.613Z"
   },
   {
    "duration": 224,
    "start_time": "2023-01-22T12:12:01.293Z"
   },
   {
    "duration": 242,
    "start_time": "2023-01-22T12:12:21.102Z"
   },
   {
    "duration": 8,
    "start_time": "2023-01-22T12:13:41.469Z"
   },
   {
    "duration": 12,
    "start_time": "2023-01-22T12:14:15.529Z"
   },
   {
    "duration": 739,
    "start_time": "2023-01-22T12:14:23.878Z"
   },
   {
    "duration": 5,
    "start_time": "2023-01-22T12:14:34.126Z"
   },
   {
    "duration": 6,
    "start_time": "2023-01-22T12:14:42.142Z"
   },
   {
    "duration": 55000,
    "start_time": "2023-01-22T12:16:19.574Z"
   },
   {
    "duration": 2,
    "start_time": "2023-01-22T12:17:16.520Z"
   },
   {
    "duration": 493,
    "start_time": "2023-01-22T12:17:16.857Z"
   },
   {
    "duration": 4,
    "start_time": "2023-01-22T12:17:17.923Z"
   },
   {
    "duration": 61,
    "start_time": "2023-01-22T12:17:18.534Z"
   },
   {
    "duration": 423,
    "start_time": "2023-01-22T12:17:25.923Z"
   },
   {
    "duration": 5,
    "start_time": "2023-01-22T12:17:35.966Z"
   },
   {
    "duration": 5,
    "start_time": "2023-01-22T12:19:34.477Z"
   },
   {
    "duration": 5,
    "start_time": "2023-01-22T12:19:46.631Z"
   },
   {
    "duration": 846,
    "start_time": "2023-01-22T12:21:04.726Z"
   },
   {
    "duration": 3,
    "start_time": "2023-01-22T12:21:33.924Z"
   },
   {
    "duration": 375,
    "start_time": "2023-01-22T12:21:44.856Z"
   },
   {
    "duration": 24,
    "start_time": "2023-01-22T12:21:52.823Z"
   },
   {
    "duration": 8,
    "start_time": "2023-01-22T12:22:09.346Z"
   },
   {
    "duration": 6,
    "start_time": "2023-01-22T12:22:14.157Z"
   },
   {
    "duration": 6,
    "start_time": "2023-01-22T12:22:39.493Z"
   },
   {
    "duration": 6,
    "start_time": "2023-01-22T12:27:23.347Z"
   },
   {
    "duration": 5,
    "start_time": "2023-01-22T12:29:19.025Z"
   },
   {
    "duration": 8,
    "start_time": "2023-01-22T12:29:32.947Z"
   },
   {
    "duration": 10,
    "start_time": "2023-01-22T12:29:35.926Z"
   },
   {
    "duration": 4,
    "start_time": "2023-01-22T12:29:44.403Z"
   },
   {
    "duration": 14,
    "start_time": "2023-01-22T12:30:01.843Z"
   },
   {
    "duration": 14,
    "start_time": "2023-01-22T12:30:46.130Z"
   },
   {
    "duration": 30,
    "start_time": "2023-01-22T12:30:53.882Z"
   },
   {
    "duration": 7,
    "start_time": "2023-01-22T12:31:02.062Z"
   },
   {
    "duration": 3,
    "start_time": "2023-01-22T12:31:08.034Z"
   },
   {
    "duration": 16,
    "start_time": "2023-01-22T12:32:21.870Z"
   },
   {
    "duration": 3,
    "start_time": "2023-01-22T12:33:02.129Z"
   },
   {
    "duration": 3,
    "start_time": "2023-01-22T12:33:02.394Z"
   },
   {
    "duration": 645,
    "start_time": "2023-01-22T12:33:02.619Z"
   },
   {
    "duration": 23,
    "start_time": "2023-01-22T12:33:03.266Z"
   },
   {
    "duration": 37,
    "start_time": "2023-01-22T12:33:03.291Z"
   },
   {
    "duration": 5,
    "start_time": "2023-01-22T12:33:03.330Z"
   },
   {
    "duration": 6,
    "start_time": "2023-01-22T12:33:03.586Z"
   },
   {
    "duration": 11,
    "start_time": "2023-01-22T12:33:03.986Z"
   },
   {
    "duration": 6,
    "start_time": "2023-01-22T12:33:04.186Z"
   },
   {
    "duration": 6,
    "start_time": "2023-01-22T12:33:04.609Z"
   },
   {
    "duration": 207,
    "start_time": "2023-01-22T12:33:04.993Z"
   },
   {
    "duration": 7,
    "start_time": "2023-01-22T12:33:05.305Z"
   },
   {
    "duration": 16,
    "start_time": "2023-01-22T12:33:05.675Z"
   },
   {
    "duration": 26,
    "start_time": "2023-01-22T12:33:06.610Z"
   },
   {
    "duration": 5,
    "start_time": "2023-01-22T12:33:07.071Z"
   },
   {
    "duration": 8,
    "start_time": "2023-01-22T12:33:08.201Z"
   },
   {
    "duration": 5,
    "start_time": "2023-01-22T12:33:09.106Z"
   },
   {
    "duration": 4,
    "start_time": "2023-01-22T12:33:09.418Z"
   },
   {
    "duration": 15,
    "start_time": "2023-01-22T12:33:09.874Z"
   },
   {
    "duration": 207,
    "start_time": "2023-01-22T12:33:15.281Z"
   },
   {
    "duration": 219,
    "start_time": "2023-01-22T12:33:15.979Z"
   },
   {
    "duration": 282,
    "start_time": "2023-01-22T12:33:16.441Z"
   },
   {
    "duration": 9,
    "start_time": "2023-01-22T12:33:16.905Z"
   },
   {
    "duration": 139,
    "start_time": "2023-01-22T12:33:17.146Z"
   },
   {
    "duration": 8,
    "start_time": "2023-01-22T12:33:17.610Z"
   },
   {
    "duration": 228,
    "start_time": "2023-01-22T12:33:17.849Z"
   },
   {
    "duration": 167,
    "start_time": "2023-01-22T12:33:18.330Z"
   },
   {
    "duration": 4,
    "start_time": "2023-01-22T12:33:25.673Z"
   },
   {
    "duration": 3,
    "start_time": "2023-01-22T12:33:28.841Z"
   },
   {
    "duration": 1019,
    "start_time": "2023-01-22T12:33:29.229Z"
   },
   {
    "duration": 5,
    "start_time": "2023-01-22T12:33:30.250Z"
   },
   {
    "duration": 4,
    "start_time": "2023-01-22T12:34:03.630Z"
   },
   {
    "duration": 941,
    "start_time": "2023-01-22T12:34:13.905Z"
   },
   {
    "duration": 671,
    "start_time": "2023-01-22T12:34:20.574Z"
   },
   {
    "duration": 2,
    "start_time": "2023-01-22T12:37:58.745Z"
   },
   {
    "duration": 3,
    "start_time": "2023-01-22T12:38:25.375Z"
   },
   {
    "duration": 3,
    "start_time": "2023-01-22T12:38:29.033Z"
   },
   {
    "duration": 14111,
    "start_time": "2023-01-22T12:38:56.200Z"
   },
   {
    "duration": 18,
    "start_time": "2023-01-22T14:31:03.831Z"
   },
   {
    "duration": 0,
    "start_time": "2023-01-22T14:32:32.195Z"
   },
   {
    "duration": 34,
    "start_time": "2023-01-22T14:32:35.774Z"
   },
   {
    "duration": 21,
    "start_time": "2023-01-22T14:32:45.083Z"
   },
   {
    "duration": 10,
    "start_time": "2023-01-22T14:33:30.290Z"
   },
   {
    "duration": 11,
    "start_time": "2023-01-22T14:33:33.590Z"
   },
   {
    "duration": 12,
    "start_time": "2023-01-22T14:33:42.589Z"
   },
   {
    "duration": 14,
    "start_time": "2023-01-22T14:34:06.417Z"
   },
   {
    "duration": 40,
    "start_time": "2023-01-22T14:43:37.368Z"
   }
  ],
  "kernelspec": {
   "display_name": "Python 3 (ipykernel)",
   "language": "python",
   "name": "python3"
  },
  "language_info": {
   "codemirror_mode": {
    "name": "ipython",
    "version": 3
   },
   "file_extension": ".py",
   "mimetype": "text/x-python",
   "name": "python",
   "nbconvert_exporter": "python",
   "pygments_lexer": "ipython3",
   "version": "3.9.7"
  },
  "toc": {
   "base_numbering": 1,
   "nav_menu": {},
   "number_sections": true,
   "sideBar": true,
   "skip_h1_title": true,
   "title_cell": "Содержание",
   "title_sidebar": "Contents",
   "toc_cell": true,
   "toc_position": {
    "height": "calc(100% - 180px)",
    "left": "10px",
    "top": "150px",
    "width": "165px"
   },
   "toc_section_display": true,
   "toc_window_display": true
  }
 },
 "nbformat": 4,
 "nbformat_minor": 2
}

{
 "cells": [
  {
   "cell_type": "markdown",
   "id": "98a30f9d",
   "metadata": {},
   "source": [
    "<div style=\"border:solid Chocolate 2px; padding: 40px\">\n",
    "\n",
    "<b> Андрей, привет!👋</b>\n",
    "\n",
    "Меня зовут Алексей Гриб, я буду твоим тимлидом на протяжении финального спринта:)\n",
    "\n",
    "Сразу хочу предложить в дальнейшем общаться на \"ты\" - надеюсь, так будет комфортнее:) Но если это неудобно, обязательно дай знать, и мы придумаем что-нибудь ещё!\n",
    "    \n",
    "Цель ревью - не искать ошибки в твоём проекте, а помочь тебе сделать твою работу ещё лучше, устранив недочёты и приблизив её к реальным задачам аналитика. Поэтому не расстраивайся, если что-то не получилось с первого раза - это нормально, и это поможет тебе вырасти!\n",
    "    \n",
    "Ты можешь найти мои комментарии, обозначенные <font color='green'>зеленым</font>, <font color='gold'>желтым</font> и <font color='red'>красным</font> цветами, например:\n",
    "\n",
    "<br/>\n",
    "\n",
    "<div class=\"alert alert-success\">\n",
    "<h2> Комментарий тимлида <a class=\"tocSkip\"> </h2>\n",
    "\n",
    "<b>Все отлично!👍:</b> похвала, рекомендации «со звёздочкой», полезные лайфхаки, которые сделают и без того красивое решение ещё более элегантным.\n",
    "</div>\n",
    "\n",
    "<br/>\n",
    "\n",
    "<div class=\"alert alert-warning\">\n",
    "    <h2> Комментарий тимлида <a class=\"tocSkip\"> </h2>\n",
    "    \n",
    "<b>Некоторые замечания и рекомендации⚠️:</b> некритичные ошибки или развивающие рекомендации на будущее. \n",
    "</div>\n",
    "\n",
    "\n",
    "<br/>\n",
    "<div class=\"alert alert-block alert-danger\">\n",
    "<h2> Комментарий тимлида <a class=\"tocSkip\"></h2>\n",
    "\n",
    "    \n",
    "<b>На доработку❌:</b>\n",
    "Критичные ошибки, которые обязательно нужно исправить.\n",
    "</div>\n",
    "\n",
    "Я не смогу принять проект, если в нём будет хотя бы одна критичная ошибка или несколько некритичных ошибок - тогда проект нужно будет немного доработать. Но это нестрашно - я обязательно дам тебе подсказку или укажу верное направление.\n",
    "    \n",
    "Пожалуйста, не удаляй мои комментарии, они будут особенно полезны для нашей работы в случае повторной проверки проекта. \n",
    "    \n",
    "Ты также можешь задавать свои вопросы, реагировать на мои комментарии, делать пометки и пояснения - полная творческая свобода! Но маленькая просьба - пускай они будут отличаться от моих комментариев, это поможет избежать путаницы в нашем общении:)\n",
    "Например, вот так:\n",
    "    \n",
    "<div class=\"alert alert-info\">\n",
    "<h2> Комментарий студента <a class=\"tocSkip\"> </h2>\n",
    "\n",
    "*твой текст*\n",
    "</div>\n",
    "    \n",
    "Давай посмотрим на твой проект!"
   ]
  },
  {
   "cell_type": "markdown",
   "id": "e469a372",
   "metadata": {},
   "source": [
    "<div class=\"alert alert-info\">\n",
    "<h2> Комментарий студента <a class=\"tocSkip\"> </h2>\n",
    "\n",
    "*Привет, Алексей.*\n",
    "</div>"
   ]
  },
  {
   "cell_type": "markdown",
   "id": "b0b8a97f",
   "metadata": {},
   "source": [
    "<b><h2> Предсказание оттока клиентов оператора связи. <a class=\"tocSkip\"> </h2><b>"
   ]
  },
  {
   "cell_type": "markdown",
   "id": "f9015e6d",
   "metadata": {},
   "source": [
    "<b>Цель данной работы</b> - сформировать модель предсказания оттока клиентов для оператора связи, что позволит бизнесу коммуницировать с потенциально отточными клиентами и сохранять их. Заказчиком обозначен целевой уровень качества предсказания на уровне 0.85, по метрике ROC-AUC.\n",
    "\n",
    "Для достижения поставленных целей, требуется:\n",
    "- провести исследовательский анализ предоставленных данных\n",
    "- преобразовать/сформировать признаки для обучения\n",
    "- подобать модель классификации с наилучшим качеством\n",
    "- подготовить отчёт для заказчика"
   ]
  },
  {
   "cell_type": "markdown",
   "id": "c791803e",
   "metadata": {},
   "source": [
    "<div class=\"alert alert-success\">\n",
    "<h2> Комментарий тимлида (план) <a class=\"tocSkip\"> </h2>\n",
    "\n",
    "<b>Все отлично!👍:</b> Хорошая и лаконичная вступительная часть."
   ]
  },
  {
   "cell_type": "markdown",
   "id": "691db0d4",
   "metadata": {},
   "source": [
    "## План работы и EDA"
   ]
  },
  {
   "cell_type": "markdown",
   "id": "00b55631",
   "metadata": {},
   "source": [
    "### Загрузка сбор датасета"
   ]
  },
  {
   "cell_type": "code",
   "execution_count": 1,
   "id": "9dbd6c8a",
   "metadata": {},
   "outputs": [],
   "source": [
    "import pandas as pd\n",
    "import phik\n",
    "import numpy as np\n",
    "import datetime\n",
    "import seaborn as sns\n",
    "import matplotlib.pyplot as plt\n",
    "from sklearn.model_selection import train_test_split, GridSearchCV, RandomizedSearchCV\n",
    "from sklearn.linear_model import LogisticRegression\n",
    "from sklearn.ensemble import RandomForestClassifier\n",
    "from sklearn.preprocessing import StandardScaler, OneHotEncoder\n",
    "from sklearn.pipeline import make_pipeline\n",
    "from sklearn.metrics import roc_auc_score, roc_curve, classification_report, accuracy_score\n",
    "from sklearn.compose import make_column_transformer\n",
    "from lightgbm import LGBMClassifier\n",
    "from catboost import CatBoostClassifier, Pool, cv\n",
    "import optuna\n",
    "from optuna.distributions import IntDistribution as intd\n",
    "from optuna.distributions import FloatDistribution as fl\n",
    "from sklearn.metrics import confusion_matrix\n",
    "from sklearn.metrics import ConfusionMatrixDisplay"
   ]
  },
  {
   "cell_type": "code",
   "execution_count": 2,
   "id": "468fe15d",
   "metadata": {},
   "outputs": [],
   "source": [
    "import warnings\n",
    "warnings.filterwarnings('ignore')\n",
    "RANDOM_STATE = 80523"
   ]
  },
  {
   "cell_type": "markdown",
   "id": "4c67b597",
   "metadata": {},
   "source": [
    "<div class=\"alert alert-success\">\n",
    "<h2> Комментарий тимлида (план) <a class=\"tocSkip\"> </h2>\n",
    "\n",
    "<b>Все отлично!👍:</b> Библиотеки импортировали - отлично! Спасибо, что перезапускаешь проект перед отправкой на ревью - это важный шаг, который поможет избежать простых и досадных ошибок при воспроизведении решнеия:)\n",
    "    \n",
    "`RANDOM_STATE` также соответствует значению для группы - отлично!\n",
    "</div>"
   ]
  },
  {
   "cell_type": "markdown",
   "id": "2cacacfb",
   "metadata": {},
   "source": [
    "<div class=\"alert alert-info\">\n",
    "<h2> Комментарий студента <a class=\"tocSkip\"> </h2>\n",
    "\n",
    "*Немного изменим импорт данных*\n",
    "</div>"
   ]
  },
  {
   "cell_type": "code",
   "execution_count": 3,
   "id": "1463cf5e",
   "metadata": {},
   "outputs": [],
   "source": [
    "try:\n",
    "    phone = pd.read_csv('/datasets/phone_new.csv')\n",
    "    internet = pd.read_csv('/datasets/internet_new.csv')\n",
    "    personal = pd.read_csv('/datasets/personal_new.csv')\n",
    "    contract = pd.read_csv('/datasets/contract_new.csv', parse_dates = ['BeginDate'])\n",
    "except:\n",
    "    phone=pd.read_csv(r'datasets\\phone_new.csv')\n",
    "    internet = pd.read_csv(r'datasets\\internet_new.csv')\n",
    "    personal = pd.read_csv(r'datasets\\personal_new.csv')\n",
    "    contract = pd.read_csv(r'datasets\\contract_new.csv',parse_dates = ['BeginDate'])"
   ]
  },
  {
   "cell_type": "markdown",
   "id": "33f30a8f",
   "metadata": {},
   "source": [
    "<div class=\"alert alert-success\">\n",
    "<h2> Комментарий тимлида (план) <a class=\"tocSkip\"> </h2>\n",
    "\n",
    "<b>Все отлично!👍</b> \n",
    "    \n",
    "Данные загрузили.\n",
    "    \n",
    "При считывании данных из файла здорово перестраховывать себя от ошибок, связанных, например, с неверным указанием пути к файлу. А иногда бывает, что работаешь с файлом локально, выгружаешь его на сервер, ожидая, что он будет принимать данные, которые лежат на том же сервере, а код падает с ошибкой, потому что путь к файлу не поменялся с локального на серверный.\n",
    "    \n",
    "Для этого, например, можно использовать конструкцию `try-except`: сначала пробуешь локальный путь, при возникновении ошибки используется серверный путь (подробнее можешь почитать тут: https://pythonworld.ru/tipy-dannyx-v-python/isklyucheniya-v-python-konstrukciya-try-except-dlya-obrabotki-isklyuchenij.html).\n",
    "    \n",
    "Но еще лучше использовать библиотеку `os` - её использование позволит тебе проверять существование указанных директорий (что может быть актуально при одновременной работа на локальном и сетевом окружении) и загружать данные из существующей директории, избегая ошибок. Как пример:\n",
    "    \n",
    "    import os\n",
    "\n",
    "    pth1 = '/folder_1/data.csv'\n",
    "    pth2 = '/folder_2/data.csv'\n",
    "    \n",
    "    if os.path.exists(pth1):\n",
    "        query_1 = pd.read_csv(pth1)\n",
    "    elif os.path.exists(pth2):\n",
    "        query_1 = pd.read_csv(pth2)\n",
    "    else:\n",
    "        print('Something is wrong')\n",
    "\n",
    "Также ещё на этапе считывания данных можно спарсить дату: за это действие отвечает параметр `parse_dates` метода `read_csv()`, в него нужно передать список с названием полей-дат, и в большинстве случаев дата будет корректно преобразована в нужный формат сразу:) \n",
    "</div>"
   ]
  },
  {
   "cell_type": "code",
   "execution_count": 4,
   "id": "85b7ab91",
   "metadata": {},
   "outputs": [],
   "source": [
    "contract.columns=contract.columns.str.lower()\n",
    "internet.columns=internet.columns.str.lower()\n",
    "personal.columns=personal.columns.str.lower()\n",
    "phone.columns=phone.columns.str.lower()"
   ]
  },
  {
   "cell_type": "markdown",
   "id": "74a80942",
   "metadata": {},
   "source": [
    "<div class=\"alert alert-success\">\n",
    "<h2> Комментарий тимлида (план) <a class=\"tocSkip\"> </h2>\n",
    "\n",
    "<b>Все отлично!👍:</b> Преобразовали столбцы - отлично!"
   ]
  },
  {
   "cell_type": "code",
   "execution_count": 5,
   "id": "f4497b98",
   "metadata": {},
   "outputs": [
    {
     "name": "stdout",
     "output_type": "stream",
     "text": [
      "(7043, 8)\n",
      "(7043, 8)\n",
      "(5517, 8)\n",
      "(5517, 8)\n",
      "(7043, 5)\n",
      "(7043, 5)\n",
      "(6361, 2)\n",
      "(6361, 2)\n"
     ]
    }
   ],
   "source": [
    "#Проверка на наличие полных дубликатов\n",
    "print(contract.shape)\n",
    "contract.drop_duplicates()\n",
    "print(contract.shape)\n",
    "print(internet.shape)\n",
    "internet.drop_duplicates()\n",
    "print(internet.shape)\n",
    "print(personal.shape)\n",
    "personal.drop_duplicates()\n",
    "print(personal.shape)\n",
    "print(phone.shape)\n",
    "phone.drop_duplicates()\n",
    "print(phone.shape)"
   ]
  },
  {
   "cell_type": "markdown",
   "id": "d852428b",
   "metadata": {},
   "source": [
    "<div class=\"alert alert-success\">\n",
    "<h2> Комментарий тимлида (план) <a class=\"tocSkip\"> </h2>\n",
    "\n",
    "<b>Все отлично!👍:</b> Оценили размер выборок - порядок!"
   ]
  },
  {
   "cell_type": "code",
   "execution_count": 6,
   "id": "9266717d",
   "metadata": {},
   "outputs": [],
   "source": [
    "# Объединяем данные в 1 dataframe\n",
    "data = pd.merge(contract, personal, how='left', left_on='customerid',right_on='customerid').merge(internet, \n",
    "                                    how='left', left_on='customerid',right_on='customerid').merge(phone, \n",
    "                                    how='left', left_on='customerid',right_on='customerid')"
   ]
  },
  {
   "cell_type": "markdown",
   "id": "738767d7",
   "metadata": {},
   "source": [
    "<div class=\"alert alert-success\">\n",
    "<h2> Комментарий тимлида (план) <a class=\"tocSkip\"> </h2>\n",
    "\n",
    "<b>Все отлично!👍:</b> Соедини данные в единую таблицу - выполнено корректно, никого не потеряли."
   ]
  },
  {
   "cell_type": "code",
   "execution_count": 7,
   "id": "4483649e",
   "metadata": {},
   "outputs": [
    {
     "data": {
      "text/html": [
       "<div>\n",
       "<style scoped>\n",
       "    .dataframe tbody tr th:only-of-type {\n",
       "        vertical-align: middle;\n",
       "    }\n",
       "\n",
       "    .dataframe tbody tr th {\n",
       "        vertical-align: top;\n",
       "    }\n",
       "\n",
       "    .dataframe thead th {\n",
       "        text-align: right;\n",
       "    }\n",
       "</style>\n",
       "<table border=\"1\" class=\"dataframe\">\n",
       "  <thead>\n",
       "    <tr style=\"text-align: right;\">\n",
       "      <th></th>\n",
       "      <th>customerid</th>\n",
       "      <th>begindate</th>\n",
       "      <th>enddate</th>\n",
       "      <th>type</th>\n",
       "      <th>paperlessbilling</th>\n",
       "      <th>paymentmethod</th>\n",
       "      <th>monthlycharges</th>\n",
       "      <th>totalcharges</th>\n",
       "      <th>gender</th>\n",
       "      <th>seniorcitizen</th>\n",
       "      <th>...</th>\n",
       "      <th>dependents</th>\n",
       "      <th>internetservice</th>\n",
       "      <th>onlinesecurity</th>\n",
       "      <th>onlinebackup</th>\n",
       "      <th>deviceprotection</th>\n",
       "      <th>techsupport</th>\n",
       "      <th>streamingtv</th>\n",
       "      <th>streamingmovies</th>\n",
       "      <th>multiplelines</th>\n",
       "      <th>target</th>\n",
       "    </tr>\n",
       "  </thead>\n",
       "  <tbody>\n",
       "    <tr>\n",
       "      <th>0</th>\n",
       "      <td>7590-VHVEG</td>\n",
       "      <td>2020-01-01</td>\n",
       "      <td>No</td>\n",
       "      <td>Month-to-month</td>\n",
       "      <td>Yes</td>\n",
       "      <td>Electronic check</td>\n",
       "      <td>29.85</td>\n",
       "      <td>31.04</td>\n",
       "      <td>Female</td>\n",
       "      <td>0</td>\n",
       "      <td>...</td>\n",
       "      <td>No</td>\n",
       "      <td>DSL</td>\n",
       "      <td>No</td>\n",
       "      <td>Yes</td>\n",
       "      <td>No</td>\n",
       "      <td>No</td>\n",
       "      <td>No</td>\n",
       "      <td>No</td>\n",
       "      <td>NaN</td>\n",
       "      <td>0</td>\n",
       "    </tr>\n",
       "    <tr>\n",
       "      <th>1</th>\n",
       "      <td>5575-GNVDE</td>\n",
       "      <td>2017-04-01</td>\n",
       "      <td>No</td>\n",
       "      <td>One year</td>\n",
       "      <td>No</td>\n",
       "      <td>Mailed check</td>\n",
       "      <td>56.95</td>\n",
       "      <td>2071.84</td>\n",
       "      <td>Male</td>\n",
       "      <td>0</td>\n",
       "      <td>...</td>\n",
       "      <td>No</td>\n",
       "      <td>DSL</td>\n",
       "      <td>Yes</td>\n",
       "      <td>No</td>\n",
       "      <td>Yes</td>\n",
       "      <td>No</td>\n",
       "      <td>No</td>\n",
       "      <td>No</td>\n",
       "      <td>No</td>\n",
       "      <td>0</td>\n",
       "    </tr>\n",
       "    <tr>\n",
       "      <th>2</th>\n",
       "      <td>3668-QPYBK</td>\n",
       "      <td>2019-10-01</td>\n",
       "      <td>No</td>\n",
       "      <td>Month-to-month</td>\n",
       "      <td>Yes</td>\n",
       "      <td>Mailed check</td>\n",
       "      <td>53.85</td>\n",
       "      <td>226.17</td>\n",
       "      <td>Male</td>\n",
       "      <td>0</td>\n",
       "      <td>...</td>\n",
       "      <td>No</td>\n",
       "      <td>DSL</td>\n",
       "      <td>Yes</td>\n",
       "      <td>Yes</td>\n",
       "      <td>No</td>\n",
       "      <td>No</td>\n",
       "      <td>No</td>\n",
       "      <td>No</td>\n",
       "      <td>No</td>\n",
       "      <td>0</td>\n",
       "    </tr>\n",
       "    <tr>\n",
       "      <th>3</th>\n",
       "      <td>7795-CFOCW</td>\n",
       "      <td>2016-05-01</td>\n",
       "      <td>No</td>\n",
       "      <td>One year</td>\n",
       "      <td>No</td>\n",
       "      <td>Bank transfer (automatic)</td>\n",
       "      <td>42.30</td>\n",
       "      <td>1960.6</td>\n",
       "      <td>Male</td>\n",
       "      <td>0</td>\n",
       "      <td>...</td>\n",
       "      <td>No</td>\n",
       "      <td>DSL</td>\n",
       "      <td>Yes</td>\n",
       "      <td>No</td>\n",
       "      <td>Yes</td>\n",
       "      <td>Yes</td>\n",
       "      <td>No</td>\n",
       "      <td>No</td>\n",
       "      <td>NaN</td>\n",
       "      <td>0</td>\n",
       "    </tr>\n",
       "    <tr>\n",
       "      <th>4</th>\n",
       "      <td>9237-HQITU</td>\n",
       "      <td>2019-09-01</td>\n",
       "      <td>No</td>\n",
       "      <td>Month-to-month</td>\n",
       "      <td>Yes</td>\n",
       "      <td>Electronic check</td>\n",
       "      <td>70.70</td>\n",
       "      <td>353.5</td>\n",
       "      <td>Female</td>\n",
       "      <td>0</td>\n",
       "      <td>...</td>\n",
       "      <td>No</td>\n",
       "      <td>Fiber optic</td>\n",
       "      <td>No</td>\n",
       "      <td>No</td>\n",
       "      <td>No</td>\n",
       "      <td>No</td>\n",
       "      <td>No</td>\n",
       "      <td>No</td>\n",
       "      <td>No</td>\n",
       "      <td>0</td>\n",
       "    </tr>\n",
       "  </tbody>\n",
       "</table>\n",
       "<p>5 rows × 21 columns</p>\n",
       "</div>"
      ],
      "text/plain": [
       "   customerid  begindate enddate            type paperlessbilling  \\\n",
       "0  7590-VHVEG 2020-01-01      No  Month-to-month              Yes   \n",
       "1  5575-GNVDE 2017-04-01      No        One year               No   \n",
       "2  3668-QPYBK 2019-10-01      No  Month-to-month              Yes   \n",
       "3  7795-CFOCW 2016-05-01      No        One year               No   \n",
       "4  9237-HQITU 2019-09-01      No  Month-to-month              Yes   \n",
       "\n",
       "               paymentmethod  monthlycharges totalcharges  gender  \\\n",
       "0           Electronic check           29.85        31.04  Female   \n",
       "1               Mailed check           56.95      2071.84    Male   \n",
       "2               Mailed check           53.85       226.17    Male   \n",
       "3  Bank transfer (automatic)           42.30       1960.6    Male   \n",
       "4           Electronic check           70.70        353.5  Female   \n",
       "\n",
       "   seniorcitizen  ... dependents internetservice onlinesecurity onlinebackup  \\\n",
       "0              0  ...         No             DSL             No          Yes   \n",
       "1              0  ...         No             DSL            Yes           No   \n",
       "2              0  ...         No             DSL            Yes          Yes   \n",
       "3              0  ...         No             DSL            Yes           No   \n",
       "4              0  ...         No     Fiber optic             No           No   \n",
       "\n",
       "  deviceprotection techsupport streamingtv streamingmovies multiplelines  \\\n",
       "0               No          No          No              No           NaN   \n",
       "1              Yes          No          No              No            No   \n",
       "2               No          No          No              No            No   \n",
       "3              Yes         Yes          No              No           NaN   \n",
       "4               No          No          No              No            No   \n",
       "\n",
       "  target  \n",
       "0      0  \n",
       "1      0  \n",
       "2      0  \n",
       "3      0  \n",
       "4      0  \n",
       "\n",
       "[5 rows x 21 columns]"
      ]
     },
     "execution_count": 7,
     "metadata": {},
     "output_type": "execute_result"
    }
   ],
   "source": [
    "# Добавляем таргет и удаляем дату закрытия договора\n",
    "def target(column):\n",
    "    if column=='No':\n",
    "        return 0\n",
    "    else:\n",
    "        return 1\n",
    "data['target']=data['enddate'].apply(target)\n",
    "data.head()"
   ]
  },
  {
   "cell_type": "markdown",
   "id": "42ae2323",
   "metadata": {},
   "source": [
    "<div class=\"alert alert-success\">\n",
    "<h2> Комментарий тимлида (план) <a class=\"tocSkip\"> </h2>\n",
    "\n",
    "<b>Все отлично!👍:</b> Выделили целевой признак - всё верно. Можно было бы сделать это через `lambda-функцию`, чтобы не создавать отдельную функцию на простое действие:\n",
    "    \n",
    "    data['target']=data['enddate'].apply(lambda x: 0 if x == 'No' else 1)"
   ]
  },
  {
   "cell_type": "code",
   "execution_count": 8,
   "id": "af0a410a",
   "metadata": {},
   "outputs": [
    {
     "data": {
      "text/html": [
       "<div>\n",
       "<style scoped>\n",
       "    .dataframe tbody tr th:only-of-type {\n",
       "        vertical-align: middle;\n",
       "    }\n",
       "\n",
       "    .dataframe tbody tr th {\n",
       "        vertical-align: top;\n",
       "    }\n",
       "\n",
       "    .dataframe thead th {\n",
       "        text-align: right;\n",
       "    }\n",
       "</style>\n",
       "<table border=\"1\" class=\"dataframe\">\n",
       "  <thead>\n",
       "    <tr style=\"text-align: right;\">\n",
       "      <th></th>\n",
       "      <th>customerid</th>\n",
       "      <th>begindate</th>\n",
       "      <th>enddate</th>\n",
       "      <th>type</th>\n",
       "      <th>paperlessbilling</th>\n",
       "      <th>paymentmethod</th>\n",
       "      <th>monthlycharges</th>\n",
       "      <th>totalcharges</th>\n",
       "      <th>gender</th>\n",
       "      <th>seniorcitizen</th>\n",
       "      <th>...</th>\n",
       "      <th>dependents</th>\n",
       "      <th>internetservice</th>\n",
       "      <th>onlinesecurity</th>\n",
       "      <th>onlinebackup</th>\n",
       "      <th>deviceprotection</th>\n",
       "      <th>techsupport</th>\n",
       "      <th>streamingtv</th>\n",
       "      <th>streamingmovies</th>\n",
       "      <th>multiplelines</th>\n",
       "      <th>target</th>\n",
       "    </tr>\n",
       "  </thead>\n",
       "  <tbody>\n",
       "    <tr>\n",
       "      <th>count</th>\n",
       "      <td>7043</td>\n",
       "      <td>7043</td>\n",
       "      <td>7043</td>\n",
       "      <td>7043</td>\n",
       "      <td>7043</td>\n",
       "      <td>7043</td>\n",
       "      <td>7043.000000</td>\n",
       "      <td>7043</td>\n",
       "      <td>7043</td>\n",
       "      <td>7043.000000</td>\n",
       "      <td>...</td>\n",
       "      <td>7043</td>\n",
       "      <td>5517</td>\n",
       "      <td>5517</td>\n",
       "      <td>5517</td>\n",
       "      <td>5517</td>\n",
       "      <td>5517</td>\n",
       "      <td>5517</td>\n",
       "      <td>5517</td>\n",
       "      <td>6361</td>\n",
       "      <td>7043.000000</td>\n",
       "    </tr>\n",
       "    <tr>\n",
       "      <th>unique</th>\n",
       "      <td>7043</td>\n",
       "      <td>77</td>\n",
       "      <td>67</td>\n",
       "      <td>3</td>\n",
       "      <td>2</td>\n",
       "      <td>4</td>\n",
       "      <td>NaN</td>\n",
       "      <td>6658</td>\n",
       "      <td>2</td>\n",
       "      <td>NaN</td>\n",
       "      <td>...</td>\n",
       "      <td>2</td>\n",
       "      <td>2</td>\n",
       "      <td>2</td>\n",
       "      <td>2</td>\n",
       "      <td>2</td>\n",
       "      <td>2</td>\n",
       "      <td>2</td>\n",
       "      <td>2</td>\n",
       "      <td>2</td>\n",
       "      <td>NaN</td>\n",
       "    </tr>\n",
       "    <tr>\n",
       "      <th>top</th>\n",
       "      <td>7590-VHVEG</td>\n",
       "      <td>2014-02-01 00:00:00</td>\n",
       "      <td>No</td>\n",
       "      <td>Month-to-month</td>\n",
       "      <td>Yes</td>\n",
       "      <td>Electronic check</td>\n",
       "      <td>NaN</td>\n",
       "      <td></td>\n",
       "      <td>Male</td>\n",
       "      <td>NaN</td>\n",
       "      <td>...</td>\n",
       "      <td>No</td>\n",
       "      <td>Fiber optic</td>\n",
       "      <td>No</td>\n",
       "      <td>No</td>\n",
       "      <td>No</td>\n",
       "      <td>No</td>\n",
       "      <td>No</td>\n",
       "      <td>No</td>\n",
       "      <td>No</td>\n",
       "      <td>NaN</td>\n",
       "    </tr>\n",
       "    <tr>\n",
       "      <th>freq</th>\n",
       "      <td>1</td>\n",
       "      <td>366</td>\n",
       "      <td>5942</td>\n",
       "      <td>3875</td>\n",
       "      <td>4171</td>\n",
       "      <td>2365</td>\n",
       "      <td>NaN</td>\n",
       "      <td>11</td>\n",
       "      <td>3555</td>\n",
       "      <td>NaN</td>\n",
       "      <td>...</td>\n",
       "      <td>4933</td>\n",
       "      <td>3096</td>\n",
       "      <td>3498</td>\n",
       "      <td>3088</td>\n",
       "      <td>3095</td>\n",
       "      <td>3473</td>\n",
       "      <td>2810</td>\n",
       "      <td>2785</td>\n",
       "      <td>3390</td>\n",
       "      <td>NaN</td>\n",
       "    </tr>\n",
       "    <tr>\n",
       "      <th>first</th>\n",
       "      <td>NaN</td>\n",
       "      <td>2013-10-01 00:00:00</td>\n",
       "      <td>NaN</td>\n",
       "      <td>NaN</td>\n",
       "      <td>NaN</td>\n",
       "      <td>NaN</td>\n",
       "      <td>NaN</td>\n",
       "      <td>NaN</td>\n",
       "      <td>NaN</td>\n",
       "      <td>NaN</td>\n",
       "      <td>...</td>\n",
       "      <td>NaN</td>\n",
       "      <td>NaN</td>\n",
       "      <td>NaN</td>\n",
       "      <td>NaN</td>\n",
       "      <td>NaN</td>\n",
       "      <td>NaN</td>\n",
       "      <td>NaN</td>\n",
       "      <td>NaN</td>\n",
       "      <td>NaN</td>\n",
       "      <td>NaN</td>\n",
       "    </tr>\n",
       "    <tr>\n",
       "      <th>last</th>\n",
       "      <td>NaN</td>\n",
       "      <td>2020-02-01 00:00:00</td>\n",
       "      <td>NaN</td>\n",
       "      <td>NaN</td>\n",
       "      <td>NaN</td>\n",
       "      <td>NaN</td>\n",
       "      <td>NaN</td>\n",
       "      <td>NaN</td>\n",
       "      <td>NaN</td>\n",
       "      <td>NaN</td>\n",
       "      <td>...</td>\n",
       "      <td>NaN</td>\n",
       "      <td>NaN</td>\n",
       "      <td>NaN</td>\n",
       "      <td>NaN</td>\n",
       "      <td>NaN</td>\n",
       "      <td>NaN</td>\n",
       "      <td>NaN</td>\n",
       "      <td>NaN</td>\n",
       "      <td>NaN</td>\n",
       "      <td>NaN</td>\n",
       "    </tr>\n",
       "    <tr>\n",
       "      <th>mean</th>\n",
       "      <td>NaN</td>\n",
       "      <td>NaN</td>\n",
       "      <td>NaN</td>\n",
       "      <td>NaN</td>\n",
       "      <td>NaN</td>\n",
       "      <td>NaN</td>\n",
       "      <td>64.761692</td>\n",
       "      <td>NaN</td>\n",
       "      <td>NaN</td>\n",
       "      <td>0.162147</td>\n",
       "      <td>...</td>\n",
       "      <td>NaN</td>\n",
       "      <td>NaN</td>\n",
       "      <td>NaN</td>\n",
       "      <td>NaN</td>\n",
       "      <td>NaN</td>\n",
       "      <td>NaN</td>\n",
       "      <td>NaN</td>\n",
       "      <td>NaN</td>\n",
       "      <td>NaN</td>\n",
       "      <td>0.156325</td>\n",
       "    </tr>\n",
       "    <tr>\n",
       "      <th>std</th>\n",
       "      <td>NaN</td>\n",
       "      <td>NaN</td>\n",
       "      <td>NaN</td>\n",
       "      <td>NaN</td>\n",
       "      <td>NaN</td>\n",
       "      <td>NaN</td>\n",
       "      <td>30.090047</td>\n",
       "      <td>NaN</td>\n",
       "      <td>NaN</td>\n",
       "      <td>0.368612</td>\n",
       "      <td>...</td>\n",
       "      <td>NaN</td>\n",
       "      <td>NaN</td>\n",
       "      <td>NaN</td>\n",
       "      <td>NaN</td>\n",
       "      <td>NaN</td>\n",
       "      <td>NaN</td>\n",
       "      <td>NaN</td>\n",
       "      <td>NaN</td>\n",
       "      <td>NaN</td>\n",
       "      <td>0.363189</td>\n",
       "    </tr>\n",
       "    <tr>\n",
       "      <th>min</th>\n",
       "      <td>NaN</td>\n",
       "      <td>NaN</td>\n",
       "      <td>NaN</td>\n",
       "      <td>NaN</td>\n",
       "      <td>NaN</td>\n",
       "      <td>NaN</td>\n",
       "      <td>18.250000</td>\n",
       "      <td>NaN</td>\n",
       "      <td>NaN</td>\n",
       "      <td>0.000000</td>\n",
       "      <td>...</td>\n",
       "      <td>NaN</td>\n",
       "      <td>NaN</td>\n",
       "      <td>NaN</td>\n",
       "      <td>NaN</td>\n",
       "      <td>NaN</td>\n",
       "      <td>NaN</td>\n",
       "      <td>NaN</td>\n",
       "      <td>NaN</td>\n",
       "      <td>NaN</td>\n",
       "      <td>0.000000</td>\n",
       "    </tr>\n",
       "    <tr>\n",
       "      <th>25%</th>\n",
       "      <td>NaN</td>\n",
       "      <td>NaN</td>\n",
       "      <td>NaN</td>\n",
       "      <td>NaN</td>\n",
       "      <td>NaN</td>\n",
       "      <td>NaN</td>\n",
       "      <td>35.500000</td>\n",
       "      <td>NaN</td>\n",
       "      <td>NaN</td>\n",
       "      <td>0.000000</td>\n",
       "      <td>...</td>\n",
       "      <td>NaN</td>\n",
       "      <td>NaN</td>\n",
       "      <td>NaN</td>\n",
       "      <td>NaN</td>\n",
       "      <td>NaN</td>\n",
       "      <td>NaN</td>\n",
       "      <td>NaN</td>\n",
       "      <td>NaN</td>\n",
       "      <td>NaN</td>\n",
       "      <td>0.000000</td>\n",
       "    </tr>\n",
       "    <tr>\n",
       "      <th>50%</th>\n",
       "      <td>NaN</td>\n",
       "      <td>NaN</td>\n",
       "      <td>NaN</td>\n",
       "      <td>NaN</td>\n",
       "      <td>NaN</td>\n",
       "      <td>NaN</td>\n",
       "      <td>70.350000</td>\n",
       "      <td>NaN</td>\n",
       "      <td>NaN</td>\n",
       "      <td>0.000000</td>\n",
       "      <td>...</td>\n",
       "      <td>NaN</td>\n",
       "      <td>NaN</td>\n",
       "      <td>NaN</td>\n",
       "      <td>NaN</td>\n",
       "      <td>NaN</td>\n",
       "      <td>NaN</td>\n",
       "      <td>NaN</td>\n",
       "      <td>NaN</td>\n",
       "      <td>NaN</td>\n",
       "      <td>0.000000</td>\n",
       "    </tr>\n",
       "    <tr>\n",
       "      <th>75%</th>\n",
       "      <td>NaN</td>\n",
       "      <td>NaN</td>\n",
       "      <td>NaN</td>\n",
       "      <td>NaN</td>\n",
       "      <td>NaN</td>\n",
       "      <td>NaN</td>\n",
       "      <td>89.850000</td>\n",
       "      <td>NaN</td>\n",
       "      <td>NaN</td>\n",
       "      <td>0.000000</td>\n",
       "      <td>...</td>\n",
       "      <td>NaN</td>\n",
       "      <td>NaN</td>\n",
       "      <td>NaN</td>\n",
       "      <td>NaN</td>\n",
       "      <td>NaN</td>\n",
       "      <td>NaN</td>\n",
       "      <td>NaN</td>\n",
       "      <td>NaN</td>\n",
       "      <td>NaN</td>\n",
       "      <td>0.000000</td>\n",
       "    </tr>\n",
       "    <tr>\n",
       "      <th>max</th>\n",
       "      <td>NaN</td>\n",
       "      <td>NaN</td>\n",
       "      <td>NaN</td>\n",
       "      <td>NaN</td>\n",
       "      <td>NaN</td>\n",
       "      <td>NaN</td>\n",
       "      <td>118.750000</td>\n",
       "      <td>NaN</td>\n",
       "      <td>NaN</td>\n",
       "      <td>1.000000</td>\n",
       "      <td>...</td>\n",
       "      <td>NaN</td>\n",
       "      <td>NaN</td>\n",
       "      <td>NaN</td>\n",
       "      <td>NaN</td>\n",
       "      <td>NaN</td>\n",
       "      <td>NaN</td>\n",
       "      <td>NaN</td>\n",
       "      <td>NaN</td>\n",
       "      <td>NaN</td>\n",
       "      <td>1.000000</td>\n",
       "    </tr>\n",
       "  </tbody>\n",
       "</table>\n",
       "<p>13 rows × 21 columns</p>\n",
       "</div>"
      ],
      "text/plain": [
       "        customerid            begindate enddate            type  \\\n",
       "count         7043                 7043    7043            7043   \n",
       "unique        7043                   77      67               3   \n",
       "top     7590-VHVEG  2014-02-01 00:00:00      No  Month-to-month   \n",
       "freq             1                  366    5942            3875   \n",
       "first          NaN  2013-10-01 00:00:00     NaN             NaN   \n",
       "last           NaN  2020-02-01 00:00:00     NaN             NaN   \n",
       "mean           NaN                  NaN     NaN             NaN   \n",
       "std            NaN                  NaN     NaN             NaN   \n",
       "min            NaN                  NaN     NaN             NaN   \n",
       "25%            NaN                  NaN     NaN             NaN   \n",
       "50%            NaN                  NaN     NaN             NaN   \n",
       "75%            NaN                  NaN     NaN             NaN   \n",
       "max            NaN                  NaN     NaN             NaN   \n",
       "\n",
       "       paperlessbilling     paymentmethod  monthlycharges totalcharges gender  \\\n",
       "count              7043              7043     7043.000000         7043   7043   \n",
       "unique                2                 4             NaN         6658      2   \n",
       "top                 Yes  Electronic check             NaN                Male   \n",
       "freq               4171              2365             NaN           11   3555   \n",
       "first               NaN               NaN             NaN          NaN    NaN   \n",
       "last                NaN               NaN             NaN          NaN    NaN   \n",
       "mean                NaN               NaN       64.761692          NaN    NaN   \n",
       "std                 NaN               NaN       30.090047          NaN    NaN   \n",
       "min                 NaN               NaN       18.250000          NaN    NaN   \n",
       "25%                 NaN               NaN       35.500000          NaN    NaN   \n",
       "50%                 NaN               NaN       70.350000          NaN    NaN   \n",
       "75%                 NaN               NaN       89.850000          NaN    NaN   \n",
       "max                 NaN               NaN      118.750000          NaN    NaN   \n",
       "\n",
       "        seniorcitizen  ... dependents internetservice onlinesecurity  \\\n",
       "count     7043.000000  ...       7043            5517           5517   \n",
       "unique            NaN  ...          2               2              2   \n",
       "top               NaN  ...         No     Fiber optic             No   \n",
       "freq              NaN  ...       4933            3096           3498   \n",
       "first             NaN  ...        NaN             NaN            NaN   \n",
       "last              NaN  ...        NaN             NaN            NaN   \n",
       "mean         0.162147  ...        NaN             NaN            NaN   \n",
       "std          0.368612  ...        NaN             NaN            NaN   \n",
       "min          0.000000  ...        NaN             NaN            NaN   \n",
       "25%          0.000000  ...        NaN             NaN            NaN   \n",
       "50%          0.000000  ...        NaN             NaN            NaN   \n",
       "75%          0.000000  ...        NaN             NaN            NaN   \n",
       "max          1.000000  ...        NaN             NaN            NaN   \n",
       "\n",
       "       onlinebackup deviceprotection techsupport streamingtv streamingmovies  \\\n",
       "count          5517             5517        5517        5517            5517   \n",
       "unique            2                2           2           2               2   \n",
       "top              No               No          No          No              No   \n",
       "freq           3088             3095        3473        2810            2785   \n",
       "first           NaN              NaN         NaN         NaN             NaN   \n",
       "last            NaN              NaN         NaN         NaN             NaN   \n",
       "mean            NaN              NaN         NaN         NaN             NaN   \n",
       "std             NaN              NaN         NaN         NaN             NaN   \n",
       "min             NaN              NaN         NaN         NaN             NaN   \n",
       "25%             NaN              NaN         NaN         NaN             NaN   \n",
       "50%             NaN              NaN         NaN         NaN             NaN   \n",
       "75%             NaN              NaN         NaN         NaN             NaN   \n",
       "max             NaN              NaN         NaN         NaN             NaN   \n",
       "\n",
       "       multiplelines       target  \n",
       "count           6361  7043.000000  \n",
       "unique             2          NaN  \n",
       "top               No          NaN  \n",
       "freq            3390          NaN  \n",
       "first            NaN          NaN  \n",
       "last             NaN          NaN  \n",
       "mean             NaN     0.156325  \n",
       "std              NaN     0.363189  \n",
       "min              NaN     0.000000  \n",
       "25%              NaN     0.000000  \n",
       "50%              NaN     0.000000  \n",
       "75%              NaN     0.000000  \n",
       "max              NaN     1.000000  \n",
       "\n",
       "[13 rows x 21 columns]"
      ]
     },
     "execution_count": 8,
     "metadata": {},
     "output_type": "execute_result"
    }
   ],
   "source": [
    "data.describe(include='all')"
   ]
  },
  {
   "cell_type": "code",
   "execution_count": 9,
   "id": "178299d2",
   "metadata": {},
   "outputs": [
    {
     "name": "stdout",
     "output_type": "stream",
     "text": [
      "<class 'pandas.core.frame.DataFrame'>\n",
      "Int64Index: 7043 entries, 0 to 7042\n",
      "Data columns (total 21 columns):\n",
      " #   Column            Non-Null Count  Dtype         \n",
      "---  ------            --------------  -----         \n",
      " 0   customerid        7043 non-null   object        \n",
      " 1   begindate         7043 non-null   datetime64[ns]\n",
      " 2   enddate           7043 non-null   object        \n",
      " 3   type              7043 non-null   object        \n",
      " 4   paperlessbilling  7043 non-null   object        \n",
      " 5   paymentmethod     7043 non-null   object        \n",
      " 6   monthlycharges    7043 non-null   float64       \n",
      " 7   totalcharges      7043 non-null   object        \n",
      " 8   gender            7043 non-null   object        \n",
      " 9   seniorcitizen     7043 non-null   int64         \n",
      " 10  partner           7043 non-null   object        \n",
      " 11  dependents        7043 non-null   object        \n",
      " 12  internetservice   5517 non-null   object        \n",
      " 13  onlinesecurity    5517 non-null   object        \n",
      " 14  onlinebackup      5517 non-null   object        \n",
      " 15  deviceprotection  5517 non-null   object        \n",
      " 16  techsupport       5517 non-null   object        \n",
      " 17  streamingtv       5517 non-null   object        \n",
      " 18  streamingmovies   5517 non-null   object        \n",
      " 19  multiplelines     6361 non-null   object        \n",
      " 20  target            7043 non-null   int64         \n",
      "dtypes: datetime64[ns](1), float64(1), int64(2), object(17)\n",
      "memory usage: 1.2+ MB\n"
     ]
    }
   ],
   "source": [
    "data.info()"
   ]
  },
  {
   "cell_type": "markdown",
   "id": "7295e9f2",
   "metadata": {},
   "source": [
    "<div class=\"alert alert-success\">\n",
    "<h2> Комментарий тимлида (план) <a class=\"tocSkip\"> </h2>\n",
    "\n",
    "<b>Все отлично!👍:</b> Посмотрели основные статистики и общую информацию - отлично!"
   ]
  },
  {
   "cell_type": "code",
   "execution_count": 10,
   "id": "9d18e14f",
   "metadata": {},
   "outputs": [
    {
     "name": "stdout",
     "output_type": "stream",
     "text": [
      "Доля записей с целевым признаком: 0.15632542950447254\n"
     ]
    }
   ],
   "source": [
    "print('Доля записей с целевым признаком:',data['target'].mean())"
   ]
  },
  {
   "cell_type": "markdown",
   "id": "a34be114",
   "metadata": {},
   "source": [
    "<div class=\"alert alert-success\">\n",
    "<h2> Комментарий тимлида (план) <a class=\"tocSkip\"> </h2>\n",
    "\n",
    "<b>Все отлично!👍:</b> Оценили долю целевого признака - всё верно, есть сильный дисбаланс."
   ]
  },
  {
   "cell_type": "markdown",
   "id": "158a713b",
   "metadata": {},
   "source": [
    "### План работы"
   ]
  },
  {
   "cell_type": "markdown",
   "id": "274c607a",
   "metadata": {},
   "source": [
    "- Необходимо преобразовать типы данных\n",
    "- После объединения в один dataframe у нас появились пропуски в данных. Необходимо их заполнить.\n",
    "- Нужно исследовать взаимосвязь таргета и имеющихся признаков\n",
    "- У нас много категориальных признаков. Переведём их в числовые, для тех моделей, где требуется.\n",
    "- Предполагаю рассмотреть 3 модели: лог-регрессию, \"случайный\" лес и градиентный бустинг\n",
    "- Обучять модили будем на кросс-валидации с подбором гипер-параметров. \n",
    "- Дисбаланс классов будем учитывать при обучении, через прараметр \"class_weight\".\n",
    "- Лучшую по метрике модель применим для предсказания на тестовой выборке. Необходимо получить качество не ниже 0,85.\n",
    "- На следующем шаге посмотрим на важность признаков. Отбросим те, что модель считает неважными для предсказания и переобучим модель.\n",
    "- На последнем шаге сформируем отчёт для заказчика. В него должны войти:\n",
    "    - выводы из раздела исследовательского анализа, т.е. как таргет взаимосвязан с признаками\n",
    "    - анализ важности признаков обученной модели. Таким образом покажем, что модель интерпретируема.\n",
    "    - анализ матрицы ошибок на тестовой выборке, для принятия решения"
   ]
  },
  {
   "cell_type": "markdown",
   "id": "b0323294",
   "metadata": {},
   "source": [
    "<div class=\"alert alert-success\">\n",
    "<h2> Комментарий тимлида (план) <a class=\"tocSkip\"> </h2>\n",
    "\n",
    "<b>Все отлично!👍:</b> Отличный план работы, ничего не упустили."
   ]
  },
  {
   "cell_type": "markdown",
   "id": "a1e3dc68",
   "metadata": {},
   "source": [
    "<div class=\"alert alert-warning\">\n",
    "    <h2> Комментарий тимлида (план) <a class=\"tocSkip\"> </h2>\n",
    "    \n",
    "<b>Некоторые замечания и рекомендации⚠️:</b> \n",
    "\n",
    "Напомню, что метрика проекта `ROC-AUC` нечувствительна к дисбалансу, поэтому `class_weight` настраивать необязательно."
   ]
  },
  {
   "cell_type": "markdown",
   "id": "742e6944",
   "metadata": {},
   "source": [
    "<div class=\"alert alert-info\">\n",
    "<h2> Комментарий студента <a class=\"tocSkip\"> </h2>\n",
    "\n",
    "*Была идея class_weight подобрать в числе прочих гиперпараметров*\n",
    "</div>"
   ]
  },
  {
   "cell_type": "markdown",
   "id": "9dae3f1d",
   "metadata": {},
   "source": [
    "<div class=\"alert alert-block alert-success\">\n",
    "<b>Пока вопросов нет</div>"
   ]
  },
  {
   "cell_type": "markdown",
   "id": "0d6e5d08",
   "metadata": {},
   "source": [
    "<div class=\"alert alert-success\">\n",
    "<h2> Комментарий тимлида (план) <a class=\"tocSkip\"> </h2>\n",
    "\n",
    "<b>Все отлично!👍:</b> Вышло довольно глубокое погружение - места для вопросов как будто бы и не было:)"
   ]
  },
  {
   "cell_type": "markdown",
   "id": "d1cd79b2",
   "metadata": {},
   "source": [
    "<div style=\"border:solid Chocolate 2px; padding: 40px\">\n",
    "\n",
    "<b> Комментарий тимлида: общий вывод по проекту (план) </b>\n",
    "\n",
    "Андрей, по плану вопросов нет - хорошая работа. Переходим на следующий этап:)"
   ]
  },
  {
   "cell_type": "markdown",
   "id": "c54bad74",
   "metadata": {},
   "source": [
    "## Подготовка данных и обучение модели"
   ]
  },
  {
   "cell_type": "markdown",
   "id": "e26c2e49",
   "metadata": {},
   "source": [
    "### Изменение типов данных"
   ]
  },
  {
   "cell_type": "code",
   "execution_count": 11,
   "id": "6ffecf95",
   "metadata": {},
   "outputs": [
    {
     "data": {
      "text/html": [
       "<div>\n",
       "<style scoped>\n",
       "    .dataframe tbody tr th:only-of-type {\n",
       "        vertical-align: middle;\n",
       "    }\n",
       "\n",
       "    .dataframe tbody tr th {\n",
       "        vertical-align: top;\n",
       "    }\n",
       "\n",
       "    .dataframe thead th {\n",
       "        text-align: right;\n",
       "    }\n",
       "</style>\n",
       "<table border=\"1\" class=\"dataframe\">\n",
       "  <thead>\n",
       "    <tr style=\"text-align: right;\">\n",
       "      <th></th>\n",
       "      <th>begindate</th>\n",
       "      <th>enddate</th>\n",
       "      <th>type</th>\n",
       "      <th>paperlessbilling</th>\n",
       "      <th>paymentmethod</th>\n",
       "      <th>monthlycharges</th>\n",
       "      <th>totalcharges</th>\n",
       "      <th>gender</th>\n",
       "      <th>seniorcitizen</th>\n",
       "      <th>partner</th>\n",
       "      <th>dependents</th>\n",
       "      <th>internetservice</th>\n",
       "      <th>onlinesecurity</th>\n",
       "      <th>onlinebackup</th>\n",
       "      <th>deviceprotection</th>\n",
       "      <th>techsupport</th>\n",
       "      <th>streamingtv</th>\n",
       "      <th>streamingmovies</th>\n",
       "      <th>multiplelines</th>\n",
       "      <th>target</th>\n",
       "    </tr>\n",
       "    <tr>\n",
       "      <th>customerid</th>\n",
       "      <th></th>\n",
       "      <th></th>\n",
       "      <th></th>\n",
       "      <th></th>\n",
       "      <th></th>\n",
       "      <th></th>\n",
       "      <th></th>\n",
       "      <th></th>\n",
       "      <th></th>\n",
       "      <th></th>\n",
       "      <th></th>\n",
       "      <th></th>\n",
       "      <th></th>\n",
       "      <th></th>\n",
       "      <th></th>\n",
       "      <th></th>\n",
       "      <th></th>\n",
       "      <th></th>\n",
       "      <th></th>\n",
       "      <th></th>\n",
       "    </tr>\n",
       "  </thead>\n",
       "  <tbody>\n",
       "    <tr>\n",
       "      <th>7590-VHVEG</th>\n",
       "      <td>2020-01-01</td>\n",
       "      <td>No</td>\n",
       "      <td>Month-to-month</td>\n",
       "      <td>Yes</td>\n",
       "      <td>Electronic check</td>\n",
       "      <td>29.85</td>\n",
       "      <td>31.04</td>\n",
       "      <td>Female</td>\n",
       "      <td>0</td>\n",
       "      <td>Yes</td>\n",
       "      <td>No</td>\n",
       "      <td>DSL</td>\n",
       "      <td>No</td>\n",
       "      <td>Yes</td>\n",
       "      <td>No</td>\n",
       "      <td>No</td>\n",
       "      <td>No</td>\n",
       "      <td>No</td>\n",
       "      <td>NaN</td>\n",
       "      <td>0</td>\n",
       "    </tr>\n",
       "    <tr>\n",
       "      <th>5575-GNVDE</th>\n",
       "      <td>2017-04-01</td>\n",
       "      <td>No</td>\n",
       "      <td>One year</td>\n",
       "      <td>No</td>\n",
       "      <td>Mailed check</td>\n",
       "      <td>56.95</td>\n",
       "      <td>2071.84</td>\n",
       "      <td>Male</td>\n",
       "      <td>0</td>\n",
       "      <td>No</td>\n",
       "      <td>No</td>\n",
       "      <td>DSL</td>\n",
       "      <td>Yes</td>\n",
       "      <td>No</td>\n",
       "      <td>Yes</td>\n",
       "      <td>No</td>\n",
       "      <td>No</td>\n",
       "      <td>No</td>\n",
       "      <td>No</td>\n",
       "      <td>0</td>\n",
       "    </tr>\n",
       "    <tr>\n",
       "      <th>3668-QPYBK</th>\n",
       "      <td>2019-10-01</td>\n",
       "      <td>No</td>\n",
       "      <td>Month-to-month</td>\n",
       "      <td>Yes</td>\n",
       "      <td>Mailed check</td>\n",
       "      <td>53.85</td>\n",
       "      <td>226.17</td>\n",
       "      <td>Male</td>\n",
       "      <td>0</td>\n",
       "      <td>No</td>\n",
       "      <td>No</td>\n",
       "      <td>DSL</td>\n",
       "      <td>Yes</td>\n",
       "      <td>Yes</td>\n",
       "      <td>No</td>\n",
       "      <td>No</td>\n",
       "      <td>No</td>\n",
       "      <td>No</td>\n",
       "      <td>No</td>\n",
       "      <td>0</td>\n",
       "    </tr>\n",
       "    <tr>\n",
       "      <th>7795-CFOCW</th>\n",
       "      <td>2016-05-01</td>\n",
       "      <td>No</td>\n",
       "      <td>One year</td>\n",
       "      <td>No</td>\n",
       "      <td>Bank transfer (automatic)</td>\n",
       "      <td>42.30</td>\n",
       "      <td>1960.6</td>\n",
       "      <td>Male</td>\n",
       "      <td>0</td>\n",
       "      <td>No</td>\n",
       "      <td>No</td>\n",
       "      <td>DSL</td>\n",
       "      <td>Yes</td>\n",
       "      <td>No</td>\n",
       "      <td>Yes</td>\n",
       "      <td>Yes</td>\n",
       "      <td>No</td>\n",
       "      <td>No</td>\n",
       "      <td>NaN</td>\n",
       "      <td>0</td>\n",
       "    </tr>\n",
       "    <tr>\n",
       "      <th>9237-HQITU</th>\n",
       "      <td>2019-09-01</td>\n",
       "      <td>No</td>\n",
       "      <td>Month-to-month</td>\n",
       "      <td>Yes</td>\n",
       "      <td>Electronic check</td>\n",
       "      <td>70.70</td>\n",
       "      <td>353.5</td>\n",
       "      <td>Female</td>\n",
       "      <td>0</td>\n",
       "      <td>No</td>\n",
       "      <td>No</td>\n",
       "      <td>Fiber optic</td>\n",
       "      <td>No</td>\n",
       "      <td>No</td>\n",
       "      <td>No</td>\n",
       "      <td>No</td>\n",
       "      <td>No</td>\n",
       "      <td>No</td>\n",
       "      <td>No</td>\n",
       "      <td>0</td>\n",
       "    </tr>\n",
       "  </tbody>\n",
       "</table>\n",
       "</div>"
      ],
      "text/plain": [
       "            begindate enddate            type paperlessbilling  \\\n",
       "customerid                                                       \n",
       "7590-VHVEG 2020-01-01      No  Month-to-month              Yes   \n",
       "5575-GNVDE 2017-04-01      No        One year               No   \n",
       "3668-QPYBK 2019-10-01      No  Month-to-month              Yes   \n",
       "7795-CFOCW 2016-05-01      No        One year               No   \n",
       "9237-HQITU 2019-09-01      No  Month-to-month              Yes   \n",
       "\n",
       "                        paymentmethod  monthlycharges totalcharges  gender  \\\n",
       "customerid                                                                   \n",
       "7590-VHVEG           Electronic check           29.85        31.04  Female   \n",
       "5575-GNVDE               Mailed check           56.95      2071.84    Male   \n",
       "3668-QPYBK               Mailed check           53.85       226.17    Male   \n",
       "7795-CFOCW  Bank transfer (automatic)           42.30       1960.6    Male   \n",
       "9237-HQITU           Electronic check           70.70        353.5  Female   \n",
       "\n",
       "            seniorcitizen partner dependents internetservice onlinesecurity  \\\n",
       "customerid                                                                    \n",
       "7590-VHVEG              0     Yes         No             DSL             No   \n",
       "5575-GNVDE              0      No         No             DSL            Yes   \n",
       "3668-QPYBK              0      No         No             DSL            Yes   \n",
       "7795-CFOCW              0      No         No             DSL            Yes   \n",
       "9237-HQITU              0      No         No     Fiber optic             No   \n",
       "\n",
       "           onlinebackup deviceprotection techsupport streamingtv  \\\n",
       "customerid                                                         \n",
       "7590-VHVEG          Yes               No          No          No   \n",
       "5575-GNVDE           No              Yes          No          No   \n",
       "3668-QPYBK          Yes               No          No          No   \n",
       "7795-CFOCW           No              Yes         Yes          No   \n",
       "9237-HQITU           No               No          No          No   \n",
       "\n",
       "           streamingmovies multiplelines  target  \n",
       "customerid                                        \n",
       "7590-VHVEG              No           NaN       0  \n",
       "5575-GNVDE              No            No       0  \n",
       "3668-QPYBK              No            No       0  \n",
       "7795-CFOCW              No           NaN       0  \n",
       "9237-HQITU              No            No       0  "
      ]
     },
     "execution_count": 11,
     "metadata": {},
     "output_type": "execute_result"
    }
   ],
   "source": [
    "# id клиента назначим индексом\n",
    "data.set_index('customerid', inplace=True)\n",
    "data.head()"
   ]
  },
  {
   "cell_type": "markdown",
   "id": "5b9e2a6e",
   "metadata": {},
   "source": [
    "<div class=\"alert alert-success\">\n",
    "<h2> Комментарий тимлида (код) <a class=\"tocSkip\"> </h2>\n",
    "\n",
    "<b>Все отлично!👍:</b> Сделали ID клиента индексом таблицы - отличное решение."
   ]
  },
  {
   "cell_type": "code",
   "execution_count": 12,
   "id": "ae3de5e7",
   "metadata": {},
   "outputs": [
    {
     "data": {
      "text/html": [
       "<div>\n",
       "<style scoped>\n",
       "    .dataframe tbody tr th:only-of-type {\n",
       "        vertical-align: middle;\n",
       "    }\n",
       "\n",
       "    .dataframe tbody tr th {\n",
       "        vertical-align: top;\n",
       "    }\n",
       "\n",
       "    .dataframe thead th {\n",
       "        text-align: right;\n",
       "    }\n",
       "</style>\n",
       "<table border=\"1\" class=\"dataframe\">\n",
       "  <thead>\n",
       "    <tr style=\"text-align: right;\">\n",
       "      <th></th>\n",
       "      <th>begindate</th>\n",
       "      <th>enddate</th>\n",
       "      <th>type</th>\n",
       "      <th>paperlessbilling</th>\n",
       "      <th>paymentmethod</th>\n",
       "      <th>monthlycharges</th>\n",
       "      <th>totalcharges</th>\n",
       "      <th>gender</th>\n",
       "      <th>seniorcitizen</th>\n",
       "      <th>partner</th>\n",
       "      <th>dependents</th>\n",
       "      <th>internetservice</th>\n",
       "      <th>onlinesecurity</th>\n",
       "      <th>onlinebackup</th>\n",
       "      <th>deviceprotection</th>\n",
       "      <th>techsupport</th>\n",
       "      <th>streamingtv</th>\n",
       "      <th>streamingmovies</th>\n",
       "      <th>multiplelines</th>\n",
       "      <th>target</th>\n",
       "    </tr>\n",
       "    <tr>\n",
       "      <th>customerid</th>\n",
       "      <th></th>\n",
       "      <th></th>\n",
       "      <th></th>\n",
       "      <th></th>\n",
       "      <th></th>\n",
       "      <th></th>\n",
       "      <th></th>\n",
       "      <th></th>\n",
       "      <th></th>\n",
       "      <th></th>\n",
       "      <th></th>\n",
       "      <th></th>\n",
       "      <th></th>\n",
       "      <th></th>\n",
       "      <th></th>\n",
       "      <th></th>\n",
       "      <th></th>\n",
       "      <th></th>\n",
       "      <th></th>\n",
       "      <th></th>\n",
       "    </tr>\n",
       "  </thead>\n",
       "  <tbody>\n",
       "    <tr>\n",
       "      <th>4472-LVYGI</th>\n",
       "      <td>2020-02-01</td>\n",
       "      <td>No</td>\n",
       "      <td>Two year</td>\n",
       "      <td>Yes</td>\n",
       "      <td>Bank transfer (automatic)</td>\n",
       "      <td>52.55</td>\n",
       "      <td></td>\n",
       "      <td>Female</td>\n",
       "      <td>0</td>\n",
       "      <td>Yes</td>\n",
       "      <td>Yes</td>\n",
       "      <td>DSL</td>\n",
       "      <td>Yes</td>\n",
       "      <td>No</td>\n",
       "      <td>Yes</td>\n",
       "      <td>Yes</td>\n",
       "      <td>Yes</td>\n",
       "      <td>No</td>\n",
       "      <td>NaN</td>\n",
       "      <td>0</td>\n",
       "    </tr>\n",
       "    <tr>\n",
       "      <th>3115-CZMZD</th>\n",
       "      <td>2020-02-01</td>\n",
       "      <td>No</td>\n",
       "      <td>Two year</td>\n",
       "      <td>No</td>\n",
       "      <td>Mailed check</td>\n",
       "      <td>20.25</td>\n",
       "      <td></td>\n",
       "      <td>Male</td>\n",
       "      <td>0</td>\n",
       "      <td>No</td>\n",
       "      <td>Yes</td>\n",
       "      <td>NaN</td>\n",
       "      <td>NaN</td>\n",
       "      <td>NaN</td>\n",
       "      <td>NaN</td>\n",
       "      <td>NaN</td>\n",
       "      <td>NaN</td>\n",
       "      <td>NaN</td>\n",
       "      <td>No</td>\n",
       "      <td>0</td>\n",
       "    </tr>\n",
       "    <tr>\n",
       "      <th>5709-LVOEQ</th>\n",
       "      <td>2020-02-01</td>\n",
       "      <td>No</td>\n",
       "      <td>Two year</td>\n",
       "      <td>No</td>\n",
       "      <td>Mailed check</td>\n",
       "      <td>80.85</td>\n",
       "      <td></td>\n",
       "      <td>Female</td>\n",
       "      <td>0</td>\n",
       "      <td>Yes</td>\n",
       "      <td>Yes</td>\n",
       "      <td>DSL</td>\n",
       "      <td>Yes</td>\n",
       "      <td>Yes</td>\n",
       "      <td>Yes</td>\n",
       "      <td>No</td>\n",
       "      <td>Yes</td>\n",
       "      <td>Yes</td>\n",
       "      <td>No</td>\n",
       "      <td>0</td>\n",
       "    </tr>\n",
       "    <tr>\n",
       "      <th>4367-NUYAO</th>\n",
       "      <td>2020-02-01</td>\n",
       "      <td>No</td>\n",
       "      <td>Two year</td>\n",
       "      <td>No</td>\n",
       "      <td>Mailed check</td>\n",
       "      <td>25.75</td>\n",
       "      <td></td>\n",
       "      <td>Male</td>\n",
       "      <td>0</td>\n",
       "      <td>Yes</td>\n",
       "      <td>Yes</td>\n",
       "      <td>NaN</td>\n",
       "      <td>NaN</td>\n",
       "      <td>NaN</td>\n",
       "      <td>NaN</td>\n",
       "      <td>NaN</td>\n",
       "      <td>NaN</td>\n",
       "      <td>NaN</td>\n",
       "      <td>Yes</td>\n",
       "      <td>0</td>\n",
       "    </tr>\n",
       "    <tr>\n",
       "      <th>1371-DWPAZ</th>\n",
       "      <td>2020-02-01</td>\n",
       "      <td>No</td>\n",
       "      <td>Two year</td>\n",
       "      <td>No</td>\n",
       "      <td>Credit card (automatic)</td>\n",
       "      <td>56.05</td>\n",
       "      <td></td>\n",
       "      <td>Female</td>\n",
       "      <td>0</td>\n",
       "      <td>Yes</td>\n",
       "      <td>Yes</td>\n",
       "      <td>DSL</td>\n",
       "      <td>Yes</td>\n",
       "      <td>Yes</td>\n",
       "      <td>Yes</td>\n",
       "      <td>Yes</td>\n",
       "      <td>Yes</td>\n",
       "      <td>No</td>\n",
       "      <td>NaN</td>\n",
       "      <td>0</td>\n",
       "    </tr>\n",
       "    <tr>\n",
       "      <th>7644-OMVMY</th>\n",
       "      <td>2020-02-01</td>\n",
       "      <td>No</td>\n",
       "      <td>Two year</td>\n",
       "      <td>No</td>\n",
       "      <td>Mailed check</td>\n",
       "      <td>19.85</td>\n",
       "      <td></td>\n",
       "      <td>Male</td>\n",
       "      <td>0</td>\n",
       "      <td>Yes</td>\n",
       "      <td>Yes</td>\n",
       "      <td>NaN</td>\n",
       "      <td>NaN</td>\n",
       "      <td>NaN</td>\n",
       "      <td>NaN</td>\n",
       "      <td>NaN</td>\n",
       "      <td>NaN</td>\n",
       "      <td>NaN</td>\n",
       "      <td>No</td>\n",
       "      <td>0</td>\n",
       "    </tr>\n",
       "    <tr>\n",
       "      <th>3213-VVOLG</th>\n",
       "      <td>2020-02-01</td>\n",
       "      <td>No</td>\n",
       "      <td>Two year</td>\n",
       "      <td>No</td>\n",
       "      <td>Mailed check</td>\n",
       "      <td>25.35</td>\n",
       "      <td></td>\n",
       "      <td>Male</td>\n",
       "      <td>0</td>\n",
       "      <td>Yes</td>\n",
       "      <td>Yes</td>\n",
       "      <td>NaN</td>\n",
       "      <td>NaN</td>\n",
       "      <td>NaN</td>\n",
       "      <td>NaN</td>\n",
       "      <td>NaN</td>\n",
       "      <td>NaN</td>\n",
       "      <td>NaN</td>\n",
       "      <td>Yes</td>\n",
       "      <td>0</td>\n",
       "    </tr>\n",
       "    <tr>\n",
       "      <th>2520-SGTTA</th>\n",
       "      <td>2020-02-01</td>\n",
       "      <td>No</td>\n",
       "      <td>Two year</td>\n",
       "      <td>No</td>\n",
       "      <td>Mailed check</td>\n",
       "      <td>20.00</td>\n",
       "      <td></td>\n",
       "      <td>Female</td>\n",
       "      <td>0</td>\n",
       "      <td>Yes</td>\n",
       "      <td>Yes</td>\n",
       "      <td>NaN</td>\n",
       "      <td>NaN</td>\n",
       "      <td>NaN</td>\n",
       "      <td>NaN</td>\n",
       "      <td>NaN</td>\n",
       "      <td>NaN</td>\n",
       "      <td>NaN</td>\n",
       "      <td>No</td>\n",
       "      <td>0</td>\n",
       "    </tr>\n",
       "    <tr>\n",
       "      <th>2923-ARZLG</th>\n",
       "      <td>2020-02-01</td>\n",
       "      <td>No</td>\n",
       "      <td>One year</td>\n",
       "      <td>Yes</td>\n",
       "      <td>Mailed check</td>\n",
       "      <td>19.70</td>\n",
       "      <td></td>\n",
       "      <td>Male</td>\n",
       "      <td>0</td>\n",
       "      <td>Yes</td>\n",
       "      <td>Yes</td>\n",
       "      <td>NaN</td>\n",
       "      <td>NaN</td>\n",
       "      <td>NaN</td>\n",
       "      <td>NaN</td>\n",
       "      <td>NaN</td>\n",
       "      <td>NaN</td>\n",
       "      <td>NaN</td>\n",
       "      <td>No</td>\n",
       "      <td>0</td>\n",
       "    </tr>\n",
       "    <tr>\n",
       "      <th>4075-WKNIU</th>\n",
       "      <td>2020-02-01</td>\n",
       "      <td>No</td>\n",
       "      <td>Two year</td>\n",
       "      <td>No</td>\n",
       "      <td>Mailed check</td>\n",
       "      <td>73.35</td>\n",
       "      <td></td>\n",
       "      <td>Female</td>\n",
       "      <td>0</td>\n",
       "      <td>Yes</td>\n",
       "      <td>Yes</td>\n",
       "      <td>DSL</td>\n",
       "      <td>No</td>\n",
       "      <td>Yes</td>\n",
       "      <td>Yes</td>\n",
       "      <td>Yes</td>\n",
       "      <td>Yes</td>\n",
       "      <td>No</td>\n",
       "      <td>Yes</td>\n",
       "      <td>0</td>\n",
       "    </tr>\n",
       "    <tr>\n",
       "      <th>2775-SEFEE</th>\n",
       "      <td>2020-02-01</td>\n",
       "      <td>No</td>\n",
       "      <td>Two year</td>\n",
       "      <td>Yes</td>\n",
       "      <td>Bank transfer (automatic)</td>\n",
       "      <td>61.90</td>\n",
       "      <td></td>\n",
       "      <td>Male</td>\n",
       "      <td>0</td>\n",
       "      <td>No</td>\n",
       "      <td>Yes</td>\n",
       "      <td>DSL</td>\n",
       "      <td>Yes</td>\n",
       "      <td>Yes</td>\n",
       "      <td>No</td>\n",
       "      <td>Yes</td>\n",
       "      <td>No</td>\n",
       "      <td>No</td>\n",
       "      <td>Yes</td>\n",
       "      <td>0</td>\n",
       "    </tr>\n",
       "  </tbody>\n",
       "</table>\n",
       "</div>"
      ],
      "text/plain": [
       "            begindate enddate      type paperlessbilling  \\\n",
       "customerid                                                 \n",
       "4472-LVYGI 2020-02-01      No  Two year              Yes   \n",
       "3115-CZMZD 2020-02-01      No  Two year               No   \n",
       "5709-LVOEQ 2020-02-01      No  Two year               No   \n",
       "4367-NUYAO 2020-02-01      No  Two year               No   \n",
       "1371-DWPAZ 2020-02-01      No  Two year               No   \n",
       "7644-OMVMY 2020-02-01      No  Two year               No   \n",
       "3213-VVOLG 2020-02-01      No  Two year               No   \n",
       "2520-SGTTA 2020-02-01      No  Two year               No   \n",
       "2923-ARZLG 2020-02-01      No  One year              Yes   \n",
       "4075-WKNIU 2020-02-01      No  Two year               No   \n",
       "2775-SEFEE 2020-02-01      No  Two year              Yes   \n",
       "\n",
       "                        paymentmethod  monthlycharges totalcharges  gender  \\\n",
       "customerid                                                                   \n",
       "4472-LVYGI  Bank transfer (automatic)           52.55               Female   \n",
       "3115-CZMZD               Mailed check           20.25                 Male   \n",
       "5709-LVOEQ               Mailed check           80.85               Female   \n",
       "4367-NUYAO               Mailed check           25.75                 Male   \n",
       "1371-DWPAZ    Credit card (automatic)           56.05               Female   \n",
       "7644-OMVMY               Mailed check           19.85                 Male   \n",
       "3213-VVOLG               Mailed check           25.35                 Male   \n",
       "2520-SGTTA               Mailed check           20.00               Female   \n",
       "2923-ARZLG               Mailed check           19.70                 Male   \n",
       "4075-WKNIU               Mailed check           73.35               Female   \n",
       "2775-SEFEE  Bank transfer (automatic)           61.90                 Male   \n",
       "\n",
       "            seniorcitizen partner dependents internetservice onlinesecurity  \\\n",
       "customerid                                                                    \n",
       "4472-LVYGI              0     Yes        Yes             DSL            Yes   \n",
       "3115-CZMZD              0      No        Yes             NaN            NaN   \n",
       "5709-LVOEQ              0     Yes        Yes             DSL            Yes   \n",
       "4367-NUYAO              0     Yes        Yes             NaN            NaN   \n",
       "1371-DWPAZ              0     Yes        Yes             DSL            Yes   \n",
       "7644-OMVMY              0     Yes        Yes             NaN            NaN   \n",
       "3213-VVOLG              0     Yes        Yes             NaN            NaN   \n",
       "2520-SGTTA              0     Yes        Yes             NaN            NaN   \n",
       "2923-ARZLG              0     Yes        Yes             NaN            NaN   \n",
       "4075-WKNIU              0     Yes        Yes             DSL             No   \n",
       "2775-SEFEE              0      No        Yes             DSL            Yes   \n",
       "\n",
       "           onlinebackup deviceprotection techsupport streamingtv  \\\n",
       "customerid                                                         \n",
       "4472-LVYGI           No              Yes         Yes         Yes   \n",
       "3115-CZMZD          NaN              NaN         NaN         NaN   \n",
       "5709-LVOEQ          Yes              Yes          No         Yes   \n",
       "4367-NUYAO          NaN              NaN         NaN         NaN   \n",
       "1371-DWPAZ          Yes              Yes         Yes         Yes   \n",
       "7644-OMVMY          NaN              NaN         NaN         NaN   \n",
       "3213-VVOLG          NaN              NaN         NaN         NaN   \n",
       "2520-SGTTA          NaN              NaN         NaN         NaN   \n",
       "2923-ARZLG          NaN              NaN         NaN         NaN   \n",
       "4075-WKNIU          Yes              Yes         Yes         Yes   \n",
       "2775-SEFEE          Yes               No         Yes          No   \n",
       "\n",
       "           streamingmovies multiplelines  target  \n",
       "customerid                                        \n",
       "4472-LVYGI              No           NaN       0  \n",
       "3115-CZMZD             NaN            No       0  \n",
       "5709-LVOEQ             Yes            No       0  \n",
       "4367-NUYAO             NaN           Yes       0  \n",
       "1371-DWPAZ              No           NaN       0  \n",
       "7644-OMVMY             NaN            No       0  \n",
       "3213-VVOLG             NaN           Yes       0  \n",
       "2520-SGTTA             NaN            No       0  \n",
       "2923-ARZLG             NaN            No       0  \n",
       "4075-WKNIU              No           Yes       0  \n",
       "2775-SEFEE              No           Yes       0  "
      ]
     },
     "execution_count": 12,
     "metadata": {},
     "output_type": "execute_result"
    }
   ],
   "source": [
    "# не для всех записей заполнено поле totalcharges. Посмотрим на данныйх клиентов. \n",
    "data[data['totalcharges']==' ']"
   ]
  },
  {
   "cell_type": "markdown",
   "id": "32720e86",
   "metadata": {},
   "source": [
    "<div class=\"alert alert-info\">\n",
    "<h2> Комментарий студента <a class=\"tocSkip\"> </h2>\n",
    "\n",
    "*Поменяем*\n",
    "</div>"
   ]
  },
  {
   "cell_type": "markdown",
   "id": "f6a5d609",
   "metadata": {},
   "source": [
    "У нас данные актуальны на февраль 2020 года. Вивдим, что totalcharges не заполнен для новых клиентов, кто в феврале открыл договор. Клиент ещё ничего не заплатил оператору, поэтому на значение monthlycharges"
   ]
  },
  {
   "cell_type": "code",
   "execution_count": 13,
   "id": "74e5ce4b",
   "metadata": {},
   "outputs": [],
   "source": [
    "data.loc[data['totalcharges']==' ','totalcharges'] = data.loc[data['totalcharges']==' ','monthlycharges']"
   ]
  },
  {
   "cell_type": "code",
   "execution_count": 14,
   "id": "b1c159b0",
   "metadata": {},
   "outputs": [],
   "source": [
    "data['totalcharges'] = data['totalcharges'].astype('float64')"
   ]
  },
  {
   "cell_type": "markdown",
   "id": "03045cb2",
   "metadata": {},
   "source": [
    "<div class=\"alert alert-success\">\n",
    "<h2> Комментарий тимлида (код) <a class=\"tocSkip\"> </h2>\n",
    "\n",
    "<b>Все отлично!👍:</b> Заменили неявные пропуски на 0 - возможное решение. Альтернатива - можно было бы попробовать заполнить пропуски значением из `monthlycharges`, так как пропуски есть только у новых клиентов, и с высокой вероятностью хотя бы в первый месяц они точно заплатят."
   ]
  },
  {
   "cell_type": "code",
   "execution_count": 15,
   "id": "c37d655c",
   "metadata": {},
   "outputs": [],
   "source": [
    "# добавим признак год начала договора. Саму дату можем удалить\n",
    "#data['year'] = data['begindate'].dt.year"
   ]
  },
  {
   "cell_type": "markdown",
   "id": "96d1e9cb",
   "metadata": {},
   "source": [
    "<div class=\"alert alert-block alert-danger\">\n",
    "<h2> Комментарий тимлида (код) <a class=\"tocSkip\"> </h2>\n",
    "\n",
    "    \n",
    "<b>На доработку❌:</b>\n",
    "\n",
    "Так как мы не решаем задачу временного ряда, мы не должны создавать признаки, описывающие зависимость от даты: с точки зрения имеющихся данных такой признак поможет нам получить хорошую метрику, но для новых данных модель будет создавать больше ошибок, например, в новом году, который не был известен на момент обучения.\n",
    "    \n",
    "Также наличие признака-даты начала в сочетании с длительностью контракта приводит к явной утечки данных."
   ]
  },
  {
   "cell_type": "markdown",
   "id": "f8247d43",
   "metadata": {},
   "source": [
    "<div class=\"alert alert-info\">\n",
    "<h2> Комментарий студента <a class=\"tocSkip\"> </h2>\n",
    "\n",
    "*Исключаем признак по дате, но добавим длительность договора, она считается для любого клиента без привязке к дате*\n",
    "</div>"
   ]
  },
  {
   "cell_type": "markdown",
   "id": "e36b558d",
   "metadata": {},
   "source": [
    "<div class=\"alert alert-success\">\n",
    "<h2> Комментарий тимлида (код) v.2 <a class=\"tocSkip\"> </h2>\n",
    "\n",
    "<b>Все отлично!👍:</b> Длительно договора можно считать, да - это не утечка."
   ]
  },
  {
   "cell_type": "code",
   "execution_count": 16,
   "id": "fc09f209",
   "metadata": {},
   "outputs": [],
   "source": [
    "data.loc[data['enddate']=='No','enddate'] = '2020-02-01'\n",
    "data['lt'] = ((pd.to_datetime(data['enddate'])-data['begindate'])/np.timedelta64 ( 1 , 'D')).astype(int)\n",
    "data.drop(['begindate','enddate'],inplace=True, axis = 1)"
   ]
  },
  {
   "cell_type": "markdown",
   "id": "0c0e8b6c",
   "metadata": {},
   "source": [
    "Уже в таком виде даные подойдёт для обучения бустинга. Поэтому, далее данные будем преобразовывать в зависимости от рассматриваемой модели."
   ]
  },
  {
   "cell_type": "markdown",
   "id": "be146e8a",
   "metadata": {},
   "source": [
    "<div class=\"alert alert-success\">\n",
    "<h2> Комментарий тимлида (код) <a class=\"tocSkip\"> </h2>\n",
    "\n",
    "<b>Все отлично!👍:</b> Ну ещё бы пропуски обработать, но в целом - да, можно уже и в таком виде работать с бустингами."
   ]
  },
  {
   "cell_type": "markdown",
   "id": "cf0d7731",
   "metadata": {},
   "source": [
    "### Заполнение пропусков"
   ]
  },
  {
   "cell_type": "markdown",
   "id": "ea61a7a2",
   "metadata": {},
   "source": [
    "Пропуски у нас появились после объединения данных. Причина пропусков, в том, что часть клиентов использует только интернет либо только телефонную связь. Можно все пропуски заменить на значение \"No\", но в таком случае, мы потеряем часть информации, т.к. признак, что клиент не использует какой-то тип услуг может быть тоже информативет. Поэтому, введём новое значение 'oth' для всех категориальных признаков с пропусками."
   ]
  },
  {
   "cell_type": "markdown",
   "id": "8e7ad944",
   "metadata": {},
   "source": [
    "<div class=\"alert alert-warning\">\n",
    "    <h2> Комментарий тимлида (код) <a class=\"tocSkip\"> </h2>\n",
    "    \n",
    "<b>Некоторые замечания и рекомендации⚠️:</b> \n",
    "\n",
    "Тут я бы поспорил - давай посмотрим на примере: есть клиент 1, который пользуется услугой 1, и есть клиент 2, который пользуется услугой 2, оба клиента не пользуются услугой 3. В итоге таблица при соединении для этих клиентов будет выглядеть следующим образом:\n",
    "        \n",
    "\n",
    "    client service_1 service_2 service_3\n",
    "    1      Yes       NaN       No\n",
    "    2      NaN       Yes       No\n",
    "        \n",
    "\n",
    "Кажется, что раз клиент 1 не пользуется услугой 2, то ему логично туда поставить `No`, как и клиенту 2 в услугу 1 - ведь для услуги 3 у них обоих стоит `No`.\n",
    "        \n",
    "\n",
    "    client service_1 service_2 service_3\n",
    "    1      Yes       No       No\n",
    "    2      No        Yes      No      \n",
    "  \n",
    "\n",
    "По твоему варианту таблица будет выглядеть так:\n",
    "        \n",
    "\n",
    "    client service_1 service_2 service_3\n",
    "    1      Yes       Oth       No\n",
    "    2      Oth       Yes       No      \n",
    "        \n",
    "\n",
    "Кажется, введение новой категории - избыточное решение, которое будет обозначать ровно то же, что сейчас описывает значение `No`."
   ]
  },
  {
   "cell_type": "markdown",
   "id": "d57c7b20",
   "metadata": {},
   "source": [
    "<div class=\"alert alert-info\">\n",
    "<h2> Комментарий студента <a class=\"tocSkip\"> </h2>\n",
    "\n",
    "*Приведённая выше замена метрику не портит, но и прироста не даёт, поэтому можем всё на 'No' заменить*\n",
    "</div>"
   ]
  },
  {
   "cell_type": "markdown",
   "id": "b368c809",
   "metadata": {},
   "source": [
    "<div class=\"alert alert-success\">\n",
    "<h2> Комментарий тимлида (код) v.2 <a class=\"tocSkip\"> </h2>\n",
    "\n",
    "<b>Все отлично!👍:</b> Да, не особо должно влиять, но для единообразия не помешает:)"
   ]
  },
  {
   "cell_type": "code",
   "execution_count": 17,
   "id": "a8729bd8",
   "metadata": {},
   "outputs": [],
   "source": [
    "for column in data.columns:\n",
    "    if data[column].isna().sum() != 0:\n",
    "        data.loc[data[column].isna(), column] = 'No'"
   ]
  },
  {
   "cell_type": "markdown",
   "id": "47ad6e0c",
   "metadata": {},
   "source": [
    "### Исследовательчский анализ."
   ]
  },
  {
   "cell_type": "markdown",
   "id": "77f010f8",
   "metadata": {},
   "source": [
    "Посмjтрим, что происходит с оттоком."
   ]
  },
  {
   "cell_type": "code",
   "execution_count": 18,
   "id": "b5928358",
   "metadata": {},
   "outputs": [
    {
     "data": {
      "image/png": "[encoded data removed]",
      "text/plain": [
       "<Figure size 792x504 with 1 Axes>"
      ]
     },
     "metadata": {
      "needs_background": "light"
     },
     "output_type": "display_data"
    }
   ],
   "source": [
    "contract[contract['enddate']!='No'].groupby(by = 'enddate')['enddate'].count().plot(kind='bar', figsize=(11, 7))\n",
    "plt.xlabel('Дата оттока')\n",
    "plt.ylabel('Кол-во ушедших клиентов')\n",
    "plt.title('Динамика оттока')\n",
    "plt.show()"
   ]
  },
  {
   "cell_type": "markdown",
   "id": "199f4601",
   "metadata": {},
   "source": [
    "<div class=\"alert alert-block alert-danger\">\n",
    "<h2> Комментарий тимлида (код) <a class=\"tocSkip\"> </h2>\n",
    "\n",
    "    \n",
    "<b>На доработку❌:</b>\n",
    "\n",
    "Тут и далее на графиках нужно подписать оси Х (в случае, если на графике дефолтная подпись оси - замени, пожалуйста, на более информативную) и Y, а также название."
   ]
  },
  {
   "cell_type": "markdown",
   "id": "be26564d",
   "metadata": {},
   "source": [
    "<div class=\"alert alert-info\">\n",
    "<h2> Комментарий студента <a class=\"tocSkip\"> </h2>\n",
    "\n",
    "*Добавил*\n",
    "</div>"
   ]
  },
  {
   "cell_type": "markdown",
   "id": "8d2e1245",
   "metadata": {},
   "source": [
    "<div class=\"alert alert-success\">\n",
    "<h2> Комментарий тимлида (код) v.2 <a class=\"tocSkip\"> </h2>\n",
    "\n",
    "<b>Все отлично!👍:</b> Учтено."
   ]
  },
  {
   "cell_type": "code",
   "execution_count": 19,
   "id": "9bc21697",
   "metadata": {},
   "outputs": [
    {
     "data": {
      "text/html": [
       "<div>\n",
       "<style scoped>\n",
       "    .dataframe tbody tr th:only-of-type {\n",
       "        vertical-align: middle;\n",
       "    }\n",
       "\n",
       "    .dataframe tbody tr th {\n",
       "        vertical-align: top;\n",
       "    }\n",
       "\n",
       "    .dataframe thead th {\n",
       "        text-align: right;\n",
       "    }\n",
       "</style>\n",
       "<table border=\"1\" class=\"dataframe\">\n",
       "  <thead>\n",
       "    <tr style=\"text-align: right;\">\n",
       "      <th></th>\n",
       "      <th>type</th>\n",
       "      <th>paperlessbilling</th>\n",
       "      <th>paymentmethod</th>\n",
       "      <th>monthlycharges</th>\n",
       "      <th>totalcharges</th>\n",
       "      <th>gender</th>\n",
       "      <th>seniorcitizen</th>\n",
       "      <th>partner</th>\n",
       "      <th>dependents</th>\n",
       "      <th>internetservice</th>\n",
       "      <th>onlinesecurity</th>\n",
       "      <th>onlinebackup</th>\n",
       "      <th>deviceprotection</th>\n",
       "      <th>techsupport</th>\n",
       "      <th>streamingtv</th>\n",
       "      <th>streamingmovies</th>\n",
       "      <th>multiplelines</th>\n",
       "      <th>target</th>\n",
       "      <th>lt</th>\n",
       "    </tr>\n",
       "    <tr>\n",
       "      <th>customerid</th>\n",
       "      <th></th>\n",
       "      <th></th>\n",
       "      <th></th>\n",
       "      <th></th>\n",
       "      <th></th>\n",
       "      <th></th>\n",
       "      <th></th>\n",
       "      <th></th>\n",
       "      <th></th>\n",
       "      <th></th>\n",
       "      <th></th>\n",
       "      <th></th>\n",
       "      <th></th>\n",
       "      <th></th>\n",
       "      <th></th>\n",
       "      <th></th>\n",
       "      <th></th>\n",
       "      <th></th>\n",
       "      <th></th>\n",
       "    </tr>\n",
       "  </thead>\n",
       "  <tbody>\n",
       "    <tr>\n",
       "      <th>7590-VHVEG</th>\n",
       "      <td>Month-to-month</td>\n",
       "      <td>Yes</td>\n",
       "      <td>Electronic check</td>\n",
       "      <td>29.85</td>\n",
       "      <td>31.04</td>\n",
       "      <td>Female</td>\n",
       "      <td>0</td>\n",
       "      <td>Yes</td>\n",
       "      <td>No</td>\n",
       "      <td>DSL</td>\n",
       "      <td>No</td>\n",
       "      <td>Yes</td>\n",
       "      <td>No</td>\n",
       "      <td>No</td>\n",
       "      <td>No</td>\n",
       "      <td>No</td>\n",
       "      <td>No</td>\n",
       "      <td>0</td>\n",
       "      <td>31</td>\n",
       "    </tr>\n",
       "    <tr>\n",
       "      <th>5575-GNVDE</th>\n",
       "      <td>One year</td>\n",
       "      <td>No</td>\n",
       "      <td>Mailed check</td>\n",
       "      <td>56.95</td>\n",
       "      <td>2071.84</td>\n",
       "      <td>Male</td>\n",
       "      <td>0</td>\n",
       "      <td>No</td>\n",
       "      <td>No</td>\n",
       "      <td>DSL</td>\n",
       "      <td>Yes</td>\n",
       "      <td>No</td>\n",
       "      <td>Yes</td>\n",
       "      <td>No</td>\n",
       "      <td>No</td>\n",
       "      <td>No</td>\n",
       "      <td>No</td>\n",
       "      <td>0</td>\n",
       "      <td>1036</td>\n",
       "    </tr>\n",
       "    <tr>\n",
       "      <th>3668-QPYBK</th>\n",
       "      <td>Month-to-month</td>\n",
       "      <td>Yes</td>\n",
       "      <td>Mailed check</td>\n",
       "      <td>53.85</td>\n",
       "      <td>226.17</td>\n",
       "      <td>Male</td>\n",
       "      <td>0</td>\n",
       "      <td>No</td>\n",
       "      <td>No</td>\n",
       "      <td>DSL</td>\n",
       "      <td>Yes</td>\n",
       "      <td>Yes</td>\n",
       "      <td>No</td>\n",
       "      <td>No</td>\n",
       "      <td>No</td>\n",
       "      <td>No</td>\n",
       "      <td>No</td>\n",
       "      <td>0</td>\n",
       "      <td>123</td>\n",
       "    </tr>\n",
       "    <tr>\n",
       "      <th>7795-CFOCW</th>\n",
       "      <td>One year</td>\n",
       "      <td>No</td>\n",
       "      <td>Bank transfer (automatic)</td>\n",
       "      <td>42.30</td>\n",
       "      <td>1960.60</td>\n",
       "      <td>Male</td>\n",
       "      <td>0</td>\n",
       "      <td>No</td>\n",
       "      <td>No</td>\n",
       "      <td>DSL</td>\n",
       "      <td>Yes</td>\n",
       "      <td>No</td>\n",
       "      <td>Yes</td>\n",
       "      <td>Yes</td>\n",
       "      <td>No</td>\n",
       "      <td>No</td>\n",
       "      <td>No</td>\n",
       "      <td>0</td>\n",
       "      <td>1371</td>\n",
       "    </tr>\n",
       "    <tr>\n",
       "      <th>9237-HQITU</th>\n",
       "      <td>Month-to-month</td>\n",
       "      <td>Yes</td>\n",
       "      <td>Electronic check</td>\n",
       "      <td>70.70</td>\n",
       "      <td>353.50</td>\n",
       "      <td>Female</td>\n",
       "      <td>0</td>\n",
       "      <td>No</td>\n",
       "      <td>No</td>\n",
       "      <td>Fiber optic</td>\n",
       "      <td>No</td>\n",
       "      <td>No</td>\n",
       "      <td>No</td>\n",
       "      <td>No</td>\n",
       "      <td>No</td>\n",
       "      <td>No</td>\n",
       "      <td>No</td>\n",
       "      <td>0</td>\n",
       "      <td>153</td>\n",
       "    </tr>\n",
       "  </tbody>\n",
       "</table>\n",
       "</div>"
      ],
      "text/plain": [
       "                      type paperlessbilling              paymentmethod  \\\n",
       "customerid                                                               \n",
       "7590-VHVEG  Month-to-month              Yes           Electronic check   \n",
       "5575-GNVDE        One year               No               Mailed check   \n",
       "3668-QPYBK  Month-to-month              Yes               Mailed check   \n",
       "7795-CFOCW        One year               No  Bank transfer (automatic)   \n",
       "9237-HQITU  Month-to-month              Yes           Electronic check   \n",
       "\n",
       "            monthlycharges  totalcharges  gender  seniorcitizen partner  \\\n",
       "customerid                                                                \n",
       "7590-VHVEG           29.85         31.04  Female              0     Yes   \n",
       "5575-GNVDE           56.95       2071.84    Male              0      No   \n",
       "3668-QPYBK           53.85        226.17    Male              0      No   \n",
       "7795-CFOCW           42.30       1960.60    Male              0      No   \n",
       "9237-HQITU           70.70        353.50  Female              0      No   \n",
       "\n",
       "           dependents internetservice onlinesecurity onlinebackup  \\\n",
       "customerid                                                          \n",
       "7590-VHVEG         No             DSL             No          Yes   \n",
       "5575-GNVDE         No             DSL            Yes           No   \n",
       "3668-QPYBK         No             DSL            Yes          Yes   \n",
       "7795-CFOCW         No             DSL            Yes           No   \n",
       "9237-HQITU         No     Fiber optic             No           No   \n",
       "\n",
       "           deviceprotection techsupport streamingtv streamingmovies  \\\n",
       "customerid                                                            \n",
       "7590-VHVEG               No          No          No              No   \n",
       "5575-GNVDE              Yes          No          No              No   \n",
       "3668-QPYBK               No          No          No              No   \n",
       "7795-CFOCW              Yes         Yes          No              No   \n",
       "9237-HQITU               No          No          No              No   \n",
       "\n",
       "           multiplelines  target    lt  \n",
       "customerid                              \n",
       "7590-VHVEG            No       0    31  \n",
       "5575-GNVDE            No       0  1036  \n",
       "3668-QPYBK            No       0   123  \n",
       "7795-CFOCW            No       0  1371  \n",
       "9237-HQITU            No       0   153  "
      ]
     },
     "execution_count": 19,
     "metadata": {},
     "output_type": "execute_result"
    }
   ],
   "source": [
    "data.head()"
   ]
  },
  {
   "cell_type": "markdown",
   "id": "82223440",
   "metadata": {},
   "source": [
    "Посмотрим на корреляцию признаков и таргета:"
   ]
  },
  {
   "cell_type": "code",
   "execution_count": 20,
   "id": "84e966bc",
   "metadata": {},
   "outputs": [
    {
     "data": {
      "image/png": "[encoded data removed]",
      "text/plain": [
       "<Figure size 1440x720 with 2 Axes>"
      ]
     },
     "metadata": {
      "needs_background": "light"
     },
     "output_type": "display_data"
    }
   ],
   "source": [
    "fig, ax = plt.subplots(figsize=(20, 10))\n",
    "sns.heatmap(data.phik_matrix(interval_cols=['monthlycharges','totalcharges']), cmap='coolwarm', center=0, annot = True, fmt='.1g')\n",
    "plt.show()"
   ]
  },
  {
   "cell_type": "markdown",
   "id": "93072e93",
   "metadata": {},
   "source": [
    "По данной матрице сложно сделать какие-то выводы. Корреляция низкая по всем признакам. Поэтому, посмотрим отдельно признаки."
   ]
  },
  {
   "cell_type": "markdown",
   "id": "8de75129",
   "metadata": {},
   "source": [
    "<div class=\"alert alert-success\">\n",
    "<h2> Комментарий тимлида (код) <a class=\"tocSkip\"> </h2>\n",
    "\n",
    "<b>Все отлично!👍:</b> Есть анализ матрицы корреляций - здорово, что используешь библиотеку `phik` для анализа корреляции в том числе и для категориальных переменных."
   ]
  },
  {
   "cell_type": "markdown",
   "id": "b7671436",
   "metadata": {},
   "source": [
    "<div class=\"alert alert-warning\">\n",
    "    <h2> Комментарий тимлида (код) <a class=\"tocSkip\"> </h2>\n",
    "    \n",
    "<b>Некоторые замечания и рекомендации⚠️:</b> \n",
    "\n",
    "Чтобы визуально сделать матрицу корреляций лучше, стоит использовать `cmap='coolwarm'` и `center=0`."
   ]
  },
  {
   "cell_type": "markdown",
   "id": "033ad2ab",
   "metadata": {},
   "source": [
    "<div class=\"alert alert-info\">\n",
    "<h2> Комментарий студента <a class=\"tocSkip\"> </h2>\n",
    "\n",
    "*Попробуем*\n",
    "</div>"
   ]
  },
  {
   "cell_type": "markdown",
   "id": "17ceaaf2",
   "metadata": {},
   "source": [
    "<div class=\"alert alert-success\">\n",
    "<h2> Комментарий тимлида (код) v.2 <a class=\"tocSkip\"> </h2>\n",
    "\n",
    "<b>Все отлично!👍:</b> Учтено."
   ]
  },
  {
   "cell_type": "markdown",
   "id": "b55673f5",
   "metadata": {},
   "source": [
    "<div class=\"alert alert-block alert-danger\">\n",
    "<h2> Комментарий тимлида (код) <a class=\"tocSkip\"> </h2>\n",
    "\n",
    "    \n",
    "<b>На доработку❌:</b>\n",
    "\n",
    "1. При использовании `phik` важно настраивать параметр `interval_cols`, передавая ему список непрерывных переменных - без этого библиотека сама будет определять, какие переменные являются непрерывными, а делает она это далеко не безупречно.\n",
    "2. `По данной матрице сложно сделать какие-то выводы. Корреляция низкая по всем признакам` - здесь не соглашусь. Обратись, подалуйста, к шкале Чеддока, посмотри на уровень скоррелированности признаков в зависимости от коэффициента корреляции по этой шкале и опиши, пожалуйста, топ 5 скоррелированных и топ 5 нескоррелированных признаков с интерпретацией силы зависимости по Чеддоку.\n",
    "3. Также в проекте используется линейная модель - нужно избавиться от мультиколлинеарности. Для её поиска стоит ориентироваться на значение корреляции `>=0.8`, при выборе признака для удаления из пары скоррелированных признаков стоит удалить тот, который наименее скоррелирован с целевым признаком."
   ]
  },
  {
   "cell_type": "markdown",
   "id": "8db207f8",
   "metadata": {},
   "source": [
    "<div class=\"alert alert-info\">\n",
    "<h2> Комментарий студента <a class=\"tocSkip\"> </h2>\n",
    "\n",
    "Топ 5 скоррелированных признаков: \n",
    "- internetservice & monthlycharges - весьма высокая\n",
    "- lt & totalcharges - высокая\n",
    "- streamingtv & streamingmovies - высокая\n",
    "- totalcharges & monthlycharges - высокая\n",
    "- multiplelines & monthlycharges - высокая    \n",
    "\n",
    "Топ 5 НЕ скоррелированных признаков: \n",
    "- gender & все остальные - отсутствие связи\n",
    "- paperlessbilling & lt- отсутствие связи\n",
    "- seniorcitizen & lt - отсутствие связи\n",
    "- partner & seniorcitizen - отсутствие связи\n",
    "- internetservice & partner - отсутствие связи\n",
    "    \n",
    "    \n",
    "Какие выводы можем сделать:\n",
    "- не значащий признак 'пола' можем удалить\n",
    "- можем удалить 'totalcharges'\n",
    "- удалим 'internetservice'\n",
    "</div>"
   ]
  },
  {
   "cell_type": "markdown",
   "id": "6ddedd8d",
   "metadata": {},
   "source": [
    "<div class=\"alert alert-success\">\n",
    "<h2> Комментарий тимлида (код) v.2 <a class=\"tocSkip\"> </h2>\n",
    "\n",
    "<b>Все отлично!👍:</b> Учтено."
   ]
  },
  {
   "cell_type": "markdown",
   "id": "6921729d",
   "metadata": {},
   "source": [
    "<div class=\"alert alert-warning\">\n",
    "    <h2> Комментарий тимлида (код) v.2 <a class=\"tocSkip\"> </h2>\n",
    "    \n",
    "<b>Некоторые замечания и рекомендации⚠️:</b> \n",
    "\n",
    "Есть ещё два признака с пограничным значением `0.8`, их тоже можно было бы удалить, или, как альтернативу, `monthlycharges`."
   ]
  },
  {
   "cell_type": "code",
   "execution_count": 21,
   "id": "02063ae4",
   "metadata": {},
   "outputs": [],
   "source": [
    "for_del = ['gender','totalcharges','internetservice']"
   ]
  },
  {
   "cell_type": "markdown",
   "id": "4aaf1445",
   "metadata": {},
   "source": [
    "Сначала посмотрим числовые признаки"
   ]
  },
  {
   "cell_type": "code",
   "execution_count": 22,
   "id": "8dcacd1c",
   "metadata": {},
   "outputs": [
    {
     "data": {
      "image/png": "[encoded data removed]",
      "text/plain": [
       "<Figure size 720x360 with 1 Axes>"
      ]
     },
     "metadata": {
      "needs_background": "light"
     },
     "output_type": "display_data"
    }
   ],
   "source": [
    "data[data['target']==1]['monthlycharges'].hist(bins=10, figsize=(10,5),alpha=0.5, color='black')\n",
    "data[data['target']==0]['monthlycharges'].hist(bins=10, figsize=(10,5),alpha=0.5, color='blue')\n",
    "plt.xlabel(\"Ежемесячная плата\")\n",
    "plt.ylabel(\"Кол-во клиентов\")\n",
    "plt.title('Клиенты vs ежемесячная плата')\n",
    "plt.show()"
   ]
  },
  {
   "cell_type": "markdown",
   "id": "cdef747d",
   "metadata": {},
   "source": [
    "<div class=\"alert alert-success\">\n",
    "<h2> Комментарий тимлида (код) <a class=\"tocSkip\"> </h2>\n",
    "\n",
    "<b>Все отлично!👍:</b> Круто, что анализируешь распределение признаков в зависимости от оттока."
   ]
  },
  {
   "cell_type": "markdown",
   "id": "3a8ba4a9",
   "metadata": {},
   "source": [
    "<div class=\"alert alert-warning\">\n",
    "    <h2> Комментарий тимлида (код) <a class=\"tocSkip\"> </h2>\n",
    "    \n",
    "<b>Некоторые замечания и рекомендации⚠️:</b> При анализе непрерывных переменных по обычным гистограммам или `sns.countplot` графикам можно делать грубые выводы, но из-за необходимости делать поправки на разные размеры групп в уме, точных выводов по ним обычно не сделаешь. Нивелировать разницы в размерах групп можно, если применить `sns.histplot` с параметрами `hue` и настройками `stat=\"density\", common_norm=False`. Попробуй - увидишь, насколько в лучшую сторону изменится качество визуализации.\n",
    "        \n",
    "При использовании гистограмм важно подобрать оптимальное значение корзин, чтобы на графике не было провалов между столбиками - обычно оптимальный размер корзин оценивается как разница между максимальным и минимальным значением признака + 1, также можно настроить параметр `binwidth=1`"
   ]
  },
  {
   "cell_type": "markdown",
   "id": "fcb400f7",
   "metadata": {},
   "source": [
    "<div class=\"alert alert-block alert-danger\">\n",
    "<h2> Комментарий тимлида (код) <a class=\"tocSkip\"> </h2>\n",
    "\n",
    "    \n",
    "<b>На доработку❌:</b>\n",
    "\n",
    "Если на графике два и более показателя, нужно обязательно подписывать на графиках легенду - тут и далее."
   ]
  },
  {
   "cell_type": "markdown",
   "id": "25dc1bff",
   "metadata": {},
   "source": [
    "<div class=\"alert alert-info\">\n",
    "<h2> Комментарий студента <a class=\"tocSkip\"> </h2>\n",
    "\n",
    "*Попробуем другую визуализацию. При фиксации binwidth=1 график, становится нечитаемым*\n",
    "</div>"
   ]
  },
  {
   "cell_type": "markdown",
   "id": "b51b1869",
   "metadata": {},
   "source": [
    "<div class=\"alert alert-success\">\n",
    "<h2> Комментарий тимлида (код) v.2 <a class=\"tocSkip\"> </h2>\n",
    "\n",
    "<b>Все отлично!👍:</b> Учтено."
   ]
  },
  {
   "cell_type": "code",
   "execution_count": 23,
   "id": "b5b0093a",
   "metadata": {},
   "outputs": [
    {
     "data": {
      "image/png": "[encoded data removed]",
      "text/plain": [
       "<Figure size 432x288 with 1 Axes>"
      ]
     },
     "metadata": {
      "needs_background": "light"
     },
     "output_type": "display_data"
    }
   ],
   "source": [
    "sns.histplot(data = data, x = 'monthlycharges', hue = 'target', stat='percent', common_norm=True, bins = 10)\n",
    "plt.title('Клиенты vs ежемесячная плата')\n",
    "plt.xlabel('Ежемесячная плата')\n",
    "plt.ylabel('Процент от всей выборки')\n",
    "plt.show()"
   ]
  },
  {
   "cell_type": "markdown",
   "id": "e67436e6",
   "metadata": {},
   "source": [
    "В отток уходят клиенты, у которых тариф стоит больше чем в среднем по клиентской базе."
   ]
  },
  {
   "cell_type": "markdown",
   "id": "497628c6",
   "metadata": {},
   "source": [
    "<div class=\"alert alert-success\">\n",
    "<h2> Комментарий тимлида (код) <a class=\"tocSkip\"> </h2>\n",
    "\n",
    "<b>Все отлично!👍:</b> Согласен:)"
   ]
  },
  {
   "cell_type": "code",
   "execution_count": 24,
   "id": "aa31462a",
   "metadata": {},
   "outputs": [
    {
     "data": {
      "text/plain": [
       "target\n",
       "0    62.763455\n",
       "1    75.546004\n",
       "Name: monthlycharges, dtype: float64"
      ]
     },
     "execution_count": 24,
     "metadata": {},
     "output_type": "execute_result"
    }
   ],
   "source": [
    "data.groupby(by = 'target')['monthlycharges'].mean()"
   ]
  },
  {
   "cell_type": "code",
   "execution_count": 25,
   "id": "b2f5be89",
   "metadata": {},
   "outputs": [
    {
     "data": {
      "image/png": "[encoded data removed]",
      "text/plain": [
       "<Figure size 432x288 with 1 Axes>"
      ]
     },
     "metadata": {
      "needs_background": "light"
     },
     "output_type": "display_data"
    }
   ],
   "source": [
    "sns.histplot(data = data, x = 'totalcharges', hue = 'target', stat='percent', common_norm=True, bins = 10)\n",
    "plt.title('Клиенты vs ежемесячная плата')\n",
    "plt.xlabel('Ежемесячная плата')\n",
    "plt.ylabel('Процент от всей выборки')\n",
    "plt.show()"
   ]
  },
  {
   "cell_type": "code",
   "execution_count": 26,
   "id": "c12bff2c",
   "metadata": {},
   "outputs": [
    {
     "data": {
      "image/png": "[encoded data removed]",
      "text/plain": [
       "<Figure size 432x288 with 1 Axes>"
      ]
     },
     "metadata": {
      "needs_background": "light"
     },
     "output_type": "display_data"
    }
   ],
   "source": [
    "sns.histplot(data = data, x = 'lt', hue = 'target', stat='percent', common_norm=True, bins = 10)\n",
    "plt.title('Клиенты vs LT')\n",
    "plt.xlabel('LT')\n",
    "plt.ylabel('Процент от всей выборки')\n",
    "plt.show()"
   ]
  },
  {
   "cell_type": "markdown",
   "id": "090b3515",
   "metadata": {},
   "source": [
    "Данный график противоречит предыдущему выводу по графику ежемесячной платы. Всё становится понятно, года смотрим на тип клиента по сроку жижни."
   ]
  },
  {
   "cell_type": "markdown",
   "id": "7182dc4c",
   "metadata": {},
   "source": [
    "<div class=\"alert alert-success\">\n",
    "<h2> Комментарий тимлида (код) <a class=\"tocSkip\"> </h2>\n",
    "\n",
    "<b>Все отлично!👍:</b> На вебинаре я упоминал, что эти признаки не связаны между собой: `monthlycharges` - это сумма по договору, а `totalcharges` - фактически полученный доход. Он может отличаться на величину акций, льгот и маркетинговых предложений."
   ]
  },
  {
   "cell_type": "markdown",
   "id": "f828f6b2",
   "metadata": {},
   "source": [
    "<div class=\"alert alert-info\">\n",
    "<h2> Комментарий студента <a class=\"tocSkip\"> </h2>\n",
    "\n",
    "*Такого признака больше нет*\n",
    "</div>"
   ]
  },
  {
   "cell_type": "markdown",
   "id": "693012a1",
   "metadata": {},
   "source": [
    "<div class=\"alert alert-success\">\n",
    "<h2> Комментарий тимлида (код) v.2 <a class=\"tocSkip\"> </h2>\n",
    "\n",
    "<b>Все отлично!👍:</b> Учтено."
   ]
  },
  {
   "cell_type": "markdown",
   "id": "53b2998b",
   "metadata": {},
   "source": [
    "Отток растёт год от года, при этом оттекают преимущественно старые клиенты."
   ]
  },
  {
   "cell_type": "markdown",
   "id": "99a67a90",
   "metadata": {},
   "source": [
    "<div class=\"alert alert-success\">\n",
    "<h2> Комментарий тимлида (код) <a class=\"tocSkip\"> </h2>\n",
    "\n",
    "<b>Все отлично!👍:</b> Растёт конкурецния - растёт и отток. Именно поэтому мы тут:)"
   ]
  },
  {
   "cell_type": "markdown",
   "id": "88cee83c",
   "metadata": {},
   "source": [
    "Переходим к категориальным признакам. К категориальным, в том числе, отнесём признак \"пенсионера\" и год начала договора."
   ]
  },
  {
   "cell_type": "markdown",
   "id": "ddde2ec0",
   "metadata": {},
   "source": [
    "<div class=\"alert alert-success\">\n",
    "<h2> Комментарий тимлида (код) <a class=\"tocSkip\"> </h2>\n",
    "\n",
    "<b>Все отлично!👍:</b> Персионер, конечно же, категориальный, а вот год начала отвалится."
   ]
  },
  {
   "cell_type": "code",
   "execution_count": 27,
   "id": "1e660f65",
   "metadata": {},
   "outputs": [],
   "source": [
    "cat_features = ['type','paperlessbilling', 'paymentmethod','seniorcitizen','partner','dependents',\n",
    "                'onlinesecurity','onlinebackup','deviceprotection','techsupport','streamingtv',\n",
    "                'streamingmovies','multiplelines']\n",
    "num_features = ['monthlycharges', 'lt']"
   ]
  },
  {
   "cell_type": "code",
   "execution_count": 28,
   "id": "c628c236",
   "metadata": {},
   "outputs": [],
   "source": [
    "#fig = plt.figure(figsize=(20, 40))\n",
    "#for i in range(len(cat_features)):\n",
    "#    ax = fig.add_subplot(8, 2, i+1)\n",
    "#    target_0=data[data['target']==0][cat_features[i]]\n",
    "#    target_1=data[data['target']==1][cat_features[i]]\n",
    "#    plt.xlabel(cat_features[i])\n",
    "#    plt.ylabel('Кол-во клиентов')\n",
    "#    plt.hist([target_1,target_0], color=['green','red'], label=['target_1','target_0'], bins=10)\n",
    "#    plt.legend()"
   ]
  },
  {
   "cell_type": "markdown",
   "id": "e62b2661",
   "metadata": {},
   "source": [
    "На графиках плохо видно, посмотрим по доле таргета:"
   ]
  },
  {
   "cell_type": "markdown",
   "id": "9ca2d081",
   "metadata": {},
   "source": [
    "<div class=\"alert alert-warning\">\n",
    "    <h2> Комментарий тимлида (код) <a class=\"tocSkip\"> </h2>\n",
    "    \n",
    "<b>Некоторые замечания и рекомендации⚠️:</b> И правда сложно что-то понять - из-за дисбаланса между отточными и неотточными клиентами разница в масштабе мешает сделать выводы. \n",
    "        \n",
    "Вместо анализа соотношения отточных и неотточных стоит сосредоточить внимание на анализе оттока внутри значений категориального признака. При анализе дискретных или закодированных категориальных признаков стоит использовать `barplot()` и построить на нём `axhline` со средним уровнем оттока - такие графики более информативны, чем обычные гистограммы с анализом абсолютных значений, также они более понятны и интерпретируемы для бизнеса."
   ]
  },
  {
   "cell_type": "code",
   "execution_count": 29,
   "id": "a6dbcb56",
   "metadata": {},
   "outputs": [],
   "source": [
    "#list_mean"
   ]
  },
  {
   "cell_type": "code",
   "execution_count": 30,
   "id": "820d8bcb",
   "metadata": {},
   "outputs": [],
   "source": [
    "# тариф для клиентов, которые не пользуются интернетом\n",
    "#pd.pivot_table(data[data['internetservice']=='oth'], values='monthlycharges', index= ['type'], aggfunc=np.mean)"
   ]
  },
  {
   "cell_type": "code",
   "execution_count": 31,
   "id": "79e072f3",
   "metadata": {},
   "outputs": [],
   "source": [
    "# тариф для клиентов, которые пользуются интернетом\n",
    "#pd.pivot_table(data[data['internetservice']!='oth'], values='monthlycharges', index= ['type'], aggfunc=np.mean)"
   ]
  },
  {
   "cell_type": "markdown",
   "id": "ca074d90",
   "metadata": {},
   "source": [
    "<div class=\"alert alert-success\">\n",
    "<h2> Комментарий тимлида (код) v.2 <a class=\"tocSkip\"> </h2>\n",
    "\n",
    "<b>Все отлично!👍:</b> Учтено."
   ]
  },
  {
   "cell_type": "markdown",
   "id": "3e77fd52",
   "metadata": {},
   "source": [
    "<div class=\"alert alert-warning\">\n",
    "    <h2> Комментарий тимлида (код) <a class=\"tocSkip\"> </h2>\n",
    "    \n",
    "<b>Некоторые замечания и рекомендации⚠️:</b> Вот, собственно, всё, что ты делаешь ниже, можно увидеть с помощью визуализиации, если корректно её сделать:)"
   ]
  },
  {
   "cell_type": "markdown",
   "id": "2deb3eca",
   "metadata": {},
   "source": [
    "<div class=\"alert alert-info\">\n",
    "<h2> Комментарий студента <a class=\"tocSkip\"> </h2>\n",
    "\n",
    "*Изменим визуализацию, что бы смотреть на долю оттока в разрезе категорий*\n",
    "</div>"
   ]
  },
  {
   "cell_type": "markdown",
   "id": "d41ebdff",
   "metadata": {},
   "source": [
    "<div class=\"alert alert-success\">\n",
    "<h2> Комментарий тимлида (код) v.2 <a class=\"tocSkip\"> </h2>\n",
    "\n",
    "<b>Все отлично!👍:</b> Учтено."
   ]
  },
  {
   "cell_type": "code",
   "execution_count": 32,
   "id": "5b28288a",
   "metadata": {},
   "outputs": [
    {
     "data": {
      "image/png": "[encoded data removed]",
      "text/plain": [
       "<Figure size 1440x2880 with 13 Axes>"
      ]
     },
     "metadata": {
      "needs_background": "light"
     },
     "output_type": "display_data"
    }
   ],
   "source": [
    "fig = plt.figure(figsize=(20, 40))\n",
    "for i in range(len(cat_features)):\n",
    "    ax = fig.add_subplot(8, 2, i+1)\n",
    "    plt.xlabel(cat_features[i])\n",
    "    plt.ylabel('Доля от всех клинетов')\n",
    "    sns.histplot(data = data, x = cat_features[i], hue = 'target', stat='probability', common_norm=True)\n",
    "    plt.title('Доля отточных клиентов в разрезе '+cat_features[i])"
   ]
  },
  {
   "cell_type": "markdown",
   "id": "9df9e15c",
   "metadata": {},
   "source": [
    "<div class=\"alert alert-warning\">\n",
    "    <h2> Комментарий тимлида (код) v.2 <a class=\"tocSkip\"> </h2>\n",
    "    \n",
    "<b>Некоторые замечания и рекомендации⚠️:</b> Не совсем то, что нужно было: ты считаешь соотношение оттока/неоттока по категории, а нам интересен только отток: параметр `hue` не нужен, а в `y` нужно передать целевой признак. Смотри, как может выгдядеть - так видим отток в каждом значении категориального признака в сравнении со средним оттоком."
   ]
  },
  {
   "cell_type": "code",
   "execution_count": 33,
   "id": "1312b7b1",
   "metadata": {},
   "outputs": [
    {
     "data": {
      "image/png": "[encoded data removed]",
      "text/plain": [
       "<Figure size 1440x2880 with 13 Axes>"
      ]
     },
     "metadata": {
      "needs_background": "light"
     },
     "output_type": "display_data"
    }
   ],
   "source": [
    "fig = plt.figure(figsize=(20, 40))\n",
    "for i in range(len(cat_features)):\n",
    "    ax = fig.add_subplot(8, 2, i+1)\n",
    "    plt.xlabel(cat_features[i])\n",
    "    plt.ylabel('Доля от всех клинетов')\n",
    "    sns.barplot(data = data, x = cat_features[i], y = 'target')\n",
    "    plt.axhline(data['target'].mean())\n",
    "    plt.title('Доля отточных клиентов в разрезе '+cat_features[i])"
   ]
  },
  {
   "cell_type": "markdown",
   "id": "491fcecd",
   "metadata": {},
   "source": [
    "Какие выводы можно сделать:\n",
    "- отток от пола не зависит\n",
    "- больше оттекают клиенты с подключенными услугами стрименга\n",
    "- больше оттекают клиенты с автоматической оплатой\n",
    "- больше оттекают клиенты, которые платят раз в год/раз в 2 года\n",
    "- так же видим, что тарифы оператора снижаются год к году. Может меняться наполнение услугами по тарифам. Клиенты предпочитают тарифы с меньшим кол-вом доп. услуг и более низкой абонентской платой"
   ]
  },
  {
   "cell_type": "markdown",
   "id": "7d3e5331",
   "metadata": {},
   "source": [
    "<div class=\"alert alert-success\">\n",
    "<h2> Комментарий тимлида (код) <a class=\"tocSkip\"> </h2>\n",
    "\n",
    "<b>Все отлично!👍:</b> Классно, что есть анализ портрета отточного клиента."
   ]
  },
  {
   "cell_type": "markdown",
   "id": "e826eb5a",
   "metadata": {},
   "source": [
    "<div class=\"alert alert-info\">\n",
    "<h2> Комментарий студента <a class=\"tocSkip\"> </h2>\n",
    "\n",
    "*На этом шаге, нужно было вернуться к заказчику с вопросом, что считают оттоком. Клеинт не оплатил или закрыл договор? У клиентов, с настроенной автоматической оплатой, у которых средства списываются раз в год/в 2 года, могла карта закрыться по сроку (3-5 лет в зависимости от типа), тогда имеем дело с \"техническим\" оттоком. Таких клиентов можно оповестить без предложения скидок. Если клиент сам изъявил жение закрыть договор, то переходим к результатам модели*\n",
    "</div>"
   ]
  },
  {
   "cell_type": "markdown",
   "id": "d91efa51",
   "metadata": {},
   "source": [
    "<div class=\"alert alert-success\">\n",
    "<h2> Комментарий тимлида (код) <a class=\"tocSkip\"> </h2>\n",
    "\n",
    "<b>Все отлично!👍:</b> Это действительно было бы полезно. Круто, что задумываешься о наполнении признака оттока."
   ]
  },
  {
   "cell_type": "markdown",
   "id": "ee58910b",
   "metadata": {},
   "source": [
    "Переходим к моделированию. Формируем выборки для обучения и теста."
   ]
  },
  {
   "cell_type": "code",
   "execution_count": 34,
   "id": "baa1f0f4",
   "metadata": {},
   "outputs": [],
   "source": [
    "#удалим, что ранее планировали\n",
    "data = data.drop(for_del, axis=1)"
   ]
  },
  {
   "cell_type": "code",
   "execution_count": 35,
   "id": "c087db49",
   "metadata": {},
   "outputs": [],
   "source": [
    "target = data['target']\n",
    "features = data.drop('target', axis=1)\n",
    "features_train, features_test, target_train, target_test = train_test_split(features, target, \n",
    "                                                                            test_size=0.25, random_state=RANDOM_STATE)"
   ]
  },
  {
   "cell_type": "code",
   "execution_count": 36,
   "id": "6cf8aa98",
   "metadata": {},
   "outputs": [
    {
     "name": "stdout",
     "output_type": "stream",
     "text": [
      "(5282, 15)\n",
      "(5282,)\n",
      "(1761, 15)\n",
      "(1761,)\n"
     ]
    }
   ],
   "source": [
    "print(features_train.shape)\n",
    "print(target_train.shape)\n",
    "print(features_test.shape)\n",
    "print(target_test.shape)"
   ]
  },
  {
   "cell_type": "markdown",
   "id": "75406d1a",
   "metadata": {},
   "source": [
    "<div class=\"alert alert-success\">\n",
    "<h2> Комментарий тимлида (код) <a class=\"tocSkip\"> </h2>\n",
    "\n",
    "<b>Все отлично!👍:</b> Сплитование выполнено корректно, пропорция выборок и `RANDOM_STATE` соответствуют условиям проекта."
   ]
  },
  {
   "cell_type": "markdown",
   "id": "6223aeee",
   "metadata": {},
   "source": [
    "### Логистическая регрессия"
   ]
  },
  {
   "cell_type": "markdown",
   "id": "5ffa0802",
   "metadata": {},
   "source": [
    "<div class=\"alert alert-block alert-danger\">\n",
    "<h2> Комментарий тимлида (код) <a class=\"tocSkip\"> </h2>\n",
    "\n",
    "    \n",
    "<b>На доработку❌:</b>\n",
    "\n",
    "Обрати внимание, что по этому блоку нужно будет скорректировать выводы и метрики."
   ]
  },
  {
   "cell_type": "markdown",
   "id": "50cfee02",
   "metadata": {},
   "source": [
    "<div class=\"alert alert-success\">\n",
    "<h2> Комментарий тимлида (код) v.2 <a class=\"tocSkip\"> </h2>\n",
    "\n",
    "<b>Все отлично!👍:</b> Учтено."
   ]
  },
  {
   "cell_type": "code",
   "execution_count": 37,
   "id": "98861c22",
   "metadata": {},
   "outputs": [],
   "source": [
    "log_reg = LogisticRegression(random_state=RANDOM_STATE)"
   ]
  },
  {
   "cell_type": "code",
   "execution_count": 38,
   "id": "3321bd0e",
   "metadata": {},
   "outputs": [],
   "source": [
    "# категориальные признаки кодируем\n",
    "transformer = OneHotEncoder(drop='first', handle_unknown='error')\n",
    "# числовые стандартизируем\n",
    "scale = StandardScaler()\n",
    "make_column_log_reg = make_column_transformer((transformer, cat_features),(scale, num_features))"
   ]
  },
  {
   "cell_type": "markdown",
   "id": "4a2c01ff",
   "metadata": {},
   "source": [
    "<div class=\"alert alert-success\">\n",
    "<h2> Комментарий тимлида (код) <a class=\"tocSkip\"> </h2>\n",
    "\n",
    "<b>Все отлично!👍:</b> Круто, что используешь `make_column_transformer` и `make_pipeline`!"
   ]
  },
  {
   "cell_type": "code",
   "execution_count": 39,
   "id": "e77b2e88",
   "metadata": {},
   "outputs": [
    {
     "data": {
      "text/plain": [
       "dict_keys(['memory', 'steps', 'verbose', 'columntransformer', 'logisticregression', 'columntransformer__n_jobs', 'columntransformer__remainder', 'columntransformer__sparse_threshold', 'columntransformer__transformer_weights', 'columntransformer__transformers', 'columntransformer__verbose', 'columntransformer__onehotencoder', 'columntransformer__standardscaler', 'columntransformer__onehotencoder__categories', 'columntransformer__onehotencoder__drop', 'columntransformer__onehotencoder__dtype', 'columntransformer__onehotencoder__handle_unknown', 'columntransformer__onehotencoder__sparse', 'columntransformer__standardscaler__copy', 'columntransformer__standardscaler__with_mean', 'columntransformer__standardscaler__with_std', 'logisticregression__C', 'logisticregression__class_weight', 'logisticregression__dual', 'logisticregression__fit_intercept', 'logisticregression__intercept_scaling', 'logisticregression__l1_ratio', 'logisticregression__max_iter', 'logisticregression__multi_class', 'logisticregression__n_jobs', 'logisticregression__penalty', 'logisticregression__random_state', 'logisticregression__solver', 'logisticregression__tol', 'logisticregression__verbose', 'logisticregression__warm_start'])"
      ]
     },
     "execution_count": 39,
     "metadata": {},
     "output_type": "execute_result"
    }
   ],
   "source": [
    "pipeline_log_reg = make_pipeline(make_column_log_reg, log_reg)\n",
    "pipeline_log_reg .get_params().keys()"
   ]
  },
  {
   "cell_type": "code",
   "execution_count": 40,
   "id": "deb22da0",
   "metadata": {},
   "outputs": [],
   "source": [
    "parameters_grid_log_reg = {\n",
    "    'logisticregression__C': [ 0.01, 0.1, 1, 5, 10, 20, 30, 40],\n",
    "    'logisticregression__penalty' : ['l1','l2','elasticnet'],\n",
    "    'logisticregression__solver':['lbfgs', 'liblinear', 'newton-cg', 'newton-cholesky', 'sag', 'saga']\n",
    "}"
   ]
  },
  {
   "cell_type": "markdown",
   "id": "670d929e",
   "metadata": {},
   "source": [
    "<div class=\"alert alert-block alert-danger\">\n",
    "<h2> Комментарий тимлида (код) <a class=\"tocSkip\"> </h2>\n",
    "\n",
    "    \n",
    "<b>На доработку❌:</b>\n",
    "\n",
    "    \n",
    "`random_state` нужно убрать из сетки гиперпараметров и настраивать его в момент инициализации модели: так как это чисто технический гиперпараметр, отвечающий за начальные характеристики модели, то в его оптимизации нет смысла - он не влияет на качество работы модели.\n",
    "        \n",
    "Аналогично тут и далее для всех моделей."
   ]
  },
  {
   "cell_type": "markdown",
   "id": "0c2efbd3",
   "metadata": {},
   "source": [
    "<div class=\"alert alert-success\">\n",
    "<h2> Комментарий тимлида (код) v.2 <a class=\"tocSkip\"> </h2>\n",
    "\n",
    "<b>Все отлично!👍:</b> Учтено."
   ]
  },
  {
   "cell_type": "code",
   "execution_count": 41,
   "id": "6b0dd669",
   "metadata": {},
   "outputs": [
    {
     "name": "stdout",
     "output_type": "stream",
     "text": [
      "best_params: {'logisticregression__C': 1, 'logisticregression__penalty': 'l2', 'logisticregression__solver': 'lbfgs'}\n",
      "ROC_AUC: 0.7530177923735278\n",
      "Wall time: 3.64 s\n"
     ]
    }
   ],
   "source": [
    "%%time\n",
    "grid_log_reg = GridSearchCV(pipeline_log_reg, parameters_grid_log_reg, scoring = 'roc_auc', cv = 4, n_jobs=-1)\n",
    "grid_log_reg.fit(features_train, target_train)\n",
    "print('best_params:',grid_log_reg.best_params_)\n",
    "print('ROC_AUC:',grid_log_reg.best_score_)"
   ]
  },
  {
   "cell_type": "markdown",
   "id": "9cb39ba9",
   "metadata": {},
   "source": [
    "<div class=\"alert alert-success\">\n",
    "<h2> Комментарий тимлида (код) <a class=\"tocSkip\"> </h2>\n",
    "\n",
    "<b>Все отлично!👍:</b> Для `LogisticRegression` оптимизировали гиперпараметры и оценили модель на кросс-валидации.\n",
    "</div>"
   ]
  },
  {
   "cell_type": "markdown",
   "id": "efebacad",
   "metadata": {},
   "source": [
    "Выводы по логистической регресси:\n",
    "- на обучающем наборе данных требуемое качество достигается\n",
    "- используем полный перебор параметров, т.к. время вычисления не превышает 10 секунд"
   ]
  },
  {
   "cell_type": "markdown",
   "id": "6652b6a5",
   "metadata": {},
   "source": [
    "<div class=\"alert alert-info\">\n",
    "<h2> Комментарий студента <a class=\"tocSkip\"> </h2>\n",
    "\n",
    "Скорректированные выводы:\n",
    "- качество 0,75 - недостаточное\n",
    "\n",
    "</div>"
   ]
  },
  {
   "cell_type": "markdown",
   "id": "31ed88c6",
   "metadata": {},
   "source": [
    "<div class=\"alert alert-success\">\n",
    "<h2> Комментарий тимлида (код) v.2 <a class=\"tocSkip\"> </h2>\n",
    "\n",
    "<b>Все отлично!👍:</b> Да, это уже чуть более ожидаемо:)"
   ]
  },
  {
   "cell_type": "markdown",
   "id": "9860d51b",
   "metadata": {},
   "source": [
    "### Random Forest"
   ]
  },
  {
   "cell_type": "code",
   "execution_count": 42,
   "id": "7a13e639",
   "metadata": {},
   "outputs": [],
   "source": [
    "RFC = RandomForestClassifier(random_state=RANDOM_STATE)"
   ]
  },
  {
   "cell_type": "code",
   "execution_count": 43,
   "id": "c24b9404",
   "metadata": {},
   "outputs": [
    {
     "data": {
      "text/plain": [
       "dict_keys(['memory', 'steps', 'verbose', 'columntransformer', 'randomforestclassifier', 'columntransformer__n_jobs', 'columntransformer__remainder', 'columntransformer__sparse_threshold', 'columntransformer__transformer_weights', 'columntransformer__transformers', 'columntransformer__verbose', 'columntransformer__onehotencoder', 'columntransformer__onehotencoder__categories', 'columntransformer__onehotencoder__drop', 'columntransformer__onehotencoder__dtype', 'columntransformer__onehotencoder__handle_unknown', 'columntransformer__onehotencoder__sparse', 'randomforestclassifier__bootstrap', 'randomforestclassifier__ccp_alpha', 'randomforestclassifier__class_weight', 'randomforestclassifier__criterion', 'randomforestclassifier__max_depth', 'randomforestclassifier__max_features', 'randomforestclassifier__max_leaf_nodes', 'randomforestclassifier__max_samples', 'randomforestclassifier__min_impurity_decrease', 'randomforestclassifier__min_impurity_split', 'randomforestclassifier__min_samples_leaf', 'randomforestclassifier__min_samples_split', 'randomforestclassifier__min_weight_fraction_leaf', 'randomforestclassifier__n_estimators', 'randomforestclassifier__n_jobs', 'randomforestclassifier__oob_score', 'randomforestclassifier__random_state', 'randomforestclassifier__verbose', 'randomforestclassifier__warm_start'])"
      ]
     },
     "execution_count": 43,
     "metadata": {},
     "output_type": "execute_result"
    }
   ],
   "source": [
    "transformer = OneHotEncoder(drop='first', handle_unknown='error')\n",
    "scale = StandardScaler()\n",
    "make_column_rfc = make_column_transformer((transformer, cat_features), remainder='passthrough')\n",
    "pipeline_rfc = make_pipeline(make_column_rfc, RFC)\n",
    "pipeline_rfc.get_params().keys()"
   ]
  },
  {
   "cell_type": "code",
   "execution_count": 44,
   "id": "4e2b7034",
   "metadata": {},
   "outputs": [],
   "source": [
    "parameters_grid_rfc = {\n",
    "    'randomforestclassifier__max_depth': [None] + [i for i in range(2, 11)],\n",
    "    'randomforestclassifier__n_estimators': [150, 200, 250],\n",
    "    'randomforestclassifier__criterion': ['gini','entropy','log_loss']\n",
    "}"
   ]
  },
  {
   "cell_type": "markdown",
   "id": "316ad2dd",
   "metadata": {},
   "source": [
    "<div class=\"alert alert-block alert-danger\">\n",
    "<h2> Комментарий тимлида (код) <a class=\"tocSkip\"> </h2>\n",
    "\n",
    "    \n",
    "<b>На доработку❌:</b> Для гиперпараметра `max_depth` рассматривается очень длинная последовательность: деревья с большой глубиной склонны к переобучению, а обучаются и предсказывают результат они дольше, поэтому делать их слишком глубокими не стоит - оптимальное значение почти всегда лежит в диапазоне от 2 до 9-10. Кроме того, можно попробовать значение `None` - в итоге оптимальная последовательность может выглядеть как `[None] + [i for i in range(2, 11)]`."
   ]
  },
  {
   "cell_type": "markdown",
   "id": "5ddbd817",
   "metadata": {},
   "source": [
    "<div class=\"alert alert-info\">\n",
    "<h2> Комментарий студента <a class=\"tocSkip\"> </h2>\n",
    "\n",
    "*Попробуем*\n",
    "</div>"
   ]
  },
  {
   "cell_type": "markdown",
   "id": "21a0cc05",
   "metadata": {},
   "source": [
    "<div class=\"alert alert-success\">\n",
    "<h2> Комментарий тимлида (код) v.2 <a class=\"tocSkip\"> </h2>\n",
    "\n",
    "<b>Все отлично!👍:</b> Учтено."
   ]
  },
  {
   "cell_type": "code",
   "execution_count": 45,
   "id": "80518ccc",
   "metadata": {},
   "outputs": [
    {
     "name": "stdout",
     "output_type": "stream",
     "text": [
      "best_params: {'randomforestclassifier__criterion': 'entropy', 'randomforestclassifier__max_depth': 7, 'randomforestclassifier__n_estimators': 150}\n",
      "ROC_AUC: 0.8305293884097917\n",
      "Wall time: 19.7 s\n"
     ]
    }
   ],
   "source": [
    "%%time\n",
    "grid_rfc = GridSearchCV(pipeline_rfc, parameters_grid_rfc, scoring = 'roc_auc', cv = 4, n_jobs=-1)\n",
    "grid_rfc.fit(features_train, target_train)\n",
    "print('best_params:',grid_rfc.best_params_)\n",
    "print('ROC_AUC:',grid_rfc.best_score_)"
   ]
  },
  {
   "cell_type": "markdown",
   "id": "5b1ca398",
   "metadata": {},
   "source": [
    "<div class=\"alert alert-success\">\n",
    "<h2> Комментарий тимлида (код) <a class=\"tocSkip\"> </h2>\n",
    "\n",
    "<b>Все отлично!👍:</b> Для `RandomForestClassifier` оптимизировали гиперпараметры и оценили модель на кросс-валидации.\n",
    "</div>"
   ]
  },
  {
   "cell_type": "markdown",
   "id": "30a0d4ce",
   "metadata": {},
   "source": [
    "Выводы по модели Random Forest:\n",
    "- уже лучше 0,83"
   ]
  },
  {
   "cell_type": "markdown",
   "id": "d3f72352",
   "metadata": {},
   "source": [
    "<div class=\"alert alert-info\">\n",
    "<h2> Комментарий студента <a class=\"tocSkip\"> </h2>\n",
    "\n",
    "*Не нашёл как объединить в make_column_transformer OHE категориальных признаков и исходные числовые, поэтому применяю к числовым StandardScaler, как в логистической регрессии, хотя это не ребуется для деревьев*\n",
    "</div>"
   ]
  },
  {
   "cell_type": "markdown",
   "id": "18a47d23",
   "metadata": {},
   "source": [
    "<div class=\"alert alert-success\">\n",
    "<h2> Комментарий тимлида (код) <a class=\"tocSkip\"> </h2>\n",
    "\n",
    "<b>Все отлично!👍:</b> Воспользуйся `remainder='passthrough'` при создании `make_column_transformer` - тогда столбцы, которые не предполагают кодировки, будут переданы в выходной массив без изменений."
   ]
  },
  {
   "cell_type": "markdown",
   "id": "7267fd8d",
   "metadata": {},
   "source": [
    "### Градиентный бустинг"
   ]
  },
  {
   "cell_type": "markdown",
   "id": "5c45796a",
   "metadata": {},
   "source": [
    "Направшивается использование catboost, т.к. у нас много категориальных признаков. Так же посмотрим на LightGBM. Для второго нужно поменять тип категориальных переменных."
   ]
  },
  {
   "cell_type": "code",
   "execution_count": 46,
   "id": "d4f0e51c",
   "metadata": {},
   "outputs": [],
   "source": [
    "features_train_lgbm = features_train.copy()\n",
    "features_test_lgbm = features_test.copy()\n",
    "for c in cat_features:\n",
    "    features_train_lgbm[c] = features_train_lgbm[c].astype('category')\n",
    "    features_test_lgbm[c] = features_test_lgbm[c].astype('category')"
   ]
  },
  {
   "cell_type": "markdown",
   "id": "1c50870d",
   "metadata": {},
   "source": [
    "<div class=\"alert alert-warning\">\n",
    "<h2> Комментарий тимлида (код) <a class=\"tocSkip\"> </h2>\n",
    "    \n",
    "<b>Некоторые замечания и рекомендации⚠️:</b> \n",
    "\n",
    "Делая копию какой-то таблицы, стоит использовать метод `copy()`: используя простое присвивание вида `a=b`, мы в переменную `a` помещаем не новый и самостоятельный объект в памяти, а всего лишь новую ссылку на объект в памяти, на который ссылается `b`. Как итог, внеся изменения в `a`, ты увидишь их и в `b`, и наоборот. Метод `copy()` позволяет создавать именно новые объекты в памяти."
   ]
  },
  {
   "cell_type": "markdown",
   "id": "16fe2170",
   "metadata": {},
   "source": [
    "<div class=\"alert alert-success\">\n",
    "<h2> Комментарий тимлида (код) v.2 <a class=\"tocSkip\"> </h2>\n",
    "\n",
    "<b>Все отлично!👍:</b> Учтено."
   ]
  },
  {
   "cell_type": "markdown",
   "id": "169b4c5b",
   "metadata": {},
   "source": [
    "<b>LightGBM</b>"
   ]
  },
  {
   "cell_type": "code",
   "execution_count": 47,
   "id": "5a3da697",
   "metadata": {},
   "outputs": [],
   "source": [
    "gbm = LGBMClassifier(random_state = RANDOM_STATE)"
   ]
  },
  {
   "cell_type": "code",
   "execution_count": 48,
   "id": "3d81215f",
   "metadata": {},
   "outputs": [],
   "source": [
    "parameters = {'learning_rate': [0.01, 0.05, 0.1, 0.2, 0.3, 0.4, 0.5],\n",
    "              'max_depth': [2, 3, 4],\n",
    "              'n_estimators': [50, 60, 70, 80],\n",
    "              'subsample': [0.7, 0.8, 0.9],\n",
    "              'colsample_bytree': [ 0.9, 1],\n",
    "              'num_leaves': [80, 90, 100]\n",
    "             }"
   ]
  },
  {
   "cell_type": "code",
   "execution_count": 49,
   "id": "b6bad49b",
   "metadata": {},
   "outputs": [
    {
     "name": "stdout",
     "output_type": "stream",
     "text": [
      "best_params: {'colsample_bytree': 1, 'learning_rate': 0.4, 'max_depth': 4, 'n_estimators': 80, 'num_leaves': 80, 'subsample': 0.7}\n",
      "ROC_AUC: 0.8878001347514267\n",
      "Wall time: 2min 14s\n"
     ]
    }
   ],
   "source": [
    "%%time\n",
    "grid_lgbm = GridSearchCV(gbm, param_grid=parameters, scoring='roc_auc', cv=4, n_jobs=2)\n",
    "grid_lgbm.fit(features_train_lgbm, target_train)\n",
    "print('best_params:',grid_lgbm.best_params_)\n",
    "print('ROC_AUC:',grid_lgbm.best_score_)"
   ]
  },
  {
   "cell_type": "markdown",
   "id": "84e56ab8",
   "metadata": {},
   "source": [
    "<div class=\"alert alert-success\">\n",
    "<h2> Комментарий тимлида (код) <a class=\"tocSkip\"> </h2>\n",
    "\n",
    "<b>Все отлично!👍:</b> Для `LGBMClassifier` оптимизировали гиперпараметры и оценили модель на кросс-валидации.\n",
    "</div>"
   ]
  },
  {
   "cell_type": "markdown",
   "id": "f66d696f",
   "metadata": {},
   "source": [
    "Попробуем подобрать гиперпараметры с помощью библиотеки optuna."
   ]
  },
  {
   "cell_type": "code",
   "execution_count": 50,
   "id": "ea937cf9",
   "metadata": {},
   "outputs": [],
   "source": [
    "parameters = { \n",
    "    'n_estimators': intd(10, 2000),\n",
    "    'num_leaves': intd(10, 100),\n",
    "    'reg_alpha': fl(1e-5, 1e0),\n",
    "    'reg_lambda':  fl(1e-3, 1e0),\n",
    "    'colsample_bytree': fl(0.5, 1e0),\n",
    "    'subsample': fl(0.4, 1e0),\n",
    "    'learning_rate': fl(0.01,0.5),\n",
    "    'max_depth': intd(1,20)\n",
    "    }"
   ]
  },
  {
   "cell_type": "code",
   "execution_count": 51,
   "id": "d9bd6f7e",
   "metadata": {},
   "outputs": [
    {
     "name": "stderr",
     "output_type": "stream",
     "text": [
      "\u001b[32m[I 2023-05-18 20:47:06,103]\u001b[0m A new study created in memory with name: no-name-65daa412-b406-4d65-892d-b3ac8b61969f\u001b[0m\n",
      "\u001b[32m[I 2023-05-18 20:47:09,990]\u001b[0m Trial 0 finished with value: 0.869419937854502 and parameters: {'n_estimators': 1311, 'num_leaves': 92, 'reg_alpha': 0.8456595665535572, 'reg_lambda': 0.46268581706131934, 'colsample_bytree': 0.9176143423535181, 'subsample': 0.4027428540681955, 'learning_rate': 0.046884128178941005, 'max_depth': 20}. Best is trial 0 with value: 0.869419937854502.\u001b[0m\n",
      "\u001b[32m[I 2023-05-18 20:47:12,922]\u001b[0m Trial 1 finished with value: 0.8972346603209864 and parameters: {'n_estimators': 1626, 'num_leaves': 20, 'reg_alpha': 0.1760431341970885, 'reg_lambda': 0.9388936545315266, 'colsample_bytree': 0.6282532737829509, 'subsample': 0.702342728815607, 'learning_rate': 0.03776966165427789, 'max_depth': 7}. Best is trial 1 with value: 0.8972346603209864.\u001b[0m\n",
      "\u001b[32m[I 2023-05-18 20:47:13,066]\u001b[0m Trial 2 finished with value: 0.8592756773353628 and parameters: {'n_estimators': 56, 'num_leaves': 90, 'reg_alpha': 0.2211633470942157, 'reg_lambda': 0.546786537832882, 'colsample_bytree': 0.9701312369018595, 'subsample': 0.7504263724692348, 'learning_rate': 0.47079123922170024, 'max_depth': 2}. Best is trial 1 with value: 0.8972346603209864.\u001b[0m\n",
      "\u001b[32m[I 2023-05-18 20:47:13,889]\u001b[0m Trial 3 finished with value: 0.8700232017144651 and parameters: {'n_estimators': 1300, 'num_leaves': 71, 'reg_alpha': 0.4359923195283069, 'reg_lambda': 0.45272039681250686, 'colsample_bytree': 0.8990725934152886, 'subsample': 0.6248654067433298, 'learning_rate': 0.4852521475680616, 'max_depth': 9}. Best is trial 1 with value: 0.8972346603209864.\u001b[0m\n",
      "\u001b[32m[I 2023-05-18 20:47:18,512]\u001b[0m Trial 4 finished with value: 0.8790888026685454 and parameters: {'n_estimators': 1697, 'num_leaves': 53, 'reg_alpha': 0.17386418308034338, 'reg_lambda': 0.7023764413486564, 'colsample_bytree': 0.7245327205991572, 'subsample': 0.6650655287354121, 'learning_rate': 0.09448371731640691, 'max_depth': 16}. Best is trial 1 with value: 0.8972346603209864.\u001b[0m\n",
      "\u001b[32m[I 2023-05-18 20:47:19,521]\u001b[0m Trial 5 finished with value: 0.8799318507890961 and parameters: {'n_estimators': 1622, 'num_leaves': 50, 'reg_alpha': 0.7343868190644831, 'reg_lambda': 0.6480490752913493, 'colsample_bytree': 0.5750550872046949, 'subsample': 0.8930304401591189, 'learning_rate': 0.4926209684933614, 'max_depth': 14}. Best is trial 1 with value: 0.8972346603209864.\u001b[0m\n",
      "\u001b[32m[I 2023-05-18 20:47:20,644]\u001b[0m Trial 6 finished with value: 0.8912145669527537 and parameters: {'n_estimators': 1846, 'num_leaves': 13, 'reg_alpha': 0.6200394812384377, 'reg_lambda': 0.12227432438162278, 'colsample_bytree': 0.9170403222318713, 'subsample': 0.832286007459721, 'learning_rate': 0.19520383243180878, 'max_depth': 7}. Best is trial 1 with value: 0.8972346603209864.\u001b[0m\n",
      "\u001b[32m[I 2023-05-18 20:47:21,471]\u001b[0m Trial 7 finished with value: 0.8817150734758454 and parameters: {'n_estimators': 751, 'num_leaves': 36, 'reg_alpha': 0.2508974410265576, 'reg_lambda': 0.3802754057785237, 'colsample_bytree': 0.9712709271249634, 'subsample': 0.6592058172190051, 'learning_rate': 0.4054408000499777, 'max_depth': 5}. Best is trial 1 with value: 0.8972346603209864.\u001b[0m\n",
      "\u001b[32m[I 2023-05-18 20:47:22,378]\u001b[0m Trial 8 finished with value: 0.9122573660113578 and parameters: {'n_estimators': 1459, 'num_leaves': 54, 'reg_alpha': 0.007341572725069944, 'reg_lambda': 0.041557169495244795, 'colsample_bytree': 0.7525980101172007, 'subsample': 0.9969227795115478, 'learning_rate': 0.1748496154739869, 'max_depth': 2}. Best is trial 8 with value: 0.9122573660113578.\u001b[0m\n",
      "\u001b[32m[I 2023-05-18 20:47:23,597]\u001b[0m Trial 9 finished with value: 0.8997269564133022 and parameters: {'n_estimators': 1319, 'num_leaves': 20, 'reg_alpha': 0.30545915803024437, 'reg_lambda': 0.22735408878314586, 'colsample_bytree': 0.8578039399989232, 'subsample': 0.9333817313655312, 'learning_rate': 0.22970270321082015, 'max_depth': 3}. Best is trial 8 with value: 0.9122573660113578.\u001b[0m\n"
     ]
    },
    {
     "name": "stdout",
     "output_type": "stream",
     "text": [
      "best_params: {'n_estimators': 1459, 'num_leaves': 54, 'reg_alpha': 0.007341572725069944, 'reg_lambda': 0.041557169495244795, 'colsample_bytree': 0.7525980101172007, 'subsample': 0.9969227795115478, 'learning_rate': 0.1748496154739869, 'max_depth': 2}\n",
      "ROC_AUC: 0.9122573660113578\n",
      "Wall time: 17.7 s\n"
     ]
    }
   ],
   "source": [
    "%%time\n",
    "optuna_lgb = optuna.integration.OptunaSearchCV(gbm,\n",
    "                                               parameters,\n",
    "                                               timeout=1800,\n",
    "                                               scoring= 'roc_auc', \n",
    "                                               cv=4,\n",
    "                                               random_state = RANDOM_STATE\n",
    "                                              )\n",
    "\n",
    "\n",
    "optuna_lgb.fit(features_train_lgbm, target_train)\n",
    "print('best_params:',optuna_lgb.best_params_)\n",
    "print('ROC_AUC:',optuna_lgb.best_score_)"
   ]
  },
  {
   "cell_type": "markdown",
   "id": "586053cc",
   "metadata": {},
   "source": [
    "С optuna удалось подобрать более оптимальные параметры. В сравнении с поиском по сетке качество на обучающей выборке немного выросло."
   ]
  },
  {
   "cell_type": "markdown",
   "id": "304f271d",
   "metadata": {},
   "source": [
    "<div class=\"alert alert-success\">\n",
    "<h2> Комментарий тимлида (код) <a class=\"tocSkip\"> </h2>\n",
    "\n",
    "<b>Все отлично!👍:</b> Круто, что умеешь пользоваться `optuna` - это уже довольно продвинутый уровень, молодец!"
   ]
  },
  {
   "cell_type": "markdown",
   "id": "9e88fc4f",
   "metadata": {},
   "source": [
    "<b>CatBoost</b>"
   ]
  },
  {
   "cell_type": "markdown",
   "id": "e0ad84fc",
   "metadata": {},
   "source": [
    "<div class=\"alert alert-info\">\n",
    "<h2> Комментарий студента <a class=\"tocSkip\"> </h2>\n",
    "\n",
    "*Здесь без goole я бы не разобрался*\n",
    "</div>"
   ]
  },
  {
   "cell_type": "markdown",
   "id": "9676dc4a",
   "metadata": {},
   "source": [
    "<div class=\"alert alert-success\">\n",
    "<h2> Комментарий тимлида (код) <a class=\"tocSkip\"> </h2>\n",
    "\n",
    "<b>Все отлично!👍:</b> `CatBoost` прекрасно и без `Pool` работает, но круто, что разобрался: умение гуглить - важный навык аналитика:)"
   ]
  },
  {
   "cell_type": "code",
   "execution_count": 52,
   "id": "1dcfcc2f",
   "metadata": {},
   "outputs": [],
   "source": [
    "# объекn для передачи данных в catboost\n",
    "train_pool = Pool(features_train, target_train, cat_features=cat_features)"
   ]
  },
  {
   "cell_type": "code",
   "execution_count": 53,
   "id": "507f8b91",
   "metadata": {},
   "outputs": [],
   "source": [
    "def objective(trial):\n",
    "\n",
    "    global train_pool\n",
    "\n",
    "    params = {\n",
    "        'n_estimators': trial.suggest_int(\"n_estimators\", 10, 1000),\n",
    "        'max_depth': trial.suggest_int(\"max_depth\", 1, 4),\n",
    "        'subsample': trial.suggest_float(\"subsample\", 0.5, 1.0),\n",
    "        'l2_leaf_reg': trial.suggest_float(\"l2_leaf_reg\", 1e-2, 10),\n",
    "        'random_strength': trial.suggest_float(\"random_strength\", 0.9, 1.4),\n",
    "        'learning_rate': trial.suggest_float(\"eta\", 1e-2, 3e-1, log=True),\n",
    "        'min_data_in_leaf': trial.suggest_int(\"min_data_in_leaf\", 1, 5),\n",
    "        'grow_policy': trial.suggest_categorical('grow_policy', ['Lossguide']),\n",
    "        'random_state': trial.suggest_categorical('random_state', [RANDOM_STATE]),\n",
    "        \"eval_metric\": trial.suggest_categorical('eval_metric', ['AUC']),\n",
    "        'loss_function': trial.suggest_categorical('loss_function', ['CrossEntropy']),\n",
    "        'logging_level': trial.suggest_categorical('logging_level', ['Silent']),\n",
    "        }\n",
    "    #объект для оценки на кросс-валидации\n",
    "    scores = cv(train_pool, params, fold_count=4)\n",
    "\n",
    "    return scores['test-AUC-mean'].values[-1]"
   ]
  },
  {
   "cell_type": "code",
   "execution_count": 54,
   "id": "a382abee",
   "metadata": {},
   "outputs": [
    {
     "name": "stdout",
     "output_type": "stream",
     "text": [
      "Wall time: 4min 10s\n"
     ]
    }
   ],
   "source": [
    "%%time\n",
    "optuna.logging.set_verbosity(optuna.logging.WARNING)\n",
    "# создание задачи оптимизации\n",
    "study = optuna.create_study(direction='maximize')\n",
    "# запуск оптимизации по параметрам\n",
    "study.optimize(objective, n_trials=1e6, timeout=200)"
   ]
  },
  {
   "cell_type": "code",
   "execution_count": 55,
   "id": "95ad4149",
   "metadata": {},
   "outputs": [
    {
     "name": "stdout",
     "output_type": "stream",
     "text": [
      "Количество запусков: 6\n",
      "Лучший результат:\n",
      "  ROC AUC: 0.9138571932851061\n",
      "Оптимальные параметры: {'n_estimators': 846, 'max_depth': 4, 'subsample': 0.659818062058289, 'l2_leaf_reg': 4.804197019893747, 'random_strength': 1.2825311803188375, 'eta': 0.1455805463331387, 'min_data_in_leaf': 5, 'grow_policy': 'Lossguide', 'random_state': 80523, 'eval_metric': 'AUC', 'loss_function': 'CrossEntropy', 'logging_level': 'Silent'}\n"
     ]
    }
   ],
   "source": [
    "print(\"Количество запусков: {}\".format(len(study.trials)))\n",
    "\n",
    "print(\"Лучший результат:\")\n",
    "trial = study.best_trial\n",
    "print(\"  ROC AUC: {}\".format(trial.value))\n",
    "\n",
    "trial = study.best_trial\n",
    "parameters = trial.params\n",
    "print('Оптимальные параметры:', parameters)\n"
   ]
  },
  {
   "cell_type": "markdown",
   "id": "5eddae5b",
   "metadata": {},
   "source": [
    "<div class=\"alert alert-success\">\n",
    "<h2> Комментарий тимлида (код) <a class=\"tocSkip\"> </h2>\n",
    "\n",
    "<b>Все отлично!👍:</b> Для `CatBoostClassifier` оптимизировали гиперпараметры и оценили модель на кросс-валидации.\n",
    "</div>"
   ]
  },
  {
   "cell_type": "markdown",
   "id": "36e67867",
   "metadata": {},
   "source": [
    "Выводы по моделям градиентного бустинга:\n",
    "- качество получили выше чем у RF или LogReg\n",
    "- оба бустинга дали сравнимое качество, но LightGBM обучается в разы быстрее"
   ]
  },
  {
   "cell_type": "code",
   "execution_count": 56,
   "id": "e067dca5",
   "metadata": {},
   "outputs": [
    {
     "data": {
      "text/html": [
       "<div>\n",
       "<style scoped>\n",
       "    .dataframe tbody tr th:only-of-type {\n",
       "        vertical-align: middle;\n",
       "    }\n",
       "\n",
       "    .dataframe tbody tr th {\n",
       "        vertical-align: top;\n",
       "    }\n",
       "\n",
       "    .dataframe thead th {\n",
       "        text-align: right;\n",
       "    }\n",
       "</style>\n",
       "<table border=\"1\" class=\"dataframe\">\n",
       "  <thead>\n",
       "    <tr style=\"text-align: right;\">\n",
       "      <th></th>\n",
       "      <th>model</th>\n",
       "      <th>ROC-AUC</th>\n",
       "    </tr>\n",
       "  </thead>\n",
       "  <tbody>\n",
       "    <tr>\n",
       "      <th>0</th>\n",
       "      <td>LogReg</td>\n",
       "      <td>0.753018</td>\n",
       "    </tr>\n",
       "    <tr>\n",
       "      <th>1</th>\n",
       "      <td>RendomForest</td>\n",
       "      <td>0.830529</td>\n",
       "    </tr>\n",
       "    <tr>\n",
       "      <th>2</th>\n",
       "      <td>LightGBM</td>\n",
       "      <td>0.912257</td>\n",
       "    </tr>\n",
       "    <tr>\n",
       "      <th>3</th>\n",
       "      <td>CatBoost</td>\n",
       "      <td>0.913857</td>\n",
       "    </tr>\n",
       "  </tbody>\n",
       "</table>\n",
       "</div>"
      ],
      "text/plain": [
       "          model   ROC-AUC\n",
       "0        LogReg  0.753018\n",
       "1  RendomForest  0.830529\n",
       "2      LightGBM  0.912257\n",
       "3      CatBoost  0.913857"
      ]
     },
     "execution_count": 56,
     "metadata": {},
     "output_type": "execute_result"
    }
   ],
   "source": [
    "pd.DataFrame({'model': ['LogReg', 'RendomForest', 'LightGBM', 'CatBoost'], \n",
    "              'ROC-AUC': [grid_log_reg.best_score_, grid_rfc.best_score_, optuna_lgb.best_score_, trial.value]})"
   ]
  },
  {
   "cell_type": "markdown",
   "id": "8ce4ddc0",
   "metadata": {},
   "source": [
    "<div class=\"alert alert-success\">\n",
    "<h2> Комментарий тимлида (код) <a class=\"tocSkip\"> </h2>\n",
    "\n",
    "<b>Все отлично!👍:</b> Отличная сравнительная характеристика моделей - сразу понятно, какая лушче:)"
   ]
  },
  {
   "cell_type": "markdown",
   "id": "09cea368",
   "metadata": {},
   "source": [
    "<b>Выводы по разделу обучения моделей:</b>\n",
    "- для тестрирования и представления заказчику выбираем модель LightGBM. "
   ]
  },
  {
   "cell_type": "code",
   "execution_count": 57,
   "id": "4781f610",
   "metadata": {},
   "outputs": [
    {
     "name": "stdout",
     "output_type": "stream",
     "text": [
      "Качество ROC-AUC выбранной модели на тестовой выборке:  0.926448930605297\n",
      "Точность выбранной модели на тестовой выборке:  0.9415105053946621\n"
     ]
    }
   ],
   "source": [
    "print('Качество ROC-AUC выбранной модели на тестовой выборке: ',roc_auc_score(target_test, optuna_lgb.\n",
    "                                                                      predict_proba(features_test_lgbm)[:, 1]))\n",
    "print('Точность выбранной модели на тестовой выборке: ',accuracy_score(target_test, optuna_lgb.\n",
    "                                                                      predict(features_test_lgbm)))"
   ]
  },
  {
   "cell_type": "code",
   "execution_count": 58,
   "id": "7be68728",
   "metadata": {},
   "outputs": [
    {
     "name": "stdout",
     "output_type": "stream",
     "text": [
      "              precision    recall  f1-score   support\n",
      "\n",
      "           0       0.94      0.99      0.97      1478\n",
      "           1       0.92      0.70      0.79       283\n",
      "\n",
      "    accuracy                           0.94      1761\n",
      "   macro avg       0.93      0.84      0.88      1761\n",
      "weighted avg       0.94      0.94      0.94      1761\n",
      "\n"
     ]
    }
   ],
   "source": [
    "print(classification_report(target_test, optuna_lgb.predict(features_test_lgbm)))"
   ]
  },
  {
   "cell_type": "code",
   "execution_count": 59,
   "id": "e6ce3f61",
   "metadata": {},
   "outputs": [
    {
     "data": {
      "image/png": "[encoded data removed]",
      "text/plain": [
       "<Figure size 432x288 with 2 Axes>"
      ]
     },
     "metadata": {
      "needs_background": "light"
     },
     "output_type": "display_data"
    }
   ],
   "source": [
    "# Матрица ошибок\n",
    "y_pred = optuna_lgb.predict(features_test_lgbm)\n",
    "cm = confusion_matrix(target_test, y_pred)\n",
    "\n",
    "cm_display = ConfusionMatrixDisplay(cm).plot()"
   ]
  },
  {
   "cell_type": "markdown",
   "id": "5fea3d07",
   "metadata": {},
   "source": [
    "Высокая точность модели, говорит о том, что мы только 8% клиентам предложим скидки, хотя они и не собирались уходить, а полнота, говорит о том, что толкьо 70% от всех потенциально отточных клиентов, модель смогла определить."
   ]
  },
  {
   "cell_type": "markdown",
   "id": "a0e10451",
   "metadata": {},
   "source": [
    "<div class=\"alert alert-success\">\n",
    "<h2> Комментарий тимлида (код) <a class=\"tocSkip\"> </h2>\n",
    "\n",
    "<b>Все отлично!👍:</b> Оценили лучшую модель на `test` - отлично!"
   ]
  },
  {
   "cell_type": "markdown",
   "id": "c0321911",
   "metadata": {},
   "source": [
    "<div class=\"alert alert-block alert-danger\">\n",
    "<h2> Комментарий тимлида (код) <a class=\"tocSkip\"> </h2>\n",
    "\n",
    "    \n",
    "<b>На доработку❌:</b> Выводы нужно будет подправить."
   ]
  },
  {
   "cell_type": "markdown",
   "id": "7c813362",
   "metadata": {},
   "source": [
    "<div class=\"alert alert-success\">\n",
    "<h2> Комментарий тимлида (код) v.2 <a class=\"tocSkip\"> </h2>\n",
    "\n",
    "<b>Все отлично!👍:</b> Учтено."
   ]
  },
  {
   "cell_type": "code",
   "execution_count": 60,
   "id": "7c6f022c",
   "metadata": {},
   "outputs": [],
   "source": [
    "f_imp = pd.Series(index = optuna_lgb.best_estimator_.feature_name_,\n",
    "                  data = optuna_lgb.best_estimator_.feature_importances_,\n",
    "                  name = 'feature_importances')"
   ]
  },
  {
   "cell_type": "code",
   "execution_count": 61,
   "id": "aaf4616f",
   "metadata": {},
   "outputs": [
    {
     "data": {
      "image/png": "[encoded data removed]",
      "text/plain": [
       "<Figure size 1440x720 with 1 Axes>"
      ]
     },
     "metadata": {
      "needs_background": "light"
     },
     "output_type": "display_data"
    }
   ],
   "source": [
    "fig, ax = plt.subplots(figsize=(20,10))\n",
    "f_imp.sort_values(ascending = False).plot.bar(ax=ax)\n",
    "fig.tight_layout()"
   ]
  },
  {
   "cell_type": "markdown",
   "id": "8c94df1f",
   "metadata": {},
   "source": [
    "<div class=\"alert alert-warning\">\n",
    "<h2> Комментарий тимлида (код) <a class=\"tocSkip\"> </h2>\n",
    "    \n",
    "<b>Некоторые замечания и рекомендации⚠️:</b> \n",
    "\n",
    "При визуализации значимости признаков массив стоит отсортировать по убыванию, чтобы значимые/незначимые признаки были отранжированы."
   ]
  },
  {
   "cell_type": "markdown",
   "id": "2f524995",
   "metadata": {},
   "source": [
    "<div class=\"alert alert-success\">\n",
    "<h2> Комментарий тимлида (код) v.2 <a class=\"tocSkip\"> </h2>\n",
    "\n",
    "<b>Все отлично!👍:</b> Учтено."
   ]
  },
  {
   "cell_type": "markdown",
   "id": "126ea600",
   "metadata": {},
   "source": [
    "Возьмём 2 набора признаков и попробуем обучить бустинг на данных признаках"
   ]
  },
  {
   "cell_type": "code",
   "execution_count": 62,
   "id": "2bf465ea",
   "metadata": {},
   "outputs": [],
   "source": [
    "feature_for_train_lower = f_imp[f_imp>=50].index"
   ]
  },
  {
   "cell_type": "code",
   "execution_count": 63,
   "id": "92475401",
   "metadata": {},
   "outputs": [],
   "source": [
    "feature_for_train_min = f_imp[f_imp>=100].index"
   ]
  },
  {
   "cell_type": "code",
   "execution_count": 64,
   "id": "4d749763",
   "metadata": {},
   "outputs": [],
   "source": [
    "features_train_lgbm_lower = features_train_lgbm[feature_for_train_lower.to_list()]\n",
    "features_test_lgbm_lower = features_test_lgbm[feature_for_train_lower.to_list()]\n",
    "\n",
    "features_train_lgbm_min = features_train_lgbm[feature_for_train_min.to_list()]\n",
    "features_test_lgbm_min = features_test_lgbm[feature_for_train_min.to_list()]"
   ]
  },
  {
   "cell_type": "markdown",
   "id": "6e8bf7c0",
   "metadata": {},
   "source": [
    "Модель формируем по ранее подобранным параметрам"
   ]
  },
  {
   "cell_type": "code",
   "execution_count": 65,
   "id": "1f889686",
   "metadata": {},
   "outputs": [],
   "source": [
    "gbm_opt_par = LGBMClassifier(random_state = RANDOM_STATE, n_estimators = 1459, num_leaves = 54, reg_alpha = 0.007341572725069944,\n",
    "                          reg_lambda = 0.041557169495244795, colsample_bytree = 0.7525980101172007, subsample = 0.9969227795115478,\n",
    "                          learning_rate = 0.1748496154739869, max_depth = 2)\n",
    "gbm_opt_min = LGBMClassifier(random_state = RANDOM_STATE, n_estimators = 1459, num_leaves = 54, reg_alpha = 0.007341572725069944,\n",
    "                          reg_lambda = 0.041557169495244795, colsample_bytree = 0.7525980101172007, subsample = 0.9969227795115478,\n",
    "                          learning_rate = 0.1748496154739869, max_depth = 2)"
   ]
  },
  {
   "cell_type": "code",
   "execution_count": 66,
   "id": "4ed64b36",
   "metadata": {},
   "outputs": [
    {
     "name": "stdout",
     "output_type": "stream",
     "text": [
      "ROC-AUC при обучении по top 9 признакам:  0.9239314420690743\n"
     ]
    }
   ],
   "source": [
    "gbm_opt_par.fit(features_train_lgbm_lower, target_train)\n",
    "print('ROC-AUC при обучении по top 9 признакам: ', roc_auc_score(target_test, gbm_opt_par.\n",
    "                                                              predict_proba(features_test_lgbm_lower)[:, 1]))"
   ]
  },
  {
   "cell_type": "code",
   "execution_count": 67,
   "id": "a1c92716",
   "metadata": {},
   "outputs": [
    {
     "name": "stdout",
     "output_type": "stream",
     "text": [
      "ROC-AUC при обучении по top 4 признакам:  0.9220116478671876\n"
     ]
    }
   ],
   "source": [
    "gbm_opt_min.fit(features_train_lgbm_min, target_train)\n",
    "print('ROC-AUC при обучении по top 4 признакам: ', roc_auc_score(target_test, gbm_opt_min.\n",
    "                                                              predict_proba(features_test_lgbm_min)[:, 1]))"
   ]
  },
  {
   "cell_type": "markdown",
   "id": "5552cd91",
   "metadata": {},
   "source": [
    "<div class=\"alert alert-success\">\n",
    "<h2> Комментарий тимлида (код) <a class=\"tocSkip\"> </h2>\n",
    "\n",
    "<b>Все отлично!👍:</b> Круто, что попробовал модели с уменьшенным признаковым пространством - молодец! Да, в этом случае качество чуть упало, но время работы ускорилось, да и в других кейсах это может дать прирост метрики."
   ]
  },
  {
   "cell_type": "markdown",
   "id": "625c8c55",
   "metadata": {},
   "source": [
    "<b>Общие выводы по разделу:</b>\n",
    "- В рамках данного блока мы изучили взаимосвязи признаков\n",
    "- Сгенерировали новые признаки/удалили скоррелированные и признаки дат\n",
    "- Построили 3 вида моделей с подбором параметров на кросс валидации\n",
    "- Качество финальной модлеи проверили на тестовой выборке и изучили матрицу ошибок.\n",
    "\n",
    "Выводы по обученной моделе:\n",
    "- Старые клиенты платят больше в виду дополнительных услуг, о чем говорит динамика стоимости подключения новых клиентов по годам и доля оттока в разрезе опций. В таком ключе, предложение скидки или отключение ненужных опций позволит сохранить клиента.\n",
    "- Для достижения заявленного качества, достаточно 4 признаков. Качестов снижается на 0,003 по сравнению с обучением на полном наборе признаков. \n",
    "- Стоимость тарифа - это некоторый результирующий признак по опциям, поэтому исключение большого кол-ва признаков мало повлияло на качество модели."
   ]
  },
  {
   "cell_type": "markdown",
   "id": "2a9a2197",
   "metadata": {},
   "source": [
    "<div class=\"alert alert-success\">\n",
    "<h2> Комментарий тимлида (код) <a class=\"tocSkip\"> </h2>\n",
    "\n",
    "<b>Все отлично!👍:</b> Хорошо подытожил."
   ]
  },
  {
   "cell_type": "markdown",
   "id": "9ffd971c",
   "metadata": {},
   "source": [
    "<div class=\"alert alert-warning\">\n",
    "<h2> Комментарий тимлида (код) <a class=\"tocSkip\"> </h2>\n",
    "    \n",
    "<b>Некоторые замечания и рекомендации⚠️:</b> \n",
    "\n",
    "Вместе с тем хороший итоговый вывод включает в себя все этапы работы над проектом, кратко - было бы здорово описать и другие этапы работы над проектом."
   ]
  },
  {
   "cell_type": "markdown",
   "id": "2aff98f7",
   "metadata": {},
   "source": [
    "<div class=\"alert alert-success\">\n",
    "<h2> Комментарий тимлида (код) v.2 <a class=\"tocSkip\"> </h2>\n",
    "\n",
    "<b>Все отлично!👍:</b> Учтено."
   ]
  },
  {
   "cell_type": "markdown",
   "id": "4fde154a",
   "metadata": {},
   "source": [
    "<b>Творческая рефлексия:</b>\n",
    "- Можно попробывать максимизировать recall, но это негативно скажется на бизнес-задаче, т.к. мы будем предлагать скидки большему кол-ву клиентов, хотя те и не собирались \"уходить\". Здесь нужно считать \"деньги\", что выгоднее.\n",
    "- Можно попробовать убрать \"стоимость тарифа\", тогда могли больший вес показать другие признаки."
   ]
  },
  {
   "cell_type": "markdown",
   "id": "000b7265",
   "metadata": {},
   "source": [
    "<div class=\"alert alert-success\">\n",
    "<h2> Комментарий тимлида (код) <a class=\"tocSkip\"> </h2>\n",
    "\n",
    "<b>Все отлично!👍:</b> Интересные мысли - попробовать стоит в любом случае:)"
   ]
  },
  {
   "cell_type": "markdown",
   "id": "52e6a5b1",
   "metadata": {},
   "source": [
    "<div style=\"border:solid Chocolate 2px; padding: 40px\">\n",
    "\n",
    "<b> Комментарий тимлида: общий вывод по проекту (код) </b>\n",
    "\n",
    "Андрей, работа вышла без преувеличения отличной - технический уровень исполнения очень высокий: круто, что используешь `pipeline` и трансформер столбцов, оптимизация через `Optuna` - вообще высший пилотаж:)\n",
    "    \n",
    "Вижу уверенное владение основными ML инструментами, а также задатки хорошего аналитика - есть не только фактический анализ, но и размышления, рекомендации - это всё очень повышает ценность работы.\n",
    "    \n",
    "Мне бы также хотелось бы порекомендовать исследовать матрицу ошибок - в проекте такого качества хочется сделать все важные шаги в работе над задачей классификации с дисбалансом. Это рекомендация - будет здорово, если найдёшь время/желание.\n",
    "    \n",
    "Также есть несколько моментов, требующих корректировки - они отмечены красными комментариями.\n",
    "    \n",
    "Жду тебя на следующем этапе:)"
   ]
  },
  {
   "cell_type": "markdown",
   "id": "296ab317",
   "metadata": {},
   "source": [
    "<div style=\"border:solid Chocolate 2px; padding: 40px\">\n",
    "\n",
    "<b> Комментарий тимлида: общий вывод по проекту (код) v.2 </b>\n",
    "\n",
    "Андрей, все замечания по этому блоку учтены - проект принимаю. \n",
    "    \n",
    "Жду твой отчёт по проекту:)"
   ]
  },
  {
   "cell_type": "markdown",
   "id": "5f7a9751",
   "metadata": {},
   "source": [
    "## Отчёт"
   ]
  },
  {
   "cell_type": "markdown",
   "id": "4f7d4d81",
   "metadata": {},
   "source": [
    "<div class=\"alert alert-info\">\n",
    "<h2> Комментарий студента (отчёт)<a class=\"tocSkip\"> </h2>\n",
    "\n",
    "*Корректировка*\n",
    "</div>"
   ]
  },
  {
   "cell_type": "markdown",
   "id": "0377bb83",
   "metadata": {},
   "source": [
    "### План работы"
   ]
  },
  {
   "cell_type": "markdown",
   "id": "16890603",
   "metadata": {},
   "source": [
    "- Необходимо преобразовать типы данных\n",
    "- После объединения в один dataframe у нас появились пропуски в данных. Необходимо их заполнить.\n",
    "- Нужно исследовать взаимосвязь таргета и имеющихся признаков\n",
    "- У нас много категориальных признаков. Переведём их в числовые, для тех моделей, где требуется.\n",
    "- Предполагаю рассмотреть 3 модели: лог-регрессию, \"случайный\" лес и градиентный бустинг\n",
    "- Обучять модили будем на кросс-валидации с подбором гипер-параметров. \n",
    "- Дисбаланс классов будем учитывать при обучении, через прараметр \"class_weight\".\n",
    "- Лучшую по метрике модель применим для предсказания на тестовой выборке. Необходимо получить качество не ниже 0,85.\n",
    "- На следующем шаге посмотрим на важность признаков. Отбросим те, что модель считает неважными для предсказания и переобучим модель.\n",
    "- На последнем шаге сформируем отчёт для заказчика. В него должны войти:\n",
    "    - выводы из раздела исследовательского анализа, т.е. как таргет взаимосвязан с признаками\n",
    "    - анализ важности признаков обученной модели. Таким образом покажем, что модель интерпретируема.\n",
    "    - анализ матрицы ошибок на тестовой выборке, для принятия решения"
   ]
  },
  {
   "cell_type": "markdown",
   "id": "af0cec44",
   "metadata": {},
   "source": [
    "<div class=\"alert alert-info\">\n",
    "<h2> Комментарий студента (отчёт)<a class=\"tocSkip\"> </h2>\n",
    "\n",
    "<b>Пройденные шаги</b>\n",
    "\n",
    "<b>Большую часть мы прошли в соответсвии с исходным планом работы:</b>\n",
    "- Мы изучили предоставленные данные\n",
    "- Предобработали их. В предобрадотку входили:\n",
    "    - Объединение\n",
    "    - Заполнение пропущенных значений\n",
    "    - Генерация признаков\n",
    "    - Отбор признаков\n",
    "- Выявили закономерности в данных.\n",
    "- Построили несколько разных моделей предсказания оттока по клиентам\n",
    "- Выбрали лучшую модель и протестировали её на данных, которые модель \"не видела\"\n",
    "\n",
    "\n",
    "<b>Изменения:</b>\n",
    "- Нам не пришлось работать с дисбалансом классов, т.к. целевая метрика не чуствительна к нему.\n",
    "- Рассмотрели 2 реализации градиентного бустинга, что бы найти лучшее качество. \n",
    "</div>"
   ]
  },
  {
   "cell_type": "markdown",
   "id": "209d99b7",
   "metadata": {},
   "source": [
    "<div class=\"alert alert-success\">\n",
    "<h2> Комментарий тимлида (отчёт) <a class=\"tocSkip\"> </h2>\n",
    "\n",
    "<b>Все отлично!👍:</b> Есть ключевые шаги проекта - отлично!"
   ]
  },
  {
   "cell_type": "markdown",
   "id": "35a33ef8",
   "metadata": {},
   "source": [
    "<b>Важным аспектом для построение модели являются признаки.</b>\n",
    "\n",
    "1. Был сформирован новый признак \"Срок жизни договора\", который расчитывается, как разница между датой начала действви догвора и последней известной датой\n",
    "\n",
    "2. При построении модели не учитывались:\n",
    "    - признак \"пола\" клиента, т.к. этот признак оказался неважным\n",
    "    - \"суммарный объём средств потраченных клиентогм\" и \"тип интернет соединения\" в виду их сильной скоррелированности с другими признаками, что могло негативно отразиться на качестве\n",
    "    - были исключены даты, для избежания \"утечки таргета\". \n",
    "\n",
    "3. Итоговый список признаков, используемый в модели:\n",
    "\n",
    "    - lt - длить договора в днях\n",
    "    - monthlycharges - ежемесячная плата\n",
    "    - paymentmethod - способ оплаты\n",
    "    - type - тип оплаты\n",
    "    - -----\n",
    "    - partner - наличие супруги/мужа\n",
    "    - paperlessbilling - тип платёжного документа\n",
    "    - seniorcitizen - признак пенсионера\n",
    "    - dependents - наличие иждивенцев\n",
    "    - onlinesecurity - антивируса\n",
    "    - onlinebackup - резервное копирование\n",
    "    - deviceprotection - антивируса\n",
    "    - techsupport - тех. поддержка\n",
    "    - streamingtv - онлайн ТВ\n",
    "    - multiplelines - параллельные линии для телефонной связи\n",
    "    - streamingmovies - онлайн - видео"
   ]
  },
  {
   "cell_type": "markdown",
   "id": "2954a48c",
   "metadata": {},
   "source": [
    "<div class=\"alert alert-success\">\n",
    "<h2> Комментарий тимлида (отчёт) <a class=\"tocSkip\"> </h2>\n",
    "\n",
    "<b>Все отлично!👍:</b> Описали признаки модели."
   ]
  },
  {
   "cell_type": "markdown",
   "id": "4b9ff99e",
   "metadata": {},
   "source": [
    "<b>Матрица взаимосвязи признаков и целевого значения:</b>"
   ]
  },
  {
   "cell_type": "code",
   "execution_count": 70,
   "id": "091fe04c",
   "metadata": {},
   "outputs": [
    {
     "data": {
      "image/png": "[encoded data removed]",
      "text/plain": [
       "<Figure size 1440x720 with 2 Axes>"
      ]
     },
     "metadata": {
      "needs_background": "light"
     },
     "output_type": "display_data"
    }
   ],
   "source": [
    "fig, ax = plt.subplots(figsize=(20, 10))\n",
    "sns.heatmap(data.phik_matrix(interval_cols=['monthlycharges','totalcharges']), cmap='coolwarm', center=0, annot = True, fmt='.1g')\n",
    "plt.title('Матрица корреляций')\n",
    "plt.show()"
   ]
  },
  {
   "cell_type": "markdown",
   "id": "a747137d",
   "metadata": {},
   "source": [
    "<b>Результаты обучения модели.</b>"
   ]
  },
  {
   "cell_type": "markdown",
   "id": "fe3edf7e",
   "metadata": {},
   "source": [
    "Для каждой расмотренной модели признак обрабытвались по разному:\n",
    "- OHE для категориальных признаков.\n",
    "- нормирование для числовых признаков. Перевод числовых значений к диапазону от -1 до 1"
   ]
  },
  {
   "cell_type": "markdown",
   "id": "9986539b",
   "metadata": {},
   "source": [
    "<div class=\"alert alert-success\">\n",
    "<h2> Комментарий тимлида (отчёт) <a class=\"tocSkip\"> </h2>\n",
    "\n",
    "<b>Все отлично!👍:</b> Описана предобработка данных для модели."
   ]
  },
  {
   "cell_type": "code",
   "execution_count": 89,
   "id": "289ab09e",
   "metadata": {},
   "outputs": [
    {
     "name": "stdout",
     "output_type": "stream",
     "text": [
      "Виды обученных моделей, качество на кросс-валидации и типы преодработки данных:\n"
     ]
    },
    {
     "data": {
      "text/html": [
       "<div>\n",
       "<style scoped>\n",
       "    .dataframe tbody tr th:only-of-type {\n",
       "        vertical-align: middle;\n",
       "    }\n",
       "\n",
       "    .dataframe tbody tr th {\n",
       "        vertical-align: top;\n",
       "    }\n",
       "\n",
       "    .dataframe thead th {\n",
       "        text-align: right;\n",
       "    }\n",
       "</style>\n",
       "<table border=\"1\" class=\"dataframe\">\n",
       "  <thead>\n",
       "    <tr style=\"text-align: right;\">\n",
       "      <th></th>\n",
       "      <th>model</th>\n",
       "      <th>ROC-AUC</th>\n",
       "      <th>Обработка признаков</th>\n",
       "    </tr>\n",
       "  </thead>\n",
       "  <tbody>\n",
       "    <tr>\n",
       "      <th>0</th>\n",
       "      <td>LogReg</td>\n",
       "      <td>0.753018</td>\n",
       "      <td>OHE и нормализация</td>\n",
       "    </tr>\n",
       "    <tr>\n",
       "      <th>1</th>\n",
       "      <td>RendomForest</td>\n",
       "      <td>0.830529</td>\n",
       "      <td>OHE</td>\n",
       "    </tr>\n",
       "    <tr>\n",
       "      <th>2</th>\n",
       "      <td>LightGBM</td>\n",
       "      <td>0.912257</td>\n",
       "      <td>Nan</td>\n",
       "    </tr>\n",
       "    <tr>\n",
       "      <th>3</th>\n",
       "      <td>CatBoost</td>\n",
       "      <td>0.919100</td>\n",
       "      <td>Nan</td>\n",
       "    </tr>\n",
       "  </tbody>\n",
       "</table>\n",
       "</div>"
      ],
      "text/plain": [
       "          model   ROC-AUC Обработка признаков\n",
       "0        LogReg  0.753018  OHE и нормализация\n",
       "1  RendomForest  0.830529                 OHE\n",
       "2      LightGBM  0.912257                 Nan\n",
       "3      CatBoost  0.919100                 Nan"
      ]
     },
     "execution_count": 89,
     "metadata": {},
     "output_type": "execute_result"
    }
   ],
   "source": [
    "print('Виды обученных моделей, качество на кросс-валидации и типы преодработки данных:')\n",
    "pd.DataFrame({'model': ['LogReg', 'RendomForest', 'LightGBM', 'CatBoost'], \n",
    "              'ROC-AUC': [grid_log_reg.best_score_, grid_rfc.best_score_, optuna_lgb.best_score_, trial.value],\n",
    "             'Обработка признаков':['OHE и нормализация', 'OHE', 'Nan','Nan']\n",
    "             })"
   ]
  },
  {
   "cell_type": "markdown",
   "id": "1343154a",
   "metadata": {},
   "source": [
    "<div class=\"alert alert-success\">\n",
    "<h2> Комментарий тимлида (отчёт) <a class=\"tocSkip\"> </h2>\n",
    "\n",
    "<b>Все отлично!👍:</b> Есть сравнительная характеристика моделей."
   ]
  },
  {
   "cell_type": "markdown",
   "id": "9ea47808",
   "metadata": {},
   "source": [
    "Для финального тестирования была выбрана модель градинтного бустинга <b>LightGBM</b> с следющими параметрами:"
   ]
  },
  {
   "cell_type": "code",
   "execution_count": 86,
   "id": "23f0096e",
   "metadata": {},
   "outputs": [
    {
     "name": "stdout",
     "output_type": "stream",
     "text": [
      "Параметры модели: {'n_estimators': 1459, 'num_leaves': 54, 'reg_alpha': 0.007341572725069944, 'reg_lambda': 0.041557169495244795, 'colsample_bytree': 0.7525980101172007, 'subsample': 0.9969227795115478, 'learning_rate': 0.1748496154739869, 'max_depth': 2}\n",
      "ROC_AUC: 0.9122573660113578\n"
     ]
    }
   ],
   "source": [
    "print('Параметры модели:',optuna_lgb.best_params_)\n",
    "print('ROC_AUC:',optuna_lgb.best_score_)"
   ]
  },
  {
   "cell_type": "code",
   "execution_count": 87,
   "id": "6ca4d16c",
   "metadata": {},
   "outputs": [
    {
     "name": "stdout",
     "output_type": "stream",
     "text": [
      "Качество ROC-AUC выбранной модели на тестовой выборке:  0.926448930605297\n",
      "Точность выбранной модели на тестовой выборке:  0.9415105053946621\n"
     ]
    }
   ],
   "source": [
    "print('Качество ROC-AUC выбранной модели на тестовой выборке: ',roc_auc_score(target_test, optuna_lgb.\n",
    "                                                                      predict_proba(features_test_lgbm)[:, 1]))\n",
    "print('Точность выбранной модели на тестовой выборке: ',accuracy_score(target_test, optuna_lgb.\n",
    "                                                                      predict(features_test_lgbm)))"
   ]
  },
  {
   "cell_type": "markdown",
   "id": "2f6ea878",
   "metadata": {},
   "source": [
    "<div class=\"alert alert-success\">\n",
    "<h2> Комментарий тимлида (отчёт) <a class=\"tocSkip\"> </h2>\n",
    "\n",
    "<b>Все отлично!👍:</b> Описана лучшая модель и её результат на `test`."
   ]
  },
  {
   "cell_type": "code",
   "execution_count": 88,
   "id": "1915c811",
   "metadata": {},
   "outputs": [
    {
     "name": "stdout",
     "output_type": "stream",
     "text": [
      "Матрица ошибок:\n"
     ]
    },
    {
     "data": {
      "image/png": "[encoded data removed]",
      "text/plain": [
       "<Figure size 432x288 with 2 Axes>"
      ]
     },
     "metadata": {
      "needs_background": "light"
     },
     "output_type": "display_data"
    }
   ],
   "source": [
    "print('Матрица ошибок:')\n",
    "y_pred = optuna_lgb.predict(features_test_lgbm)\n",
    "cm = confusion_matrix(target_test, y_pred)\n",
    "\n",
    "cm_display = ConfusionMatrixDisplay(cm).plot()"
   ]
  },
  {
   "cell_type": "markdown",
   "id": "1ec559d5",
   "metadata": {},
   "source": [
    "- только 8% клиентам предложим скидки, хотя они и не собирались уходить\n",
    "- модель находит 70% от всех потенциоально отточных клиентов"
   ]
  },
  {
   "cell_type": "markdown",
   "id": "2080b37f",
   "metadata": {},
   "source": [
    "<div class=\"alert alert-success\">\n",
    "<h2> Комментарий тимлида (отчёт) <a class=\"tocSkip\"> </h2>\n",
    "\n",
    "<b>Все отлично!👍:</b> Круто, что добавил матрицу ошибок в отчёт!"
   ]
  },
  {
   "cell_type": "code",
   "execution_count": 92,
   "id": "11652871",
   "metadata": {},
   "outputs": [
    {
     "data": {
      "image/png": "[encoded data removed]",
      "text/plain": [
       "<Figure size 720x360 with 1 Axes>"
      ]
     },
     "metadata": {
      "needs_background": "light"
     },
     "output_type": "display_data"
    }
   ],
   "source": [
    "fig, ax = plt.subplots(figsize=(10,5))\n",
    "f_imp.sort_values(ascending = False).plot.bar(ax=ax)\n",
    "plt.title('Важность признаков:')\n",
    "plt.xlabel('Признак')\n",
    "plt.yalbel('Важность')\n",
    "fig.tight_layout()"
   ]
  },
  {
   "cell_type": "markdown",
   "id": "02493838",
   "metadata": {},
   "source": [
    "Самыми важными признаками для прогнозирования оттока, являются:\n",
    "- lt - длить договора в днях\n",
    "- monthlycharges - ежемесячная плата\n",
    "- type - тип оплаты\n",
    "- paymentmethod - способ оплаты\n",
    "\n",
    "При исключении прочих признаков предсказательная способность модели, практически не меняется."
   ]
  },
  {
   "cell_type": "markdown",
   "id": "288a281c",
   "metadata": {},
   "source": [
    "<div class=\"alert alert-success\">\n",
    "<h2> Комментарий тимлида (отчёт) <a class=\"tocSkip\"> </h2>\n",
    "\n",
    "<b>Все отлично!👍:</b> Есть анализ важности признаков лучшей модели - тут тоже порядок!"
   ]
  },
  {
   "cell_type": "markdown",
   "id": "ada5a0cc",
   "metadata": {},
   "source": [
    "<div class=\"alert alert-info\">\n",
    "<h2> Комментарий студента (отчёт)<a class=\"tocSkip\"> </h2>\n",
    "\n",
    "<b>В процессе выполнения работы, мы столкнулись со следующими проблемами:</b>\n",
    "- Главным фактором, для получучения целевого качества предсказания оттока, являлись признаки. Потребовалось добавить признаки, перебрать различные их комбинации, что бы найти, тот набор, с которым модели давали стабильно высокое качество.\n",
    "- Самое высокое качество по оттоку, давали градиентные бустинги, но подбор параметров по сетке, занимал значимо долгое время. Потребовалось использовать более сложный способ подбора параметров с использованием специализированной библиотеки.\n",
    "- Т.к. большая часть данных имела категориальный тип, напрашивалось использование библиотеки Catboost, которая зарекомендовала себя в работе с данными видами признаков. К сожалению, сильного прироста качества, по сравеннию с другими моделями мы не получили, т.к. наиболее важными оказались числовые признаки.\n",
    "- Т.к. мы обучали несколько моделей, потребовалось сформировать конвеерную трансформацию признаков, для каждой модели.\n",
    "</div>"
   ]
  },
  {
   "cell_type": "markdown",
   "id": "6865df11",
   "metadata": {},
   "source": [
    "<div class=\"alert alert-block alert-danger\">\n",
    "<h2> Комментарий тимлида (отчёт) <a class=\"tocSkip\"> </h2>\n",
    "\n",
    "    \n",
    "<b>На доработку❌:</b> В отчёт нужно добавить:\n",
    "- сравнение работы с первоначальным планом - были ли отклонения, или всё прошло по плану;\n",
    "- описание сложностей, а также путей их решения."
   ]
  },
  {
   "cell_type": "markdown",
   "id": "4342601d",
   "metadata": {},
   "source": [
    "<div style=\"border:solid Chocolate 2px; padding: 40px\">\n",
    "\n",
    "<b> Комментарий тимлида: общий вывод по проекту (отчёт) </b>\n",
    "\n",
    "Андрей, вышел хороший отчёт - лаконичный, компактный, не перегруженный, но в то же время информативный - то, что хочет видеть каждый заказчик. \n",
    "    \n",
    "Круто, что добавил в него график оценки важности признаков, а также матрицу корреляций.\n",
    "    \n",
    "Есть пара пунктов, которые в отчёт стоит добавить, и работу над проектом завершаем. Жду тебя снова:)"
   ]
  }
 ],
 "metadata": {
  "ExecuteTimeLog": [
   {
    "duration": 457,
    "start_time": "2023-05-16T14:33:52.674Z"
   },
   {
    "duration": 0,
    "start_time": "2023-05-16T14:33:53.133Z"
   },
   {
    "duration": 0,
    "start_time": "2023-05-16T14:33:53.134Z"
   },
   {
    "duration": 8,
    "start_time": "2023-05-16T14:33:53.206Z"
   },
   {
    "duration": 9,
    "start_time": "2023-05-16T14:33:53.342Z"
   },
   {
    "duration": 8,
    "start_time": "2023-05-16T14:33:53.506Z"
   },
   {
    "duration": 9,
    "start_time": "2023-05-16T14:33:54.901Z"
   },
   {
    "duration": 3673,
    "start_time": "2023-05-16T14:34:20.437Z"
   },
   {
    "duration": 3253,
    "start_time": "2023-05-16T14:35:27.682Z"
   },
   {
    "duration": 0,
    "start_time": "2023-05-16T14:35:30.937Z"
   },
   {
    "duration": 0,
    "start_time": "2023-05-16T14:35:30.938Z"
   },
   {
    "duration": 10,
    "start_time": "2023-05-16T14:35:30.963Z"
   },
   {
    "duration": 18,
    "start_time": "2023-05-16T14:35:31.142Z"
   },
   {
    "duration": 17,
    "start_time": "2023-05-16T14:35:31.319Z"
   },
   {
    "duration": 12,
    "start_time": "2023-05-16T14:35:31.466Z"
   },
   {
    "duration": 11,
    "start_time": "2023-05-16T14:35:31.639Z"
   },
   {
    "duration": 4428,
    "start_time": "2023-05-16T14:35:43.672Z"
   },
   {
    "duration": 2901,
    "start_time": "2023-05-16T14:36:05.154Z"
   },
   {
    "duration": 3,
    "start_time": "2023-05-16T14:36:08.065Z"
   },
   {
    "duration": 463,
    "start_time": "2023-05-16T14:36:08.070Z"
   },
   {
    "duration": 6,
    "start_time": "2023-05-16T14:36:08.536Z"
   },
   {
    "duration": 58,
    "start_time": "2023-05-16T14:36:08.544Z"
   },
   {
    "duration": 47,
    "start_time": "2023-05-16T14:36:08.604Z"
   },
   {
    "duration": 55,
    "start_time": "2023-05-16T14:36:08.654Z"
   },
   {
    "duration": 114,
    "start_time": "2023-05-16T14:36:08.711Z"
   },
   {
    "duration": 20,
    "start_time": "2023-05-16T14:36:08.827Z"
   },
   {
    "duration": 36,
    "start_time": "2023-05-16T14:36:08.850Z"
   },
   {
    "duration": 22,
    "start_time": "2023-05-16T14:36:08.888Z"
   },
   {
    "duration": 58,
    "start_time": "2023-05-16T14:36:08.913Z"
   },
   {
    "duration": 6,
    "start_time": "2023-05-16T14:36:09.106Z"
   },
   {
    "duration": 5,
    "start_time": "2023-05-16T14:36:09.168Z"
   },
   {
    "duration": 3,
    "start_time": "2023-05-16T14:36:09.359Z"
   },
   {
    "duration": 10,
    "start_time": "2023-05-16T14:36:09.667Z"
   },
   {
    "duration": 16,
    "start_time": "2023-05-16T14:36:10.366Z"
   },
   {
    "duration": 1265,
    "start_time": "2023-05-16T14:36:10.610Z"
   },
   {
    "duration": 15,
    "start_time": "2023-05-16T14:36:11.878Z"
   },
   {
    "duration": 3876,
    "start_time": "2023-05-16T14:36:11.895Z"
   },
   {
    "duration": 3,
    "start_time": "2023-05-16T14:36:15.773Z"
   },
   {
    "duration": 195,
    "start_time": "2023-05-16T14:36:15.777Z"
   },
   {
    "duration": 290,
    "start_time": "2023-05-16T14:36:15.974Z"
   },
   {
    "duration": 0,
    "start_time": "2023-05-16T14:36:16.266Z"
   },
   {
    "duration": 0,
    "start_time": "2023-05-16T14:36:16.268Z"
   },
   {
    "duration": 0,
    "start_time": "2023-05-16T14:36:16.269Z"
   },
   {
    "duration": 3970,
    "start_time": "2023-05-16T14:36:53.942Z"
   },
   {
    "duration": 2849,
    "start_time": "2023-05-16T14:37:06.753Z"
   },
   {
    "duration": 3,
    "start_time": "2023-05-16T14:37:09.603Z"
   },
   {
    "duration": 191,
    "start_time": "2023-05-16T14:37:09.607Z"
   },
   {
    "duration": 3,
    "start_time": "2023-05-16T14:37:09.800Z"
   },
   {
    "duration": 79,
    "start_time": "2023-05-16T14:37:09.805Z"
   },
   {
    "duration": 24,
    "start_time": "2023-05-16T14:37:09.885Z"
   },
   {
    "duration": 41,
    "start_time": "2023-05-16T14:37:09.911Z"
   },
   {
    "duration": 107,
    "start_time": "2023-05-16T14:37:09.954Z"
   },
   {
    "duration": 15,
    "start_time": "2023-05-16T14:37:10.063Z"
   },
   {
    "duration": 14,
    "start_time": "2023-05-16T14:37:10.080Z"
   },
   {
    "duration": 22,
    "start_time": "2023-05-16T14:37:10.095Z"
   },
   {
    "duration": 63,
    "start_time": "2023-05-16T14:37:10.128Z"
   },
   {
    "duration": 5,
    "start_time": "2023-05-16T14:37:10.192Z"
   },
   {
    "duration": 7,
    "start_time": "2023-05-16T14:37:10.198Z"
   },
   {
    "duration": 46,
    "start_time": "2023-05-16T14:37:10.206Z"
   },
   {
    "duration": 13,
    "start_time": "2023-05-16T14:37:10.254Z"
   },
   {
    "duration": 20,
    "start_time": "2023-05-16T14:37:10.842Z"
   },
   {
    "duration": 1157,
    "start_time": "2023-05-16T14:37:11.075Z"
   },
   {
    "duration": 18,
    "start_time": "2023-05-16T14:37:12.234Z"
   },
   {
    "duration": 3709,
    "start_time": "2023-05-16T14:37:12.256Z"
   },
   {
    "duration": 4,
    "start_time": "2023-05-16T14:37:15.966Z"
   },
   {
    "duration": 209,
    "start_time": "2023-05-16T14:37:15.971Z"
   },
   {
    "duration": 215,
    "start_time": "2023-05-16T14:37:16.182Z"
   },
   {
    "duration": 5,
    "start_time": "2023-05-16T14:37:16.399Z"
   },
   {
    "duration": 237,
    "start_time": "2023-05-16T14:37:16.406Z"
   },
   {
    "duration": 314,
    "start_time": "2023-05-16T14:37:16.656Z"
   },
   {
    "duration": 4,
    "start_time": "2023-05-16T14:37:21.003Z"
   },
   {
    "duration": 2,
    "start_time": "2023-05-16T14:37:21.999Z"
   },
   {
    "duration": 4,
    "start_time": "2023-05-16T14:37:27.457Z"
   },
   {
    "duration": 3,
    "start_time": "2023-05-16T14:37:27.645Z"
   },
   {
    "duration": 3,
    "start_time": "2023-05-16T14:37:27.821Z"
   },
   {
    "duration": 2527,
    "start_time": "2023-05-16T14:37:29.458Z"
   },
   {
    "duration": 385,
    "start_time": "2023-05-16T14:37:35.254Z"
   },
   {
    "duration": 192,
    "start_time": "2023-05-16T14:37:47.754Z"
   },
   {
    "duration": 3263,
    "start_time": "2023-05-16T14:37:58.747Z"
   },
   {
    "duration": 3114,
    "start_time": "2023-05-16T14:38:20.645Z"
   },
   {
    "duration": 4107,
    "start_time": "2023-05-16T14:39:00.757Z"
   }
  ],
  "kernelspec": {
   "display_name": "Python 3 (ipykernel)",
   "language": "python",
   "name": "python3"
  },
  "language_info": {
   "codemirror_mode": {
    "name": "ipython",
    "version": 3
   },
   "file_extension": ".py",
   "mimetype": "text/x-python",
   "name": "python",
   "nbconvert_exporter": "python",
   "pygments_lexer": "ipython3",
   "version": "3.9.7"
  },
  "toc": {
   "base_numbering": 1,
   "nav_menu": {},
   "number_sections": true,
   "sideBar": true,
   "skip_h1_title": true,
   "title_cell": "Table of Contents",
   "title_sidebar": "Contents",
   "toc_cell": false,
   "toc_position": {},
   "toc_section_display": true,
   "toc_window_display": false
  }
 },
 "nbformat": 4,
 "nbformat_minor": 5
}
